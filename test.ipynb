{
 "cells": [
  {
   "cell_type": "code",
   "execution_count": 3,
   "metadata": {},
   "outputs": [],
   "source": [
    "# imports\n",
    "from subprocess import check_output\n",
    "import pandas as pd\n",
    "import plotly.express as px\n",
    "import plotly.figure_factory as ff\n",
    "import plotly\n",
    "import re\n",
    "import nbformat\n",
    "import time\n",
    "import json\n",
    "import scipy\n",
    "import numpy as np"
   ]
  },
  {
   "cell_type": "code",
   "execution_count": 7,
   "metadata": {},
   "outputs": [
    {
     "data": {
      "text/html": [
       "<div>\n",
       "<style scoped>\n",
       "    .dataframe tbody tr th:only-of-type {\n",
       "        vertical-align: middle;\n",
       "    }\n",
       "\n",
       "    .dataframe tbody tr th {\n",
       "        vertical-align: top;\n",
       "    }\n",
       "\n",
       "    .dataframe thead th {\n",
       "        text-align: right;\n",
       "    }\n",
       "</style>\n",
       "<table border=\"1\" class=\"dataframe\">\n",
       "  <thead>\n",
       "    <tr style=\"text-align: right;\">\n",
       "      <th></th>\n",
       "      <th>Processed Cells</th>\n",
       "      <th>Retries</th>\n",
       "      <th>Time</th>\n",
       "      <th>Examinations</th>\n",
       "      <th>Movements</th>\n",
       "      <th>Actions</th>\n",
       "      <th>Terrain</th>\n",
       "      <th>Agent</th>\n",
       "    </tr>\n",
       "  </thead>\n",
       "  <tbody>\n",
       "    <tr>\n",
       "      <th>0</th>\n",
       "      <td>7717</td>\n",
       "      <td>763</td>\n",
       "      <td>5.511110</td>\n",
       "      <td>518</td>\n",
       "      <td>1676</td>\n",
       "      <td>2194</td>\n",
       "      <td>2</td>\n",
       "      <td>6.0</td>\n",
       "    </tr>\n",
       "    <tr>\n",
       "      <th>1</th>\n",
       "      <td>61468</td>\n",
       "      <td>2116</td>\n",
       "      <td>13.096124</td>\n",
       "      <td>1393</td>\n",
       "      <td>4798</td>\n",
       "      <td>6191</td>\n",
       "      <td>2</td>\n",
       "      <td>7.0</td>\n",
       "    </tr>\n",
       "    <tr>\n",
       "      <th>2</th>\n",
       "      <td>18851</td>\n",
       "      <td>1759</td>\n",
       "      <td>9.591271</td>\n",
       "      <td>1262</td>\n",
       "      <td>3822</td>\n",
       "      <td>5084</td>\n",
       "      <td>2</td>\n",
       "      <td>8.0</td>\n",
       "    </tr>\n",
       "    <tr>\n",
       "      <th>3</th>\n",
       "      <td>258342</td>\n",
       "      <td>4333</td>\n",
       "      <td>15.145135</td>\n",
       "      <td>3504</td>\n",
       "      <td>26534</td>\n",
       "      <td>30038</td>\n",
       "      <td>3</td>\n",
       "      <td>6.0</td>\n",
       "    </tr>\n",
       "    <tr>\n",
       "      <th>4</th>\n",
       "      <td>198616</td>\n",
       "      <td>2798</td>\n",
       "      <td>13.179374</td>\n",
       "      <td>1868</td>\n",
       "      <td>7321</td>\n",
       "      <td>9189</td>\n",
       "      <td>3</td>\n",
       "      <td>7.0</td>\n",
       "    </tr>\n",
       "  </tbody>\n",
       "</table>\n",
       "</div>"
      ],
      "text/plain": [
       "  Processed Cells Retries       Time Examinations Movements Actions Terrain  \\\n",
       "0            7717     763   5.511110          518      1676    2194       2   \n",
       "1           61468    2116  13.096124         1393      4798    6191       2   \n",
       "2           18851    1759   9.591271         1262      3822    5084       2   \n",
       "3          258342    4333  15.145135         3504     26534   30038       3   \n",
       "4          198616    2798  13.179374         1868      7321    9189       3   \n",
       "\n",
       "   Agent  \n",
       "0    6.0  \n",
       "1    7.0  \n",
       "2    8.0  \n",
       "3    6.0  \n",
       "4    7.0  "
      ]
     },
     "execution_count": 7,
     "metadata": {},
     "output_type": "execute_result"
    }
   ],
   "source": [
    "# measure probability calculation efficiency\n",
    "results_df = pd.DataFrame(columns = ['Processed Cells', 'Retries', 'Time', 'Examinations', 'Movements', 'Actions', 'Terrain'])\n",
    "agents = [\"Agent 6\", \"Agent 7\", \"Agent 8\"]\n",
    "\n",
    "for x in range(100):\n",
    "  command = 'python main.py -d 50 -p 0.3'\n",
    "  out = json.loads(str(check_output(command, cwd='/Users/naveenanyogeswaran/Desktop/School/probabilistic-sensing/src', shell=True)).lstrip(\"b'\").rstrip(\"'\").replace(\"\\\\n\", \"\"))\n",
    "\n",
    "  for i,a in enumerate(agents):\n",
    "    results_df = results_df.append([{'Agent': i+6, 'Processed Cells': out[a][\"processed\"], 'Retries': out[a][\"retries\"], 'Time': out[a][\"time\"], 'Examinations': out[a][\"examinations\"], 'Movements': out[a][\"movements\"], 'Actions': out[a][\"examinations\"] + out[a][\"movements\"], 'Terrain': out[a][\"terrain\"]}], ignore_index=True)\n",
    "\n",
    "results_df.head()"
   ]
  },
  {
   "cell_type": "code",
   "execution_count": 7,
   "metadata": {},
   "outputs": [],
   "source": [
    "results_df = pd.read_csv('misc/test_results2.csv', index_col=0)"
   ]
  },
  {
   "cell_type": "code",
   "execution_count": 8,
   "metadata": {},
   "outputs": [
    {
     "data": {
      "text/html": [
       "<div>\n",
       "<style scoped>\n",
       "    .dataframe tbody tr th:only-of-type {\n",
       "        vertical-align: middle;\n",
       "    }\n",
       "\n",
       "    .dataframe tbody tr th {\n",
       "        vertical-align: top;\n",
       "    }\n",
       "\n",
       "    .dataframe thead th {\n",
       "        text-align: right;\n",
       "    }\n",
       "</style>\n",
       "<table border=\"1\" class=\"dataframe\">\n",
       "  <thead>\n",
       "    <tr style=\"text-align: right;\">\n",
       "      <th></th>\n",
       "      <th>Processed Cells</th>\n",
       "      <th>Retries</th>\n",
       "      <th>Time</th>\n",
       "      <th>Examinations</th>\n",
       "      <th>Movements</th>\n",
       "      <th>Actions</th>\n",
       "      <th>Terrain</th>\n",
       "      <th>Agent</th>\n",
       "      <th>Ratio</th>\n",
       "    </tr>\n",
       "  </thead>\n",
       "  <tbody>\n",
       "    <tr>\n",
       "      <th>0</th>\n",
       "      <td>7717</td>\n",
       "      <td>763</td>\n",
       "      <td>5.511110</td>\n",
       "      <td>518</td>\n",
       "      <td>1676</td>\n",
       "      <td>2194</td>\n",
       "      <td>2</td>\n",
       "      <td>6.0</td>\n",
       "      <td>3.235521</td>\n",
       "    </tr>\n",
       "    <tr>\n",
       "      <th>1</th>\n",
       "      <td>61468</td>\n",
       "      <td>2116</td>\n",
       "      <td>13.096124</td>\n",
       "      <td>1393</td>\n",
       "      <td>4798</td>\n",
       "      <td>6191</td>\n",
       "      <td>2</td>\n",
       "      <td>7.0</td>\n",
       "      <td>3.444365</td>\n",
       "    </tr>\n",
       "    <tr>\n",
       "      <th>2</th>\n",
       "      <td>18851</td>\n",
       "      <td>1759</td>\n",
       "      <td>9.591271</td>\n",
       "      <td>1262</td>\n",
       "      <td>3822</td>\n",
       "      <td>5084</td>\n",
       "      <td>2</td>\n",
       "      <td>8.0</td>\n",
       "      <td>3.028526</td>\n",
       "    </tr>\n",
       "    <tr>\n",
       "      <th>3</th>\n",
       "      <td>258342</td>\n",
       "      <td>4333</td>\n",
       "      <td>15.145135</td>\n",
       "      <td>3504</td>\n",
       "      <td>26534</td>\n",
       "      <td>30038</td>\n",
       "      <td>3</td>\n",
       "      <td>6.0</td>\n",
       "      <td>7.572489</td>\n",
       "    </tr>\n",
       "    <tr>\n",
       "      <th>4</th>\n",
       "      <td>198616</td>\n",
       "      <td>2798</td>\n",
       "      <td>13.179374</td>\n",
       "      <td>1868</td>\n",
       "      <td>7321</td>\n",
       "      <td>9189</td>\n",
       "      <td>3</td>\n",
       "      <td>7.0</td>\n",
       "      <td>3.919165</td>\n",
       "    </tr>\n",
       "  </tbody>\n",
       "</table>\n",
       "</div>"
      ],
      "text/plain": [
       "  Processed Cells Retries       Time Examinations Movements Actions Terrain  \\\n",
       "0            7717     763   5.511110          518      1676    2194       2   \n",
       "1           61468    2116  13.096124         1393      4798    6191       2   \n",
       "2           18851    1759   9.591271         1262      3822    5084       2   \n",
       "3          258342    4333  15.145135         3504     26534   30038       3   \n",
       "4          198616    2798  13.179374         1868      7321    9189       3   \n",
       "\n",
       "   Agent     Ratio  \n",
       "0    6.0  3.235521  \n",
       "1    7.0  3.444365  \n",
       "2    8.0  3.028526  \n",
       "3    6.0  7.572489  \n",
       "4    7.0  3.919165  "
      ]
     },
     "execution_count": 8,
     "metadata": {},
     "output_type": "execute_result"
    }
   ],
   "source": [
    "results_df['Ratio'] = results_df['Movements'] / results_df['Examinations']\n",
    "results_df.head()\n"
   ]
  },
  {
   "cell_type": "code",
   "execution_count": 9,
   "metadata": {},
   "outputs": [],
   "source": [
    "results_df.to_csv('misc/test_results_terrain3.csv')"
   ]
  },
  {
   "cell_type": "code",
   "execution_count": 12,
   "metadata": {},
   "outputs": [
    {
     "data": {
      "text/html": [
       "<div>\n",
       "<style scoped>\n",
       "    .dataframe tbody tr th:only-of-type {\n",
       "        vertical-align: middle;\n",
       "    }\n",
       "\n",
       "    .dataframe tbody tr th {\n",
       "        vertical-align: top;\n",
       "    }\n",
       "\n",
       "    .dataframe thead th {\n",
       "        text-align: right;\n",
       "    }\n",
       "</style>\n",
       "<table border=\"1\" class=\"dataframe\">\n",
       "  <thead>\n",
       "    <tr style=\"text-align: right;\">\n",
       "      <th></th>\n",
       "      <th>Agent</th>\n",
       "      <th>Processed Cells</th>\n",
       "      <th>Retries</th>\n",
       "      <th>Time</th>\n",
       "      <th>Examinations</th>\n",
       "      <th>Movements</th>\n",
       "      <th>Actions</th>\n",
       "      <th>Ratio</th>\n",
       "    </tr>\n",
       "  </thead>\n",
       "  <tbody>\n",
       "    <tr>\n",
       "      <th>0</th>\n",
       "      <td>6</td>\n",
       "      <td>207891.79</td>\n",
       "      <td>4536.03</td>\n",
       "      <td>15.94875</td>\n",
       "      <td>3901.08</td>\n",
       "      <td>31501.81</td>\n",
       "      <td>35402.89</td>\n",
       "      <td>5.643324</td>\n",
       "    </tr>\n",
       "    <tr>\n",
       "      <th>1</th>\n",
       "      <td>7</td>\n",
       "      <td>135222.66</td>\n",
       "      <td>3608.12</td>\n",
       "      <td>14.416686</td>\n",
       "      <td>2876.68</td>\n",
       "      <td>18735.82</td>\n",
       "      <td>21612.5</td>\n",
       "      <td>4.384623</td>\n",
       "    </tr>\n",
       "    <tr>\n",
       "      <th>2</th>\n",
       "      <td>8</td>\n",
       "      <td>124936.07</td>\n",
       "      <td>2845.77</td>\n",
       "      <td>20.860659</td>\n",
       "      <td>3116.97</td>\n",
       "      <td>9656.66</td>\n",
       "      <td>12773.63</td>\n",
       "      <td>3.0598</td>\n",
       "    </tr>\n",
       "  </tbody>\n",
       "</table>\n",
       "</div>"
      ],
      "text/plain": [
       "   Agent  Processed Cells  Retries       Time  Examinations  Movements  \\\n",
       "0      6        207891.79  4536.03   15.94875       3901.08   31501.81   \n",
       "1      7        135222.66  3608.12  14.416686       2876.68   18735.82   \n",
       "2      8        124936.07  2845.77  20.860659       3116.97    9656.66   \n",
       "\n",
       "    Actions     Ratio  \n",
       "0  35402.89  5.643324  \n",
       "1   21612.5  4.384623  \n",
       "2  12773.63    3.0598  "
      ]
     },
     "execution_count": 12,
     "metadata": {},
     "output_type": "execute_result"
    }
   ],
   "source": [
    "results_df = results_df.convert_dtypes()\n",
    "grouped_df = results_df.groupby(['Agent'])\n",
    "avg_results_df = grouped_df.mean()\n",
    "avg_results_df = avg_results_df.reset_index()\n",
    "avg_results_df"
   ]
  },
  {
   "cell_type": "code",
   "execution_count": 8,
   "metadata": {},
   "outputs": [],
   "source": [
    "agent_6_df = results_df[(results_df.Agent == 6)]\n",
    "agent_7_df = results_df[(results_df.Agent == 7)]\n",
    "agent_8_df = results_df[(results_df.Agent == 8)]"
   ]
  },
  {
   "cell_type": "code",
   "execution_count": 11,
   "metadata": {},
   "outputs": [
    {
     "data": {
      "application/vnd.plotly.v1+json": {
       "config": {
        "plotlyServerURL": "https://plot.ly"
       },
       "data": [
        {
         "alignmentgroup": "True",
         "hovertemplate": "Terrain=2<br>Agent=%{x}<br>Actions=%{y}<extra></extra>",
         "legendgroup": "2",
         "marker": {
          "color": "#636efa",
          "pattern": {
           "shape": ""
          }
         },
         "name": "2",
         "offsetgroup": "2",
         "orientation": "v",
         "showlegend": true,
         "textposition": "auto",
         "type": "bar",
         "x": [
          6,
          7,
          8
         ],
         "xaxis": "x",
         "y": [
          22946.162162162163,
          7522.486486486487,
          6130.513513513513
         ],
         "yaxis": "y"
        },
        {
         "alignmentgroup": "True",
         "hovertemplate": "Terrain=3<br>Agent=%{x}<br>Actions=%{y}<extra></extra>",
         "legendgroup": "3",
         "marker": {
          "color": "#EF553B",
          "pattern": {
           "shape": ""
          }
         },
         "name": "3",
         "offsetgroup": "3",
         "orientation": "v",
         "showlegend": true,
         "textposition": "auto",
         "type": "bar",
         "x": [
          6,
          7,
          8
         ],
         "xaxis": "x",
         "y": [
          35952.78125,
          16549.6875,
          12834.71875
         ],
         "yaxis": "y"
        },
        {
         "alignmentgroup": "True",
         "hovertemplate": "Terrain=4<br>Agent=%{x}<br>Actions=%{y}<extra></extra>",
         "legendgroup": "4",
         "marker": {
          "color": "#00cc96",
          "pattern": {
           "shape": ""
          }
         },
         "name": "4",
         "offsetgroup": "4",
         "orientation": "v",
         "showlegend": true,
         "textposition": "auto",
         "type": "bar",
         "x": [
          6,
          7,
          8
         ],
         "xaxis": "x",
         "y": [
          49702.967741935485,
          43655.74193548387,
          20639.451612903227
         ],
         "yaxis": "y"
        }
       ],
       "layout": {
        "barmode": "group",
        "legend": {
         "title": {
          "text": "Terrain"
         },
         "tracegroupgap": 0
        },
        "template": {
         "data": {
          "bar": [
           {
            "error_x": {
             "color": "#2a3f5f"
            },
            "error_y": {
             "color": "#2a3f5f"
            },
            "marker": {
             "line": {
              "color": "#E5ECF6",
              "width": 0.5
             },
             "pattern": {
              "fillmode": "overlay",
              "size": 10,
              "solidity": 0.2
             }
            },
            "type": "bar"
           }
          ],
          "barpolar": [
           {
            "marker": {
             "line": {
              "color": "#E5ECF6",
              "width": 0.5
             },
             "pattern": {
              "fillmode": "overlay",
              "size": 10,
              "solidity": 0.2
             }
            },
            "type": "barpolar"
           }
          ],
          "carpet": [
           {
            "aaxis": {
             "endlinecolor": "#2a3f5f",
             "gridcolor": "white",
             "linecolor": "white",
             "minorgridcolor": "white",
             "startlinecolor": "#2a3f5f"
            },
            "baxis": {
             "endlinecolor": "#2a3f5f",
             "gridcolor": "white",
             "linecolor": "white",
             "minorgridcolor": "white",
             "startlinecolor": "#2a3f5f"
            },
            "type": "carpet"
           }
          ],
          "choropleth": [
           {
            "colorbar": {
             "outlinewidth": 0,
             "ticks": ""
            },
            "type": "choropleth"
           }
          ],
          "contour": [
           {
            "colorbar": {
             "outlinewidth": 0,
             "ticks": ""
            },
            "colorscale": [
             [
              0,
              "#0d0887"
             ],
             [
              0.1111111111111111,
              "#46039f"
             ],
             [
              0.2222222222222222,
              "#7201a8"
             ],
             [
              0.3333333333333333,
              "#9c179e"
             ],
             [
              0.4444444444444444,
              "#bd3786"
             ],
             [
              0.5555555555555556,
              "#d8576b"
             ],
             [
              0.6666666666666666,
              "#ed7953"
             ],
             [
              0.7777777777777778,
              "#fb9f3a"
             ],
             [
              0.8888888888888888,
              "#fdca26"
             ],
             [
              1,
              "#f0f921"
             ]
            ],
            "type": "contour"
           }
          ],
          "contourcarpet": [
           {
            "colorbar": {
             "outlinewidth": 0,
             "ticks": ""
            },
            "type": "contourcarpet"
           }
          ],
          "heatmap": [
           {
            "colorbar": {
             "outlinewidth": 0,
             "ticks": ""
            },
            "colorscale": [
             [
              0,
              "#0d0887"
             ],
             [
              0.1111111111111111,
              "#46039f"
             ],
             [
              0.2222222222222222,
              "#7201a8"
             ],
             [
              0.3333333333333333,
              "#9c179e"
             ],
             [
              0.4444444444444444,
              "#bd3786"
             ],
             [
              0.5555555555555556,
              "#d8576b"
             ],
             [
              0.6666666666666666,
              "#ed7953"
             ],
             [
              0.7777777777777778,
              "#fb9f3a"
             ],
             [
              0.8888888888888888,
              "#fdca26"
             ],
             [
              1,
              "#f0f921"
             ]
            ],
            "type": "heatmap"
           }
          ],
          "heatmapgl": [
           {
            "colorbar": {
             "outlinewidth": 0,
             "ticks": ""
            },
            "colorscale": [
             [
              0,
              "#0d0887"
             ],
             [
              0.1111111111111111,
              "#46039f"
             ],
             [
              0.2222222222222222,
              "#7201a8"
             ],
             [
              0.3333333333333333,
              "#9c179e"
             ],
             [
              0.4444444444444444,
              "#bd3786"
             ],
             [
              0.5555555555555556,
              "#d8576b"
             ],
             [
              0.6666666666666666,
              "#ed7953"
             ],
             [
              0.7777777777777778,
              "#fb9f3a"
             ],
             [
              0.8888888888888888,
              "#fdca26"
             ],
             [
              1,
              "#f0f921"
             ]
            ],
            "type": "heatmapgl"
           }
          ],
          "histogram": [
           {
            "marker": {
             "pattern": {
              "fillmode": "overlay",
              "size": 10,
              "solidity": 0.2
             }
            },
            "type": "histogram"
           }
          ],
          "histogram2d": [
           {
            "colorbar": {
             "outlinewidth": 0,
             "ticks": ""
            },
            "colorscale": [
             [
              0,
              "#0d0887"
             ],
             [
              0.1111111111111111,
              "#46039f"
             ],
             [
              0.2222222222222222,
              "#7201a8"
             ],
             [
              0.3333333333333333,
              "#9c179e"
             ],
             [
              0.4444444444444444,
              "#bd3786"
             ],
             [
              0.5555555555555556,
              "#d8576b"
             ],
             [
              0.6666666666666666,
              "#ed7953"
             ],
             [
              0.7777777777777778,
              "#fb9f3a"
             ],
             [
              0.8888888888888888,
              "#fdca26"
             ],
             [
              1,
              "#f0f921"
             ]
            ],
            "type": "histogram2d"
           }
          ],
          "histogram2dcontour": [
           {
            "colorbar": {
             "outlinewidth": 0,
             "ticks": ""
            },
            "colorscale": [
             [
              0,
              "#0d0887"
             ],
             [
              0.1111111111111111,
              "#46039f"
             ],
             [
              0.2222222222222222,
              "#7201a8"
             ],
             [
              0.3333333333333333,
              "#9c179e"
             ],
             [
              0.4444444444444444,
              "#bd3786"
             ],
             [
              0.5555555555555556,
              "#d8576b"
             ],
             [
              0.6666666666666666,
              "#ed7953"
             ],
             [
              0.7777777777777778,
              "#fb9f3a"
             ],
             [
              0.8888888888888888,
              "#fdca26"
             ],
             [
              1,
              "#f0f921"
             ]
            ],
            "type": "histogram2dcontour"
           }
          ],
          "mesh3d": [
           {
            "colorbar": {
             "outlinewidth": 0,
             "ticks": ""
            },
            "type": "mesh3d"
           }
          ],
          "parcoords": [
           {
            "line": {
             "colorbar": {
              "outlinewidth": 0,
              "ticks": ""
             }
            },
            "type": "parcoords"
           }
          ],
          "pie": [
           {
            "automargin": true,
            "type": "pie"
           }
          ],
          "scatter": [
           {
            "marker": {
             "colorbar": {
              "outlinewidth": 0,
              "ticks": ""
             }
            },
            "type": "scatter"
           }
          ],
          "scatter3d": [
           {
            "line": {
             "colorbar": {
              "outlinewidth": 0,
              "ticks": ""
             }
            },
            "marker": {
             "colorbar": {
              "outlinewidth": 0,
              "ticks": ""
             }
            },
            "type": "scatter3d"
           }
          ],
          "scattercarpet": [
           {
            "marker": {
             "colorbar": {
              "outlinewidth": 0,
              "ticks": ""
             }
            },
            "type": "scattercarpet"
           }
          ],
          "scattergeo": [
           {
            "marker": {
             "colorbar": {
              "outlinewidth": 0,
              "ticks": ""
             }
            },
            "type": "scattergeo"
           }
          ],
          "scattergl": [
           {
            "marker": {
             "colorbar": {
              "outlinewidth": 0,
              "ticks": ""
             }
            },
            "type": "scattergl"
           }
          ],
          "scattermapbox": [
           {
            "marker": {
             "colorbar": {
              "outlinewidth": 0,
              "ticks": ""
             }
            },
            "type": "scattermapbox"
           }
          ],
          "scatterpolar": [
           {
            "marker": {
             "colorbar": {
              "outlinewidth": 0,
              "ticks": ""
             }
            },
            "type": "scatterpolar"
           }
          ],
          "scatterpolargl": [
           {
            "marker": {
             "colorbar": {
              "outlinewidth": 0,
              "ticks": ""
             }
            },
            "type": "scatterpolargl"
           }
          ],
          "scatterternary": [
           {
            "marker": {
             "colorbar": {
              "outlinewidth": 0,
              "ticks": ""
             }
            },
            "type": "scatterternary"
           }
          ],
          "surface": [
           {
            "colorbar": {
             "outlinewidth": 0,
             "ticks": ""
            },
            "colorscale": [
             [
              0,
              "#0d0887"
             ],
             [
              0.1111111111111111,
              "#46039f"
             ],
             [
              0.2222222222222222,
              "#7201a8"
             ],
             [
              0.3333333333333333,
              "#9c179e"
             ],
             [
              0.4444444444444444,
              "#bd3786"
             ],
             [
              0.5555555555555556,
              "#d8576b"
             ],
             [
              0.6666666666666666,
              "#ed7953"
             ],
             [
              0.7777777777777778,
              "#fb9f3a"
             ],
             [
              0.8888888888888888,
              "#fdca26"
             ],
             [
              1,
              "#f0f921"
             ]
            ],
            "type": "surface"
           }
          ],
          "table": [
           {
            "cells": {
             "fill": {
              "color": "#EBF0F8"
             },
             "line": {
              "color": "white"
             }
            },
            "header": {
             "fill": {
              "color": "#C8D4E3"
             },
             "line": {
              "color": "white"
             }
            },
            "type": "table"
           }
          ]
         },
         "layout": {
          "annotationdefaults": {
           "arrowcolor": "#2a3f5f",
           "arrowhead": 0,
           "arrowwidth": 1
          },
          "autotypenumbers": "strict",
          "coloraxis": {
           "colorbar": {
            "outlinewidth": 0,
            "ticks": ""
           }
          },
          "colorscale": {
           "diverging": [
            [
             0,
             "#8e0152"
            ],
            [
             0.1,
             "#c51b7d"
            ],
            [
             0.2,
             "#de77ae"
            ],
            [
             0.3,
             "#f1b6da"
            ],
            [
             0.4,
             "#fde0ef"
            ],
            [
             0.5,
             "#f7f7f7"
            ],
            [
             0.6,
             "#e6f5d0"
            ],
            [
             0.7,
             "#b8e186"
            ],
            [
             0.8,
             "#7fbc41"
            ],
            [
             0.9,
             "#4d9221"
            ],
            [
             1,
             "#276419"
            ]
           ],
           "sequential": [
            [
             0,
             "#0d0887"
            ],
            [
             0.1111111111111111,
             "#46039f"
            ],
            [
             0.2222222222222222,
             "#7201a8"
            ],
            [
             0.3333333333333333,
             "#9c179e"
            ],
            [
             0.4444444444444444,
             "#bd3786"
            ],
            [
             0.5555555555555556,
             "#d8576b"
            ],
            [
             0.6666666666666666,
             "#ed7953"
            ],
            [
             0.7777777777777778,
             "#fb9f3a"
            ],
            [
             0.8888888888888888,
             "#fdca26"
            ],
            [
             1,
             "#f0f921"
            ]
           ],
           "sequentialminus": [
            [
             0,
             "#0d0887"
            ],
            [
             0.1111111111111111,
             "#46039f"
            ],
            [
             0.2222222222222222,
             "#7201a8"
            ],
            [
             0.3333333333333333,
             "#9c179e"
            ],
            [
             0.4444444444444444,
             "#bd3786"
            ],
            [
             0.5555555555555556,
             "#d8576b"
            ],
            [
             0.6666666666666666,
             "#ed7953"
            ],
            [
             0.7777777777777778,
             "#fb9f3a"
            ],
            [
             0.8888888888888888,
             "#fdca26"
            ],
            [
             1,
             "#f0f921"
            ]
           ]
          },
          "colorway": [
           "#636efa",
           "#EF553B",
           "#00cc96",
           "#ab63fa",
           "#FFA15A",
           "#19d3f3",
           "#FF6692",
           "#B6E880",
           "#FF97FF",
           "#FECB52"
          ],
          "font": {
           "color": "#2a3f5f"
          },
          "geo": {
           "bgcolor": "white",
           "lakecolor": "white",
           "landcolor": "#E5ECF6",
           "showlakes": true,
           "showland": true,
           "subunitcolor": "white"
          },
          "hoverlabel": {
           "align": "left"
          },
          "hovermode": "closest",
          "mapbox": {
           "style": "light"
          },
          "paper_bgcolor": "white",
          "plot_bgcolor": "#E5ECF6",
          "polar": {
           "angularaxis": {
            "gridcolor": "white",
            "linecolor": "white",
            "ticks": ""
           },
           "bgcolor": "#E5ECF6",
           "radialaxis": {
            "gridcolor": "white",
            "linecolor": "white",
            "ticks": ""
           }
          },
          "scene": {
           "xaxis": {
            "backgroundcolor": "#E5ECF6",
            "gridcolor": "white",
            "gridwidth": 2,
            "linecolor": "white",
            "showbackground": true,
            "ticks": "",
            "zerolinecolor": "white"
           },
           "yaxis": {
            "backgroundcolor": "#E5ECF6",
            "gridcolor": "white",
            "gridwidth": 2,
            "linecolor": "white",
            "showbackground": true,
            "ticks": "",
            "zerolinecolor": "white"
           },
           "zaxis": {
            "backgroundcolor": "#E5ECF6",
            "gridcolor": "white",
            "gridwidth": 2,
            "linecolor": "white",
            "showbackground": true,
            "ticks": "",
            "zerolinecolor": "white"
           }
          },
          "shapedefaults": {
           "line": {
            "color": "#2a3f5f"
           }
          },
          "ternary": {
           "aaxis": {
            "gridcolor": "white",
            "linecolor": "white",
            "ticks": ""
           },
           "baxis": {
            "gridcolor": "white",
            "linecolor": "white",
            "ticks": ""
           },
           "bgcolor": "#E5ECF6",
           "caxis": {
            "gridcolor": "white",
            "linecolor": "white",
            "ticks": ""
           }
          },
          "title": {
           "x": 0.05
          },
          "xaxis": {
           "automargin": true,
           "gridcolor": "white",
           "linecolor": "white",
           "ticks": "",
           "title": {
            "standoff": 15
           },
           "zerolinecolor": "white",
           "zerolinewidth": 2
          },
          "yaxis": {
           "automargin": true,
           "gridcolor": "white",
           "linecolor": "white",
           "ticks": "",
           "title": {
            "standoff": 15
           },
           "zerolinecolor": "white",
           "zerolinewidth": 2
          }
         }
        },
        "title": {
         "text": "Average Actions vs Agent"
        },
        "xaxis": {
         "anchor": "y",
         "domain": [
          0,
          1
         ],
         "title": {
          "text": "Agent"
         }
        },
        "yaxis": {
         "anchor": "x",
         "domain": [
          0,
          1
         ],
         "title": {
          "text": "Actions"
         }
        }
       }
      }
     },
     "metadata": {},
     "output_type": "display_data"
    }
   ],
   "source": [
    "bar_chart = px.bar(avg_results_df, x=\"Agent\", y=\"Actions\", color=\"Terrain\", barmode='group', title=\"Average Actions vs Agent\")\n",
    "bar_chart.show()\n",
    "plotly.io.write_image(bar_chart, file=\"./images/bar_chart_actions_terrain.png\", scale=5)"
   ]
  },
  {
   "cell_type": "code",
   "execution_count": 17,
   "metadata": {},
   "outputs": [
    {
     "ename": "SyntaxError",
     "evalue": "invalid syntax (3528599804.py, line 1)",
     "output_type": "error",
     "traceback": [
      "\u001b[0;36m  File \u001b[0;32m\"/tmp/ipykernel_217398/3528599804.py\"\u001b[0;36m, line \u001b[0;32m1\u001b[0m\n\u001b[0;31m    git status\u001b[0m\n\u001b[0m        ^\u001b[0m\n\u001b[0;31mSyntaxError\u001b[0m\u001b[0;31m:\u001b[0m invalid syntax\n"
     ]
    }
   ],
   "source": []
  },
  {
   "cell_type": "code",
   "execution_count": 30,
   "metadata": {},
   "outputs": [
    {
     "data": {
      "application/vnd.plotly.v1+json": {
       "config": {
        "plotlyServerURL": "https://plot.ly"
       },
       "data": [
        {
         "autobinx": false,
         "histnorm": "probability density",
         "legendgroup": "Agent 6",
         "marker": {
          "color": "rgb(31, 119, 180)"
         },
         "name": "Agent 6",
         "opacity": 0.7,
         "type": "histogram",
         "x": [
          6.51487290427258,
          6.163010359536868,
          8.38130714527599,
          3.1275303643724697,
          9.669710409600835,
          3.7548855388051368,
          3.129062209842154,
          8.321753898409758,
          2.99388379204893,
          3.0444104134762635,
          8.830398850161696,
          2.837150127226463,
          8.374269005847953,
          8.50625761435375,
          4.888178913738019,
          3.0216411181244363,
          3.5707656612529,
          9.271446332366349,
          4.441418293936279,
          2.8258426966292136,
          3.643510054844607,
          7.658201892744479,
          7.052300657330666,
          3.052219321148825,
          2.9762845849802373,
          7.388874379733612,
          2.94043321299639,
          3.9644373673036095,
          2.885290148448043,
          3.290362953692115,
          2.7204301075268815,
          2.85034965034965,
          2.7017543859649122,
          3.1367053998632946,
          2.89727463312369,
          6.0556673373574785,
          2.9871441689623506,
          2.7977900552486186,
          9.712099542334096,
          3.3890887290167866,
          2.915525114155251,
          2.9415983606557377,
          3.0860113421550093,
          4.768915223336372,
          5.046645935139938,
          2.67420814479638,
          5.357872340425532,
          9.37143092240599,
          3.1088631984585744,
          2.6296296296296298,
          3.2036036036036037,
          3.085858585858586,
          2.781725888324873,
          3.1552795031055902,
          9.250582541674135,
          3.0559105431309903,
          8.951267633422116,
          7.230549380755796,
          7.8939597315436245,
          7.578415094339623,
          2.4597701149425286,
          2.4126984126984126,
          2.9835640138408306,
          3.4050245098039214,
          3.086061739943873,
          3.418761496014715,
          8.636666666666667,
          8.420199146514936,
          2.894630192502533,
          8.506129384634058,
          2.9026128266033253,
          2.936283185840708,
          3.0884353741496597,
          2.6717948717948716,
          2.7777777777777777,
          9.767200836091273,
          6.718111143103945,
          6.177575947384905,
          6.016748260757537,
          7.778260869565218,
          4.538173302107729,
          2.92979297929793,
          6.229124236252546,
          3.3706070287539935,
          3.152173913043478,
          10.817568068847837,
          3.0330708661417325,
          7.8498670770952845,
          3.1771241830065358,
          2.9012345679012346,
          2.8488372093023258,
          2.864130434782609,
          9.285611952517396,
          3.057798891528108,
          6.898503740648379,
          5.7757554945054945,
          8.074230537115268,
          4.091787439613527,
          7.391904992729035,
          3.2933333333333334
         ],
         "xaxis": "x",
         "xbins": {
          "end": 10.817568068847837,
          "size": 0.2,
          "start": 2.4126984126984126
         },
         "yaxis": "y"
        },
        {
         "autobinx": false,
         "histnorm": "probability density",
         "legendgroup": "Agent 7",
         "marker": {
          "color": "rgb(255, 127, 14)"
         },
         "name": "Agent 7",
         "opacity": 0.7,
         "type": "histogram",
         "x": [
          3.307588985896575,
          5.472283205268935,
          3.0947611710323573,
          2.788135593220339,
          2.8981900452488687,
          5.412166172106825,
          8.389017411420918,
          5.621125143513203,
          4.59338061465721,
          6.166419019316494,
          5.473035860936217,
          2.981132075471698,
          3.0728155339805827,
          3.388538681948424,
          6.263076583535644,
          3.5575319622012227,
          3.1776223776223778,
          2.886319845857418,
          4.32051282051282,
          2.867313915857605,
          8.397631630456058,
          3.0356633380884452,
          6.540573973280554,
          3.0027210884353743,
          2.9243697478991595,
          3.7531675269826374,
          4.782591571484836,
          2.863501483679525,
          2.990322580645161,
          3.201290322580645,
          2.92722371967655,
          4.521653543307087,
          3.704367816091954,
          7.64963612060003,
          2.971578947368421,
          2.800383877159309,
          5.81008100810081,
          5.626905829596413,
          3.4198552223371252,
          2.9511737089201877,
          6.539588749704562,
          3.206039076376554,
          3.742603550295858,
          3.2843772498200146,
          8.127736215018011,
          3.596765498652291,
          4.852700490998363,
          6.01669877970456,
          2.9129287598944593,
          1.5,
          3.0853199498117942,
          3.1258181818181816,
          8.862353750860288,
          3.075453677172875,
          3.2568351284175643,
          2.7553956834532376,
          5.48849840255591,
          6.063189845474613,
          3.800090252707581,
          2.691729323308271,
          4.097710547833197,
          2.8541666666666665,
          2.8,
          2.6141552511415527,
          3.0300429184549356,
          5.947223074562749,
          3.2030620467365027,
          3.104761904761905,
          3.276950565812984,
          7.203683492496589,
          2.8745910577971645,
          2.980549199084668,
          3.757073170731707,
          3.1636005256241786,
          3.851433185304804,
          3.239782016348774,
          3.3191358024691358,
          2.802941176470588,
          5.473840288074561,
          3.5083544303797467,
          9.449013157894736,
          7.636301016015154,
          7.098224852071006,
          8.06166143305738,
          4.814965986394558,
          3.6165320074580483,
          3.193620178041543,
          3.238503985285101,
          2.934455270150576,
          3.7921321029626034,
          3.3048327137546467,
          3.246886446886447,
          5.450139794967381,
          3.061699650756694,
          8.100199401794615,
          7.95177251659777,
          6.591376146788991,
          8.322694184465243,
          8.919058744993324,
          2.917
         ],
         "xaxis": "x",
         "xbins": {
          "end": 9.449013157894736,
          "size": 0.2,
          "start": 1.5
         },
         "yaxis": "y"
        },
        {
         "autobinx": false,
         "histnorm": "probability density",
         "legendgroup": "Agent 8",
         "marker": {
          "color": "rgb(44, 160, 44)"
         },
         "name": "Agent 8",
         "opacity": 0.7,
         "type": "histogram",
         "x": [
          2.9275653923541247,
          2.9033584647018507,
          3.444962143273151,
          3.2807469414037347,
          3.0274172615184947,
          3.143141153081511,
          3.4348418756815704,
          2.9285714285714284,
          2.9784546805349184,
          2.806122448979592,
          3.1793682990437553,
          3.2674557390093497,
          3.2389006342494713,
          3.0317358892438766,
          3.2814154360546115,
          2.8796133567662565,
          2.936664320900774,
          3.328720700367128,
          3.446078431372549,
          2.945534729878721,
          3.215541401273885,
          3.2971468336812806,
          3.048979591836735,
          3.1193633952254642,
          3.2286654849328946,
          3.0527196652719666,
          3.3939897850100964,
          2.8660714285714284,
          2.8196371398078974,
          2.9800569800569803,
          3.322040072859745,
          2.8348729792147807,
          3.344808743169399,
          2.920134983127109,
          2.8608870967741935,
          3.022696929238985,
          3.367289279547952,
          2.85841144548594,
          2.8499156829679597,
          2.8292079207920793,
          2.999233716475096,
          2.831955922865014,
          3.356156501726122,
          3.2409164131018438,
          2.9393939393939394,
          3.051738761662426,
          3.291956934768841,
          2.856707176193337,
          2.7984848484848484,
          2.8055555555555554,
          2.8623103850641773,
          2.641509433962264,
          3.2449050086355786,
          3.3507082152974506,
          3.091703056768559,
          2.8359133126934983,
          3.053800170794193,
          3.364855570839065,
          3.0716650898770106,
          2.8333333333333335,
          2.8125,
          2.670103092783505,
          2.984341122621055,
          2.794238683127572,
          3.320675105485232,
          3.7037939436129483,
          3.1481967213114754,
          2.953114065780266,
          2.996037296037296,
          3.1130041724617525,
          3.258348512446873,
          2.599388379204893,
          3.2269267364414844,
          3.1745169082125604,
          2.7358024691358023,
          2.8838526912181304,
          3.003302373581011,
          2.8712,
          2.877342419080068,
          3.0916196265740337,
          3.036076460558198,
          2.7869062901155326,
          2.433333333333333,
          3.093891973750631,
          2.870843989769821,
          3.32,
          2.8515057113187954,
          2.6415770609319,
          2.975104895104895,
          3.214032600992204,
          2.8820093457943927,
          3.513581278729628,
          3.047355958958169,
          2.956060606060606,
          3.6040845575062703,
          2.8223819301848048,
          3.0033131943091016,
          3.004486873508353,
          3.0840981856990397,
          3.012770137524558
         ],
         "xaxis": "x",
         "xbins": {
          "end": 3.7037939436129483,
          "size": 0.2,
          "start": 2.433333333333333
         },
         "yaxis": "y"
        },
        {
         "legendgroup": "Agent 6",
         "marker": {
          "color": "rgb(31, 119, 180)"
         },
         "mode": "lines",
         "name": "Agent 6",
         "showlegend": false,
         "type": "scatter",
         "x": [
          2.4126984126984126,
          2.4295081520107114,
          2.44631789132301,
          2.463127630635309,
          2.479937369947608,
          2.496747109259907,
          2.5135568485722057,
          2.5303665878845045,
          2.5471763271968033,
          2.563986066509102,
          2.580795805821401,
          2.5976055451336997,
          2.614415284445999,
          2.6312250237582977,
          2.6480347630705965,
          2.6648445023828953,
          2.681654241695194,
          2.698463981007493,
          2.715273720319792,
          2.732083459632091,
          2.7488931989443897,
          2.7657029382566884,
          2.7825126775689872,
          2.799322416881286,
          2.816132156193585,
          2.8329418955058836,
          2.8497516348181824,
          2.8665613741304816,
          2.8833711134427804,
          2.900180852755079,
          2.916990592067378,
          2.9338003313796768,
          2.9506100706919756,
          2.967419810004275,
          2.9842295493165736,
          3.0010392886288724,
          3.017849027941171,
          3.03465876725347,
          3.0514685065657687,
          3.0682782458780675,
          3.0850879851903663,
          3.1018977245026655,
          3.1187074638149643,
          3.135517203127263,
          3.152326942439562,
          3.1691366817518607,
          3.1859464210641595,
          3.2027561603764583,
          3.2195658996887575,
          3.2363756390010563,
          3.253185378313355,
          3.269995117625654,
          3.2868048569379527,
          3.3036145962502514,
          3.3204243355625502,
          3.337234074874849,
          3.3540438141871483,
          3.370853553499447,
          3.387663292811746,
          3.4044730321240446,
          3.4212827714363434,
          3.4380925107486426,
          3.4549022500609414,
          3.47171198937324,
          3.488521728685539,
          3.505331467997838,
          3.5221412073101366,
          3.5389509466224354,
          3.555760685934734,
          3.572570425247033,
          3.5893801645593317,
          3.6061899038716305,
          3.6229996431839298,
          3.6398093824962285,
          3.6566191218085273,
          3.6734288611208266,
          3.690238600433125,
          3.707048339745424,
          3.723858079057723,
          3.7406678183700217,
          3.7574775576823205,
          3.7742872969946193,
          3.791097036306918,
          3.807906775619217,
          3.8247165149315157,
          3.8415262542438144,
          3.8583359935561132,
          3.875145732868412,
          3.8919554721807113,
          3.9087652114930105,
          3.925574950805309,
          3.942384690117608,
          3.959194429429907,
          3.9760041687422056,
          3.9928139080545044,
          4.009623647366803,
          4.026433386679102,
          4.043243125991401,
          4.0600528653037,
          4.076862604615998,
          4.093672343928297,
          4.110482083240596,
          4.127291822552895,
          4.1441015618651935,
          4.160911301177492,
          4.177721040489792,
          4.194530779802091,
          4.21134051911439,
          4.228150258426688,
          4.244959997738987,
          4.261769737051286,
          4.278579476363585,
          4.2953892156758835,
          4.312198954988182,
          4.329008694300481,
          4.34581843361278,
          4.3626281729250795,
          4.379437912237378,
          4.396247651549677,
          4.413057390861976,
          4.429867130174275,
          4.4466768694865735,
          4.463486608798872,
          4.480296348111171,
          4.49710608742347,
          4.513915826735769,
          4.530725566048067,
          4.547535305360366,
          4.564345044672665,
          4.581154783984964,
          4.597964523297263,
          4.614774262609561,
          4.63158400192186,
          4.648393741234159,
          4.665203480546458,
          4.6820132198587565,
          4.698822959171056,
          4.715632698483355,
          4.732442437795654,
          4.7492521771079526,
          4.766061916420251,
          4.78287165573255,
          4.799681395044849,
          4.816491134357149,
          4.833300873669447,
          4.850110612981745,
          4.866920352294045,
          4.883730091606344,
          4.9005398309186425,
          4.917349570230941,
          4.93415930954324,
          4.950969048855539,
          4.967778788167838,
          4.9845885274801365,
          5.001398266792435,
          5.018208006104734,
          5.035017745417033,
          5.051827484729332,
          5.06863722404163,
          5.085446963353929,
          5.102256702666228,
          5.119066441978527,
          5.135876181290826,
          5.152685920603124,
          5.169495659915424,
          5.186305399227723,
          5.203115138540021,
          5.2199248778523195,
          5.236734617164619,
          5.253544356476918,
          5.270354095789217,
          5.287163835101516,
          5.303973574413814,
          5.320783313726113,
          5.337593053038412,
          5.354402792350712,
          5.37121253166301,
          5.388022270975309,
          5.404832010287608,
          5.421641749599907,
          5.4384514889122055,
          5.455261228224504,
          5.472070967536803,
          5.488880706849102,
          5.505690446161401,
          5.5225001854736995,
          5.539309924785998,
          5.556119664098297,
          5.572929403410596,
          5.589739142722895,
          5.606548882035193,
          5.623358621347492,
          5.640168360659792,
          5.65697809997209,
          5.673787839284389,
          5.690597578596687,
          5.707407317908987,
          5.724217057221286,
          5.741026796533585,
          5.757836535845883,
          5.774646275158182,
          5.791456014470481,
          5.80826575378278,
          5.825075493095079,
          5.841885232407378,
          5.858694971719677,
          5.875504711031976,
          5.892314450344275,
          5.909124189656573,
          5.925933928968872,
          5.942743668281171,
          5.95955340759347,
          5.9763631469057685,
          5.993172886218067,
          6.009982625530366,
          6.026792364842665,
          6.043602104154964,
          6.0604118434672625,
          6.077221582779561,
          6.09403132209186,
          6.110841061404159,
          6.127650800716458,
          6.144460540028756,
          6.161270279341055,
          6.178080018653355,
          6.194889757965654,
          6.211699497277952,
          6.228509236590251,
          6.24531897590255,
          6.262128715214849,
          6.278938454527148,
          6.295748193839447,
          6.312557933151746,
          6.329367672464044,
          6.346177411776344,
          6.362987151088642,
          6.379796890400941,
          6.39660662971324,
          6.413416369025539,
          6.430226108337838,
          6.447035847650136,
          6.463845586962435,
          6.480655326274734,
          6.497465065587033,
          6.5142748048993315,
          6.53108454421163,
          6.547894283523929,
          6.564704022836228,
          6.581513762148527,
          6.5983235014608255,
          6.615133240773124,
          6.631942980085423,
          6.648752719397722,
          6.665562458710021,
          6.682372198022319,
          6.699181937334618,
          6.715991676646917,
          6.7328014159592176,
          6.749611155271516,
          6.766420894583815,
          6.783230633896114,
          6.800040373208413,
          6.8168501125207115,
          6.8336598518330085,
          6.850469591145309,
          6.867279330457608,
          6.884089069769907,
          6.900898809082205,
          6.917708548394504,
          6.934518287706803,
          6.951328027019102,
          6.968137766331401,
          6.984947505643699,
          7.001757244955998,
          7.018566984268297,
          7.035376723580596,
          7.0521864628928945,
          7.068996202205193,
          7.085805941517492,
          7.102615680829791,
          7.11942542014209,
          7.1362351594543885,
          7.153044898766687,
          7.169854638078986,
          7.186664377391285,
          7.203474116703585,
          7.220283856015884,
          7.237093595328183,
          7.253903334640482,
          7.2707130739527805,
          7.287522813265078,
          7.304332552577376,
          7.321142291889677,
          7.337952031201976,
          7.3547617705142745,
          7.371571509826573,
          7.388381249138872,
          7.405190988451171,
          7.42200072776347,
          7.438810467075768,
          7.455620206388067,
          7.472429945700366,
          7.489239685012665,
          7.506049424324964,
          7.522859163637262,
          7.539668902949561,
          7.55647864226186,
          7.573288381574159,
          7.5900981208864575,
          7.606907860198756,
          7.623717599511055,
          7.640527338823354,
          7.657337078135653,
          7.674146817447953,
          7.690956556760252,
          7.707766296072551,
          7.72457603538485,
          7.741385774697147,
          7.758195514009445,
          7.775005253321744,
          7.791814992634045,
          7.8086247319463435,
          7.825434471258642,
          7.842244210570941,
          7.85905394988324,
          7.875863689195539,
          7.8926734285078375,
          7.909483167820136,
          7.926292907132435,
          7.943102646444734,
          7.959912385757033,
          7.976722125069331,
          7.99353186438163,
          8.010341603693929,
          8.027151343006228,
          8.043961082318527,
          8.060770821630825,
          8.077580560943124,
          8.094390300255423,
          8.111200039567722,
          8.12800977888002,
          8.144819518192321,
          8.16162925750462,
          8.178438996816919,
          8.195248736129216,
          8.212058475441514,
          8.228868214753813,
          8.245677954066112,
          8.26248769337841,
          8.279297432690711,
          8.29610717200301,
          8.312916911315309,
          8.329726650627608,
          8.346536389939907,
          8.363346129252205,
          8.380155868564504,
          8.396965607876803,
          8.413775347189102,
          8.4305850865014,
          8.4473948258137,
          8.464204565125998,
          8.481014304438297,
          8.497824043750596,
          8.514633783062894,
          8.531443522375193,
          8.548253261687492,
          8.56506300099979,
          8.58187274031209,
          8.598682479624388,
          8.615492218936687,
          8.632301958248988,
          8.649111697561285,
          8.665921436873584,
          8.682731176185882,
          8.699540915498181,
          8.71635065481048,
          8.733160394122779,
          8.74997013343508,
          8.766779872747378,
          8.783589612059677,
          8.800399351371976,
          8.817209090684274,
          8.834018829996573,
          8.850828569308872,
          8.86763830862117,
          8.88444804793347,
          8.901257787245768,
          8.918067526558067,
          8.934877265870366,
          8.951687005182665,
          8.968496744494963,
          8.985306483807262,
          9.002116223119561,
          9.01892596243186,
          9.035735701744159,
          9.052545441056457,
          9.069355180368756,
          9.086164919681055,
          9.102974658993354,
          9.119784398305653,
          9.136594137617951,
          9.15340387693025,
          9.170213616242549,
          9.187023355554848,
          9.203833094867147,
          9.220642834179447,
          9.237452573491746,
          9.254262312804045,
          9.271072052116343,
          9.287881791428642,
          9.304691530740941,
          9.321501270053238,
          9.338311009365539,
          9.355120748677837,
          9.371930487990136,
          9.388740227302435,
          9.405549966614734,
          9.422359705927033,
          9.439169445239331,
          9.45597918455163,
          9.472788923863929,
          9.489598663176228,
          9.506408402488526,
          9.523218141800825,
          9.540027881113124,
          9.556837620425423,
          9.573647359737722,
          9.59045709905002,
          9.60726683836232,
          9.624076577674618,
          9.640886316986917,
          9.657696056299216,
          9.674505795611514,
          9.691315534923815,
          9.708125274236114,
          9.724935013548412,
          9.741744752860711,
          9.75855449217301,
          9.775364231485307,
          9.792173970797606,
          9.808983710109906,
          9.825793449422205,
          9.842603188734504,
          9.859412928046803,
          9.876222667359102,
          9.8930324066714,
          9.9098421459837,
          9.926651885295998,
          9.943461624608297,
          9.960271363920596,
          9.977081103232894,
          9.993890842545193,
          10.010700581857492,
          10.02751032116979,
          10.04432006048209,
          10.061129799794388,
          10.077939539106687,
          10.094749278418986,
          10.111559017731285,
          10.128368757043583,
          10.145178496355882,
          10.161988235668183,
          10.178797974980482,
          10.19560771429278,
          10.21241745360508,
          10.229227192917376,
          10.246036932229675,
          10.262846671541974,
          10.279656410854274,
          10.296466150166573,
          10.313275889478872,
          10.33008562879117,
          10.34689536810347,
          10.363705107415768,
          10.380514846728067,
          10.397324586040366,
          10.414134325352665,
          10.430944064664963,
          10.447753803977262,
          10.464563543289561,
          10.48137328260186,
          10.498183021914159,
          10.514992761226457,
          10.531802500538756,
          10.548612239851055,
          10.565421979163354,
          10.582231718475654,
          10.599041457787953,
          10.615851197100252,
          10.63266093641255,
          10.64947067572485,
          10.666280415037148,
          10.683090154349447,
          10.699899893661746,
          10.716709632974045,
          10.733519372286343,
          10.750329111598642,
          10.767138850910941,
          10.78394859022324,
          10.800758329535537
         ],
         "xaxis": "x",
         "y": [
          0.18869536160623784,
          0.1906205854773475,
          0.19251412552861236,
          0.19437470961747594,
          0.1962010827295045,
          0.19799200852362153,
          0.19974627086390878,
          0.2014626753352874,
          0.20314005074040783,
          0.2047772505750846,
          0.20637315447964813,
          0.20792666966359885,
          0.20943673230100018,
          0.21090230889407124,
          0.21232239760250227,
          0.21369602953605724,
          0.21502227000809224,
          0.21630021974768074,
          0.2175290160681079,
          0.21870783398956767,
          0.21983588731398293,
          0.22091242964994678,
          0.2219367553858798,
          0.22290820060959007,
          0.22382614397252007,
          0.224690007497073,
          0.22549925732551554,
          0.2262534044090626,
          0.2269520051358695,
          0.22759466189677227,
          0.2281810235877331,
          0.22871078604807996,
          0.22918369243374348,
          0.22959953352483248,
          0.22995814796700792,
          0.23025942244625186,
          0.23050329179675666,
          0.2306897390417899,
          0.23081879536752256,
          0.23089054002994222,
          0.2309051001951,
          0.2308626507130725,
          0.23076341382614907,
          0.23060765881188555,
          0.23039570156178263,
          0.23012790409648481,
          0.22980467401850424,
          0.2294264639036023,
          0.22899377063207438,
          0.22850713466129374,
          0.2279671392409864,
          0.22737440957280744,
          0.22672961191589605,
          0.2260334526401809,
          0.22528667722930162,
          0.22449006923510098,
          0.22364444918572282,
          0.2227506734494335,
          0.22180963305635204,
          0.22082225248034765,
          0.21978948838341944,
          0.21871232832493415,
          0.21759178943814536,
          0.21642891707646378,
          0.21522478343198612,
          0.21398048612882437,
          0.21269714679380097,
          0.21137590960710134,
          0.21001793983548253,
          0.208624422350655,
          0.20719656013544818,
          0.20573557278037266,
          0.2042426949731829,
          0.20271917498402675,
          0.2011662731487494,
          0.19958526035289467,
          0.19797741651891299,
          0.19634402909904897,
          0.1946863915763434,
          0.19300580197613007,
          0.19130356139036622,
          0.18958097251707157,
          0.18783933821709253,
          0.18607996009034694,
          0.18430413707363194,
          0.18251316406200585,
          0.18070833055568347,
          0.17889091933429851,
          0.17706220516031168,
          0.17522345351325366,
          0.17337591935640612,
          0.17152084593743694,
          0.16965946362441184,
          0.16779298877851243,
          0.1659226226646972,
          0.16404955040144592,
          0.16217493995063134,
          0.16029994114846557,
          0.15842568477837163,
          0.15655328168653104,
          0.15468382194076571,
          0.15281837403330853,
          0.15095798412792946,
          0.14910367535177982,
          0.14725644713223113,
          0.14541727457888495,
          0.1435871079108451,
          0.14176687192924892,
          0.13995746553496982,
          0.13815976129131702,
          0.1363746050314721,
          0.13460281551032838,
          0.13284518410031135,
          0.13110247453069201,
          0.129375422669825,
          0.12766473634967904,
          0.12597109523195885,
          0.12429515071505247,
          0.1226375258809816,
          0.12099881548147369,
          0.11937958596222088,
          0.11778037552434346,
          0.1162016942220268,
          0.11464402409525937,
          0.113107819336561,
          0.11159350649055254,
          0.11010148468518899,
          0.10863212589344866,
          0.10718577522424437,
          0.10576275124130326,
          0.10436334630874514,
          0.10298782696206867,
          0.10163643430325144,
          0.10030938441865643,
          0.09900686881843236,
          0.09772905489609893,
          0.09647608640700166,
          0.09524808396433233,
          0.09404514555141145,
          0.09286734704894536,
          0.09171474277597587,
          0.09058736604326129,
          0.0894852297178395,
          0.08840832679754643,
          0.08735663099428312,
          0.08633009732484663,
          0.0853286627081676,
          0.08435224656782243,
          0.08340075143871525,
          0.08247406357685727,
          0.08157205357119908,
          0.08069457695650668,
          0.07984147482630204,
          0.07901257444492465,
          0.07820768985780674,
          0.07742662249908673,
          0.07666916179572535,
          0.07593508576732179,
          0.07522416162086788,
          0.07453614633971069,
          0.07387078726603465,
          0.07322782267620988,
          0.07260698234838937,
          0.07200798812177578,
          0.07143055444701428,
          0.07087438892720373,
          0.07033919284905331,
          0.06982466170374874,
          0.06933048569712388,
          0.06885635024876899,
          0.06840193647973876,
          0.0679669216885562,
          0.06755097981523907,
          0.06715378189310588,
          0.06677499648814848,
          0.06641429012578665,
          0.06607132770484704,
          0.06574577289863577,
          0.06543728854300007,
          0.06514553701129765,
          0.064870180576217,
          0.06461088175841326,
          0.06436730366194668,
          0.06413911029653029,
          0.06392596688661249,
          0.06372754016733949,
          0.06354349866745855,
          0.06337351297924002,
          0.06321725601551134,
          0.06307440325391009,
          0.06294463296847679,
          0.06282762644872059,
          0.06272306820630293,
          0.06263064616949396,
          0.06255005186556785,
          0.06248098059131096,
          0.0624231315718264,
          0.06237620810782502,
          0.062339917711600946,
          0.06231397223189561,
          0.06229808796785999,
          0.062291985772329674,
          0.062295391144633505,
          0.062308034313158116,
          0.06232965030789712,
          0.062359979023214704,
          0.062398765271057983,
          0.06244575882485359,
          0.06250071445432714,
          0.06256339195148523,
          0.06263355614800163,
          0.06271097692425114,
          0.06279542921023397,
          0.06288669297863649,
          0.0629845532302731,
          0.06308879997215584,
          0.06319922818843757,
          0.06331563780447555,
          0.06343783364426218,
          0.06356562538146966,
          0.06369882748435518,
          0.0638372591547732,
          0.06398074426154117,
          0.06412911126840472,
          0.06428219315684819,
          0.06443982734399538,
          0.06460185559584639,
          0.06476812393609353,
          0.06493848255076155,
          0.06511278568891464,
          0.06529089155967276,
          0.06547266222578006,
          0.06565796349396522,
          0.0658466648023353,
          0.06603863910504135,
          0.06623376275445485,
          0.06643191538109199,
          0.06663297977152143,
          0.06683684174449121,
          0.06704339002550687,
          0.06725251612009375,
          0.06746411418597231,
          0.0676780809043757,
          0.06789431535073522,
          0.06811271886495761,
          0.06833319492151643,
          0.06855564899957599,
          0.06877998845336529,
          0.06900612238301404,
          0.06923396150606338,
          0.06946341802985619,
          0.0696944055250126,
          0.06992683880018935,
          0.07016063377831944,
          0.07039570737452398,
          0.07063197737588321,
          0.07086936232324981,
          0.07110778139528195,
          0.07134715429486917,
          0.07158740113811812,
          0.07182844234606063,
          0.07207019853923953,
          0.07231259043532266,
          0.07255553874988917,
          0.0727989641005255,
          0.07304278691436153,
          0.0732869273391722,
          0.07353130515816084,
          0.07377583970853444,
          0.07402044980397463,
          0.07426505366109853,
          0.07450956882999854,
          0.07475391212894064,
          0.07499799958329427,
          0.07524174636875756,
          0.07548506675893617,
          0.07572787407732313,
          0.07597008065372134,
          0.0762115977851413,
          0.0764523357011986,
          0.07669220353402836,
          0.0769311092927248,
          0.07716895984230722,
          0.07740566088720506,
          0.0776411169592468,
          0.0778752314101306,
          0.0781079064083457,
          0.07833904294050818,
          0.07856854081706387,
          0.07879629868230797,
          0.07902221402866148,
          0.07924618321513792,
          0.07946810148992811,
          0.07968786301702416,
          0.07990536090679637,
          0.08012048725043293,
          0.08033313315814491,
          0.08054318880103443,
          0.08075054345651872,
          0.08095508555719748,
          0.08115670274304711,
          0.08135528191682027,
          0.08155070930252653,
          0.08174287050686412,
          0.08193165058347242,
          0.08211693409986824,
          0.08229860520693091,
          0.08247654771079227,
          0.08265064514699344,
          0.0828207808567621,
          0.0829868380652654,
          0.08314869996169272,
          0.08330624978102094,
          0.08345937088731505,
          0.08360794685841517,
          0.0837518615718648,
          0.08389099929193054,
          0.08402524475756915,
          0.08415448327119592,
          0.08427860078810945,
          0.08439748400643249,
          0.08451102045742592,
          0.08461909859603929,
          0.08472160789156001,
          0.08481843891822874,
          0.08490948344568862,
          0.08499463452914147,
          0.0850737865990845,
          0.08514683555050684,
          0.085213678831426,
          0.08527421553065098,
          0.08532834646465862,
          0.08537597426347796,
          0.0854170034554764,
          0.08545134055094997,
          0.08547889412442021,
          0.08549957489554748,
          0.08551329580857149,
          0.08551997211019646,
          0.08551952142584165,
          0.08551186383418086,
          0.08549692193990074,
          0.08547462094461067,
          0.08544488871584062,
          0.08540765585406837,
          0.08536285575772107,
          0.0853104246860994,
          0.08525030182017722,
          0.08518242932123313,
          0.08510675238727315,
          0.08502321930720842,
          0.08493178151275413,
          0.08483239362802017,
          0.08472501351676597,
          0.08460960232729617,
          0.08448612453497542,
          0.08435454798234461,
          0.08421484391682217,
          0.08406698702597815,
          0.083910955470368,
          0.08374673091392004,
          0.08357429855186671,
          0.08339364713621748,
          0.08320476899876758,
          0.08300766007164281,
          0.08280231990537898,
          0.0825887516845373,
          0.08236696224085875,
          0.0821369620639592,
          0.0818987653095712,
          0.08165238980533635,
          0.08139785705415485,
          0.08113519223509798,
          0.08086442420189162,
          0.08058558547897722,
          0.08029871225515899,
          0.08000384437484483,
          0.07970102532689062,
          0.07939030223105584,
          0.07907172582207951,
          0.07874535043138668,
          0.0784112339664339,
          0.07806943788770322,
          0.07772002718335581,
          0.07736307034155361,
          0.0769986393204598,
          0.07662680951592923,
          0.0762476597268983,
          0.07586127211848659,
          0.07546773218282055,
          0.07506712869759279,
          0.07465955368236793,
          0.07424510235264882,
          0.07382387307171769,
          0.07339596730026583,
          0.07296148954382825,
          0.07252054729803918,
          0.07207325099172754,
          0.07161971392786975,
          0.07116005222242183,
          0.0706943847410514,
          0.07022283303379419,
          0.06974552126765939,
          0.06926257615721136,
          0.06877412689315676,
          0.068280305068968,
          0.06778124460557611,
          0.0672770816741692,
          0.06676795461713382,
          0.06625400386718062,
          0.06573537186469618,
          0.06521220297336798,
          0.06468464339413055,
          0.06415284107748452,
          0.06361694563424225,
          0.06307710824475839,
          0.06253348156670513,
          0.061986219641455925,
          0.0614354777991432,
          0.060881412562461906,
          0.06032418154928919,
          0.05976394337419754,
          0.059200857548939854,
          0.058635084381989167,
          0.05806678487721673,
          0.057496120631797334,
          0.05692325373343318,
          0.05634834665698856,
          0.055771562160632955,
          0.05519306318159097,
          0.05461301273160061,
          0.054031573792183804,
          0.05344890920983465,
          0.052865181591233976,
          0.05228055319860018,
          0.05169518584528655,
          0.0511092407917398,
          0.05052287864193303,
          0.0499362592403891,
          0.04934954156990959,
          0.048762883650127466,
          0.0481764424370005,
          0.04759037372336123,
          0.04700483204064296,
          0.04641997056189696,
          0.045835941006218316,
          0.04525289354469507,
          0.04467097670799491,
          0.04409033729570268,
          0.043511120287519814,
          0.04293346875643422,
          0.042357523783968155,
          0.04178342437760917,
          0.04121130739052428,
          0.04064130744365764,
          0.04007355685030667,
          0.03950818554326873,
          0.03894532100464685,
          0.03838508819839838,
          0.037827609505707384,
          0.03727300466325675,
          0.036721390704470364,
          0.036172881903792954,
          0.035627589724067765,
          0.03508562276707048,
          0.03454708672724872,
          0.034012084348713244,
          0.033480715385522726,
          0.03295307656529395,
          0.0324292615561691,
          0.03190936093716074,
          0.03139346217189411,
          0.030881649585755958,
          0.030374004346456703,
          0.029870604448004396,
          0.02937152469808488,
          0.028876836708834883,
          0.028386608890989807,
          0.027900906451382795,
          0.027419791393764045,
          0.026943322522905416,
          0.026471555451948736,
          0.026004542612951573,
          0.0255423332705779,
          0.02508497353887661,
          0.024632506401085767,
          0.024184971732395297,
          0.023742406325596585,
          0.02330484391954168,
          0.022872315230333333,
          0.02244484798515953,
          0.022022466958684934,
          0.021605194011906918,
          0.021193048133381204,
          0.02078604548271791,
          0.02038419943624734,
          0.01998752063475111,
          0.019596017033153126,
          0.01920969395206135,
          0.018828554131050845
         ],
         "yaxis": "y"
        },
        {
         "legendgroup": "Agent 7",
         "marker": {
          "color": "rgb(255, 127, 14)"
         },
         "mode": "lines",
         "name": "Agent 7",
         "showlegend": false,
         "type": "scatter",
         "x": [
          1.5,
          1.5158980263157895,
          1.531796052631579,
          1.5476940789473683,
          1.5635921052631578,
          1.5794901315789474,
          1.5953881578947369,
          1.6112861842105264,
          1.6271842105263157,
          1.6430822368421052,
          1.6589802631578947,
          1.6748782894736842,
          1.6907763157894737,
          1.7066743421052633,
          1.7225723684210525,
          1.738470394736842,
          1.7543684210526316,
          1.770266447368421,
          1.7861644736842104,
          1.8020625,
          1.8179605263157894,
          1.833858552631579,
          1.8497565789473684,
          1.865654605263158,
          1.8815526315789475,
          1.8974506578947368,
          1.9133486842105263,
          1.9292467105263158,
          1.945144736842105,
          1.9610427631578946,
          1.9769407894736841,
          1.9928388157894736,
          2.008736842105263,
          2.0246348684210527,
          2.040532894736842,
          2.0564309210526317,
          2.0723289473684208,
          2.0882269736842103,
          2.104125,
          2.1200230263157893,
          2.135921052631579,
          2.1518190789473683,
          2.167717105263158,
          2.1836151315789474,
          2.199513157894737,
          2.2154111842105264,
          2.231309210526316,
          2.2472072368421054,
          2.263105263157895,
          2.279003289473684,
          2.2949013157894735,
          2.310799342105263,
          2.3266973684210526,
          2.342595394736842,
          2.3584934210526316,
          2.374391447368421,
          2.39028947368421,
          2.4061874999999997,
          2.422085526315789,
          2.4379835526315787,
          2.4538815789473682,
          2.4697796052631578,
          2.4856776315789473,
          2.501575657894737,
          2.5174736842105263,
          2.533371710526316,
          2.5492697368421053,
          2.565167763157895,
          2.5810657894736844,
          2.5969638157894734,
          2.6128618421052634,
          2.6287598684210525,
          2.644657894736842,
          2.6605559210526315,
          2.676453947368421,
          2.69235197368421,
          2.70825,
          2.724148026315789,
          2.7400460526315786,
          2.755944078947368,
          2.7718421052631577,
          2.787740131578947,
          2.8036381578947367,
          2.819536184210526,
          2.8354342105263157,
          2.8513322368421052,
          2.8672302631578948,
          2.8831282894736843,
          2.899026315789474,
          2.9149243421052633,
          2.930822368421053,
          2.9467203947368423,
          2.9626184210526314,
          2.9785164473684214,
          2.9944144736842104,
          3.0103125,
          3.0262105263157895,
          3.0421085526315785,
          3.058006578947368,
          3.0739046052631576,
          3.089802631578947,
          3.1057006578947366,
          3.121598684210526,
          3.1374967105263156,
          3.153394736842105,
          3.1692927631578947,
          3.185190789473684,
          3.2010888157894737,
          3.216986842105263,
          3.2328848684210527,
          3.2487828947368422,
          3.2646809210526317,
          3.280578947368421,
          3.2964769736842103,
          3.312375,
          3.3282730263157894,
          3.3441710526315784,
          3.3600690789473684,
          3.3759671052631575,
          3.391865131578947,
          3.4077631578947365,
          3.423661184210526,
          3.4395592105263155,
          3.455457236842105,
          3.4713552631578946,
          3.487253289473684,
          3.5031513157894736,
          3.519049342105263,
          3.5349473684210526,
          3.550845394736842,
          3.566743421052631,
          3.5826414473684207,
          3.5985394736842102,
          3.6144375,
          3.6303355263157893,
          3.646233552631579,
          3.6621315789473683,
          3.678029605263158,
          3.693927631578947,
          3.709825657894737,
          3.7257236842105264,
          3.741621710526316,
          3.757519736842105,
          3.7734177631578945,
          3.789315789473684,
          3.8052138157894735,
          3.821111842105263,
          3.8370098684210525,
          3.852907894736842,
          3.868805921052631,
          3.8847039473684206,
          3.9006019736842106,
          3.9165,
          3.932398026315789,
          3.9482960526315787,
          3.964194078947368,
          3.9800921052631577,
          3.9959901315789472,
          4.011888157894736,
          4.027786184210527,
          4.043684210526315,
          4.059582236842105,
          4.075480263157894,
          4.091378289473685,
          4.107276315789473,
          4.123174342105263,
          4.139072368421052,
          4.154970394736842,
          4.1708684210526314,
          4.186766447368421,
          4.2026644736842105,
          4.2185625,
          4.2344605263157895,
          4.250358552631578,
          4.2662565789473685,
          4.282154605263158,
          4.298052631578948,
          4.313950657894736,
          4.329848684210527,
          4.345746710526315,
          4.361644736842106,
          4.377542763157894,
          4.393440789473685,
          4.409338815789473,
          4.425236842105263,
          4.441134868421052,
          4.457032894736843,
          4.472930921052631,
          4.488828947368421,
          4.50472697368421,
          4.520625,
          4.536523026315789,
          4.552421052631579,
          4.568319078947368,
          4.584217105263157,
          4.6001151315789475,
          4.616013157894736,
          4.6319111842105265,
          4.647809210526315,
          4.6637072368421055,
          4.679605263157894,
          4.695503289473685,
          4.711401315789473,
          4.727299342105263,
          4.743197368421052,
          4.759095394736843,
          4.774993421052631,
          4.790891447368421,
          4.80678947368421,
          4.822687499999999,
          4.838585526315789,
          4.854483552631579,
          4.870381578947368,
          4.886279605263157,
          4.902177631578947,
          4.918075657894736,
          4.933973684210526,
          4.949871710526315,
          4.965769736842105,
          4.981667763157894,
          4.9975657894736845,
          5.013463815789473,
          5.0293618421052635,
          5.045259868421052,
          5.061157894736842,
          5.077055921052631,
          5.092953947368421,
          5.10885197368421,
          5.12475,
          5.140648026315789,
          5.156546052631579,
          5.172444078947368,
          5.188342105263157,
          5.204240131578947,
          5.220138157894737,
          5.236036184210526,
          5.251934210526315,
          5.267832236842105,
          5.283730263157894,
          5.299628289473684,
          5.315526315789473,
          5.331424342105263,
          5.347322368421052,
          5.3632203947368415,
          5.379118421052631,
          5.3950164473684215,
          5.41091447368421,
          5.4268125,
          5.442710526315789,
          5.458608552631579,
          5.474506578947368,
          5.490404605263158,
          5.506302631578947,
          5.522200657894737,
          5.538098684210526,
          5.553996710526316,
          5.569894736842105,
          5.585792763157895,
          5.601690789473684,
          5.617588815789473,
          5.633486842105262,
          5.649384868421053,
          5.665282894736841,
          5.681180921052632,
          5.6970789473684205,
          5.71297697368421,
          5.728875,
          5.744773026315789,
          5.7606710526315785,
          5.776569078947368,
          5.792467105263158,
          5.808365131578947,
          5.824263157894737,
          5.840161184210526,
          5.856059210526316,
          5.871957236842105,
          5.887855263157894,
          5.903753289473684,
          5.919651315789474,
          5.935549342105262,
          5.951447368421053,
          5.967345394736841,
          5.983243421052632,
          5.999141447368421,
          6.01503947368421,
          6.0309375,
          6.046835526315789,
          6.062733552631578,
          6.078631578947368,
          6.0945296052631575,
          6.110427631578947,
          6.1263256578947365,
          6.142223684210526,
          6.1581217105263155,
          6.174019736842105,
          6.1899177631578945,
          6.205815789473684,
          6.221713815789474,
          6.237611842105262,
          6.253509868421053,
          6.269407894736841,
          6.285305921052632,
          6.301203947368421,
          6.31710197368421,
          6.333,
          6.348898026315789,
          6.364796052631578,
          6.380694078947369,
          6.396592105263157,
          6.412490131578947,
          6.428388157894736,
          6.444286184210526,
          6.460184210526315,
          6.476082236842105,
          6.4919802631578944,
          6.507878289473684,
          6.5237763157894735,
          6.539674342105262,
          6.5555723684210525,
          6.571470394736842,
          6.5873684210526315,
          6.603266447368421,
          6.61916447368421,
          6.6350625,
          6.650960526315789,
          6.666858552631578,
          6.682756578947369,
          6.698654605263157,
          6.714552631578947,
          6.730450657894736,
          6.746348684210526,
          6.762246710526316,
          6.778144736842105,
          6.794042763157894,
          6.809940789473684,
          6.825838815789473,
          6.841736842105262,
          6.857634868421052,
          6.873532894736842,
          6.8894309210526306,
          6.905328947368421,
          6.92122697368421,
          6.937125,
          6.9530230263157895,
          6.968921052631578,
          6.9848190789473685,
          7.000717105263157,
          7.016615131578947,
          7.032513157894737,
          7.048411184210526,
          7.064309210526316,
          7.080207236842105,
          7.096105263157894,
          7.112003289473684,
          7.127901315789473,
          7.143799342105263,
          7.159697368421052,
          7.175595394736842,
          7.1914934210526305,
          7.207391447368421,
          7.22328947368421,
          7.2391875,
          7.255085526315789,
          7.270983552631578,
          7.286881578947368,
          7.302779605263157,
          7.318677631578947,
          7.334575657894737,
          7.350473684210526,
          7.366371710526315,
          7.382269736842105,
          7.398167763157894,
          7.4140657894736846,
          7.429963815789473,
          7.445861842105263,
          7.461759868421052,
          7.477657894736842,
          7.49355592105263,
          7.509453947368421,
          7.52535197368421,
          7.54125,
          7.557148026315789,
          7.573046052631578,
          7.588944078947368,
          7.604842105263158,
          7.6207401315789465,
          7.636638157894737,
          7.6525361842105255,
          7.668434210526315,
          7.6843322368421045,
          7.700230263157894,
          7.7161282894736845,
          7.732026315789473,
          7.747924342105263,
          7.763822368421052,
          7.779720394736842,
          7.795618421052631,
          7.811516447368421,
          7.82741447368421,
          7.8433125,
          7.859210526315789,
          7.875108552631579,
          7.891006578947368,
          7.906904605263158,
          7.922802631578946,
          7.938700657894737,
          7.954598684210525,
          7.970496710526315,
          7.986394736842105,
          8.002292763157893,
          8.018190789473685,
          8.034088815789474,
          8.049986842105262,
          8.065884868421053,
          8.081782894736842,
          8.097680921052632,
          8.11357894736842,
          8.12947697368421,
          8.145374999999998,
          8.16127302631579,
          8.177171052631579,
          8.193069078947367,
          8.208967105263158,
          8.224865131578946,
          8.240763157894737,
          8.256661184210525,
          8.272559210526314,
          8.288457236842106,
          8.304355263157895,
          8.320253289473683,
          8.336151315789472,
          8.352049342105262,
          8.367947368421053,
          8.383845394736841,
          8.39974342105263,
          8.41564144736842,
          8.43153947368421,
          8.4474375,
          8.463335526315788,
          8.479233552631579,
          8.495131578947369,
          8.511029605263158,
          8.526927631578946,
          8.542825657894737,
          8.558723684210527,
          8.574621710526316,
          8.590519736842104,
          8.606417763157893,
          8.622315789473683,
          8.638213815789474,
          8.654111842105262,
          8.670009868421053,
          8.685907894736841,
          8.701805921052632,
          8.71770394736842,
          8.733601973684209,
          8.7495,
          8.76539802631579,
          8.781296052631578,
          8.797194078947367,
          8.813092105263157,
          8.828990131578948,
          8.844888157894736,
          8.860786184210525,
          8.876684210526314,
          8.892582236842106,
          8.908480263157895,
          8.924378289473683,
          8.940276315789474,
          8.956174342105262,
          8.972072368421053,
          8.987970394736841,
          9.00386842105263,
          9.019766447368422,
          9.03566447368421,
          9.0515625,
          9.067460526315788,
          9.083358552631578,
          9.099256578947369,
          9.115154605263157,
          9.131052631578946,
          9.146950657894736,
          9.162848684210527,
          9.178746710526315,
          9.194644736842104,
          9.210542763157894,
          9.226440789473683,
          9.242338815789473,
          9.258236842105262,
          9.274134868421053,
          9.290032894736843,
          9.305930921052632,
          9.32182894736842,
          9.337726973684209,
          9.353625,
          9.36952302631579,
          9.385421052631578,
          9.401319078947367,
          9.417217105263157,
          9.433115131578948
         ],
         "xaxis": "x",
         "y": [
          0.04162787913202676,
          0.043155161255199644,
          0.04472808332212916,
          0.04634732852514014,
          0.04801355093712948,
          0.04972737316205918,
          0.051489383959358655,
          0.05330013584745745,
          0.05516014269192953,
          0.05706987728397889,
          0.05902976891523487,
          0.06104020095505289,
          0.0631015084367282,
          0.06521397565922936,
          0.06737783381124145,
          0.06959325862447326,
          0.07186036806333108,
          0.07417922005818882,
          0.07654981028959276,
          0.07897207003082389,
          0.0814458640563031,
          0.08397098862336781,
          0.08654716953496008,
          0.08917406029075893,
          0.09185124033425256,
          0.09457821340318615,
          0.09735440599072963,
          0.10017916592459575,
          0.10305176107119322,
          0.10597137817172887,
          0.1089371218169726,
          0.11194801356717149,
          0.11500299122334257,
          0.11810090825589442,
          0.12124053339621126,
          0.1244205503965023,
          0.12763955796285334,
          0.13089606986602856,
          0.13418851523415878,
          0.1375152390310175,
          0.14087450272312374,
          0.14426448513843546,
          0.14768328351889395,
          0.15112891476856405,
          0.15459931689858034,
          0.1580923506695582,
          0.1616058014315677,
          0.16513738116119145,
          0.16868473069460493,
          0.17224542215502558,
          0.17581696157227966,
          0.1793967916916344,
          0.18298229496844223,
          0.1865707967445415,
          0.19015956860176295,
          0.193745831887295,
          0.19732676140508024,
          0.20089948926684026,
          0.20446110889576144,
          0.20800867917533217,
          0.21153922873528716,
          0.21504976036610465,
          0.21853725555301337,
          0.22199867911999907,
          0.22543098397385655,
          0.22883111593792374,
          0.23219601866474482,
          0.2355226386165581,
          0.2388079301021815,
          0.24204886035858286,
          0.245242414665165,
          0.24838560147858837,
          0.2514754575757676,
          0.2545090531925459,
          0.2574834971454491,
          0.2603959419238611,
          0.2632435887399497,
          0.2660236925236859,
          0.2687335668503743,
          0.27137058878820897,
          0.27393220365352244,
          0.27641592966157935,
          0.2788193624609979,
          0.2811401795401432,
          0.2833761444941573,
          0.28552511114161605,
          0.2875850274802037,
          0.2895539394711984,
          0.29142999464302366,
          0.29321144550459477,
          0.2948966527597135,
          0.296484088314297,
          0.2979723380688068,
          0.29936010448883277,
          0.30064620894740485,
          0.301829593833248,
          0.3029093244198467,
          0.3038845904908598,
          0.30475470771811364,
          0.30551911878909316,
          0.30617739428155705,
          0.3067292332836133,
          0.30717446375830326,
          0.30751304265245405,
          0.3077450557502702,
          0.3078707172728479,
          0.3078903692254792,
          0.3078044804953205,
          0.30761364570266136,
          0.3073185838097018,
          0.3069201364913857,
          0.30641926627346594,
          0.3058170544435845,
          0.3051146987417295,
          0.30431351083698677,
          0.3034149135980396,
          0.3024204381653657,
          0.30133172083355325,
          0.30015049975260255,
          0.29887861145747946,
          0.29751798723556644,
          0.2960706493419955,
          0.2945387070731459,
          0.2929243527088644,
          0.2912298573341901,
          0.2894575665515608,
          0.2876098960946404,
          0.28568932735501706,
          0.2836984028331087,
          0.2816397215246611,
          0.27951593425422855,
          0.277329738966996,
          0.275083875990256,
          0.27278112327573467,
          0.27042429163385184,
          0.26801621997082575,
          0.2655597705393445,
          0.2630578242133005,
          0.26051327579683825,
          0.25792902937767703,
          0.2553079937343775,
          0.2526530778068812,
          0.24996718623931172,
          0.2472532150036458,
          0.2445140471124834,
          0.24175254842872415,
          0.23897156357955193,
          0.2361739119816822,
          0.2333623839843835,
          0.23053973713633164,
          0.22770869258188545,
          0.22487193159190802,
          0.22203209223378143,
          0.2191917661847875,
          0.21635349569255272,
          0.21351977068577657,
          0.2106930260379972,
          0.20787563898667263,
          0.20506992670940516,
          0.20227814405867145,
          0.1995024814559902,
          0.1967450629460079,
          0.19400794441058392,
          0.1912931119425215,
          0.1886024803782185,
          0.18593789198811256,
          0.18330111532344726,
          0.18069384421752374,
          0.17811769693928,
          0.17557421549672447,
          0.17306486508745553,
          0.17059103369322523,
          0.16815403181524718,
          0.16575509234671265,
          0.16339537057876044,
          0.16107594433595449,
          0.15879781423713302,
          0.15656190407735027,
          0.1543690613264782,
          0.15222005773993114,
          0.15011559007685565,
          0.14805628092106782,
          0.14604267959993575,
          0.14407526319637107,
          0.1421544376490547,
          0.14028053893601247,
          0.13845383433665512,
          0.13667452376741257,
          0.13494274118612487,
          0.13325855606039227,
          0.1316219748951453,
          0.13003294281475994,
          0.1284913451951241,
          0.12699700934114683,
          0.12554970620529965,
          0.12414915214288534,
          0.12279501069983988,
          0.12148689442899227,
          0.12022436673083542,
          0.11900694371498212,
          0.11783409607862382,
          0.11670525099843458,
          0.11561979403251357,
          0.11457707102908851,
          0.11357639003885177,
          0.11261702322793843,
          0.11169820878869845,
          0.11081915284555467,
          0.10997903135337798,
          0.10917699198594728,
          0.10841215601219562,
          0.10768362015807749,
          0.10699045845201732,
          0.10633172405202596,
          0.1057064510526916,
          0.1051136562703672,
          0.10455234100498964,
          0.10402149277707105,
          0.10352008703850704,
          0.10304708885594195,
          0.10260145456552665,
          0.1021821333979877,
          0.10178806907301416,
          0.10141820136204238,
          0.10107146761859277,
          0.10074680427538274,
          0.1004431483075006,
          0.10015943866098607,
          0.09989461764621788,
          0.09964763229555818,
          0.09941743568475364,
          0.09920298821763208,
          0.09900325887367713,
          0.09881722641809804,
          0.09864388057404759,
          0.0984822231566689,
          0.09833126916868612,
          0.0981900478572756,
          0.09805760373198333,
          0.09793299754347519,
          0.09781530722293098,
          0.09770362878191265,
          0.09759707717255965,
          0.09749478710798162,
          0.09739591384274074,
          0.09729963391333386,
          0.09720514583860557,
          0.09711167078003931,
          0.09701845316190102,
          0.0969247612512212,
          0.09682988769762992,
          0.09673315003307847,
          0.0966338911315038,
          0.09653147962851592,
          0.09642531030121503,
          0.09631480440826806,
          0.0961994099904038,
          0.09607860213151106,
          0.09595188318055572,
          0.09581878293456077,
          0.09567885878292401,
          0.09553169581338117,
          0.09537690687995344,
          0.09521413263325137,
          0.09504304151354302,
          0.09486332970702524,
          0.09467472106577456,
          0.09447696699188846,
          0.09426984628636134,
          0.09405316496327777,
          0.0938267560299377,
          0.09359047923356549,
          0.09334422077528849,
          0.0930878929921034,
          0.09282143400758591,
          0.09254480735212649,
          0.09225800155351238,
          0.0919610296987028,
          0.09165392896767545,
          0.09133676014025044,
          0.091009607076826,
          0.0906725761739839,
          0.09032579579594811,
          0.089969415682903,
          0.08960360633719522,
          0.08922855838846815,
          0.08884448193878905,
          0.08845160588884776,
          0.08805017724632042,
          0.08764046041749893,
          0.08722273648330402,
          0.0867973024607989,
          0.08636447055133584,
          0.08592456737646376,
          0.08547793320273557,
          0.0850249211565479,
          0.08456589643014867,
          0.08410123547994539,
          0.08363132521824058,
          0.08315656219951743,
          0.08267735180238962,
          0.08219410740832146,
          0.08170724957821572,
          0.08121720522795153,
          0.08072440680394768,
          0.08022929145980881,
          0.07973230023509897,
          0.07923387723727343,
          0.0787344688277806,
          0.0782345228133309,
          0.07773448764331196,
          0.07723481161431071,
          0.07673594208268376,
          0.07623832468610162,
          0.07574240257496784,
          0.07524861565460032,
          0.07475739983903647,
          0.07426918631730907,
          0.07378440083301462,
          0.07330346297798049,
          0.0728267855008113,
          0.07235477363108012,
          0.07188782441990513,
          0.07142632609763354,
          0.0709706574493352,
          0.07052118720878396,
          0.07007827347158954,
          0.06964226312811628,
          0.06921349131680775,
          0.06879228089851551,
          0.06837894195240571,
          0.06797377129400077,
          0.06757705201588705,
          0.06718905305160107,
          0.06681002876318304,
          0.0664402185528649,
          0.06607984649933481,
          0.06572912101900022,
          0.06538823455264452,
          0.06505736327784907,
          0.06473666684752669,
          0.06442628815488717,
          0.06412635312512786,
          0.06383697053411613,
          0.0635582318542999,
          0.06329021112805569,
          0.06303296486865138,
          0.0627865319889706,
          0.0625509337581134,
          0.06232617378595364,
          0.062112238035700935,
          0.06190909486447839,
          0.06171669509189059,
          0.061534972096520896,
          0.06136384194025659,
          0.06120320352030178,
          0.06105293874869812,
          0.06091291275913163,
          0.06078297414076133,
          0.060662955198763725,
          0.06055267224124252,
          0.06045192589210849,
          0.060360501429491197,
          0.06027816914919668,
          0.06020468475268147,
          0.06013978975896652,
          0.060083211939868784,
          0.060034665777882155,
          0.059993852945994,
          0.05996046280867747,
          0.05993417294325489,
          0.05991464968078343,
          0.05990154866556943,
          0.05989451543237611,
          0.05989318600034699,
          0.05989718748262645,
          0.05990613871062074,
          0.05991965087180398,
          0.05993732815993883,
          0.059958768436546725,
          0.05998356390243184,
          0.060011301778031254,
          0.06004156499133946,
          0.060073932872127415,
          0.06010798185115666,
          0.06014328616306866,
          0.06017941855161295,
          0.06021595097586556,
          0.06025245531607755,
          0.06028850407778797,
          0.06032367109283109,
          0.06035753221586851,
          0.06038966601507973,
          0.06041965445565188,
          0.060447083574720055,
          0.060471544146424264,
          0.060492632335766114,
          0.060509950339971114,
          0.06052310701608644,
          0.0605317184935741,
          0.06053540877069097,
          0.06053381029348294,
          0.06052656451626087,
          0.06051332244246749,
          0.06049374514489072,
          0.060467504264228276,
          0.06043428248505993,
          0.060393773988338645,
          0.06034568487956988,
          0.06028973359190776,
          0.06022565126345932,
          0.06015318208815302,
          0.060072083639593286,
          0.05998212716739193,
          0.05988309786553627,
          0.05977479511242442,
          0.059657032682271606,
          0.05952963892766218,
          0.05939245693309659,
          0.05924534463945562,
          0.05908817493937825,
          0.05892083574362155,
          0.058743230018546234,
          0.0585552757949416,
          0.05835690614847548,
          0.05814806915212586,
          0.057928727801017606,
          0.05769885991015644,
          0.05745845798561598,
          0.05720752906979667,
          0.05694609456143745,
          0.056674190011116496,
          0.05639186489303466,
          0.05609918235392664,
          0.055796218939993564,
          0.05548306430279909,
          0.055159820885109886,
          0.05482660358770442,
          0.054483539418206064,
          0.05413076712303176,
          0.053768436803571976,
          0.0533967095177447,
          0.053015756868084365,
          0.05262576057754514,
          0.05222691205420845,
          0.05181941194609336,
          0.05140346968727489,
          0.05097930303651335,
          0.05054713760959682,
          0.05010720640659024,
          0.049659749335175835,
          0.04920501273125292,
          0.048743248877951326,
          0.04827471552418636,
          0.047799675403864636,
          0.04731839575681829,
          0.046831147852517206,
          0.046338206517576246,
          0.0458398496680362,
          0.04533635784736253,
          0.04482801377106365,
          0.04431510187878983,
          0.04379790789472742,
          0.043276718397060564,
          0.04275182039722402,
          0.04222350092962146,
          0.04169204665243836,
          0.04115774346012248,
          0.04062087610806192,
          0.04008172784993408,
          0.03954058008815056,
          0.03899771203777264,
          0.03845340040421958,
          0.0379079190750437,
          0.03736153882599656,
          0.03681452704155944,
          0.03626714745006803,
          0.035719659873510896,
          0.03517231999203808,
          0.03462537912317165,
          0.03407908401566807,
          0.033533676657942046,
          0.03298939410092221,
          0.032446468295172504,
          0.03190512594207781,
          0.03136558835886096,
          0.030828071357165872,
          0.030292785134913562,
          0.029759934181112994,
          0.0292297171932819,
          0.02870232700711399,
          0.02817795053800686,
          0.027656768734049146,
          0.027138956540050618,
          0.02662468287218482,
          0.026114110602804764,
          0.025607396554982776,
          0.025104691506319558,
          0.02460614020156376,
          0.024111881373580134
         ],
         "yaxis": "y"
        },
        {
         "legendgroup": "Agent 8",
         "marker": {
          "color": "rgb(44, 160, 44)"
         },
         "mode": "lines",
         "name": "Agent 8",
         "showlegend": false,
         "type": "scatter",
         "x": [
          2.433333333333333,
          2.4358742545538923,
          2.4384151757744514,
          2.440956096995011,
          2.44349701821557,
          2.4460379394361293,
          2.4485788606566885,
          2.4511197818772477,
          2.453660703097807,
          2.4562016243183664,
          2.4587425455389256,
          2.4612834667594847,
          2.463824387980044,
          2.466365309200603,
          2.468906230421162,
          2.471447151641722,
          2.473988072862281,
          2.47652899408284,
          2.4790699153033993,
          2.4816108365239584,
          2.4841517577445176,
          2.486692678965077,
          2.4892336001856363,
          2.4917745214061955,
          2.4943154426267546,
          2.496856363847314,
          2.499397285067873,
          2.5019382062884326,
          2.5044791275089917,
          2.507020048729551,
          2.50956096995011,
          2.512101891170669,
          2.5146428123912283,
          2.517183733611788,
          2.519724654832347,
          2.5222655760529062,
          2.5248064972734654,
          2.5273474184940246,
          2.5298883397145837,
          2.5324292609351433,
          2.5349701821557025,
          2.5375111033762616,
          2.540052024596821,
          2.54259294581738,
          2.545133867037939,
          2.5476747882584987,
          2.550215709479058,
          2.552756630699617,
          2.555297551920176,
          2.5578384731407353,
          2.5603793943612945,
          2.562920315581854,
          2.5654612368024132,
          2.5680021580229724,
          2.5705430792435315,
          2.5730840004640907,
          2.57562492168465,
          2.5781658429052094,
          2.5807067641257686,
          2.5832476853463278,
          2.585788606566887,
          2.588329527787446,
          2.5908704490080052,
          2.593411370228565,
          2.595952291449124,
          2.598493212669683,
          2.6010341338902423,
          2.6035750551108015,
          2.6061159763313606,
          2.60865689755192,
          2.6111978187724794,
          2.6137387399930385,
          2.6162796612135977,
          2.618820582434157,
          2.621361503654716,
          2.6239024248752756,
          2.6264433460958347,
          2.628984267316394,
          2.631525188536953,
          2.634066109757512,
          2.6366070309780714,
          2.639147952198631,
          2.64168887341919,
          2.6442297946397493,
          2.6467707158603084,
          2.6493116370808676,
          2.6518525583014267,
          2.6543934795219863,
          2.6569344007425455,
          2.6594753219631047,
          2.662016243183664,
          2.664557164404223,
          2.667098085624782,
          2.6696390068453417,
          2.672179928065901,
          2.67472084928646,
          2.677261770507019,
          2.6798026917275783,
          2.6823436129481375,
          2.684884534168697,
          2.6874254553892563,
          2.6899663766098154,
          2.6925072978303746,
          2.6950482190509337,
          2.697589140271493,
          2.7001300614920525,
          2.7026709827126116,
          2.705211903933171,
          2.70775282515373,
          2.710293746374289,
          2.7128346675948487,
          2.715375588815408,
          2.717916510035967,
          2.720457431256526,
          2.7229983524770853,
          2.7255392736976445,
          2.7280801949182036,
          2.7306211161387632,
          2.7331620373593224,
          2.7357029585798815,
          2.7382438798004407,
          2.740784801021,
          2.7433257222415595,
          2.7458666434621186,
          2.7484075646826778,
          2.750948485903237,
          2.753489407123796,
          2.7560303283443552,
          2.7585712495649144,
          2.761112170785474,
          2.763653092006033,
          2.7661940132265923,
          2.7687349344471515,
          2.7712758556677106,
          2.77381677688827,
          2.7763576981088294,
          2.7788986193293885,
          2.7814395405499477,
          2.783980461770507,
          2.786521382991066,
          2.789062304211625,
          2.7916032254321848,
          2.794144146652744,
          2.796685067873303,
          2.799225989093862,
          2.8017669103144214,
          2.804307831534981,
          2.80684875275554,
          2.8093896739760993,
          2.8119305951966584,
          2.8144715164172176,
          2.8170124376377768,
          2.8195533588583364,
          2.8220942800788955,
          2.8246352012994547,
          2.827176122520014,
          2.829717043740573,
          2.832257964961132,
          2.8347988861816917,
          2.837339807402251,
          2.83988072862281,
          2.842421649843369,
          2.8449625710639284,
          2.8475034922844875,
          2.8500444135050467,
          2.8525853347256063,
          2.8551262559461654,
          2.8576671771667246,
          2.8602080983872837,
          2.862749019607843,
          2.8652899408284025,
          2.8678308620489616,
          2.870371783269521,
          2.87291270449008,
          2.875453625710639,
          2.8779945469311983,
          2.880535468151758,
          2.883076389372317,
          2.885617310592876,
          2.8881582318134353,
          2.8906991530339945,
          2.8932400742545537,
          2.8957809954751133,
          2.8983219166956724,
          2.9008628379162316,
          2.9034037591367907,
          2.90594468035735,
          2.908485601577909,
          2.9110265227984686,
          2.913567444019028,
          2.916108365239587,
          2.918649286460146,
          2.9211902076807053,
          2.923731128901265,
          2.926272050121824,
          2.928812971342383,
          2.9313538925629423,
          2.9338948137835015,
          2.9364357350040606,
          2.93897665622462,
          2.941517577445179,
          2.9440584986657385,
          2.9465994198862977,
          2.949140341106857,
          2.951681262327416,
          2.9542221835479756,
          2.9567631047685348,
          2.959304025989094,
          2.961844947209653,
          2.9643858684302122,
          2.9669267896507714,
          2.9694677108713305,
          2.97200863209189,
          2.9745495533124493,
          2.9770904745330085,
          2.9796313957535676,
          2.9821723169741268,
          2.9847132381946864,
          2.9872541594152455,
          2.9897950806358047,
          2.992336001856364,
          2.994876923076923,
          2.997417844297482,
          2.9999587655180413,
          3.002499686738601,
          3.00504060795916,
          3.007581529179719,
          3.0101224504002784,
          3.0126633716208375,
          3.0152042928413967,
          3.0177452140619563,
          3.0202861352825154,
          3.0228270565030746,
          3.0253679777236338,
          3.027908898944193,
          3.030449820164752,
          3.032990741385311,
          3.035531662605871,
          3.03807258382643,
          3.040613505046989,
          3.0431544262675487,
          3.045695347488108,
          3.048236268708667,
          3.050777189929226,
          3.0533181111497854,
          3.0558590323703445,
          3.0583999535909037,
          3.060940874811463,
          3.0634817960320224,
          3.0660227172525816,
          3.0685636384731407,
          3.0711045596937,
          3.073645480914259,
          3.0761864021348186,
          3.078727323355378,
          3.081268244575937,
          3.083809165796496,
          3.0863500870170553,
          3.0888910082376144,
          3.0914319294581736,
          3.093972850678733,
          3.0965137718992923,
          3.0990546931198515,
          3.1015956143404106,
          3.10413653556097,
          3.1066774567815294,
          3.1092183780020886,
          3.1117592992226477,
          3.114300220443207,
          3.116841141663766,
          3.119382062884325,
          3.1219229841048843,
          3.1244639053254435,
          3.127004826546003,
          3.1295457477665622,
          3.1320866689871214,
          3.134627590207681,
          3.13716851142824,
          3.1397094326487993,
          3.1422503538693585,
          3.1447912750899176,
          3.147332196310477,
          3.149873117531036,
          3.1524140387515955,
          3.1549549599721547,
          3.157495881192714,
          3.160036802413273,
          3.162577723633832,
          3.1651186448543918,
          3.167659566074951,
          3.17020048729551,
          3.1727414085160692,
          3.1752823297366284,
          3.1778232509571875,
          3.1803641721777467,
          3.182905093398306,
          3.1854460146188655,
          3.1879869358394246,
          3.1905278570599838,
          3.193068778280543,
          3.195609699501102,
          3.1981506207216617,
          3.200691541942221,
          3.20323246316278,
          3.205773384383339,
          3.2083143056038983,
          3.2108552268244575,
          3.2133961480450166,
          3.215937069265576,
          3.2184779904861354,
          3.2210189117066945,
          3.2235598329272537,
          3.2261007541478133,
          3.2286416753683724,
          3.2311825965889316,
          3.2337235178094907,
          3.23626443903005,
          3.238805360250609,
          3.241346281471168,
          3.243887202691728,
          3.246428123912287,
          3.248969045132846,
          3.2515099663534053,
          3.2540508875739644,
          3.256591808794524,
          3.259132730015083,
          3.2616736512356423,
          3.2642145724562015,
          3.2667554936767607,
          3.26929641489732,
          3.271837336117879,
          3.274378257338438,
          3.2769191785589977,
          3.279460099779557,
          3.282001021000116,
          3.284541942220675,
          3.2870828634412343,
          3.289623784661794,
          3.292164705882353,
          3.2947056271029123,
          3.2972465483234714,
          3.2997874695440306,
          3.3023283907645897,
          3.304869311985149,
          3.3074102332057085,
          3.3099511544262676,
          3.312492075646827,
          3.3150329968673864,
          3.3175739180879456,
          3.3201148393085047,
          3.322655760529064,
          3.325196681749623,
          3.327737602970182,
          3.3302785241907413,
          3.3328194454113005,
          3.33536036663186,
          3.3379012878524192,
          3.3404422090729784,
          3.3429831302935376,
          3.3455240515140967,
          3.3480649727346563,
          3.3506058939552155,
          3.3531468151757746,
          3.3556877363963338,
          3.358228657616893,
          3.360769578837452,
          3.3633105000580112,
          3.3658514212785704,
          3.36839234249913,
          3.370933263719689,
          3.3734741849402483,
          3.3760151061608075,
          3.378556027381367,
          3.381096948601926,
          3.3836378698224854,
          3.3861787910430445,
          3.3887197122636037,
          3.391260633484163,
          3.393801554704722,
          3.3963424759252816,
          3.3988833971458408,
          3.4014243183664,
          3.403965239586959,
          3.4065061608075187,
          3.409047082028078,
          3.411588003248637,
          3.414128924469196,
          3.4166698456897553,
          3.4192107669103144,
          3.4217516881308736,
          3.4242926093514328,
          3.4268335305719924,
          3.4293744517925515,
          3.4319153730131107,
          3.43445629423367,
          3.4369972154542294,
          3.4395381366747886,
          3.4420790578953477,
          3.444619979115907,
          3.447160900336466,
          3.449701821557025,
          3.4522427427775844,
          3.4547836639981435,
          3.4573245852187027,
          3.4598655064392623,
          3.4624064276598214,
          3.4649473488803806,
          3.46748827010094,
          3.4700291913214993,
          3.4725701125420585,
          3.4751110337626177,
          3.477651954983177,
          3.480192876203736,
          3.482733797424295,
          3.4852747186448543,
          3.487815639865414,
          3.4903565610859726,
          3.492897482306532,
          3.495438403527092,
          3.4979793247476505,
          3.50052024596821,
          3.5030611671887693,
          3.5056020884093284,
          3.5081430096298876,
          3.5106839308504467,
          3.513224852071006,
          3.515765773291565,
          3.5183066945121246,
          3.520847615732684,
          3.523388536953243,
          3.525929458173802,
          3.5284703793943617,
          3.531011300614921,
          3.53355222183548,
          3.536093143056039,
          3.5386340642765983,
          3.5411749854971575,
          3.5437159067177166,
          3.5462568279382762,
          3.548797749158835,
          3.5513386703793945,
          3.553879591599954,
          3.556420512820513,
          3.5589614340410725,
          3.5615023552616316,
          3.5640432764821908,
          3.56658419770275,
          3.569125118923309,
          3.5716660401438682,
          3.5742069613644274,
          3.5767478825849865,
          3.579288803805546,
          3.5818297250261053,
          3.5843706462466645,
          3.586911567467224,
          3.5894524886877828,
          3.5919934099083424,
          3.5945343311289015,
          3.5970752523494607,
          3.59961617357002,
          3.602157094790579,
          3.604698016011138,
          3.6072389372316973,
          3.609779858452257,
          3.612320779672816,
          3.614861700893375,
          3.617402622113935,
          3.619943543334494,
          3.622484464555053,
          3.6250253857756123,
          3.6275663069961714,
          3.6301072282167306,
          3.6326481494372898,
          3.635189070657849,
          3.6377299918784085,
          3.640270913098967,
          3.642811834319527,
          3.6453527555400864,
          3.647893676760645,
          3.6504345979812047,
          3.652975519201764,
          3.655516440422323,
          3.658057361642882,
          3.6605982828634414,
          3.6631392040840005,
          3.6656801253045597,
          3.668221046525119,
          3.6707619677456784,
          3.6733028889662376,
          3.6758438101867967,
          3.6783847314073563,
          3.6809256526279155,
          3.6834665738484746,
          3.686007495069034,
          3.688548416289593,
          3.691089337510152,
          3.6936302587307113,
          3.6961711799512704,
          3.6987121011718296,
          3.701253022392389
         ],
         "xaxis": "x",
         "y": [
          0.06061759320580958,
          0.0616267590177742,
          0.06265047587937565,
          0.06369013995246983,
          0.06474720465965209,
          0.06582317683107952,
          0.06691961256253175,
          0.06803811280701638,
          0.0691803187247271,
          0.07034790681858069,
          0.07154258388485984,
          0.0727660818106793,
          0.0740201522520158,
          0.07530656122791932,
          0.07662708366820291,
          0.0779834979534009,
          0.07937758048704177,
          0.08081110034133121,
          0.08228581401811626,
          0.0838034603675339,
          0.08536575570700049,
          0.08697438918317049,
          0.08863101841916139,
          0.09033726548873494,
          0.09209471325817473,
          0.09390490213538316,
          0.09576932726415081,
          0.09768943619970631,
          0.09966662709946367,
          0.10170224746042807,
          0.10379759343191826,
          0.10595390972922004,
          0.10817239017041297,
          0.11045417885501443,
          0.11280037199919288,
          0.11521202043821994,
          0.11769013280247334,
          0.12023567936881106,
          0.12284959658441345,
          0.12553279225536432,
          0.1282861513872491,
          0.13111054266000896,
          0.13400682551412535,
          0.1369758578200737,
          0.1400185040977851,
          0.1431356442477384,
          0.14632818275020076,
          0.14959705828418493,
          0.15294325371280804,
          0.1563678063770955,
          0.15987181863576316,
          0.16345646858430782,
          0.16712302088273934,
          0.17087283761767305,
          0.17470738912114545,
          0.17862826466562004,
          0.1826371829520833,
          0.1867360023060524,
          0.1909267304946731,
          0.1952115340769459,
          0.19959274719845949,
          0.20407287974194419,
          0.20865462474536925,
          0.21334086500034236,
          0.21813467874515746,
          0.22303934436902118,
          0.2280583440467456,
          0.23319536622658488,
          0.23845430689785468,
          0.2438392695695055,
          0.24935456389597796,
          0.2550047028923616,
          0.26079439868710247,
          0.2667285567673139,
          0.27281226867900493,
          0.2790508031522865,
          0.28544959562981737,
          0.2920142361853547,
          0.29875045582819487,
          0.30566411119860515,
          0.312761167668884,
          0.32004768087441665,
          0.32752977670908656,
          0.335213629829383,
          0.3431054407216852,
          0.35121141139723566,
          0.35953771978939,
          0.36809049293752405,
          0.3768757790517193,
          0.38589951856170157,
          0.39516751426261143,
          0.40468540067881675,
          0.41445861277523877,
          0.4244923541532807,
          0.43479156487559445,
          0.44536088907032606,
          0.4562046424712369,
          0.467326780055043,
          0.4787308639415344,
          0.4904200317252606,
          0.5023969654100485,
          0.514663861119027,
          0.5272223997533592,
          0.5400737187723293,
          0.5532183852659813,
          0.5666563704888403,
          0.580387026019706,
          0.594409061707858,
          0.6087205255602458,
          0.623318785717543,
          0.6382005146592443,
          0.6533616757691295,
          0.6687975123828941,
          0.68450253942896,
          0.7004705377621849,
          0.716694551277757,
          0.7331668868796045,
          0.749879117363913,
          0.7668220872639129,
          0.783985921687359,
          0.80136003816262,
          0.8189331614936846,
          0.8366933416083759,
          0.8546279743678687,
          0.872723825289412,
          0.8909670561177886,
          0.9093432541651045,
          0.9278374643224305,
          0.9464342236313523,
          0.9651175982883252,
          0.983871222940042,
          1.0026783421141938,
          1.0215218536165476,
          1.0403843537130448,
          1.0592481839039234,
          1.0780954790864625,
          1.0969082168934872,
          1.1156682679863765,
          1.134357447074362,
          1.15295756442605,
          1.171450477634546,
          1.1898181433945887,
          1.2080426690482102,
          1.2261063636553429,
          1.2439917883467462,
          1.261681805719397,
          1.2791596280384,
          1.2964088640150264,
          1.3134135639373028,
          1.3301582629378481,
          1.346628022193181,
          1.3628084678596175,
          1.378685827562846,
          1.394246964271534,
          1.4094794073995027,
          1.4243713809962784,
          1.438911828901854,
          1.453090436758483,
          1.4668976507897487,
          1.480324693275381,
          1.4933635746687428,
          1.5060071023228745,
          1.5182488858099945,
          1.5300833388385893,
          1.5415056777912708,
          1.5525119169255914,
          1.5630988602986247,
          1.5732640904943989,
          1.5830059542509407,
          1.5923235451007938,
          1.601216683155181,
          1.609685892177394,
          1.6177323741055507,
          1.6253579811982177,
          1.6325651859887644,
          1.6393570492453535,
          1.6457371861433296,
          1.6517097308651638,
          1.6572792998502741,
          1.6624509539226249,
          1.6672301595282295,
          1.6716227493173832,
          1.6756348823077247,
          1.6792730038638832,
          1.6825438057278497,
          1.685454186330921,
          1.6880112116135817,
          1.6902220765735954,
          1.692094067755375,
          1.693634526885054,
          1.694850815845941,
          1.6957502831781255,
          1.6963402322740535,
          1.6966278914289608,
          1.6966203858913214,
          1.6963247120438862,
          1.695747713830701,
          1.6948960615297313,
          1.693776232954513,
          1.692394497151693,
          1.6907569006445482,
          1.6888692562556908,
          1.6867371345252502,
          1.6843658577240472,
          1.6817604964446848,
          1.678925868737203,
          1.675866541740125,
          1.6725868357423284,
          1.6690908305964947,
          1.6653823743908052,
          1.6614650942722666,
          1.657342409302674,
          1.6530175452165912,
          1.648493550940288,
          1.64377331672093,
          1.6388595937069506,
          1.6337550148131104,
          1.6284621166975222,
          1.6229833626729249,
          1.6173211663704739,
          1.6114779159717103,
          1.6054559988227353,
          1.5992578262442858,
          1.592885858352145,
          1.586342628704244,
          1.57963076859377,
          1.572753030811668,
          1.5657123127069872,
          1.5585116783795572,
          1.5511543798464735,
          1.5436438770315974,
          1.53598385643605,
          1.528178248356862,
          1.520231242531118,
          1.5121473020934357,
          1.503931175745859,
          1.4955879080507357,
          1.4871228477692344,
          1.4785416541803313,
          1.4698503013276014,
          1.4610550801538227,
          1.45216259849608,
          1.443179778926718,
          1.4341138544381968,
          1.4249723619823242,
          1.4157631338866163,
          1.4064942871825439,
          1.397174210892058,
          1.3878115513299887,
          1.3784151954908153,
          1.3689942525984267,
          1.3595580339073712,
          1.3501160308531057,
          1.340677891657312,
          1.3312533965021007,
          1.3218524313941111,
          1.3124849608457774,
          1.303160999506778,
          1.2938905828834326,
          1.2846837372879527,
          1.275550449162663,
          1.2665006339268654,
          1.2575441044956284,
          1.2486905396207435,
          1.2399494522041485,
          1.2313301577335216,
          1.222841742988249,
          1.2144930351619585,
          1.206292571544808,
          1.1982485699053136,
          1.1903688997072295,
          1.1826610542922193,
          1.1751321241536394,
          1.1677887714208486,
          1.160637205666963,
          1.1536831611460652,
          1.1469318755585578,
          1.1403880704356004,
          1.1340559332254754,
          1.127939101156481,
          1.1220406469422115,
          1.116363066386443,
          1.1109082679357882,
          1.1056775642193193,
          1.1006716656052455,
          1.0958906757956117,
          1.0913340894709553,
          1.087000791987853,
          1.082889061123427,
          1.0789965708522011,
          1.0753203971321754,
          1.071857025668775,
          1.0686023616172975,
          1.0655517411768725,
          1.0626999450215786,
          1.0600412135074089,
          1.0575692635872371,
          1.0552773073597435,
          1.053158072172581,
          1.051203822194809,
          1.0494063813687902,
          1.0477571576475135,
          1.0462471684194254,
          1.0448670670195637,
          1.043607170223007,
          1.042457486614273,
          1.0414077457245394,
          1.040447427827255,
          1.0395657942818237,
          1.0387519183147824,
          1.0379947161279532,
          1.0372829782236972,
          1.036605400838354,
          1.0359506173764796,
          1.0353072297403025,
          1.0346638394510845,
          1.0340090784616867,
          1.033331639562591,
          1.0326203062869246,
          1.0318639822235753,
          1.0310517196513838,
          1.0301727474114417,
          1.0292164979388838,
          1.0281726333800747,
          1.0270310707257537,
          1.0257820058955818,
          1.024415936714458,
          1.022923684726072,
          1.021296415794266,
          1.0195256594479916,
          1.0176033269308662,
          1.0155217279215665,
          1.0132735858965078,
          1.0108520521114863,
          1.0082507181840605,
          1.0054636272635562,
          1.0024852837805767,
          0.9993106617727929,
          0.9959352117885611,
          0.9923548663745958,
          0.9885660441584595,
          0.9845656525409471,
          0.9803510890177412,
          0.9759202411536793,
          0.9712714852368741,
          0.9664036836436208,
          0.9613161809484676,
          0.9560087988171428,
          0.95048182972312,
          0.9447360295314208,
          0.9387726089959751,
          0.9325932242192596,
          0.9261999661251483,
          0.9195953489979418,
          0.9127822981422575,
          0.905764136720073,
          0.8985445718224965,
          0.8911276798349153,
          0.8835178911551175,
          0.8757199743245636,
          0.8677390196334158,
          0.8595804222602074,
          0.8512498650069218,
          0.8427533006901428,
          0.8340969342484237,
          0.8252872046254414,
          0.8163307664876381,
          0.8072344718340897,
          0.7980053515550716,
          0.7886505969944654,
          0.7791775415695443,
          0.7695936425000618,
          0.7599064626965681,
          0.7501236528560431,
          0.7402529338106311,
          0.7303020791731758,
          0.7202788983207647,
          0.7101912197551365,
          0.7000468748761653,
          0.6898536822021578,
          0.6796194320679181,
          0.6693518718288642,
          0.65905869159678,
          0.648747510529977,
          0.6384258636978652,
          0.628101189537272,
          0.6177808179149782,
          0.6074719588083803,
          0.59718169161344,
          0.5869169550865544,
          0.576684537924396,
          0.5664910699834379,
          0.5563430141384234,
          0.5462466587768556,
          0.536208110924455,
          0.5262332899944846,
          0.5163279221519811,
          0.5064975352821275,
          0.49674745455042735,
          0.4870827985408273,
          0.4775084759565732,
          0.46802918286740464,
          0.45864940048563985,
          0.4493733934527286,
          0.44020520861717866,
          0.4311486742840281,
          0.422207399915569,
          0.413384776262708,
          0.4046839759060454,
          0.39610795418566064,
          0.3876594504986022,
          0.37934098994318993,
          0.37115488528941226,
          0.3631032392550375,
          0.3551879470674375,
          0.34741069929154866,
          0.33977298490500735,
          0.3322760946019688,
          0.32492112430791126,
          0.3177089788882412,
          0.3106403760343639,
          0.30371585031157816,
          0.29693575735390415,
          0.2903002781917198,
          0.2838094236988989,
          0.2774630391468544,
          0.27126080885369697,
          0.26520226091741667,
          0.2592867720227852,
          0.2535135723122896,
          0.24788175031216386,
          0.24239025790515684,
          0.23703791534232257,
          0.2318234162866444,
          0.22674533288189008,
          0.22180212084051115,
          0.21699212454492103,
          0.21231358215683874,
          0.20776463072979554,
          0.20334331132019134,
          0.19904757409262883,
          0.19487528341547178,
          0.19082422294280468,
          0.1868921006791634,
          0.18307655402358677,
          0.1793751547896042,
          0.1757854141979604,
          0.17230478783888167,
          0.16893068060080313,
          0.16566045156247128,
          0.16249141884538065,
          0.15942086442349862,
          0.15644603888721972,
          0.15356416615847543,
          0.15077244815390065,
          0.14806806939290762,
          0.14544820154747018,
          0.14291000793040662,
          0.140450647918839,
          0.13806728130950113,
          0.13575707260248748,
          0.13351719520997496,
          0.13134483558640037,
          0.12923719727651461,
          0.12719150487767772,
          0.12520500791270775,
          0.12327498460955104,
          0.12139874558398553,
          0.11957363742152878,
          0.1177970461546971,
          0.11606640063171257,
          0.11437917577274746,
          0.11273289570976293,
          0.11112513680600786,
          0.10955353055122904,
          0.10801576632866808,
          0.10650959404993159,
          0.1050328266538762,
          0.10358334246568004,
          0.1021590874123524,
          0.10075807709102161,
          0.09937839868642036,
          0.09801821273413712,
          0.09667575472632704,
          0.09534933655674005,
          0.09403734780212397,
          0.09273825683725692,
          0.09145061178111119,
          0.09017304127190218,
          0.08890425506907906,
          0.08764304448060925,
          0.0863882826142709,
          0.08513892445201385,
          0.08389400674686187,
          0.08265264774223281,
          0.0814140467140044,
          0.08017748333610956,
          0.07894231687094258,
          0.07770798518634946,
          0.07647400360150525
         ],
         "yaxis": "y"
        },
        {
         "legendgroup": "Agent 6",
         "marker": {
          "color": "rgb(31, 119, 180)",
          "symbol": "line-ns-open"
         },
         "mode": "markers",
         "name": "Agent 6",
         "showlegend": false,
         "type": "scatter",
         "x": [
          6.51487290427258,
          6.163010359536868,
          8.38130714527599,
          3.1275303643724697,
          9.669710409600835,
          3.7548855388051368,
          3.129062209842154,
          8.321753898409758,
          2.99388379204893,
          3.0444104134762635,
          8.830398850161696,
          2.837150127226463,
          8.374269005847953,
          8.50625761435375,
          4.888178913738019,
          3.0216411181244363,
          3.5707656612529,
          9.271446332366349,
          4.441418293936279,
          2.8258426966292136,
          3.643510054844607,
          7.658201892744479,
          7.052300657330666,
          3.052219321148825,
          2.9762845849802373,
          7.388874379733612,
          2.94043321299639,
          3.9644373673036095,
          2.885290148448043,
          3.290362953692115,
          2.7204301075268815,
          2.85034965034965,
          2.7017543859649122,
          3.1367053998632946,
          2.89727463312369,
          6.0556673373574785,
          2.9871441689623506,
          2.7977900552486186,
          9.712099542334096,
          3.3890887290167866,
          2.915525114155251,
          2.9415983606557377,
          3.0860113421550093,
          4.768915223336372,
          5.046645935139938,
          2.67420814479638,
          5.357872340425532,
          9.37143092240599,
          3.1088631984585744,
          2.6296296296296298,
          3.2036036036036037,
          3.085858585858586,
          2.781725888324873,
          3.1552795031055902,
          9.250582541674135,
          3.0559105431309903,
          8.951267633422116,
          7.230549380755796,
          7.8939597315436245,
          7.578415094339623,
          2.4597701149425286,
          2.4126984126984126,
          2.9835640138408306,
          3.4050245098039214,
          3.086061739943873,
          3.418761496014715,
          8.636666666666667,
          8.420199146514936,
          2.894630192502533,
          8.506129384634058,
          2.9026128266033253,
          2.936283185840708,
          3.0884353741496597,
          2.6717948717948716,
          2.7777777777777777,
          9.767200836091273,
          6.718111143103945,
          6.177575947384905,
          6.016748260757537,
          7.778260869565218,
          4.538173302107729,
          2.92979297929793,
          6.229124236252546,
          3.3706070287539935,
          3.152173913043478,
          10.817568068847837,
          3.0330708661417325,
          7.8498670770952845,
          3.1771241830065358,
          2.9012345679012346,
          2.8488372093023258,
          2.864130434782609,
          9.285611952517396,
          3.057798891528108,
          6.898503740648379,
          5.7757554945054945,
          8.074230537115268,
          4.091787439613527,
          7.391904992729035,
          3.2933333333333334
         ],
         "xaxis": "x",
         "y": [
          "Agent 6",
          "Agent 6",
          "Agent 6",
          "Agent 6",
          "Agent 6",
          "Agent 6",
          "Agent 6",
          "Agent 6",
          "Agent 6",
          "Agent 6",
          "Agent 6",
          "Agent 6",
          "Agent 6",
          "Agent 6",
          "Agent 6",
          "Agent 6",
          "Agent 6",
          "Agent 6",
          "Agent 6",
          "Agent 6",
          "Agent 6",
          "Agent 6",
          "Agent 6",
          "Agent 6",
          "Agent 6",
          "Agent 6",
          "Agent 6",
          "Agent 6",
          "Agent 6",
          "Agent 6",
          "Agent 6",
          "Agent 6",
          "Agent 6",
          "Agent 6",
          "Agent 6",
          "Agent 6",
          "Agent 6",
          "Agent 6",
          "Agent 6",
          "Agent 6",
          "Agent 6",
          "Agent 6",
          "Agent 6",
          "Agent 6",
          "Agent 6",
          "Agent 6",
          "Agent 6",
          "Agent 6",
          "Agent 6",
          "Agent 6",
          "Agent 6",
          "Agent 6",
          "Agent 6",
          "Agent 6",
          "Agent 6",
          "Agent 6",
          "Agent 6",
          "Agent 6",
          "Agent 6",
          "Agent 6",
          "Agent 6",
          "Agent 6",
          "Agent 6",
          "Agent 6",
          "Agent 6",
          "Agent 6",
          "Agent 6",
          "Agent 6",
          "Agent 6",
          "Agent 6",
          "Agent 6",
          "Agent 6",
          "Agent 6",
          "Agent 6",
          "Agent 6",
          "Agent 6",
          "Agent 6",
          "Agent 6",
          "Agent 6",
          "Agent 6",
          "Agent 6",
          "Agent 6",
          "Agent 6",
          "Agent 6",
          "Agent 6",
          "Agent 6",
          "Agent 6",
          "Agent 6",
          "Agent 6",
          "Agent 6",
          "Agent 6",
          "Agent 6",
          "Agent 6",
          "Agent 6",
          "Agent 6",
          "Agent 6",
          "Agent 6",
          "Agent 6",
          "Agent 6",
          "Agent 6"
         ],
         "yaxis": "y2"
        },
        {
         "legendgroup": "Agent 7",
         "marker": {
          "color": "rgb(255, 127, 14)",
          "symbol": "line-ns-open"
         },
         "mode": "markers",
         "name": "Agent 7",
         "showlegend": false,
         "type": "scatter",
         "x": [
          3.307588985896575,
          5.472283205268935,
          3.0947611710323573,
          2.788135593220339,
          2.8981900452488687,
          5.412166172106825,
          8.389017411420918,
          5.621125143513203,
          4.59338061465721,
          6.166419019316494,
          5.473035860936217,
          2.981132075471698,
          3.0728155339805827,
          3.388538681948424,
          6.263076583535644,
          3.5575319622012227,
          3.1776223776223778,
          2.886319845857418,
          4.32051282051282,
          2.867313915857605,
          8.397631630456058,
          3.0356633380884452,
          6.540573973280554,
          3.0027210884353743,
          2.9243697478991595,
          3.7531675269826374,
          4.782591571484836,
          2.863501483679525,
          2.990322580645161,
          3.201290322580645,
          2.92722371967655,
          4.521653543307087,
          3.704367816091954,
          7.64963612060003,
          2.971578947368421,
          2.800383877159309,
          5.81008100810081,
          5.626905829596413,
          3.4198552223371252,
          2.9511737089201877,
          6.539588749704562,
          3.206039076376554,
          3.742603550295858,
          3.2843772498200146,
          8.127736215018011,
          3.596765498652291,
          4.852700490998363,
          6.01669877970456,
          2.9129287598944593,
          1.5,
          3.0853199498117942,
          3.1258181818181816,
          8.862353750860288,
          3.075453677172875,
          3.2568351284175643,
          2.7553956834532376,
          5.48849840255591,
          6.063189845474613,
          3.800090252707581,
          2.691729323308271,
          4.097710547833197,
          2.8541666666666665,
          2.8,
          2.6141552511415527,
          3.0300429184549356,
          5.947223074562749,
          3.2030620467365027,
          3.104761904761905,
          3.276950565812984,
          7.203683492496589,
          2.8745910577971645,
          2.980549199084668,
          3.757073170731707,
          3.1636005256241786,
          3.851433185304804,
          3.239782016348774,
          3.3191358024691358,
          2.802941176470588,
          5.473840288074561,
          3.5083544303797467,
          9.449013157894736,
          7.636301016015154,
          7.098224852071006,
          8.06166143305738,
          4.814965986394558,
          3.6165320074580483,
          3.193620178041543,
          3.238503985285101,
          2.934455270150576,
          3.7921321029626034,
          3.3048327137546467,
          3.246886446886447,
          5.450139794967381,
          3.061699650756694,
          8.100199401794615,
          7.95177251659777,
          6.591376146788991,
          8.322694184465243,
          8.919058744993324,
          2.917
         ],
         "xaxis": "x",
         "y": [
          "Agent 7",
          "Agent 7",
          "Agent 7",
          "Agent 7",
          "Agent 7",
          "Agent 7",
          "Agent 7",
          "Agent 7",
          "Agent 7",
          "Agent 7",
          "Agent 7",
          "Agent 7",
          "Agent 7",
          "Agent 7",
          "Agent 7",
          "Agent 7",
          "Agent 7",
          "Agent 7",
          "Agent 7",
          "Agent 7",
          "Agent 7",
          "Agent 7",
          "Agent 7",
          "Agent 7",
          "Agent 7",
          "Agent 7",
          "Agent 7",
          "Agent 7",
          "Agent 7",
          "Agent 7",
          "Agent 7",
          "Agent 7",
          "Agent 7",
          "Agent 7",
          "Agent 7",
          "Agent 7",
          "Agent 7",
          "Agent 7",
          "Agent 7",
          "Agent 7",
          "Agent 7",
          "Agent 7",
          "Agent 7",
          "Agent 7",
          "Agent 7",
          "Agent 7",
          "Agent 7",
          "Agent 7",
          "Agent 7",
          "Agent 7",
          "Agent 7",
          "Agent 7",
          "Agent 7",
          "Agent 7",
          "Agent 7",
          "Agent 7",
          "Agent 7",
          "Agent 7",
          "Agent 7",
          "Agent 7",
          "Agent 7",
          "Agent 7",
          "Agent 7",
          "Agent 7",
          "Agent 7",
          "Agent 7",
          "Agent 7",
          "Agent 7",
          "Agent 7",
          "Agent 7",
          "Agent 7",
          "Agent 7",
          "Agent 7",
          "Agent 7",
          "Agent 7",
          "Agent 7",
          "Agent 7",
          "Agent 7",
          "Agent 7",
          "Agent 7",
          "Agent 7",
          "Agent 7",
          "Agent 7",
          "Agent 7",
          "Agent 7",
          "Agent 7",
          "Agent 7",
          "Agent 7",
          "Agent 7",
          "Agent 7",
          "Agent 7",
          "Agent 7",
          "Agent 7",
          "Agent 7",
          "Agent 7",
          "Agent 7",
          "Agent 7",
          "Agent 7",
          "Agent 7",
          "Agent 7"
         ],
         "yaxis": "y2"
        },
        {
         "legendgroup": "Agent 8",
         "marker": {
          "color": "rgb(44, 160, 44)",
          "symbol": "line-ns-open"
         },
         "mode": "markers",
         "name": "Agent 8",
         "showlegend": false,
         "type": "scatter",
         "x": [
          2.9275653923541247,
          2.9033584647018507,
          3.444962143273151,
          3.2807469414037347,
          3.0274172615184947,
          3.143141153081511,
          3.4348418756815704,
          2.9285714285714284,
          2.9784546805349184,
          2.806122448979592,
          3.1793682990437553,
          3.2674557390093497,
          3.2389006342494713,
          3.0317358892438766,
          3.2814154360546115,
          2.8796133567662565,
          2.936664320900774,
          3.328720700367128,
          3.446078431372549,
          2.945534729878721,
          3.215541401273885,
          3.2971468336812806,
          3.048979591836735,
          3.1193633952254642,
          3.2286654849328946,
          3.0527196652719666,
          3.3939897850100964,
          2.8660714285714284,
          2.8196371398078974,
          2.9800569800569803,
          3.322040072859745,
          2.8348729792147807,
          3.344808743169399,
          2.920134983127109,
          2.8608870967741935,
          3.022696929238985,
          3.367289279547952,
          2.85841144548594,
          2.8499156829679597,
          2.8292079207920793,
          2.999233716475096,
          2.831955922865014,
          3.356156501726122,
          3.2409164131018438,
          2.9393939393939394,
          3.051738761662426,
          3.291956934768841,
          2.856707176193337,
          2.7984848484848484,
          2.8055555555555554,
          2.8623103850641773,
          2.641509433962264,
          3.2449050086355786,
          3.3507082152974506,
          3.091703056768559,
          2.8359133126934983,
          3.053800170794193,
          3.364855570839065,
          3.0716650898770106,
          2.8333333333333335,
          2.8125,
          2.670103092783505,
          2.984341122621055,
          2.794238683127572,
          3.320675105485232,
          3.7037939436129483,
          3.1481967213114754,
          2.953114065780266,
          2.996037296037296,
          3.1130041724617525,
          3.258348512446873,
          2.599388379204893,
          3.2269267364414844,
          3.1745169082125604,
          2.7358024691358023,
          2.8838526912181304,
          3.003302373581011,
          2.8712,
          2.877342419080068,
          3.0916196265740337,
          3.036076460558198,
          2.7869062901155326,
          2.433333333333333,
          3.093891973750631,
          2.870843989769821,
          3.32,
          2.8515057113187954,
          2.6415770609319,
          2.975104895104895,
          3.214032600992204,
          2.8820093457943927,
          3.513581278729628,
          3.047355958958169,
          2.956060606060606,
          3.6040845575062703,
          2.8223819301848048,
          3.0033131943091016,
          3.004486873508353,
          3.0840981856990397,
          3.012770137524558
         ],
         "xaxis": "x",
         "y": [
          "Agent 8",
          "Agent 8",
          "Agent 8",
          "Agent 8",
          "Agent 8",
          "Agent 8",
          "Agent 8",
          "Agent 8",
          "Agent 8",
          "Agent 8",
          "Agent 8",
          "Agent 8",
          "Agent 8",
          "Agent 8",
          "Agent 8",
          "Agent 8",
          "Agent 8",
          "Agent 8",
          "Agent 8",
          "Agent 8",
          "Agent 8",
          "Agent 8",
          "Agent 8",
          "Agent 8",
          "Agent 8",
          "Agent 8",
          "Agent 8",
          "Agent 8",
          "Agent 8",
          "Agent 8",
          "Agent 8",
          "Agent 8",
          "Agent 8",
          "Agent 8",
          "Agent 8",
          "Agent 8",
          "Agent 8",
          "Agent 8",
          "Agent 8",
          "Agent 8",
          "Agent 8",
          "Agent 8",
          "Agent 8",
          "Agent 8",
          "Agent 8",
          "Agent 8",
          "Agent 8",
          "Agent 8",
          "Agent 8",
          "Agent 8",
          "Agent 8",
          "Agent 8",
          "Agent 8",
          "Agent 8",
          "Agent 8",
          "Agent 8",
          "Agent 8",
          "Agent 8",
          "Agent 8",
          "Agent 8",
          "Agent 8",
          "Agent 8",
          "Agent 8",
          "Agent 8",
          "Agent 8",
          "Agent 8",
          "Agent 8",
          "Agent 8",
          "Agent 8",
          "Agent 8",
          "Agent 8",
          "Agent 8",
          "Agent 8",
          "Agent 8",
          "Agent 8",
          "Agent 8",
          "Agent 8",
          "Agent 8",
          "Agent 8",
          "Agent 8",
          "Agent 8",
          "Agent 8",
          "Agent 8",
          "Agent 8",
          "Agent 8",
          "Agent 8",
          "Agent 8",
          "Agent 8",
          "Agent 8",
          "Agent 8",
          "Agent 8",
          "Agent 8",
          "Agent 8",
          "Agent 8",
          "Agent 8",
          "Agent 8",
          "Agent 8",
          "Agent 8",
          "Agent 8",
          "Agent 8"
         ],
         "yaxis": "y2"
        }
       ],
       "layout": {
        "barmode": "overlay",
        "hovermode": "closest",
        "legend": {
         "traceorder": "reversed"
        },
        "template": {
         "data": {
          "bar": [
           {
            "error_x": {
             "color": "#2a3f5f"
            },
            "error_y": {
             "color": "#2a3f5f"
            },
            "marker": {
             "line": {
              "color": "#E5ECF6",
              "width": 0.5
             },
             "pattern": {
              "fillmode": "overlay",
              "size": 10,
              "solidity": 0.2
             }
            },
            "type": "bar"
           }
          ],
          "barpolar": [
           {
            "marker": {
             "line": {
              "color": "#E5ECF6",
              "width": 0.5
             },
             "pattern": {
              "fillmode": "overlay",
              "size": 10,
              "solidity": 0.2
             }
            },
            "type": "barpolar"
           }
          ],
          "carpet": [
           {
            "aaxis": {
             "endlinecolor": "#2a3f5f",
             "gridcolor": "white",
             "linecolor": "white",
             "minorgridcolor": "white",
             "startlinecolor": "#2a3f5f"
            },
            "baxis": {
             "endlinecolor": "#2a3f5f",
             "gridcolor": "white",
             "linecolor": "white",
             "minorgridcolor": "white",
             "startlinecolor": "#2a3f5f"
            },
            "type": "carpet"
           }
          ],
          "choropleth": [
           {
            "colorbar": {
             "outlinewidth": 0,
             "ticks": ""
            },
            "type": "choropleth"
           }
          ],
          "contour": [
           {
            "colorbar": {
             "outlinewidth": 0,
             "ticks": ""
            },
            "colorscale": [
             [
              0,
              "#0d0887"
             ],
             [
              0.1111111111111111,
              "#46039f"
             ],
             [
              0.2222222222222222,
              "#7201a8"
             ],
             [
              0.3333333333333333,
              "#9c179e"
             ],
             [
              0.4444444444444444,
              "#bd3786"
             ],
             [
              0.5555555555555556,
              "#d8576b"
             ],
             [
              0.6666666666666666,
              "#ed7953"
             ],
             [
              0.7777777777777778,
              "#fb9f3a"
             ],
             [
              0.8888888888888888,
              "#fdca26"
             ],
             [
              1,
              "#f0f921"
             ]
            ],
            "type": "contour"
           }
          ],
          "contourcarpet": [
           {
            "colorbar": {
             "outlinewidth": 0,
             "ticks": ""
            },
            "type": "contourcarpet"
           }
          ],
          "heatmap": [
           {
            "colorbar": {
             "outlinewidth": 0,
             "ticks": ""
            },
            "colorscale": [
             [
              0,
              "#0d0887"
             ],
             [
              0.1111111111111111,
              "#46039f"
             ],
             [
              0.2222222222222222,
              "#7201a8"
             ],
             [
              0.3333333333333333,
              "#9c179e"
             ],
             [
              0.4444444444444444,
              "#bd3786"
             ],
             [
              0.5555555555555556,
              "#d8576b"
             ],
             [
              0.6666666666666666,
              "#ed7953"
             ],
             [
              0.7777777777777778,
              "#fb9f3a"
             ],
             [
              0.8888888888888888,
              "#fdca26"
             ],
             [
              1,
              "#f0f921"
             ]
            ],
            "type": "heatmap"
           }
          ],
          "heatmapgl": [
           {
            "colorbar": {
             "outlinewidth": 0,
             "ticks": ""
            },
            "colorscale": [
             [
              0,
              "#0d0887"
             ],
             [
              0.1111111111111111,
              "#46039f"
             ],
             [
              0.2222222222222222,
              "#7201a8"
             ],
             [
              0.3333333333333333,
              "#9c179e"
             ],
             [
              0.4444444444444444,
              "#bd3786"
             ],
             [
              0.5555555555555556,
              "#d8576b"
             ],
             [
              0.6666666666666666,
              "#ed7953"
             ],
             [
              0.7777777777777778,
              "#fb9f3a"
             ],
             [
              0.8888888888888888,
              "#fdca26"
             ],
             [
              1,
              "#f0f921"
             ]
            ],
            "type": "heatmapgl"
           }
          ],
          "histogram": [
           {
            "marker": {
             "pattern": {
              "fillmode": "overlay",
              "size": 10,
              "solidity": 0.2
             }
            },
            "type": "histogram"
           }
          ],
          "histogram2d": [
           {
            "colorbar": {
             "outlinewidth": 0,
             "ticks": ""
            },
            "colorscale": [
             [
              0,
              "#0d0887"
             ],
             [
              0.1111111111111111,
              "#46039f"
             ],
             [
              0.2222222222222222,
              "#7201a8"
             ],
             [
              0.3333333333333333,
              "#9c179e"
             ],
             [
              0.4444444444444444,
              "#bd3786"
             ],
             [
              0.5555555555555556,
              "#d8576b"
             ],
             [
              0.6666666666666666,
              "#ed7953"
             ],
             [
              0.7777777777777778,
              "#fb9f3a"
             ],
             [
              0.8888888888888888,
              "#fdca26"
             ],
             [
              1,
              "#f0f921"
             ]
            ],
            "type": "histogram2d"
           }
          ],
          "histogram2dcontour": [
           {
            "colorbar": {
             "outlinewidth": 0,
             "ticks": ""
            },
            "colorscale": [
             [
              0,
              "#0d0887"
             ],
             [
              0.1111111111111111,
              "#46039f"
             ],
             [
              0.2222222222222222,
              "#7201a8"
             ],
             [
              0.3333333333333333,
              "#9c179e"
             ],
             [
              0.4444444444444444,
              "#bd3786"
             ],
             [
              0.5555555555555556,
              "#d8576b"
             ],
             [
              0.6666666666666666,
              "#ed7953"
             ],
             [
              0.7777777777777778,
              "#fb9f3a"
             ],
             [
              0.8888888888888888,
              "#fdca26"
             ],
             [
              1,
              "#f0f921"
             ]
            ],
            "type": "histogram2dcontour"
           }
          ],
          "mesh3d": [
           {
            "colorbar": {
             "outlinewidth": 0,
             "ticks": ""
            },
            "type": "mesh3d"
           }
          ],
          "parcoords": [
           {
            "line": {
             "colorbar": {
              "outlinewidth": 0,
              "ticks": ""
             }
            },
            "type": "parcoords"
           }
          ],
          "pie": [
           {
            "automargin": true,
            "type": "pie"
           }
          ],
          "scatter": [
           {
            "marker": {
             "colorbar": {
              "outlinewidth": 0,
              "ticks": ""
             }
            },
            "type": "scatter"
           }
          ],
          "scatter3d": [
           {
            "line": {
             "colorbar": {
              "outlinewidth": 0,
              "ticks": ""
             }
            },
            "marker": {
             "colorbar": {
              "outlinewidth": 0,
              "ticks": ""
             }
            },
            "type": "scatter3d"
           }
          ],
          "scattercarpet": [
           {
            "marker": {
             "colorbar": {
              "outlinewidth": 0,
              "ticks": ""
             }
            },
            "type": "scattercarpet"
           }
          ],
          "scattergeo": [
           {
            "marker": {
             "colorbar": {
              "outlinewidth": 0,
              "ticks": ""
             }
            },
            "type": "scattergeo"
           }
          ],
          "scattergl": [
           {
            "marker": {
             "colorbar": {
              "outlinewidth": 0,
              "ticks": ""
             }
            },
            "type": "scattergl"
           }
          ],
          "scattermapbox": [
           {
            "marker": {
             "colorbar": {
              "outlinewidth": 0,
              "ticks": ""
             }
            },
            "type": "scattermapbox"
           }
          ],
          "scatterpolar": [
           {
            "marker": {
             "colorbar": {
              "outlinewidth": 0,
              "ticks": ""
             }
            },
            "type": "scatterpolar"
           }
          ],
          "scatterpolargl": [
           {
            "marker": {
             "colorbar": {
              "outlinewidth": 0,
              "ticks": ""
             }
            },
            "type": "scatterpolargl"
           }
          ],
          "scatterternary": [
           {
            "marker": {
             "colorbar": {
              "outlinewidth": 0,
              "ticks": ""
             }
            },
            "type": "scatterternary"
           }
          ],
          "surface": [
           {
            "colorbar": {
             "outlinewidth": 0,
             "ticks": ""
            },
            "colorscale": [
             [
              0,
              "#0d0887"
             ],
             [
              0.1111111111111111,
              "#46039f"
             ],
             [
              0.2222222222222222,
              "#7201a8"
             ],
             [
              0.3333333333333333,
              "#9c179e"
             ],
             [
              0.4444444444444444,
              "#bd3786"
             ],
             [
              0.5555555555555556,
              "#d8576b"
             ],
             [
              0.6666666666666666,
              "#ed7953"
             ],
             [
              0.7777777777777778,
              "#fb9f3a"
             ],
             [
              0.8888888888888888,
              "#fdca26"
             ],
             [
              1,
              "#f0f921"
             ]
            ],
            "type": "surface"
           }
          ],
          "table": [
           {
            "cells": {
             "fill": {
              "color": "#EBF0F8"
             },
             "line": {
              "color": "white"
             }
            },
            "header": {
             "fill": {
              "color": "#C8D4E3"
             },
             "line": {
              "color": "white"
             }
            },
            "type": "table"
           }
          ]
         },
         "layout": {
          "annotationdefaults": {
           "arrowcolor": "#2a3f5f",
           "arrowhead": 0,
           "arrowwidth": 1
          },
          "autotypenumbers": "strict",
          "coloraxis": {
           "colorbar": {
            "outlinewidth": 0,
            "ticks": ""
           }
          },
          "colorscale": {
           "diverging": [
            [
             0,
             "#8e0152"
            ],
            [
             0.1,
             "#c51b7d"
            ],
            [
             0.2,
             "#de77ae"
            ],
            [
             0.3,
             "#f1b6da"
            ],
            [
             0.4,
             "#fde0ef"
            ],
            [
             0.5,
             "#f7f7f7"
            ],
            [
             0.6,
             "#e6f5d0"
            ],
            [
             0.7,
             "#b8e186"
            ],
            [
             0.8,
             "#7fbc41"
            ],
            [
             0.9,
             "#4d9221"
            ],
            [
             1,
             "#276419"
            ]
           ],
           "sequential": [
            [
             0,
             "#0d0887"
            ],
            [
             0.1111111111111111,
             "#46039f"
            ],
            [
             0.2222222222222222,
             "#7201a8"
            ],
            [
             0.3333333333333333,
             "#9c179e"
            ],
            [
             0.4444444444444444,
             "#bd3786"
            ],
            [
             0.5555555555555556,
             "#d8576b"
            ],
            [
             0.6666666666666666,
             "#ed7953"
            ],
            [
             0.7777777777777778,
             "#fb9f3a"
            ],
            [
             0.8888888888888888,
             "#fdca26"
            ],
            [
             1,
             "#f0f921"
            ]
           ],
           "sequentialminus": [
            [
             0,
             "#0d0887"
            ],
            [
             0.1111111111111111,
             "#46039f"
            ],
            [
             0.2222222222222222,
             "#7201a8"
            ],
            [
             0.3333333333333333,
             "#9c179e"
            ],
            [
             0.4444444444444444,
             "#bd3786"
            ],
            [
             0.5555555555555556,
             "#d8576b"
            ],
            [
             0.6666666666666666,
             "#ed7953"
            ],
            [
             0.7777777777777778,
             "#fb9f3a"
            ],
            [
             0.8888888888888888,
             "#fdca26"
            ],
            [
             1,
             "#f0f921"
            ]
           ]
          },
          "colorway": [
           "#636efa",
           "#EF553B",
           "#00cc96",
           "#ab63fa",
           "#FFA15A",
           "#19d3f3",
           "#FF6692",
           "#B6E880",
           "#FF97FF",
           "#FECB52"
          ],
          "font": {
           "color": "#2a3f5f"
          },
          "geo": {
           "bgcolor": "white",
           "lakecolor": "white",
           "landcolor": "#E5ECF6",
           "showlakes": true,
           "showland": true,
           "subunitcolor": "white"
          },
          "hoverlabel": {
           "align": "left"
          },
          "hovermode": "closest",
          "mapbox": {
           "style": "light"
          },
          "paper_bgcolor": "white",
          "plot_bgcolor": "#E5ECF6",
          "polar": {
           "angularaxis": {
            "gridcolor": "white",
            "linecolor": "white",
            "ticks": ""
           },
           "bgcolor": "#E5ECF6",
           "radialaxis": {
            "gridcolor": "white",
            "linecolor": "white",
            "ticks": ""
           }
          },
          "scene": {
           "xaxis": {
            "backgroundcolor": "#E5ECF6",
            "gridcolor": "white",
            "gridwidth": 2,
            "linecolor": "white",
            "showbackground": true,
            "ticks": "",
            "zerolinecolor": "white"
           },
           "yaxis": {
            "backgroundcolor": "#E5ECF6",
            "gridcolor": "white",
            "gridwidth": 2,
            "linecolor": "white",
            "showbackground": true,
            "ticks": "",
            "zerolinecolor": "white"
           },
           "zaxis": {
            "backgroundcolor": "#E5ECF6",
            "gridcolor": "white",
            "gridwidth": 2,
            "linecolor": "white",
            "showbackground": true,
            "ticks": "",
            "zerolinecolor": "white"
           }
          },
          "shapedefaults": {
           "line": {
            "color": "#2a3f5f"
           }
          },
          "ternary": {
           "aaxis": {
            "gridcolor": "white",
            "linecolor": "white",
            "ticks": ""
           },
           "baxis": {
            "gridcolor": "white",
            "linecolor": "white",
            "ticks": ""
           },
           "bgcolor": "#E5ECF6",
           "caxis": {
            "gridcolor": "white",
            "linecolor": "white",
            "ticks": ""
           }
          },
          "title": {
           "x": 0.05
          },
          "xaxis": {
           "automargin": true,
           "gridcolor": "white",
           "linecolor": "white",
           "ticks": "",
           "title": {
            "standoff": 15
           },
           "zerolinecolor": "white",
           "zerolinewidth": 2
          },
          "yaxis": {
           "automargin": true,
           "gridcolor": "white",
           "linecolor": "white",
           "ticks": "",
           "title": {
            "standoff": 15
           },
           "zerolinecolor": "white",
           "zerolinewidth": 2
          }
         }
        },
        "title": {
         "text": "Movement/Examinations Ratio Hist and Curve Plot"
        },
        "xaxis": {
         "anchor": "y2",
         "domain": [
          0,
          1
         ],
         "zeroline": false
        },
        "yaxis": {
         "anchor": "free",
         "domain": [
          0.35,
          1
         ],
         "position": 0
        },
        "yaxis2": {
         "anchor": "x",
         "domain": [
          0,
          0.25
         ],
         "dtick": 1,
         "showticklabels": false
        }
       }
      }
     },
     "metadata": {},
     "output_type": "display_data"
    }
   ],
   "source": [
    "agent_6_res = [float(r) for r in agent_6_df['Ratio']]\n",
    "agent_7_res = [float(r) for r in agent_7_df['Ratio']]\n",
    "agent_8_res = [float(r) for r in agent_8_df['Ratio']]\n",
    "\n",
    "hist_data = [agent_6_res, agent_7_res, agent_8_res]\n",
    "group_labels = ['Agent 6', 'Agent 7', 'Agent 8']\n",
    "fig_dist = ff.create_distplot(hist_data, group_labels, bin_size=.2)\n",
    "fig_dist.update_layout(title_text='Movement/Examinations Ratio Hist and Curve Plot')\n",
    "fig_dist.show()"
   ]
  },
  {
   "cell_type": "code",
   "execution_count": 41,
   "metadata": {},
   "outputs": [
    {
     "data": {
      "application/vnd.plotly.v1+json": {
       "config": {
        "plotlyServerURL": "https://plot.ly"
       },
       "data": [
        {
         "alignmentgroup": "True",
         "boxpoints": "all",
         "hovertemplate": "Agent=6<br>Ratio=%{y}<extra></extra>",
         "legendgroup": "6",
         "marker": {
          "color": "#636efa"
         },
         "name": "6",
         "notched": false,
         "offsetgroup": "6",
         "orientation": "v",
         "showlegend": true,
         "type": "box",
         "x0": " ",
         "xaxis": "x",
         "y": [
          6.51487290427258,
          6.163010359536868,
          8.38130714527599,
          3.1275303643724697,
          9.669710409600835,
          3.7548855388051368,
          3.129062209842154,
          8.321753898409758,
          2.99388379204893,
          3.0444104134762635,
          8.830398850161696,
          2.837150127226463,
          8.374269005847953,
          8.50625761435375,
          4.888178913738019,
          3.0216411181244363,
          3.5707656612529,
          9.271446332366349,
          4.441418293936279,
          2.8258426966292136,
          3.643510054844607,
          7.658201892744479,
          7.052300657330666,
          3.052219321148825,
          2.9762845849802373,
          7.388874379733612,
          2.94043321299639,
          3.9644373673036095,
          2.885290148448043,
          3.290362953692115,
          2.7204301075268815,
          2.85034965034965,
          2.7017543859649122,
          3.1367053998632946,
          2.89727463312369,
          6.0556673373574785,
          2.9871441689623506,
          2.7977900552486186,
          9.712099542334096,
          3.3890887290167866,
          2.915525114155251,
          2.9415983606557377,
          3.0860113421550093,
          4.768915223336372,
          5.046645935139938,
          2.67420814479638,
          5.357872340425532,
          9.37143092240599,
          3.1088631984585744,
          2.6296296296296298,
          3.2036036036036037,
          3.085858585858586,
          2.781725888324873,
          3.1552795031055902,
          9.250582541674135,
          3.0559105431309903,
          8.951267633422116,
          7.230549380755796,
          7.8939597315436245,
          7.578415094339623,
          2.4597701149425286,
          2.4126984126984126,
          2.9835640138408306,
          3.4050245098039214,
          3.086061739943873,
          3.418761496014715,
          8.636666666666667,
          8.420199146514936,
          2.894630192502533,
          8.506129384634058,
          2.9026128266033253,
          2.936283185840708,
          3.0884353741496597,
          2.6717948717948716,
          2.7777777777777777,
          9.767200836091273,
          6.718111143103945,
          6.177575947384905,
          6.016748260757537,
          7.778260869565218,
          4.538173302107729,
          2.92979297929793,
          6.229124236252546,
          3.3706070287539935,
          3.152173913043478,
          10.817568068847837,
          3.0330708661417325,
          7.8498670770952845,
          3.1771241830065358,
          2.9012345679012346,
          2.8488372093023258,
          2.864130434782609,
          9.285611952517396,
          3.057798891528108,
          6.898503740648379,
          5.7757554945054945,
          8.074230537115268,
          4.091787439613527,
          7.391904992729035,
          3.2933333333333334
         ],
         "y0": " ",
         "yaxis": "y"
        },
        {
         "alignmentgroup": "True",
         "boxpoints": "all",
         "hovertemplate": "Agent=7<br>Ratio=%{y}<extra></extra>",
         "legendgroup": "7",
         "marker": {
          "color": "#EF553B"
         },
         "name": "7",
         "notched": false,
         "offsetgroup": "7",
         "orientation": "v",
         "showlegend": true,
         "type": "box",
         "x0": " ",
         "xaxis": "x",
         "y": [
          3.307588985896575,
          5.472283205268935,
          3.0947611710323573,
          2.788135593220339,
          2.8981900452488687,
          5.412166172106825,
          8.389017411420918,
          5.621125143513203,
          4.59338061465721,
          6.166419019316494,
          5.473035860936217,
          2.981132075471698,
          3.0728155339805827,
          3.388538681948424,
          6.263076583535644,
          3.5575319622012227,
          3.1776223776223778,
          2.886319845857418,
          4.32051282051282,
          2.867313915857605,
          8.397631630456058,
          3.0356633380884452,
          6.540573973280554,
          3.0027210884353743,
          2.9243697478991595,
          3.7531675269826374,
          4.782591571484836,
          2.863501483679525,
          2.990322580645161,
          3.201290322580645,
          2.92722371967655,
          4.521653543307087,
          3.704367816091954,
          7.64963612060003,
          2.971578947368421,
          2.800383877159309,
          5.81008100810081,
          5.626905829596413,
          3.4198552223371252,
          2.9511737089201877,
          6.539588749704562,
          3.206039076376554,
          3.742603550295858,
          3.2843772498200146,
          8.127736215018011,
          3.596765498652291,
          4.852700490998363,
          6.01669877970456,
          2.9129287598944593,
          1.5,
          3.0853199498117942,
          3.1258181818181816,
          8.862353750860288,
          3.075453677172875,
          3.2568351284175643,
          2.7553956834532376,
          5.48849840255591,
          6.063189845474613,
          3.800090252707581,
          2.691729323308271,
          4.097710547833197,
          2.8541666666666665,
          2.8,
          2.6141552511415527,
          3.0300429184549356,
          5.947223074562749,
          3.2030620467365027,
          3.104761904761905,
          3.276950565812984,
          7.203683492496589,
          2.8745910577971645,
          2.980549199084668,
          3.757073170731707,
          3.1636005256241786,
          3.851433185304804,
          3.239782016348774,
          3.3191358024691358,
          2.802941176470588,
          5.473840288074561,
          3.5083544303797467,
          9.449013157894736,
          7.636301016015154,
          7.098224852071006,
          8.06166143305738,
          4.814965986394558,
          3.6165320074580483,
          3.193620178041543,
          3.238503985285101,
          2.934455270150576,
          3.7921321029626034,
          3.3048327137546467,
          3.246886446886447,
          5.450139794967381,
          3.061699650756694,
          8.100199401794615,
          7.95177251659777,
          6.591376146788991,
          8.322694184465243,
          8.919058744993324,
          2.917
         ],
         "y0": " ",
         "yaxis": "y"
        },
        {
         "alignmentgroup": "True",
         "boxpoints": "all",
         "hovertemplate": "Agent=8<br>Ratio=%{y}<extra></extra>",
         "legendgroup": "8",
         "marker": {
          "color": "#00cc96"
         },
         "name": "8",
         "notched": false,
         "offsetgroup": "8",
         "orientation": "v",
         "showlegend": true,
         "type": "box",
         "x0": " ",
         "xaxis": "x",
         "y": [
          2.9275653923541247,
          2.9033584647018507,
          3.444962143273151,
          3.2807469414037347,
          3.0274172615184947,
          3.143141153081511,
          3.4348418756815704,
          2.9285714285714284,
          2.9784546805349184,
          2.806122448979592,
          3.1793682990437553,
          3.2674557390093497,
          3.2389006342494713,
          3.0317358892438766,
          3.2814154360546115,
          2.8796133567662565,
          2.936664320900774,
          3.328720700367128,
          3.446078431372549,
          2.945534729878721,
          3.215541401273885,
          3.2971468336812806,
          3.048979591836735,
          3.1193633952254642,
          3.2286654849328946,
          3.0527196652719666,
          3.3939897850100964,
          2.8660714285714284,
          2.8196371398078974,
          2.9800569800569803,
          3.322040072859745,
          2.8348729792147807,
          3.344808743169399,
          2.920134983127109,
          2.8608870967741935,
          3.022696929238985,
          3.367289279547952,
          2.85841144548594,
          2.8499156829679597,
          2.8292079207920793,
          2.999233716475096,
          2.831955922865014,
          3.356156501726122,
          3.2409164131018438,
          2.9393939393939394,
          3.051738761662426,
          3.291956934768841,
          2.856707176193337,
          2.7984848484848484,
          2.8055555555555554,
          2.8623103850641773,
          2.641509433962264,
          3.2449050086355786,
          3.3507082152974506,
          3.091703056768559,
          2.8359133126934983,
          3.053800170794193,
          3.364855570839065,
          3.0716650898770106,
          2.8333333333333335,
          2.8125,
          2.670103092783505,
          2.984341122621055,
          2.794238683127572,
          3.320675105485232,
          3.7037939436129483,
          3.1481967213114754,
          2.953114065780266,
          2.996037296037296,
          3.1130041724617525,
          3.258348512446873,
          2.599388379204893,
          3.2269267364414844,
          3.1745169082125604,
          2.7358024691358023,
          2.8838526912181304,
          3.003302373581011,
          2.8712,
          2.877342419080068,
          3.0916196265740337,
          3.036076460558198,
          2.7869062901155326,
          2.433333333333333,
          3.093891973750631,
          2.870843989769821,
          3.32,
          2.8515057113187954,
          2.6415770609319,
          2.975104895104895,
          3.214032600992204,
          2.8820093457943927,
          3.513581278729628,
          3.047355958958169,
          2.956060606060606,
          3.6040845575062703,
          2.8223819301848048,
          3.0033131943091016,
          3.004486873508353,
          3.0840981856990397,
          3.012770137524558
         ],
         "y0": " ",
         "yaxis": "y"
        }
       ],
       "layout": {
        "boxmode": "group",
        "legend": {
         "title": {
          "text": "Agent"
         },
         "tracegroupgap": 0
        },
        "margin": {
         "t": 60
        },
        "template": {
         "data": {
          "bar": [
           {
            "error_x": {
             "color": "#2a3f5f"
            },
            "error_y": {
             "color": "#2a3f5f"
            },
            "marker": {
             "line": {
              "color": "#E5ECF6",
              "width": 0.5
             },
             "pattern": {
              "fillmode": "overlay",
              "size": 10,
              "solidity": 0.2
             }
            },
            "type": "bar"
           }
          ],
          "barpolar": [
           {
            "marker": {
             "line": {
              "color": "#E5ECF6",
              "width": 0.5
             },
             "pattern": {
              "fillmode": "overlay",
              "size": 10,
              "solidity": 0.2
             }
            },
            "type": "barpolar"
           }
          ],
          "carpet": [
           {
            "aaxis": {
             "endlinecolor": "#2a3f5f",
             "gridcolor": "white",
             "linecolor": "white",
             "minorgridcolor": "white",
             "startlinecolor": "#2a3f5f"
            },
            "baxis": {
             "endlinecolor": "#2a3f5f",
             "gridcolor": "white",
             "linecolor": "white",
             "minorgridcolor": "white",
             "startlinecolor": "#2a3f5f"
            },
            "type": "carpet"
           }
          ],
          "choropleth": [
           {
            "colorbar": {
             "outlinewidth": 0,
             "ticks": ""
            },
            "type": "choropleth"
           }
          ],
          "contour": [
           {
            "colorbar": {
             "outlinewidth": 0,
             "ticks": ""
            },
            "colorscale": [
             [
              0,
              "#0d0887"
             ],
             [
              0.1111111111111111,
              "#46039f"
             ],
             [
              0.2222222222222222,
              "#7201a8"
             ],
             [
              0.3333333333333333,
              "#9c179e"
             ],
             [
              0.4444444444444444,
              "#bd3786"
             ],
             [
              0.5555555555555556,
              "#d8576b"
             ],
             [
              0.6666666666666666,
              "#ed7953"
             ],
             [
              0.7777777777777778,
              "#fb9f3a"
             ],
             [
              0.8888888888888888,
              "#fdca26"
             ],
             [
              1,
              "#f0f921"
             ]
            ],
            "type": "contour"
           }
          ],
          "contourcarpet": [
           {
            "colorbar": {
             "outlinewidth": 0,
             "ticks": ""
            },
            "type": "contourcarpet"
           }
          ],
          "heatmap": [
           {
            "colorbar": {
             "outlinewidth": 0,
             "ticks": ""
            },
            "colorscale": [
             [
              0,
              "#0d0887"
             ],
             [
              0.1111111111111111,
              "#46039f"
             ],
             [
              0.2222222222222222,
              "#7201a8"
             ],
             [
              0.3333333333333333,
              "#9c179e"
             ],
             [
              0.4444444444444444,
              "#bd3786"
             ],
             [
              0.5555555555555556,
              "#d8576b"
             ],
             [
              0.6666666666666666,
              "#ed7953"
             ],
             [
              0.7777777777777778,
              "#fb9f3a"
             ],
             [
              0.8888888888888888,
              "#fdca26"
             ],
             [
              1,
              "#f0f921"
             ]
            ],
            "type": "heatmap"
           }
          ],
          "heatmapgl": [
           {
            "colorbar": {
             "outlinewidth": 0,
             "ticks": ""
            },
            "colorscale": [
             [
              0,
              "#0d0887"
             ],
             [
              0.1111111111111111,
              "#46039f"
             ],
             [
              0.2222222222222222,
              "#7201a8"
             ],
             [
              0.3333333333333333,
              "#9c179e"
             ],
             [
              0.4444444444444444,
              "#bd3786"
             ],
             [
              0.5555555555555556,
              "#d8576b"
             ],
             [
              0.6666666666666666,
              "#ed7953"
             ],
             [
              0.7777777777777778,
              "#fb9f3a"
             ],
             [
              0.8888888888888888,
              "#fdca26"
             ],
             [
              1,
              "#f0f921"
             ]
            ],
            "type": "heatmapgl"
           }
          ],
          "histogram": [
           {
            "marker": {
             "pattern": {
              "fillmode": "overlay",
              "size": 10,
              "solidity": 0.2
             }
            },
            "type": "histogram"
           }
          ],
          "histogram2d": [
           {
            "colorbar": {
             "outlinewidth": 0,
             "ticks": ""
            },
            "colorscale": [
             [
              0,
              "#0d0887"
             ],
             [
              0.1111111111111111,
              "#46039f"
             ],
             [
              0.2222222222222222,
              "#7201a8"
             ],
             [
              0.3333333333333333,
              "#9c179e"
             ],
             [
              0.4444444444444444,
              "#bd3786"
             ],
             [
              0.5555555555555556,
              "#d8576b"
             ],
             [
              0.6666666666666666,
              "#ed7953"
             ],
             [
              0.7777777777777778,
              "#fb9f3a"
             ],
             [
              0.8888888888888888,
              "#fdca26"
             ],
             [
              1,
              "#f0f921"
             ]
            ],
            "type": "histogram2d"
           }
          ],
          "histogram2dcontour": [
           {
            "colorbar": {
             "outlinewidth": 0,
             "ticks": ""
            },
            "colorscale": [
             [
              0,
              "#0d0887"
             ],
             [
              0.1111111111111111,
              "#46039f"
             ],
             [
              0.2222222222222222,
              "#7201a8"
             ],
             [
              0.3333333333333333,
              "#9c179e"
             ],
             [
              0.4444444444444444,
              "#bd3786"
             ],
             [
              0.5555555555555556,
              "#d8576b"
             ],
             [
              0.6666666666666666,
              "#ed7953"
             ],
             [
              0.7777777777777778,
              "#fb9f3a"
             ],
             [
              0.8888888888888888,
              "#fdca26"
             ],
             [
              1,
              "#f0f921"
             ]
            ],
            "type": "histogram2dcontour"
           }
          ],
          "mesh3d": [
           {
            "colorbar": {
             "outlinewidth": 0,
             "ticks": ""
            },
            "type": "mesh3d"
           }
          ],
          "parcoords": [
           {
            "line": {
             "colorbar": {
              "outlinewidth": 0,
              "ticks": ""
             }
            },
            "type": "parcoords"
           }
          ],
          "pie": [
           {
            "automargin": true,
            "type": "pie"
           }
          ],
          "scatter": [
           {
            "marker": {
             "colorbar": {
              "outlinewidth": 0,
              "ticks": ""
             }
            },
            "type": "scatter"
           }
          ],
          "scatter3d": [
           {
            "line": {
             "colorbar": {
              "outlinewidth": 0,
              "ticks": ""
             }
            },
            "marker": {
             "colorbar": {
              "outlinewidth": 0,
              "ticks": ""
             }
            },
            "type": "scatter3d"
           }
          ],
          "scattercarpet": [
           {
            "marker": {
             "colorbar": {
              "outlinewidth": 0,
              "ticks": ""
             }
            },
            "type": "scattercarpet"
           }
          ],
          "scattergeo": [
           {
            "marker": {
             "colorbar": {
              "outlinewidth": 0,
              "ticks": ""
             }
            },
            "type": "scattergeo"
           }
          ],
          "scattergl": [
           {
            "marker": {
             "colorbar": {
              "outlinewidth": 0,
              "ticks": ""
             }
            },
            "type": "scattergl"
           }
          ],
          "scattermapbox": [
           {
            "marker": {
             "colorbar": {
              "outlinewidth": 0,
              "ticks": ""
             }
            },
            "type": "scattermapbox"
           }
          ],
          "scatterpolar": [
           {
            "marker": {
             "colorbar": {
              "outlinewidth": 0,
              "ticks": ""
             }
            },
            "type": "scatterpolar"
           }
          ],
          "scatterpolargl": [
           {
            "marker": {
             "colorbar": {
              "outlinewidth": 0,
              "ticks": ""
             }
            },
            "type": "scatterpolargl"
           }
          ],
          "scatterternary": [
           {
            "marker": {
             "colorbar": {
              "outlinewidth": 0,
              "ticks": ""
             }
            },
            "type": "scatterternary"
           }
          ],
          "surface": [
           {
            "colorbar": {
             "outlinewidth": 0,
             "ticks": ""
            },
            "colorscale": [
             [
              0,
              "#0d0887"
             ],
             [
              0.1111111111111111,
              "#46039f"
             ],
             [
              0.2222222222222222,
              "#7201a8"
             ],
             [
              0.3333333333333333,
              "#9c179e"
             ],
             [
              0.4444444444444444,
              "#bd3786"
             ],
             [
              0.5555555555555556,
              "#d8576b"
             ],
             [
              0.6666666666666666,
              "#ed7953"
             ],
             [
              0.7777777777777778,
              "#fb9f3a"
             ],
             [
              0.8888888888888888,
              "#fdca26"
             ],
             [
              1,
              "#f0f921"
             ]
            ],
            "type": "surface"
           }
          ],
          "table": [
           {
            "cells": {
             "fill": {
              "color": "#EBF0F8"
             },
             "line": {
              "color": "white"
             }
            },
            "header": {
             "fill": {
              "color": "#C8D4E3"
             },
             "line": {
              "color": "white"
             }
            },
            "type": "table"
           }
          ]
         },
         "layout": {
          "annotationdefaults": {
           "arrowcolor": "#2a3f5f",
           "arrowhead": 0,
           "arrowwidth": 1
          },
          "autotypenumbers": "strict",
          "coloraxis": {
           "colorbar": {
            "outlinewidth": 0,
            "ticks": ""
           }
          },
          "colorscale": {
           "diverging": [
            [
             0,
             "#8e0152"
            ],
            [
             0.1,
             "#c51b7d"
            ],
            [
             0.2,
             "#de77ae"
            ],
            [
             0.3,
             "#f1b6da"
            ],
            [
             0.4,
             "#fde0ef"
            ],
            [
             0.5,
             "#f7f7f7"
            ],
            [
             0.6,
             "#e6f5d0"
            ],
            [
             0.7,
             "#b8e186"
            ],
            [
             0.8,
             "#7fbc41"
            ],
            [
             0.9,
             "#4d9221"
            ],
            [
             1,
             "#276419"
            ]
           ],
           "sequential": [
            [
             0,
             "#0d0887"
            ],
            [
             0.1111111111111111,
             "#46039f"
            ],
            [
             0.2222222222222222,
             "#7201a8"
            ],
            [
             0.3333333333333333,
             "#9c179e"
            ],
            [
             0.4444444444444444,
             "#bd3786"
            ],
            [
             0.5555555555555556,
             "#d8576b"
            ],
            [
             0.6666666666666666,
             "#ed7953"
            ],
            [
             0.7777777777777778,
             "#fb9f3a"
            ],
            [
             0.8888888888888888,
             "#fdca26"
            ],
            [
             1,
             "#f0f921"
            ]
           ],
           "sequentialminus": [
            [
             0,
             "#0d0887"
            ],
            [
             0.1111111111111111,
             "#46039f"
            ],
            [
             0.2222222222222222,
             "#7201a8"
            ],
            [
             0.3333333333333333,
             "#9c179e"
            ],
            [
             0.4444444444444444,
             "#bd3786"
            ],
            [
             0.5555555555555556,
             "#d8576b"
            ],
            [
             0.6666666666666666,
             "#ed7953"
            ],
            [
             0.7777777777777778,
             "#fb9f3a"
            ],
            [
             0.8888888888888888,
             "#fdca26"
            ],
            [
             1,
             "#f0f921"
            ]
           ]
          },
          "colorway": [
           "#636efa",
           "#EF553B",
           "#00cc96",
           "#ab63fa",
           "#FFA15A",
           "#19d3f3",
           "#FF6692",
           "#B6E880",
           "#FF97FF",
           "#FECB52"
          ],
          "font": {
           "color": "#2a3f5f"
          },
          "geo": {
           "bgcolor": "white",
           "lakecolor": "white",
           "landcolor": "#E5ECF6",
           "showlakes": true,
           "showland": true,
           "subunitcolor": "white"
          },
          "hoverlabel": {
           "align": "left"
          },
          "hovermode": "closest",
          "mapbox": {
           "style": "light"
          },
          "paper_bgcolor": "white",
          "plot_bgcolor": "#E5ECF6",
          "polar": {
           "angularaxis": {
            "gridcolor": "white",
            "linecolor": "white",
            "ticks": ""
           },
           "bgcolor": "#E5ECF6",
           "radialaxis": {
            "gridcolor": "white",
            "linecolor": "white",
            "ticks": ""
           }
          },
          "scene": {
           "xaxis": {
            "backgroundcolor": "#E5ECF6",
            "gridcolor": "white",
            "gridwidth": 2,
            "linecolor": "white",
            "showbackground": true,
            "ticks": "",
            "zerolinecolor": "white"
           },
           "yaxis": {
            "backgroundcolor": "#E5ECF6",
            "gridcolor": "white",
            "gridwidth": 2,
            "linecolor": "white",
            "showbackground": true,
            "ticks": "",
            "zerolinecolor": "white"
           },
           "zaxis": {
            "backgroundcolor": "#E5ECF6",
            "gridcolor": "white",
            "gridwidth": 2,
            "linecolor": "white",
            "showbackground": true,
            "ticks": "",
            "zerolinecolor": "white"
           }
          },
          "shapedefaults": {
           "line": {
            "color": "#2a3f5f"
           }
          },
          "ternary": {
           "aaxis": {
            "gridcolor": "white",
            "linecolor": "white",
            "ticks": ""
           },
           "baxis": {
            "gridcolor": "white",
            "linecolor": "white",
            "ticks": ""
           },
           "bgcolor": "#E5ECF6",
           "caxis": {
            "gridcolor": "white",
            "linecolor": "white",
            "ticks": ""
           }
          },
          "title": {
           "x": 0.05
          },
          "xaxis": {
           "automargin": true,
           "gridcolor": "white",
           "linecolor": "white",
           "ticks": "",
           "title": {
            "standoff": 15
           },
           "zerolinecolor": "white",
           "zerolinewidth": 2
          },
          "yaxis": {
           "automargin": true,
           "gridcolor": "white",
           "linecolor": "white",
           "ticks": "",
           "title": {
            "standoff": 15
           },
           "zerolinecolor": "white",
           "zerolinewidth": 2
          }
         }
        },
        "title": {
         "text": "Movement/Examinations Ratio Box Plot"
        },
        "xaxis": {
         "anchor": "y",
         "domain": [
          0,
          1
         ]
        },
        "yaxis": {
         "anchor": "x",
         "domain": [
          0,
          1
         ],
         "title": {
          "text": "Ratio"
         }
        }
       }
      }
     },
     "metadata": {},
     "output_type": "display_data"
    }
   ],
   "source": [
    "box_plot = px.box(results_df, y=\"Ratio\", color=\"Agent\", points='all')\n",
    "box_plot.update_layout(title_text='Movement/Examinations Ratio Box Plot')\n",
    "box_plot.show()"
   ]
  },
  {
   "cell_type": "code",
   "execution_count": 31,
   "metadata": {},
   "outputs": [],
   "source": [
    "plotly.io.write_image(fig_dist, file=\"./images/question_4_histogram.png\", scale=5)\n",
    "plotly.io.write_image(box_plot, file=\"./images/question_4_box.png\", scale=5)"
   ]
  },
  {
   "cell_type": "code",
   "execution_count": 43,
   "metadata": {},
   "outputs": [
    {
     "data": {
      "application/vnd.plotly.v1+json": {
       "config": {
        "plotlyServerURL": "https://plot.ly"
       },
       "data": [
        {
         "autobinx": false,
         "histnorm": "probability density",
         "legendgroup": "Agent 7",
         "marker": {
          "color": "#EF553B"
         },
         "name": "Agent 7",
         "opacity": 0.7,
         "type": "histogram",
         "x": [
          3.307588985896575,
          5.472283205268935,
          3.0947611710323573,
          2.788135593220339,
          2.8981900452488687,
          5.412166172106825,
          8.389017411420918,
          5.621125143513203,
          4.59338061465721,
          6.166419019316494,
          5.473035860936217,
          2.981132075471698,
          3.0728155339805827,
          3.388538681948424,
          6.263076583535644,
          3.5575319622012227,
          3.1776223776223778,
          2.886319845857418,
          4.32051282051282,
          2.867313915857605,
          8.397631630456058,
          3.0356633380884452,
          6.540573973280554,
          3.0027210884353743,
          2.9243697478991595,
          3.7531675269826374,
          4.782591571484836,
          2.863501483679525,
          2.990322580645161,
          3.201290322580645,
          2.92722371967655,
          4.521653543307087,
          3.704367816091954,
          7.64963612060003,
          2.971578947368421,
          2.800383877159309,
          5.81008100810081,
          5.626905829596413,
          3.4198552223371252,
          2.9511737089201877,
          6.539588749704562,
          3.206039076376554,
          3.742603550295858,
          3.2843772498200146,
          8.127736215018011,
          3.596765498652291,
          4.852700490998363,
          6.01669877970456,
          2.9129287598944593,
          1.5,
          3.0853199498117942,
          3.1258181818181816,
          8.862353750860288,
          3.075453677172875,
          3.2568351284175643,
          2.7553956834532376,
          5.48849840255591,
          6.063189845474613,
          3.800090252707581,
          2.691729323308271,
          4.097710547833197,
          2.8541666666666665,
          2.8,
          2.6141552511415527,
          3.0300429184549356,
          5.947223074562749,
          3.2030620467365027,
          3.104761904761905,
          3.276950565812984,
          7.203683492496589,
          2.8745910577971645,
          2.980549199084668,
          3.757073170731707,
          3.1636005256241786,
          3.851433185304804,
          3.239782016348774,
          3.3191358024691358,
          2.802941176470588,
          5.473840288074561,
          3.5083544303797467,
          9.449013157894736,
          7.636301016015154,
          7.098224852071006,
          8.06166143305738,
          4.814965986394558,
          3.6165320074580483,
          3.193620178041543,
          3.238503985285101,
          2.934455270150576,
          3.7921321029626034,
          3.3048327137546467,
          3.246886446886447,
          5.450139794967381,
          3.061699650756694,
          8.100199401794615,
          7.95177251659777,
          6.591376146788991,
          8.322694184465243,
          8.919058744993324,
          2.917
         ],
         "xaxis": "x",
         "xbins": {
          "end": 9.449013157894736,
          "size": 0.2,
          "start": 1.5
         },
         "yaxis": "y"
        },
        {
         "legendgroup": "Agent 7",
         "marker": {
          "color": "#EF553B"
         },
         "mode": "lines",
         "name": "Agent 7",
         "showlegend": false,
         "type": "scatter",
         "x": [
          1.5,
          1.5158980263157895,
          1.531796052631579,
          1.5476940789473683,
          1.5635921052631578,
          1.5794901315789474,
          1.5953881578947369,
          1.6112861842105264,
          1.6271842105263157,
          1.6430822368421052,
          1.6589802631578947,
          1.6748782894736842,
          1.6907763157894737,
          1.7066743421052633,
          1.7225723684210525,
          1.738470394736842,
          1.7543684210526316,
          1.770266447368421,
          1.7861644736842104,
          1.8020625,
          1.8179605263157894,
          1.833858552631579,
          1.8497565789473684,
          1.865654605263158,
          1.8815526315789475,
          1.8974506578947368,
          1.9133486842105263,
          1.9292467105263158,
          1.945144736842105,
          1.9610427631578946,
          1.9769407894736841,
          1.9928388157894736,
          2.008736842105263,
          2.0246348684210527,
          2.040532894736842,
          2.0564309210526317,
          2.0723289473684208,
          2.0882269736842103,
          2.104125,
          2.1200230263157893,
          2.135921052631579,
          2.1518190789473683,
          2.167717105263158,
          2.1836151315789474,
          2.199513157894737,
          2.2154111842105264,
          2.231309210526316,
          2.2472072368421054,
          2.263105263157895,
          2.279003289473684,
          2.2949013157894735,
          2.310799342105263,
          2.3266973684210526,
          2.342595394736842,
          2.3584934210526316,
          2.374391447368421,
          2.39028947368421,
          2.4061874999999997,
          2.422085526315789,
          2.4379835526315787,
          2.4538815789473682,
          2.4697796052631578,
          2.4856776315789473,
          2.501575657894737,
          2.5174736842105263,
          2.533371710526316,
          2.5492697368421053,
          2.565167763157895,
          2.5810657894736844,
          2.5969638157894734,
          2.6128618421052634,
          2.6287598684210525,
          2.644657894736842,
          2.6605559210526315,
          2.676453947368421,
          2.69235197368421,
          2.70825,
          2.724148026315789,
          2.7400460526315786,
          2.755944078947368,
          2.7718421052631577,
          2.787740131578947,
          2.8036381578947367,
          2.819536184210526,
          2.8354342105263157,
          2.8513322368421052,
          2.8672302631578948,
          2.8831282894736843,
          2.899026315789474,
          2.9149243421052633,
          2.930822368421053,
          2.9467203947368423,
          2.9626184210526314,
          2.9785164473684214,
          2.9944144736842104,
          3.0103125,
          3.0262105263157895,
          3.0421085526315785,
          3.058006578947368,
          3.0739046052631576,
          3.089802631578947,
          3.1057006578947366,
          3.121598684210526,
          3.1374967105263156,
          3.153394736842105,
          3.1692927631578947,
          3.185190789473684,
          3.2010888157894737,
          3.216986842105263,
          3.2328848684210527,
          3.2487828947368422,
          3.2646809210526317,
          3.280578947368421,
          3.2964769736842103,
          3.312375,
          3.3282730263157894,
          3.3441710526315784,
          3.3600690789473684,
          3.3759671052631575,
          3.391865131578947,
          3.4077631578947365,
          3.423661184210526,
          3.4395592105263155,
          3.455457236842105,
          3.4713552631578946,
          3.487253289473684,
          3.5031513157894736,
          3.519049342105263,
          3.5349473684210526,
          3.550845394736842,
          3.566743421052631,
          3.5826414473684207,
          3.5985394736842102,
          3.6144375,
          3.6303355263157893,
          3.646233552631579,
          3.6621315789473683,
          3.678029605263158,
          3.693927631578947,
          3.709825657894737,
          3.7257236842105264,
          3.741621710526316,
          3.757519736842105,
          3.7734177631578945,
          3.789315789473684,
          3.8052138157894735,
          3.821111842105263,
          3.8370098684210525,
          3.852907894736842,
          3.868805921052631,
          3.8847039473684206,
          3.9006019736842106,
          3.9165,
          3.932398026315789,
          3.9482960526315787,
          3.964194078947368,
          3.9800921052631577,
          3.9959901315789472,
          4.011888157894736,
          4.027786184210527,
          4.043684210526315,
          4.059582236842105,
          4.075480263157894,
          4.091378289473685,
          4.107276315789473,
          4.123174342105263,
          4.139072368421052,
          4.154970394736842,
          4.1708684210526314,
          4.186766447368421,
          4.2026644736842105,
          4.2185625,
          4.2344605263157895,
          4.250358552631578,
          4.2662565789473685,
          4.282154605263158,
          4.298052631578948,
          4.313950657894736,
          4.329848684210527,
          4.345746710526315,
          4.361644736842106,
          4.377542763157894,
          4.393440789473685,
          4.409338815789473,
          4.425236842105263,
          4.441134868421052,
          4.457032894736843,
          4.472930921052631,
          4.488828947368421,
          4.50472697368421,
          4.520625,
          4.536523026315789,
          4.552421052631579,
          4.568319078947368,
          4.584217105263157,
          4.6001151315789475,
          4.616013157894736,
          4.6319111842105265,
          4.647809210526315,
          4.6637072368421055,
          4.679605263157894,
          4.695503289473685,
          4.711401315789473,
          4.727299342105263,
          4.743197368421052,
          4.759095394736843,
          4.774993421052631,
          4.790891447368421,
          4.80678947368421,
          4.822687499999999,
          4.838585526315789,
          4.854483552631579,
          4.870381578947368,
          4.886279605263157,
          4.902177631578947,
          4.918075657894736,
          4.933973684210526,
          4.949871710526315,
          4.965769736842105,
          4.981667763157894,
          4.9975657894736845,
          5.013463815789473,
          5.0293618421052635,
          5.045259868421052,
          5.061157894736842,
          5.077055921052631,
          5.092953947368421,
          5.10885197368421,
          5.12475,
          5.140648026315789,
          5.156546052631579,
          5.172444078947368,
          5.188342105263157,
          5.204240131578947,
          5.220138157894737,
          5.236036184210526,
          5.251934210526315,
          5.267832236842105,
          5.283730263157894,
          5.299628289473684,
          5.315526315789473,
          5.331424342105263,
          5.347322368421052,
          5.3632203947368415,
          5.379118421052631,
          5.3950164473684215,
          5.41091447368421,
          5.4268125,
          5.442710526315789,
          5.458608552631579,
          5.474506578947368,
          5.490404605263158,
          5.506302631578947,
          5.522200657894737,
          5.538098684210526,
          5.553996710526316,
          5.569894736842105,
          5.585792763157895,
          5.601690789473684,
          5.617588815789473,
          5.633486842105262,
          5.649384868421053,
          5.665282894736841,
          5.681180921052632,
          5.6970789473684205,
          5.71297697368421,
          5.728875,
          5.744773026315789,
          5.7606710526315785,
          5.776569078947368,
          5.792467105263158,
          5.808365131578947,
          5.824263157894737,
          5.840161184210526,
          5.856059210526316,
          5.871957236842105,
          5.887855263157894,
          5.903753289473684,
          5.919651315789474,
          5.935549342105262,
          5.951447368421053,
          5.967345394736841,
          5.983243421052632,
          5.999141447368421,
          6.01503947368421,
          6.0309375,
          6.046835526315789,
          6.062733552631578,
          6.078631578947368,
          6.0945296052631575,
          6.110427631578947,
          6.1263256578947365,
          6.142223684210526,
          6.1581217105263155,
          6.174019736842105,
          6.1899177631578945,
          6.205815789473684,
          6.221713815789474,
          6.237611842105262,
          6.253509868421053,
          6.269407894736841,
          6.285305921052632,
          6.301203947368421,
          6.31710197368421,
          6.333,
          6.348898026315789,
          6.364796052631578,
          6.380694078947369,
          6.396592105263157,
          6.412490131578947,
          6.428388157894736,
          6.444286184210526,
          6.460184210526315,
          6.476082236842105,
          6.4919802631578944,
          6.507878289473684,
          6.5237763157894735,
          6.539674342105262,
          6.5555723684210525,
          6.571470394736842,
          6.5873684210526315,
          6.603266447368421,
          6.61916447368421,
          6.6350625,
          6.650960526315789,
          6.666858552631578,
          6.682756578947369,
          6.698654605263157,
          6.714552631578947,
          6.730450657894736,
          6.746348684210526,
          6.762246710526316,
          6.778144736842105,
          6.794042763157894,
          6.809940789473684,
          6.825838815789473,
          6.841736842105262,
          6.857634868421052,
          6.873532894736842,
          6.8894309210526306,
          6.905328947368421,
          6.92122697368421,
          6.937125,
          6.9530230263157895,
          6.968921052631578,
          6.9848190789473685,
          7.000717105263157,
          7.016615131578947,
          7.032513157894737,
          7.048411184210526,
          7.064309210526316,
          7.080207236842105,
          7.096105263157894,
          7.112003289473684,
          7.127901315789473,
          7.143799342105263,
          7.159697368421052,
          7.175595394736842,
          7.1914934210526305,
          7.207391447368421,
          7.22328947368421,
          7.2391875,
          7.255085526315789,
          7.270983552631578,
          7.286881578947368,
          7.302779605263157,
          7.318677631578947,
          7.334575657894737,
          7.350473684210526,
          7.366371710526315,
          7.382269736842105,
          7.398167763157894,
          7.4140657894736846,
          7.429963815789473,
          7.445861842105263,
          7.461759868421052,
          7.477657894736842,
          7.49355592105263,
          7.509453947368421,
          7.52535197368421,
          7.54125,
          7.557148026315789,
          7.573046052631578,
          7.588944078947368,
          7.604842105263158,
          7.6207401315789465,
          7.636638157894737,
          7.6525361842105255,
          7.668434210526315,
          7.6843322368421045,
          7.700230263157894,
          7.7161282894736845,
          7.732026315789473,
          7.747924342105263,
          7.763822368421052,
          7.779720394736842,
          7.795618421052631,
          7.811516447368421,
          7.82741447368421,
          7.8433125,
          7.859210526315789,
          7.875108552631579,
          7.891006578947368,
          7.906904605263158,
          7.922802631578946,
          7.938700657894737,
          7.954598684210525,
          7.970496710526315,
          7.986394736842105,
          8.002292763157893,
          8.018190789473685,
          8.034088815789474,
          8.049986842105262,
          8.065884868421053,
          8.081782894736842,
          8.097680921052632,
          8.11357894736842,
          8.12947697368421,
          8.145374999999998,
          8.16127302631579,
          8.177171052631579,
          8.193069078947367,
          8.208967105263158,
          8.224865131578946,
          8.240763157894737,
          8.256661184210525,
          8.272559210526314,
          8.288457236842106,
          8.304355263157895,
          8.320253289473683,
          8.336151315789472,
          8.352049342105262,
          8.367947368421053,
          8.383845394736841,
          8.39974342105263,
          8.41564144736842,
          8.43153947368421,
          8.4474375,
          8.463335526315788,
          8.479233552631579,
          8.495131578947369,
          8.511029605263158,
          8.526927631578946,
          8.542825657894737,
          8.558723684210527,
          8.574621710526316,
          8.590519736842104,
          8.606417763157893,
          8.622315789473683,
          8.638213815789474,
          8.654111842105262,
          8.670009868421053,
          8.685907894736841,
          8.701805921052632,
          8.71770394736842,
          8.733601973684209,
          8.7495,
          8.76539802631579,
          8.781296052631578,
          8.797194078947367,
          8.813092105263157,
          8.828990131578948,
          8.844888157894736,
          8.860786184210525,
          8.876684210526314,
          8.892582236842106,
          8.908480263157895,
          8.924378289473683,
          8.940276315789474,
          8.956174342105262,
          8.972072368421053,
          8.987970394736841,
          9.00386842105263,
          9.019766447368422,
          9.03566447368421,
          9.0515625,
          9.067460526315788,
          9.083358552631578,
          9.099256578947369,
          9.115154605263157,
          9.131052631578946,
          9.146950657894736,
          9.162848684210527,
          9.178746710526315,
          9.194644736842104,
          9.210542763157894,
          9.226440789473683,
          9.242338815789473,
          9.258236842105262,
          9.274134868421053,
          9.290032894736843,
          9.305930921052632,
          9.32182894736842,
          9.337726973684209,
          9.353625,
          9.36952302631579,
          9.385421052631578,
          9.401319078947367,
          9.417217105263157,
          9.433115131578948
         ],
         "xaxis": "x",
         "y": [
          0.04162787913202676,
          0.043155161255199644,
          0.04472808332212916,
          0.04634732852514014,
          0.04801355093712948,
          0.04972737316205918,
          0.051489383959358655,
          0.05330013584745745,
          0.05516014269192953,
          0.05706987728397889,
          0.05902976891523487,
          0.06104020095505289,
          0.0631015084367282,
          0.06521397565922936,
          0.06737783381124145,
          0.06959325862447326,
          0.07186036806333108,
          0.07417922005818882,
          0.07654981028959276,
          0.07897207003082389,
          0.0814458640563031,
          0.08397098862336781,
          0.08654716953496008,
          0.08917406029075893,
          0.09185124033425256,
          0.09457821340318615,
          0.09735440599072963,
          0.10017916592459575,
          0.10305176107119322,
          0.10597137817172887,
          0.1089371218169726,
          0.11194801356717149,
          0.11500299122334257,
          0.11810090825589442,
          0.12124053339621126,
          0.1244205503965023,
          0.12763955796285334,
          0.13089606986602856,
          0.13418851523415878,
          0.1375152390310175,
          0.14087450272312374,
          0.14426448513843546,
          0.14768328351889395,
          0.15112891476856405,
          0.15459931689858034,
          0.1580923506695582,
          0.1616058014315677,
          0.16513738116119145,
          0.16868473069460493,
          0.17224542215502558,
          0.17581696157227966,
          0.1793967916916344,
          0.18298229496844223,
          0.1865707967445415,
          0.19015956860176295,
          0.193745831887295,
          0.19732676140508024,
          0.20089948926684026,
          0.20446110889576144,
          0.20800867917533217,
          0.21153922873528716,
          0.21504976036610465,
          0.21853725555301337,
          0.22199867911999907,
          0.22543098397385655,
          0.22883111593792374,
          0.23219601866474482,
          0.2355226386165581,
          0.2388079301021815,
          0.24204886035858286,
          0.245242414665165,
          0.24838560147858837,
          0.2514754575757676,
          0.2545090531925459,
          0.2574834971454491,
          0.2603959419238611,
          0.2632435887399497,
          0.2660236925236859,
          0.2687335668503743,
          0.27137058878820897,
          0.27393220365352244,
          0.27641592966157935,
          0.2788193624609979,
          0.2811401795401432,
          0.2833761444941573,
          0.28552511114161605,
          0.2875850274802037,
          0.2895539394711984,
          0.29142999464302366,
          0.29321144550459477,
          0.2948966527597135,
          0.296484088314297,
          0.2979723380688068,
          0.29936010448883277,
          0.30064620894740485,
          0.301829593833248,
          0.3029093244198467,
          0.3038845904908598,
          0.30475470771811364,
          0.30551911878909316,
          0.30617739428155705,
          0.3067292332836133,
          0.30717446375830326,
          0.30751304265245405,
          0.3077450557502702,
          0.3078707172728479,
          0.3078903692254792,
          0.3078044804953205,
          0.30761364570266136,
          0.3073185838097018,
          0.3069201364913857,
          0.30641926627346594,
          0.3058170544435845,
          0.3051146987417295,
          0.30431351083698677,
          0.3034149135980396,
          0.3024204381653657,
          0.30133172083355325,
          0.30015049975260255,
          0.29887861145747946,
          0.29751798723556644,
          0.2960706493419955,
          0.2945387070731459,
          0.2929243527088644,
          0.2912298573341901,
          0.2894575665515608,
          0.2876098960946404,
          0.28568932735501706,
          0.2836984028331087,
          0.2816397215246611,
          0.27951593425422855,
          0.277329738966996,
          0.275083875990256,
          0.27278112327573467,
          0.27042429163385184,
          0.26801621997082575,
          0.2655597705393445,
          0.2630578242133005,
          0.26051327579683825,
          0.25792902937767703,
          0.2553079937343775,
          0.2526530778068812,
          0.24996718623931172,
          0.2472532150036458,
          0.2445140471124834,
          0.24175254842872415,
          0.23897156357955193,
          0.2361739119816822,
          0.2333623839843835,
          0.23053973713633164,
          0.22770869258188545,
          0.22487193159190802,
          0.22203209223378143,
          0.2191917661847875,
          0.21635349569255272,
          0.21351977068577657,
          0.2106930260379972,
          0.20787563898667263,
          0.20506992670940516,
          0.20227814405867145,
          0.1995024814559902,
          0.1967450629460079,
          0.19400794441058392,
          0.1912931119425215,
          0.1886024803782185,
          0.18593789198811256,
          0.18330111532344726,
          0.18069384421752374,
          0.17811769693928,
          0.17557421549672447,
          0.17306486508745553,
          0.17059103369322523,
          0.16815403181524718,
          0.16575509234671265,
          0.16339537057876044,
          0.16107594433595449,
          0.15879781423713302,
          0.15656190407735027,
          0.1543690613264782,
          0.15222005773993114,
          0.15011559007685565,
          0.14805628092106782,
          0.14604267959993575,
          0.14407526319637107,
          0.1421544376490547,
          0.14028053893601247,
          0.13845383433665512,
          0.13667452376741257,
          0.13494274118612487,
          0.13325855606039227,
          0.1316219748951453,
          0.13003294281475994,
          0.1284913451951241,
          0.12699700934114683,
          0.12554970620529965,
          0.12414915214288534,
          0.12279501069983988,
          0.12148689442899227,
          0.12022436673083542,
          0.11900694371498212,
          0.11783409607862382,
          0.11670525099843458,
          0.11561979403251357,
          0.11457707102908851,
          0.11357639003885177,
          0.11261702322793843,
          0.11169820878869845,
          0.11081915284555467,
          0.10997903135337798,
          0.10917699198594728,
          0.10841215601219562,
          0.10768362015807749,
          0.10699045845201732,
          0.10633172405202596,
          0.1057064510526916,
          0.1051136562703672,
          0.10455234100498964,
          0.10402149277707105,
          0.10352008703850704,
          0.10304708885594195,
          0.10260145456552665,
          0.1021821333979877,
          0.10178806907301416,
          0.10141820136204238,
          0.10107146761859277,
          0.10074680427538274,
          0.1004431483075006,
          0.10015943866098607,
          0.09989461764621788,
          0.09964763229555818,
          0.09941743568475364,
          0.09920298821763208,
          0.09900325887367713,
          0.09881722641809804,
          0.09864388057404759,
          0.0984822231566689,
          0.09833126916868612,
          0.0981900478572756,
          0.09805760373198333,
          0.09793299754347519,
          0.09781530722293098,
          0.09770362878191265,
          0.09759707717255965,
          0.09749478710798162,
          0.09739591384274074,
          0.09729963391333386,
          0.09720514583860557,
          0.09711167078003931,
          0.09701845316190102,
          0.0969247612512212,
          0.09682988769762992,
          0.09673315003307847,
          0.0966338911315038,
          0.09653147962851592,
          0.09642531030121503,
          0.09631480440826806,
          0.0961994099904038,
          0.09607860213151106,
          0.09595188318055572,
          0.09581878293456077,
          0.09567885878292401,
          0.09553169581338117,
          0.09537690687995344,
          0.09521413263325137,
          0.09504304151354302,
          0.09486332970702524,
          0.09467472106577456,
          0.09447696699188846,
          0.09426984628636134,
          0.09405316496327777,
          0.0938267560299377,
          0.09359047923356549,
          0.09334422077528849,
          0.0930878929921034,
          0.09282143400758591,
          0.09254480735212649,
          0.09225800155351238,
          0.0919610296987028,
          0.09165392896767545,
          0.09133676014025044,
          0.091009607076826,
          0.0906725761739839,
          0.09032579579594811,
          0.089969415682903,
          0.08960360633719522,
          0.08922855838846815,
          0.08884448193878905,
          0.08845160588884776,
          0.08805017724632042,
          0.08764046041749893,
          0.08722273648330402,
          0.0867973024607989,
          0.08636447055133584,
          0.08592456737646376,
          0.08547793320273557,
          0.0850249211565479,
          0.08456589643014867,
          0.08410123547994539,
          0.08363132521824058,
          0.08315656219951743,
          0.08267735180238962,
          0.08219410740832146,
          0.08170724957821572,
          0.08121720522795153,
          0.08072440680394768,
          0.08022929145980881,
          0.07973230023509897,
          0.07923387723727343,
          0.0787344688277806,
          0.0782345228133309,
          0.07773448764331196,
          0.07723481161431071,
          0.07673594208268376,
          0.07623832468610162,
          0.07574240257496784,
          0.07524861565460032,
          0.07475739983903647,
          0.07426918631730907,
          0.07378440083301462,
          0.07330346297798049,
          0.0728267855008113,
          0.07235477363108012,
          0.07188782441990513,
          0.07142632609763354,
          0.0709706574493352,
          0.07052118720878396,
          0.07007827347158954,
          0.06964226312811628,
          0.06921349131680775,
          0.06879228089851551,
          0.06837894195240571,
          0.06797377129400077,
          0.06757705201588705,
          0.06718905305160107,
          0.06681002876318304,
          0.0664402185528649,
          0.06607984649933481,
          0.06572912101900022,
          0.06538823455264452,
          0.06505736327784907,
          0.06473666684752669,
          0.06442628815488717,
          0.06412635312512786,
          0.06383697053411613,
          0.0635582318542999,
          0.06329021112805569,
          0.06303296486865138,
          0.0627865319889706,
          0.0625509337581134,
          0.06232617378595364,
          0.062112238035700935,
          0.06190909486447839,
          0.06171669509189059,
          0.061534972096520896,
          0.06136384194025659,
          0.06120320352030178,
          0.06105293874869812,
          0.06091291275913163,
          0.06078297414076133,
          0.060662955198763725,
          0.06055267224124252,
          0.06045192589210849,
          0.060360501429491197,
          0.06027816914919668,
          0.06020468475268147,
          0.06013978975896652,
          0.060083211939868784,
          0.060034665777882155,
          0.059993852945994,
          0.05996046280867747,
          0.05993417294325489,
          0.05991464968078343,
          0.05990154866556943,
          0.05989451543237611,
          0.05989318600034699,
          0.05989718748262645,
          0.05990613871062074,
          0.05991965087180398,
          0.05993732815993883,
          0.059958768436546725,
          0.05998356390243184,
          0.060011301778031254,
          0.06004156499133946,
          0.060073932872127415,
          0.06010798185115666,
          0.06014328616306866,
          0.06017941855161295,
          0.06021595097586556,
          0.06025245531607755,
          0.06028850407778797,
          0.06032367109283109,
          0.06035753221586851,
          0.06038966601507973,
          0.06041965445565188,
          0.060447083574720055,
          0.060471544146424264,
          0.060492632335766114,
          0.060509950339971114,
          0.06052310701608644,
          0.0605317184935741,
          0.06053540877069097,
          0.06053381029348294,
          0.06052656451626087,
          0.06051332244246749,
          0.06049374514489072,
          0.060467504264228276,
          0.06043428248505993,
          0.060393773988338645,
          0.06034568487956988,
          0.06028973359190776,
          0.06022565126345932,
          0.06015318208815302,
          0.060072083639593286,
          0.05998212716739193,
          0.05988309786553627,
          0.05977479511242442,
          0.059657032682271606,
          0.05952963892766218,
          0.05939245693309659,
          0.05924534463945562,
          0.05908817493937825,
          0.05892083574362155,
          0.058743230018546234,
          0.0585552757949416,
          0.05835690614847548,
          0.05814806915212586,
          0.057928727801017606,
          0.05769885991015644,
          0.05745845798561598,
          0.05720752906979667,
          0.05694609456143745,
          0.056674190011116496,
          0.05639186489303466,
          0.05609918235392664,
          0.055796218939993564,
          0.05548306430279909,
          0.055159820885109886,
          0.05482660358770442,
          0.054483539418206064,
          0.05413076712303176,
          0.053768436803571976,
          0.0533967095177447,
          0.053015756868084365,
          0.05262576057754514,
          0.05222691205420845,
          0.05181941194609336,
          0.05140346968727489,
          0.05097930303651335,
          0.05054713760959682,
          0.05010720640659024,
          0.049659749335175835,
          0.04920501273125292,
          0.048743248877951326,
          0.04827471552418636,
          0.047799675403864636,
          0.04731839575681829,
          0.046831147852517206,
          0.046338206517576246,
          0.0458398496680362,
          0.04533635784736253,
          0.04482801377106365,
          0.04431510187878983,
          0.04379790789472742,
          0.043276718397060564,
          0.04275182039722402,
          0.04222350092962146,
          0.04169204665243836,
          0.04115774346012248,
          0.04062087610806192,
          0.04008172784993408,
          0.03954058008815056,
          0.03899771203777264,
          0.03845340040421958,
          0.0379079190750437,
          0.03736153882599656,
          0.03681452704155944,
          0.03626714745006803,
          0.035719659873510896,
          0.03517231999203808,
          0.03462537912317165,
          0.03407908401566807,
          0.033533676657942046,
          0.03298939410092221,
          0.032446468295172504,
          0.03190512594207781,
          0.03136558835886096,
          0.030828071357165872,
          0.030292785134913562,
          0.029759934181112994,
          0.0292297171932819,
          0.02870232700711399,
          0.02817795053800686,
          0.027656768734049146,
          0.027138956540050618,
          0.02662468287218482,
          0.026114110602804764,
          0.025607396554982776,
          0.025104691506319558,
          0.02460614020156376,
          0.024111881373580134
         ],
         "yaxis": "y"
        },
        {
         "legendgroup": "Agent 7",
         "marker": {
          "color": "#EF553B",
          "symbol": "line-ns-open"
         },
         "mode": "markers",
         "name": "Agent 7",
         "showlegend": false,
         "type": "scatter",
         "x": [
          3.307588985896575,
          5.472283205268935,
          3.0947611710323573,
          2.788135593220339,
          2.8981900452488687,
          5.412166172106825,
          8.389017411420918,
          5.621125143513203,
          4.59338061465721,
          6.166419019316494,
          5.473035860936217,
          2.981132075471698,
          3.0728155339805827,
          3.388538681948424,
          6.263076583535644,
          3.5575319622012227,
          3.1776223776223778,
          2.886319845857418,
          4.32051282051282,
          2.867313915857605,
          8.397631630456058,
          3.0356633380884452,
          6.540573973280554,
          3.0027210884353743,
          2.9243697478991595,
          3.7531675269826374,
          4.782591571484836,
          2.863501483679525,
          2.990322580645161,
          3.201290322580645,
          2.92722371967655,
          4.521653543307087,
          3.704367816091954,
          7.64963612060003,
          2.971578947368421,
          2.800383877159309,
          5.81008100810081,
          5.626905829596413,
          3.4198552223371252,
          2.9511737089201877,
          6.539588749704562,
          3.206039076376554,
          3.742603550295858,
          3.2843772498200146,
          8.127736215018011,
          3.596765498652291,
          4.852700490998363,
          6.01669877970456,
          2.9129287598944593,
          1.5,
          3.0853199498117942,
          3.1258181818181816,
          8.862353750860288,
          3.075453677172875,
          3.2568351284175643,
          2.7553956834532376,
          5.48849840255591,
          6.063189845474613,
          3.800090252707581,
          2.691729323308271,
          4.097710547833197,
          2.8541666666666665,
          2.8,
          2.6141552511415527,
          3.0300429184549356,
          5.947223074562749,
          3.2030620467365027,
          3.104761904761905,
          3.276950565812984,
          7.203683492496589,
          2.8745910577971645,
          2.980549199084668,
          3.757073170731707,
          3.1636005256241786,
          3.851433185304804,
          3.239782016348774,
          3.3191358024691358,
          2.802941176470588,
          5.473840288074561,
          3.5083544303797467,
          9.449013157894736,
          7.636301016015154,
          7.098224852071006,
          8.06166143305738,
          4.814965986394558,
          3.6165320074580483,
          3.193620178041543,
          3.238503985285101,
          2.934455270150576,
          3.7921321029626034,
          3.3048327137546467,
          3.246886446886447,
          5.450139794967381,
          3.061699650756694,
          8.100199401794615,
          7.95177251659777,
          6.591376146788991,
          8.322694184465243,
          8.919058744993324,
          2.917
         ],
         "xaxis": "x",
         "y": [
          "Agent 7",
          "Agent 7",
          "Agent 7",
          "Agent 7",
          "Agent 7",
          "Agent 7",
          "Agent 7",
          "Agent 7",
          "Agent 7",
          "Agent 7",
          "Agent 7",
          "Agent 7",
          "Agent 7",
          "Agent 7",
          "Agent 7",
          "Agent 7",
          "Agent 7",
          "Agent 7",
          "Agent 7",
          "Agent 7",
          "Agent 7",
          "Agent 7",
          "Agent 7",
          "Agent 7",
          "Agent 7",
          "Agent 7",
          "Agent 7",
          "Agent 7",
          "Agent 7",
          "Agent 7",
          "Agent 7",
          "Agent 7",
          "Agent 7",
          "Agent 7",
          "Agent 7",
          "Agent 7",
          "Agent 7",
          "Agent 7",
          "Agent 7",
          "Agent 7",
          "Agent 7",
          "Agent 7",
          "Agent 7",
          "Agent 7",
          "Agent 7",
          "Agent 7",
          "Agent 7",
          "Agent 7",
          "Agent 7",
          "Agent 7",
          "Agent 7",
          "Agent 7",
          "Agent 7",
          "Agent 7",
          "Agent 7",
          "Agent 7",
          "Agent 7",
          "Agent 7",
          "Agent 7",
          "Agent 7",
          "Agent 7",
          "Agent 7",
          "Agent 7",
          "Agent 7",
          "Agent 7",
          "Agent 7",
          "Agent 7",
          "Agent 7",
          "Agent 7",
          "Agent 7",
          "Agent 7",
          "Agent 7",
          "Agent 7",
          "Agent 7",
          "Agent 7",
          "Agent 7",
          "Agent 7",
          "Agent 7",
          "Agent 7",
          "Agent 7",
          "Agent 7",
          "Agent 7",
          "Agent 7",
          "Agent 7",
          "Agent 7",
          "Agent 7",
          "Agent 7",
          "Agent 7",
          "Agent 7",
          "Agent 7",
          "Agent 7",
          "Agent 7",
          "Agent 7",
          "Agent 7",
          "Agent 7",
          "Agent 7",
          "Agent 7",
          "Agent 7",
          "Agent 7",
          "Agent 7"
         ],
         "yaxis": "y2"
        }
       ],
       "layout": {
        "barmode": "overlay",
        "hovermode": "closest",
        "legend": {
         "traceorder": "reversed"
        },
        "template": {
         "data": {
          "bar": [
           {
            "error_x": {
             "color": "#2a3f5f"
            },
            "error_y": {
             "color": "#2a3f5f"
            },
            "marker": {
             "line": {
              "color": "#E5ECF6",
              "width": 0.5
             },
             "pattern": {
              "fillmode": "overlay",
              "size": 10,
              "solidity": 0.2
             }
            },
            "type": "bar"
           }
          ],
          "barpolar": [
           {
            "marker": {
             "line": {
              "color": "#E5ECF6",
              "width": 0.5
             },
             "pattern": {
              "fillmode": "overlay",
              "size": 10,
              "solidity": 0.2
             }
            },
            "type": "barpolar"
           }
          ],
          "carpet": [
           {
            "aaxis": {
             "endlinecolor": "#2a3f5f",
             "gridcolor": "white",
             "linecolor": "white",
             "minorgridcolor": "white",
             "startlinecolor": "#2a3f5f"
            },
            "baxis": {
             "endlinecolor": "#2a3f5f",
             "gridcolor": "white",
             "linecolor": "white",
             "minorgridcolor": "white",
             "startlinecolor": "#2a3f5f"
            },
            "type": "carpet"
           }
          ],
          "choropleth": [
           {
            "colorbar": {
             "outlinewidth": 0,
             "ticks": ""
            },
            "type": "choropleth"
           }
          ],
          "contour": [
           {
            "colorbar": {
             "outlinewidth": 0,
             "ticks": ""
            },
            "colorscale": [
             [
              0,
              "#0d0887"
             ],
             [
              0.1111111111111111,
              "#46039f"
             ],
             [
              0.2222222222222222,
              "#7201a8"
             ],
             [
              0.3333333333333333,
              "#9c179e"
             ],
             [
              0.4444444444444444,
              "#bd3786"
             ],
             [
              0.5555555555555556,
              "#d8576b"
             ],
             [
              0.6666666666666666,
              "#ed7953"
             ],
             [
              0.7777777777777778,
              "#fb9f3a"
             ],
             [
              0.8888888888888888,
              "#fdca26"
             ],
             [
              1,
              "#f0f921"
             ]
            ],
            "type": "contour"
           }
          ],
          "contourcarpet": [
           {
            "colorbar": {
             "outlinewidth": 0,
             "ticks": ""
            },
            "type": "contourcarpet"
           }
          ],
          "heatmap": [
           {
            "colorbar": {
             "outlinewidth": 0,
             "ticks": ""
            },
            "colorscale": [
             [
              0,
              "#0d0887"
             ],
             [
              0.1111111111111111,
              "#46039f"
             ],
             [
              0.2222222222222222,
              "#7201a8"
             ],
             [
              0.3333333333333333,
              "#9c179e"
             ],
             [
              0.4444444444444444,
              "#bd3786"
             ],
             [
              0.5555555555555556,
              "#d8576b"
             ],
             [
              0.6666666666666666,
              "#ed7953"
             ],
             [
              0.7777777777777778,
              "#fb9f3a"
             ],
             [
              0.8888888888888888,
              "#fdca26"
             ],
             [
              1,
              "#f0f921"
             ]
            ],
            "type": "heatmap"
           }
          ],
          "heatmapgl": [
           {
            "colorbar": {
             "outlinewidth": 0,
             "ticks": ""
            },
            "colorscale": [
             [
              0,
              "#0d0887"
             ],
             [
              0.1111111111111111,
              "#46039f"
             ],
             [
              0.2222222222222222,
              "#7201a8"
             ],
             [
              0.3333333333333333,
              "#9c179e"
             ],
             [
              0.4444444444444444,
              "#bd3786"
             ],
             [
              0.5555555555555556,
              "#d8576b"
             ],
             [
              0.6666666666666666,
              "#ed7953"
             ],
             [
              0.7777777777777778,
              "#fb9f3a"
             ],
             [
              0.8888888888888888,
              "#fdca26"
             ],
             [
              1,
              "#f0f921"
             ]
            ],
            "type": "heatmapgl"
           }
          ],
          "histogram": [
           {
            "marker": {
             "pattern": {
              "fillmode": "overlay",
              "size": 10,
              "solidity": 0.2
             }
            },
            "type": "histogram"
           }
          ],
          "histogram2d": [
           {
            "colorbar": {
             "outlinewidth": 0,
             "ticks": ""
            },
            "colorscale": [
             [
              0,
              "#0d0887"
             ],
             [
              0.1111111111111111,
              "#46039f"
             ],
             [
              0.2222222222222222,
              "#7201a8"
             ],
             [
              0.3333333333333333,
              "#9c179e"
             ],
             [
              0.4444444444444444,
              "#bd3786"
             ],
             [
              0.5555555555555556,
              "#d8576b"
             ],
             [
              0.6666666666666666,
              "#ed7953"
             ],
             [
              0.7777777777777778,
              "#fb9f3a"
             ],
             [
              0.8888888888888888,
              "#fdca26"
             ],
             [
              1,
              "#f0f921"
             ]
            ],
            "type": "histogram2d"
           }
          ],
          "histogram2dcontour": [
           {
            "colorbar": {
             "outlinewidth": 0,
             "ticks": ""
            },
            "colorscale": [
             [
              0,
              "#0d0887"
             ],
             [
              0.1111111111111111,
              "#46039f"
             ],
             [
              0.2222222222222222,
              "#7201a8"
             ],
             [
              0.3333333333333333,
              "#9c179e"
             ],
             [
              0.4444444444444444,
              "#bd3786"
             ],
             [
              0.5555555555555556,
              "#d8576b"
             ],
             [
              0.6666666666666666,
              "#ed7953"
             ],
             [
              0.7777777777777778,
              "#fb9f3a"
             ],
             [
              0.8888888888888888,
              "#fdca26"
             ],
             [
              1,
              "#f0f921"
             ]
            ],
            "type": "histogram2dcontour"
           }
          ],
          "mesh3d": [
           {
            "colorbar": {
             "outlinewidth": 0,
             "ticks": ""
            },
            "type": "mesh3d"
           }
          ],
          "parcoords": [
           {
            "line": {
             "colorbar": {
              "outlinewidth": 0,
              "ticks": ""
             }
            },
            "type": "parcoords"
           }
          ],
          "pie": [
           {
            "automargin": true,
            "type": "pie"
           }
          ],
          "scatter": [
           {
            "marker": {
             "colorbar": {
              "outlinewidth": 0,
              "ticks": ""
             }
            },
            "type": "scatter"
           }
          ],
          "scatter3d": [
           {
            "line": {
             "colorbar": {
              "outlinewidth": 0,
              "ticks": ""
             }
            },
            "marker": {
             "colorbar": {
              "outlinewidth": 0,
              "ticks": ""
             }
            },
            "type": "scatter3d"
           }
          ],
          "scattercarpet": [
           {
            "marker": {
             "colorbar": {
              "outlinewidth": 0,
              "ticks": ""
             }
            },
            "type": "scattercarpet"
           }
          ],
          "scattergeo": [
           {
            "marker": {
             "colorbar": {
              "outlinewidth": 0,
              "ticks": ""
             }
            },
            "type": "scattergeo"
           }
          ],
          "scattergl": [
           {
            "marker": {
             "colorbar": {
              "outlinewidth": 0,
              "ticks": ""
             }
            },
            "type": "scattergl"
           }
          ],
          "scattermapbox": [
           {
            "marker": {
             "colorbar": {
              "outlinewidth": 0,
              "ticks": ""
             }
            },
            "type": "scattermapbox"
           }
          ],
          "scatterpolar": [
           {
            "marker": {
             "colorbar": {
              "outlinewidth": 0,
              "ticks": ""
             }
            },
            "type": "scatterpolar"
           }
          ],
          "scatterpolargl": [
           {
            "marker": {
             "colorbar": {
              "outlinewidth": 0,
              "ticks": ""
             }
            },
            "type": "scatterpolargl"
           }
          ],
          "scatterternary": [
           {
            "marker": {
             "colorbar": {
              "outlinewidth": 0,
              "ticks": ""
             }
            },
            "type": "scatterternary"
           }
          ],
          "surface": [
           {
            "colorbar": {
             "outlinewidth": 0,
             "ticks": ""
            },
            "colorscale": [
             [
              0,
              "#0d0887"
             ],
             [
              0.1111111111111111,
              "#46039f"
             ],
             [
              0.2222222222222222,
              "#7201a8"
             ],
             [
              0.3333333333333333,
              "#9c179e"
             ],
             [
              0.4444444444444444,
              "#bd3786"
             ],
             [
              0.5555555555555556,
              "#d8576b"
             ],
             [
              0.6666666666666666,
              "#ed7953"
             ],
             [
              0.7777777777777778,
              "#fb9f3a"
             ],
             [
              0.8888888888888888,
              "#fdca26"
             ],
             [
              1,
              "#f0f921"
             ]
            ],
            "type": "surface"
           }
          ],
          "table": [
           {
            "cells": {
             "fill": {
              "color": "#EBF0F8"
             },
             "line": {
              "color": "white"
             }
            },
            "header": {
             "fill": {
              "color": "#C8D4E3"
             },
             "line": {
              "color": "white"
             }
            },
            "type": "table"
           }
          ]
         },
         "layout": {
          "annotationdefaults": {
           "arrowcolor": "#2a3f5f",
           "arrowhead": 0,
           "arrowwidth": 1
          },
          "autotypenumbers": "strict",
          "coloraxis": {
           "colorbar": {
            "outlinewidth": 0,
            "ticks": ""
           }
          },
          "colorscale": {
           "diverging": [
            [
             0,
             "#8e0152"
            ],
            [
             0.1,
             "#c51b7d"
            ],
            [
             0.2,
             "#de77ae"
            ],
            [
             0.3,
             "#f1b6da"
            ],
            [
             0.4,
             "#fde0ef"
            ],
            [
             0.5,
             "#f7f7f7"
            ],
            [
             0.6,
             "#e6f5d0"
            ],
            [
             0.7,
             "#b8e186"
            ],
            [
             0.8,
             "#7fbc41"
            ],
            [
             0.9,
             "#4d9221"
            ],
            [
             1,
             "#276419"
            ]
           ],
           "sequential": [
            [
             0,
             "#0d0887"
            ],
            [
             0.1111111111111111,
             "#46039f"
            ],
            [
             0.2222222222222222,
             "#7201a8"
            ],
            [
             0.3333333333333333,
             "#9c179e"
            ],
            [
             0.4444444444444444,
             "#bd3786"
            ],
            [
             0.5555555555555556,
             "#d8576b"
            ],
            [
             0.6666666666666666,
             "#ed7953"
            ],
            [
             0.7777777777777778,
             "#fb9f3a"
            ],
            [
             0.8888888888888888,
             "#fdca26"
            ],
            [
             1,
             "#f0f921"
            ]
           ],
           "sequentialminus": [
            [
             0,
             "#0d0887"
            ],
            [
             0.1111111111111111,
             "#46039f"
            ],
            [
             0.2222222222222222,
             "#7201a8"
            ],
            [
             0.3333333333333333,
             "#9c179e"
            ],
            [
             0.4444444444444444,
             "#bd3786"
            ],
            [
             0.5555555555555556,
             "#d8576b"
            ],
            [
             0.6666666666666666,
             "#ed7953"
            ],
            [
             0.7777777777777778,
             "#fb9f3a"
            ],
            [
             0.8888888888888888,
             "#fdca26"
            ],
            [
             1,
             "#f0f921"
            ]
           ]
          },
          "colorway": [
           "#636efa",
           "#EF553B",
           "#00cc96",
           "#ab63fa",
           "#FFA15A",
           "#19d3f3",
           "#FF6692",
           "#B6E880",
           "#FF97FF",
           "#FECB52"
          ],
          "font": {
           "color": "#2a3f5f"
          },
          "geo": {
           "bgcolor": "white",
           "lakecolor": "white",
           "landcolor": "#E5ECF6",
           "showlakes": true,
           "showland": true,
           "subunitcolor": "white"
          },
          "hoverlabel": {
           "align": "left"
          },
          "hovermode": "closest",
          "mapbox": {
           "style": "light"
          },
          "paper_bgcolor": "white",
          "plot_bgcolor": "#E5ECF6",
          "polar": {
           "angularaxis": {
            "gridcolor": "white",
            "linecolor": "white",
            "ticks": ""
           },
           "bgcolor": "#E5ECF6",
           "radialaxis": {
            "gridcolor": "white",
            "linecolor": "white",
            "ticks": ""
           }
          },
          "scene": {
           "xaxis": {
            "backgroundcolor": "#E5ECF6",
            "gridcolor": "white",
            "gridwidth": 2,
            "linecolor": "white",
            "showbackground": true,
            "ticks": "",
            "zerolinecolor": "white"
           },
           "yaxis": {
            "backgroundcolor": "#E5ECF6",
            "gridcolor": "white",
            "gridwidth": 2,
            "linecolor": "white",
            "showbackground": true,
            "ticks": "",
            "zerolinecolor": "white"
           },
           "zaxis": {
            "backgroundcolor": "#E5ECF6",
            "gridcolor": "white",
            "gridwidth": 2,
            "linecolor": "white",
            "showbackground": true,
            "ticks": "",
            "zerolinecolor": "white"
           }
          },
          "shapedefaults": {
           "line": {
            "color": "#2a3f5f"
           }
          },
          "ternary": {
           "aaxis": {
            "gridcolor": "white",
            "linecolor": "white",
            "ticks": ""
           },
           "baxis": {
            "gridcolor": "white",
            "linecolor": "white",
            "ticks": ""
           },
           "bgcolor": "#E5ECF6",
           "caxis": {
            "gridcolor": "white",
            "linecolor": "white",
            "ticks": ""
           }
          },
          "title": {
           "x": 0.05
          },
          "xaxis": {
           "automargin": true,
           "gridcolor": "white",
           "linecolor": "white",
           "ticks": "",
           "title": {
            "standoff": 15
           },
           "zerolinecolor": "white",
           "zerolinewidth": 2
          },
          "yaxis": {
           "automargin": true,
           "gridcolor": "white",
           "linecolor": "white",
           "ticks": "",
           "title": {
            "standoff": 15
           },
           "zerolinecolor": "white",
           "zerolinewidth": 2
          }
         }
        },
        "title": {
         "text": "Movement/Examinations Ratio Hist and Curve Plot Agent 7"
        },
        "xaxis": {
         "anchor": "y2",
         "domain": [
          0,
          1
         ],
         "zeroline": false
        },
        "yaxis": {
         "anchor": "free",
         "domain": [
          0.35,
          1
         ],
         "position": 0
        },
        "yaxis2": {
         "anchor": "x",
         "domain": [
          0,
          0.25
         ],
         "dtick": 1,
         "showticklabels": false
        }
       }
      }
     },
     "metadata": {},
     "output_type": "display_data"
    }
   ],
   "source": [
    "hist_data = [agent_8_res]\n",
    "group_labels = ['Agent 8']\n",
    "fig_dist = ff.create_distplot(hist_data, group_labels, bin_size=.2, colors = ['#00CC96'])\n",
    "fig_dist.update_layout(title_text='Movement/Examinations Ratio Hist and Curve Plot Agent 8')\n",
    "fig_dist.show()\n",
    "plotly.io.write_image(fig_dist, file=\"./images/question_4_agent_8.png\", scale=5)"
   ]
  }
 ],
 "metadata": {
  "interpreter": {
   "hash": "bafe3afd0a781b7a47f096577c792ca858bedcfccdb41097c5a7ea8f896ea126"
  },
  "kernelspec": {
   "display_name": "Python 3 (ipykernel)",
   "language": "python",
   "name": "python3"
  },
  "language_info": {
   "codemirror_mode": {
    "name": "ipython",
    "version": 3
   },
   "file_extension": ".py",
   "mimetype": "text/x-python",
   "name": "python",
   "nbconvert_exporter": "python",
   "pygments_lexer": "ipython3",
   "version": "3.7.9"
  }
 },
 "nbformat": 4,
 "nbformat_minor": 2
}
