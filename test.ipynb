{
 "cells": [
  {
   "cell_type": "code",
   "execution_count": 66,
   "metadata": {},
   "outputs": [],
   "source": [
    "# imports\n",
    "from subprocess import check_output\n",
    "import pandas as pd\n",
    "import plotly.express as px\n",
    "import plotly.figure_factory as ff\n",
    "import plotly\n",
    "import re\n",
    "import nbformat\n",
    "import time\n",
    "import json\n",
    "import scipy\n",
    "import numpy as np\n",
    "import plotly.graph_objects as go"
   ]
  },
  {
   "cell_type": "code",
   "execution_count": 7,
   "metadata": {},
   "outputs": [
    {
     "data": {
      "text/html": [
       "<div>\n",
       "<style scoped>\n",
       "    .dataframe tbody tr th:only-of-type {\n",
       "        vertical-align: middle;\n",
       "    }\n",
       "\n",
       "    .dataframe tbody tr th {\n",
       "        vertical-align: top;\n",
       "    }\n",
       "\n",
       "    .dataframe thead th {\n",
       "        text-align: right;\n",
       "    }\n",
       "</style>\n",
       "<table border=\"1\" class=\"dataframe\">\n",
       "  <thead>\n",
       "    <tr style=\"text-align: right;\">\n",
       "      <th></th>\n",
       "      <th>Processed Cells</th>\n",
       "      <th>Retries</th>\n",
       "      <th>Time</th>\n",
       "      <th>Examinations</th>\n",
       "      <th>Movements</th>\n",
       "      <th>Actions</th>\n",
       "      <th>Terrain</th>\n",
       "      <th>Agent</th>\n",
       "    </tr>\n",
       "  </thead>\n",
       "  <tbody>\n",
       "    <tr>\n",
       "      <th>0</th>\n",
       "      <td>7717</td>\n",
       "      <td>763</td>\n",
       "      <td>5.511110</td>\n",
       "      <td>518</td>\n",
       "      <td>1676</td>\n",
       "      <td>2194</td>\n",
       "      <td>2</td>\n",
       "      <td>6.0</td>\n",
       "    </tr>\n",
       "    <tr>\n",
       "      <th>1</th>\n",
       "      <td>61468</td>\n",
       "      <td>2116</td>\n",
       "      <td>13.096124</td>\n",
       "      <td>1393</td>\n",
       "      <td>4798</td>\n",
       "      <td>6191</td>\n",
       "      <td>2</td>\n",
       "      <td>7.0</td>\n",
       "    </tr>\n",
       "    <tr>\n",
       "      <th>2</th>\n",
       "      <td>18851</td>\n",
       "      <td>1759</td>\n",
       "      <td>9.591271</td>\n",
       "      <td>1262</td>\n",
       "      <td>3822</td>\n",
       "      <td>5084</td>\n",
       "      <td>2</td>\n",
       "      <td>8.0</td>\n",
       "    </tr>\n",
       "    <tr>\n",
       "      <th>3</th>\n",
       "      <td>258342</td>\n",
       "      <td>4333</td>\n",
       "      <td>15.145135</td>\n",
       "      <td>3504</td>\n",
       "      <td>26534</td>\n",
       "      <td>30038</td>\n",
       "      <td>3</td>\n",
       "      <td>6.0</td>\n",
       "    </tr>\n",
       "    <tr>\n",
       "      <th>4</th>\n",
       "      <td>198616</td>\n",
       "      <td>2798</td>\n",
       "      <td>13.179374</td>\n",
       "      <td>1868</td>\n",
       "      <td>7321</td>\n",
       "      <td>9189</td>\n",
       "      <td>3</td>\n",
       "      <td>7.0</td>\n",
       "    </tr>\n",
       "  </tbody>\n",
       "</table>\n",
       "</div>"
      ],
      "text/plain": [
       "  Processed Cells Retries       Time Examinations Movements Actions Terrain  \\\n",
       "0            7717     763   5.511110          518      1676    2194       2   \n",
       "1           61468    2116  13.096124         1393      4798    6191       2   \n",
       "2           18851    1759   9.591271         1262      3822    5084       2   \n",
       "3          258342    4333  15.145135         3504     26534   30038       3   \n",
       "4          198616    2798  13.179374         1868      7321    9189       3   \n",
       "\n",
       "   Agent  \n",
       "0    6.0  \n",
       "1    7.0  \n",
       "2    8.0  \n",
       "3    6.0  \n",
       "4    7.0  "
      ]
     },
     "execution_count": 7,
     "metadata": {},
     "output_type": "execute_result"
    }
   ],
   "source": [
    "# measure probability calculation efficiency\n",
    "results_df = pd.DataFrame(columns = ['Processed Cells', 'Retries', 'Time', 'Examinations', 'Movements', 'Actions', 'Terrain'])\n",
    "agents = [\"Agent 6\", \"Agent 7\", \"Agent 8\"]\n",
    "\n",
    "for x in range(100):\n",
    "  command = 'python main.py -d 50 -p 0.3'\n",
    "  out = json.loads(str(check_output(command, cwd='/Users/naveenanyogeswaran/Desktop/School/probabilistic-sensing/src', shell=True)).lstrip(\"b'\").rstrip(\"'\").replace(\"\\\\n\", \"\"))\n",
    "\n",
    "  for i,a in enumerate(agents):\n",
    "    results_df = results_df.append([{'Agent': i+6, 'Processed Cells': out[a][\"processed\"], 'Retries': out[a][\"retries\"], 'Time': out[a][\"time\"], 'Examinations': out[a][\"examinations\"], 'Movements': out[a][\"movements\"], 'Actions': out[a][\"examinations\"] + out[a][\"movements\"], 'Terrain': out[a][\"terrain\"]}], ignore_index=True)\n",
    "\n",
    "results_df.head()"
   ]
  },
  {
   "cell_type": "code",
   "execution_count": 2,
   "metadata": {},
   "outputs": [],
   "source": [
    "results_df = pd.read_csv('misc/test_results_terrain3.csv', index_col=0)"
   ]
  },
  {
   "cell_type": "code",
   "execution_count": 3,
   "metadata": {},
   "outputs": [
    {
     "data": {
      "text/html": [
       "<div>\n",
       "<style scoped>\n",
       "    .dataframe tbody tr th:only-of-type {\n",
       "        vertical-align: middle;\n",
       "    }\n",
       "\n",
       "    .dataframe tbody tr th {\n",
       "        vertical-align: top;\n",
       "    }\n",
       "\n",
       "    .dataframe thead th {\n",
       "        text-align: right;\n",
       "    }\n",
       "</style>\n",
       "<table border=\"1\" class=\"dataframe\">\n",
       "  <thead>\n",
       "    <tr style=\"text-align: right;\">\n",
       "      <th></th>\n",
       "      <th>Processed Cells</th>\n",
       "      <th>Retries</th>\n",
       "      <th>Time</th>\n",
       "      <th>Examinations</th>\n",
       "      <th>Movements</th>\n",
       "      <th>Actions</th>\n",
       "      <th>Terrain</th>\n",
       "      <th>Agent</th>\n",
       "      <th>Ratio</th>\n",
       "    </tr>\n",
       "  </thead>\n",
       "  <tbody>\n",
       "    <tr>\n",
       "      <th>0</th>\n",
       "      <td>7717</td>\n",
       "      <td>763</td>\n",
       "      <td>5.511110</td>\n",
       "      <td>518</td>\n",
       "      <td>1676</td>\n",
       "      <td>2194</td>\n",
       "      <td>2</td>\n",
       "      <td>6.0</td>\n",
       "      <td>3.235521</td>\n",
       "    </tr>\n",
       "    <tr>\n",
       "      <th>1</th>\n",
       "      <td>61468</td>\n",
       "      <td>2116</td>\n",
       "      <td>13.096124</td>\n",
       "      <td>1393</td>\n",
       "      <td>4798</td>\n",
       "      <td>6191</td>\n",
       "      <td>2</td>\n",
       "      <td>7.0</td>\n",
       "      <td>3.444365</td>\n",
       "    </tr>\n",
       "    <tr>\n",
       "      <th>2</th>\n",
       "      <td>18851</td>\n",
       "      <td>1759</td>\n",
       "      <td>9.591271</td>\n",
       "      <td>1262</td>\n",
       "      <td>3822</td>\n",
       "      <td>5084</td>\n",
       "      <td>2</td>\n",
       "      <td>8.0</td>\n",
       "      <td>3.028526</td>\n",
       "    </tr>\n",
       "    <tr>\n",
       "      <th>3</th>\n",
       "      <td>258342</td>\n",
       "      <td>4333</td>\n",
       "      <td>15.145135</td>\n",
       "      <td>3504</td>\n",
       "      <td>26534</td>\n",
       "      <td>30038</td>\n",
       "      <td>3</td>\n",
       "      <td>6.0</td>\n",
       "      <td>7.572489</td>\n",
       "    </tr>\n",
       "    <tr>\n",
       "      <th>4</th>\n",
       "      <td>198616</td>\n",
       "      <td>2798</td>\n",
       "      <td>13.179374</td>\n",
       "      <td>1868</td>\n",
       "      <td>7321</td>\n",
       "      <td>9189</td>\n",
       "      <td>3</td>\n",
       "      <td>7.0</td>\n",
       "      <td>3.919165</td>\n",
       "    </tr>\n",
       "  </tbody>\n",
       "</table>\n",
       "</div>"
      ],
      "text/plain": [
       "   Processed Cells  Retries       Time  Examinations  Movements  Actions  \\\n",
       "0             7717      763   5.511110           518       1676     2194   \n",
       "1            61468     2116  13.096124          1393       4798     6191   \n",
       "2            18851     1759   9.591271          1262       3822     5084   \n",
       "3           258342     4333  15.145135          3504      26534    30038   \n",
       "4           198616     2798  13.179374          1868       7321     9189   \n",
       "\n",
       "   Terrain  Agent     Ratio  \n",
       "0        2    6.0  3.235521  \n",
       "1        2    7.0  3.444365  \n",
       "2        2    8.0  3.028526  \n",
       "3        3    6.0  7.572489  \n",
       "4        3    7.0  3.919165  "
      ]
     },
     "execution_count": 3,
     "metadata": {},
     "output_type": "execute_result"
    }
   ],
   "source": [
    "results_df['Ratio'] = results_df['Movements'] / results_df['Examinations']\n",
    "results_df.head()"
   ]
  },
  {
   "cell_type": "code",
   "execution_count": 9,
   "metadata": {},
   "outputs": [],
   "source": [
    "results_df.to_csv('misc/test_results_terrain3.csv')"
   ]
  },
  {
   "cell_type": "code",
   "execution_count": 65,
   "metadata": {},
   "outputs": [
    {
     "data": {
      "text/html": [
       "<div>\n",
       "<style scoped>\n",
       "    .dataframe tbody tr th:only-of-type {\n",
       "        vertical-align: middle;\n",
       "    }\n",
       "\n",
       "    .dataframe tbody tr th {\n",
       "        vertical-align: top;\n",
       "    }\n",
       "\n",
       "    .dataframe thead th {\n",
       "        text-align: right;\n",
       "    }\n",
       "</style>\n",
       "<table border=\"1\" class=\"dataframe\">\n",
       "  <thead>\n",
       "    <tr style=\"text-align: right;\">\n",
       "      <th></th>\n",
       "      <th>Agent</th>\n",
       "      <th>Processed Cells</th>\n",
       "      <th>Retries</th>\n",
       "      <th>Time</th>\n",
       "      <th>Examinations</th>\n",
       "      <th>Movements</th>\n",
       "      <th>Actions</th>\n",
       "      <th>Terrain</th>\n",
       "      <th>Ratio</th>\n",
       "    </tr>\n",
       "  </thead>\n",
       "  <tbody>\n",
       "    <tr>\n",
       "      <th>0</th>\n",
       "      <td>6</td>\n",
       "      <td>207891.79</td>\n",
       "      <td>4536.03</td>\n",
       "      <td>15.94875</td>\n",
       "      <td>3901.08</td>\n",
       "      <td>31501.81</td>\n",
       "      <td>35402.89</td>\n",
       "      <td>2.94</td>\n",
       "      <td>5.643324</td>\n",
       "    </tr>\n",
       "    <tr>\n",
       "      <th>1</th>\n",
       "      <td>7</td>\n",
       "      <td>135222.66</td>\n",
       "      <td>3608.12</td>\n",
       "      <td>14.416686</td>\n",
       "      <td>2876.68</td>\n",
       "      <td>18735.82</td>\n",
       "      <td>21612.5</td>\n",
       "      <td>2.94</td>\n",
       "      <td>4.384623</td>\n",
       "    </tr>\n",
       "    <tr>\n",
       "      <th>2</th>\n",
       "      <td>8</td>\n",
       "      <td>124936.07</td>\n",
       "      <td>2845.77</td>\n",
       "      <td>20.860659</td>\n",
       "      <td>3116.97</td>\n",
       "      <td>9656.66</td>\n",
       "      <td>12773.63</td>\n",
       "      <td>2.94</td>\n",
       "      <td>3.0598</td>\n",
       "    </tr>\n",
       "  </tbody>\n",
       "</table>\n",
       "</div>"
      ],
      "text/plain": [
       "   Agent  Processed Cells  Retries       Time  Examinations  Movements  \\\n",
       "0      6        207891.79  4536.03   15.94875       3901.08   31501.81   \n",
       "1      7        135222.66  3608.12  14.416686       2876.68   18735.82   \n",
       "2      8        124936.07  2845.77  20.860659       3116.97    9656.66   \n",
       "\n",
       "    Actions  Terrain     Ratio  \n",
       "0  35402.89     2.94  5.643324  \n",
       "1   21612.5     2.94  4.384623  \n",
       "2  12773.63     2.94    3.0598  "
      ]
     },
     "execution_count": 65,
     "metadata": {},
     "output_type": "execute_result"
    }
   ],
   "source": [
    "results_df = results_df.convert_dtypes()\n",
    "grouped_df = results_df.groupby(['Agent'])\n",
    "avg_results_df = grouped_df.mean()\n",
    "# avg_results_df = avg_results_df.reset_index()\n",
    "# avg_results_df['Terrain'] = avg_results_df['Terrain'].map({2:'Flat', 3:'Hilly', 4:'Forest'})\n",
    "avg_results_df = avg_results_df.reset_index()\n",
    "avg_results_df"
   ]
  },
  {
   "cell_type": "code",
   "execution_count": 72,
   "metadata": {},
   "outputs": [
    {
     "data": {
      "application/vnd.plotly.v1+json": {
       "config": {
        "plotlyServerURL": "https://plot.ly"
       },
       "data": [
        {
         "cells": {
          "align": "left",
          "fill": {
           "color": "lightcyan"
          },
          "line": {
           "color": "darkslategray"
          },
          "values": [
           [
            6,
            7,
            8
           ],
           [
            3901.08,
            2876.68,
            3116.97
           ],
           [
            31501.81,
            18735.82,
            9656.66
           ],
           [
            5.643,
            4.385,
            3.06
           ],
           [
            35402.89,
            21612.5,
            12773.63
           ]
          ]
         },
         "header": {
          "align": "left",
          "fill": {
           "color": "lightskyblue"
          },
          "line": {
           "color": "darkslategray"
          },
          "values": [
           "Agent",
           "Examinations",
           "Movements",
           "Ratio",
           "Actions"
          ]
         },
         "type": "table"
        }
       ],
       "layout": {
        "template": {
         "data": {
          "bar": [
           {
            "error_x": {
             "color": "#2a3f5f"
            },
            "error_y": {
             "color": "#2a3f5f"
            },
            "marker": {
             "line": {
              "color": "#E5ECF6",
              "width": 0.5
             },
             "pattern": {
              "fillmode": "overlay",
              "size": 10,
              "solidity": 0.2
             }
            },
            "type": "bar"
           }
          ],
          "barpolar": [
           {
            "marker": {
             "line": {
              "color": "#E5ECF6",
              "width": 0.5
             },
             "pattern": {
              "fillmode": "overlay",
              "size": 10,
              "solidity": 0.2
             }
            },
            "type": "barpolar"
           }
          ],
          "carpet": [
           {
            "aaxis": {
             "endlinecolor": "#2a3f5f",
             "gridcolor": "white",
             "linecolor": "white",
             "minorgridcolor": "white",
             "startlinecolor": "#2a3f5f"
            },
            "baxis": {
             "endlinecolor": "#2a3f5f",
             "gridcolor": "white",
             "linecolor": "white",
             "minorgridcolor": "white",
             "startlinecolor": "#2a3f5f"
            },
            "type": "carpet"
           }
          ],
          "choropleth": [
           {
            "colorbar": {
             "outlinewidth": 0,
             "ticks": ""
            },
            "type": "choropleth"
           }
          ],
          "contour": [
           {
            "colorbar": {
             "outlinewidth": 0,
             "ticks": ""
            },
            "colorscale": [
             [
              0,
              "#0d0887"
             ],
             [
              0.1111111111111111,
              "#46039f"
             ],
             [
              0.2222222222222222,
              "#7201a8"
             ],
             [
              0.3333333333333333,
              "#9c179e"
             ],
             [
              0.4444444444444444,
              "#bd3786"
             ],
             [
              0.5555555555555556,
              "#d8576b"
             ],
             [
              0.6666666666666666,
              "#ed7953"
             ],
             [
              0.7777777777777778,
              "#fb9f3a"
             ],
             [
              0.8888888888888888,
              "#fdca26"
             ],
             [
              1,
              "#f0f921"
             ]
            ],
            "type": "contour"
           }
          ],
          "contourcarpet": [
           {
            "colorbar": {
             "outlinewidth": 0,
             "ticks": ""
            },
            "type": "contourcarpet"
           }
          ],
          "heatmap": [
           {
            "colorbar": {
             "outlinewidth": 0,
             "ticks": ""
            },
            "colorscale": [
             [
              0,
              "#0d0887"
             ],
             [
              0.1111111111111111,
              "#46039f"
             ],
             [
              0.2222222222222222,
              "#7201a8"
             ],
             [
              0.3333333333333333,
              "#9c179e"
             ],
             [
              0.4444444444444444,
              "#bd3786"
             ],
             [
              0.5555555555555556,
              "#d8576b"
             ],
             [
              0.6666666666666666,
              "#ed7953"
             ],
             [
              0.7777777777777778,
              "#fb9f3a"
             ],
             [
              0.8888888888888888,
              "#fdca26"
             ],
             [
              1,
              "#f0f921"
             ]
            ],
            "type": "heatmap"
           }
          ],
          "heatmapgl": [
           {
            "colorbar": {
             "outlinewidth": 0,
             "ticks": ""
            },
            "colorscale": [
             [
              0,
              "#0d0887"
             ],
             [
              0.1111111111111111,
              "#46039f"
             ],
             [
              0.2222222222222222,
              "#7201a8"
             ],
             [
              0.3333333333333333,
              "#9c179e"
             ],
             [
              0.4444444444444444,
              "#bd3786"
             ],
             [
              0.5555555555555556,
              "#d8576b"
             ],
             [
              0.6666666666666666,
              "#ed7953"
             ],
             [
              0.7777777777777778,
              "#fb9f3a"
             ],
             [
              0.8888888888888888,
              "#fdca26"
             ],
             [
              1,
              "#f0f921"
             ]
            ],
            "type": "heatmapgl"
           }
          ],
          "histogram": [
           {
            "marker": {
             "pattern": {
              "fillmode": "overlay",
              "size": 10,
              "solidity": 0.2
             }
            },
            "type": "histogram"
           }
          ],
          "histogram2d": [
           {
            "colorbar": {
             "outlinewidth": 0,
             "ticks": ""
            },
            "colorscale": [
             [
              0,
              "#0d0887"
             ],
             [
              0.1111111111111111,
              "#46039f"
             ],
             [
              0.2222222222222222,
              "#7201a8"
             ],
             [
              0.3333333333333333,
              "#9c179e"
             ],
             [
              0.4444444444444444,
              "#bd3786"
             ],
             [
              0.5555555555555556,
              "#d8576b"
             ],
             [
              0.6666666666666666,
              "#ed7953"
             ],
             [
              0.7777777777777778,
              "#fb9f3a"
             ],
             [
              0.8888888888888888,
              "#fdca26"
             ],
             [
              1,
              "#f0f921"
             ]
            ],
            "type": "histogram2d"
           }
          ],
          "histogram2dcontour": [
           {
            "colorbar": {
             "outlinewidth": 0,
             "ticks": ""
            },
            "colorscale": [
             [
              0,
              "#0d0887"
             ],
             [
              0.1111111111111111,
              "#46039f"
             ],
             [
              0.2222222222222222,
              "#7201a8"
             ],
             [
              0.3333333333333333,
              "#9c179e"
             ],
             [
              0.4444444444444444,
              "#bd3786"
             ],
             [
              0.5555555555555556,
              "#d8576b"
             ],
             [
              0.6666666666666666,
              "#ed7953"
             ],
             [
              0.7777777777777778,
              "#fb9f3a"
             ],
             [
              0.8888888888888888,
              "#fdca26"
             ],
             [
              1,
              "#f0f921"
             ]
            ],
            "type": "histogram2dcontour"
           }
          ],
          "mesh3d": [
           {
            "colorbar": {
             "outlinewidth": 0,
             "ticks": ""
            },
            "type": "mesh3d"
           }
          ],
          "parcoords": [
           {
            "line": {
             "colorbar": {
              "outlinewidth": 0,
              "ticks": ""
             }
            },
            "type": "parcoords"
           }
          ],
          "pie": [
           {
            "automargin": true,
            "type": "pie"
           }
          ],
          "scatter": [
           {
            "marker": {
             "colorbar": {
              "outlinewidth": 0,
              "ticks": ""
             }
            },
            "type": "scatter"
           }
          ],
          "scatter3d": [
           {
            "line": {
             "colorbar": {
              "outlinewidth": 0,
              "ticks": ""
             }
            },
            "marker": {
             "colorbar": {
              "outlinewidth": 0,
              "ticks": ""
             }
            },
            "type": "scatter3d"
           }
          ],
          "scattercarpet": [
           {
            "marker": {
             "colorbar": {
              "outlinewidth": 0,
              "ticks": ""
             }
            },
            "type": "scattercarpet"
           }
          ],
          "scattergeo": [
           {
            "marker": {
             "colorbar": {
              "outlinewidth": 0,
              "ticks": ""
             }
            },
            "type": "scattergeo"
           }
          ],
          "scattergl": [
           {
            "marker": {
             "colorbar": {
              "outlinewidth": 0,
              "ticks": ""
             }
            },
            "type": "scattergl"
           }
          ],
          "scattermapbox": [
           {
            "marker": {
             "colorbar": {
              "outlinewidth": 0,
              "ticks": ""
             }
            },
            "type": "scattermapbox"
           }
          ],
          "scatterpolar": [
           {
            "marker": {
             "colorbar": {
              "outlinewidth": 0,
              "ticks": ""
             }
            },
            "type": "scatterpolar"
           }
          ],
          "scatterpolargl": [
           {
            "marker": {
             "colorbar": {
              "outlinewidth": 0,
              "ticks": ""
             }
            },
            "type": "scatterpolargl"
           }
          ],
          "scatterternary": [
           {
            "marker": {
             "colorbar": {
              "outlinewidth": 0,
              "ticks": ""
             }
            },
            "type": "scatterternary"
           }
          ],
          "surface": [
           {
            "colorbar": {
             "outlinewidth": 0,
             "ticks": ""
            },
            "colorscale": [
             [
              0,
              "#0d0887"
             ],
             [
              0.1111111111111111,
              "#46039f"
             ],
             [
              0.2222222222222222,
              "#7201a8"
             ],
             [
              0.3333333333333333,
              "#9c179e"
             ],
             [
              0.4444444444444444,
              "#bd3786"
             ],
             [
              0.5555555555555556,
              "#d8576b"
             ],
             [
              0.6666666666666666,
              "#ed7953"
             ],
             [
              0.7777777777777778,
              "#fb9f3a"
             ],
             [
              0.8888888888888888,
              "#fdca26"
             ],
             [
              1,
              "#f0f921"
             ]
            ],
            "type": "surface"
           }
          ],
          "table": [
           {
            "cells": {
             "fill": {
              "color": "#EBF0F8"
             },
             "line": {
              "color": "white"
             }
            },
            "header": {
             "fill": {
              "color": "#C8D4E3"
             },
             "line": {
              "color": "white"
             }
            },
            "type": "table"
           }
          ]
         },
         "layout": {
          "annotationdefaults": {
           "arrowcolor": "#2a3f5f",
           "arrowhead": 0,
           "arrowwidth": 1
          },
          "autotypenumbers": "strict",
          "coloraxis": {
           "colorbar": {
            "outlinewidth": 0,
            "ticks": ""
           }
          },
          "colorscale": {
           "diverging": [
            [
             0,
             "#8e0152"
            ],
            [
             0.1,
             "#c51b7d"
            ],
            [
             0.2,
             "#de77ae"
            ],
            [
             0.3,
             "#f1b6da"
            ],
            [
             0.4,
             "#fde0ef"
            ],
            [
             0.5,
             "#f7f7f7"
            ],
            [
             0.6,
             "#e6f5d0"
            ],
            [
             0.7,
             "#b8e186"
            ],
            [
             0.8,
             "#7fbc41"
            ],
            [
             0.9,
             "#4d9221"
            ],
            [
             1,
             "#276419"
            ]
           ],
           "sequential": [
            [
             0,
             "#0d0887"
            ],
            [
             0.1111111111111111,
             "#46039f"
            ],
            [
             0.2222222222222222,
             "#7201a8"
            ],
            [
             0.3333333333333333,
             "#9c179e"
            ],
            [
             0.4444444444444444,
             "#bd3786"
            ],
            [
             0.5555555555555556,
             "#d8576b"
            ],
            [
             0.6666666666666666,
             "#ed7953"
            ],
            [
             0.7777777777777778,
             "#fb9f3a"
            ],
            [
             0.8888888888888888,
             "#fdca26"
            ],
            [
             1,
             "#f0f921"
            ]
           ],
           "sequentialminus": [
            [
             0,
             "#0d0887"
            ],
            [
             0.1111111111111111,
             "#46039f"
            ],
            [
             0.2222222222222222,
             "#7201a8"
            ],
            [
             0.3333333333333333,
             "#9c179e"
            ],
            [
             0.4444444444444444,
             "#bd3786"
            ],
            [
             0.5555555555555556,
             "#d8576b"
            ],
            [
             0.6666666666666666,
             "#ed7953"
            ],
            [
             0.7777777777777778,
             "#fb9f3a"
            ],
            [
             0.8888888888888888,
             "#fdca26"
            ],
            [
             1,
             "#f0f921"
            ]
           ]
          },
          "colorway": [
           "#636efa",
           "#EF553B",
           "#00cc96",
           "#ab63fa",
           "#FFA15A",
           "#19d3f3",
           "#FF6692",
           "#B6E880",
           "#FF97FF",
           "#FECB52"
          ],
          "font": {
           "color": "#2a3f5f"
          },
          "geo": {
           "bgcolor": "white",
           "lakecolor": "white",
           "landcolor": "#E5ECF6",
           "showlakes": true,
           "showland": true,
           "subunitcolor": "white"
          },
          "hoverlabel": {
           "align": "left"
          },
          "hovermode": "closest",
          "mapbox": {
           "style": "light"
          },
          "paper_bgcolor": "white",
          "plot_bgcolor": "#E5ECF6",
          "polar": {
           "angularaxis": {
            "gridcolor": "white",
            "linecolor": "white",
            "ticks": ""
           },
           "bgcolor": "#E5ECF6",
           "radialaxis": {
            "gridcolor": "white",
            "linecolor": "white",
            "ticks": ""
           }
          },
          "scene": {
           "xaxis": {
            "backgroundcolor": "#E5ECF6",
            "gridcolor": "white",
            "gridwidth": 2,
            "linecolor": "white",
            "showbackground": true,
            "ticks": "",
            "zerolinecolor": "white"
           },
           "yaxis": {
            "backgroundcolor": "#E5ECF6",
            "gridcolor": "white",
            "gridwidth": 2,
            "linecolor": "white",
            "showbackground": true,
            "ticks": "",
            "zerolinecolor": "white"
           },
           "zaxis": {
            "backgroundcolor": "#E5ECF6",
            "gridcolor": "white",
            "gridwidth": 2,
            "linecolor": "white",
            "showbackground": true,
            "ticks": "",
            "zerolinecolor": "white"
           }
          },
          "shapedefaults": {
           "line": {
            "color": "#2a3f5f"
           }
          },
          "ternary": {
           "aaxis": {
            "gridcolor": "white",
            "linecolor": "white",
            "ticks": ""
           },
           "baxis": {
            "gridcolor": "white",
            "linecolor": "white",
            "ticks": ""
           },
           "bgcolor": "#E5ECF6",
           "caxis": {
            "gridcolor": "white",
            "linecolor": "white",
            "ticks": ""
           }
          },
          "title": {
           "x": 0.05
          },
          "xaxis": {
           "automargin": true,
           "gridcolor": "white",
           "linecolor": "white",
           "ticks": "",
           "title": {
            "standoff": 15
           },
           "zerolinecolor": "white",
           "zerolinewidth": 2
          },
          "yaxis": {
           "automargin": true,
           "gridcolor": "white",
           "linecolor": "white",
           "ticks": "",
           "title": {
            "standoff": 15
           },
           "zerolinecolor": "white",
           "zerolinewidth": 2
          }
         }
        }
       }
      }
     },
     "metadata": {},
     "output_type": "display_data"
    }
   ],
   "source": [
    "table_df = avg_results_df.round(3)\n",
    "table = go.Figure(data=[go.Table(\n",
    "    header=dict(values=['Agent', 'Examinations', 'Movements', 'Ratio', 'Actions'],\n",
    "                line_color='darkslategray',\n",
    "                fill_color='lightskyblue',\n",
    "                align='left'),\n",
    "    cells=dict(values=[avg_results_df.Agent, avg_results_df.Examinations, avg_results_df.Movements, table_df.Ratio, avg_results_df.Actions],\n",
    "               line_color='darkslategray',\n",
    "               fill_color='lightcyan',\n",
    "               align='left'))\n",
    "])\n",
    "plotly.io.write_image(table, file=\"./images/agent_average_table.png\", scale=5)\n",
    "table.show()"
   ]
  },
  {
   "cell_type": "code",
   "execution_count": 6,
   "metadata": {},
   "outputs": [],
   "source": [
    "agent_6_df = results_df[(results_df.Agent == 6)]\n",
    "agent_7_df = results_df[(results_df.Agent == 7)]\n",
    "agent_8_df = results_df[(results_df.Agent == 8)]"
   ]
  },
  {
   "cell_type": "code",
   "execution_count": 62,
   "metadata": {},
   "outputs": [
    {
     "data": {
      "application/vnd.plotly.v1+json": {
       "config": {
        "plotlyServerURL": "https://plot.ly"
       },
       "data": [
        {
         "alignmentgroup": "True",
         "hovertemplate": "Terrain=Flat<br>Agent=%{x}<br>Actions=%{text}<extra></extra>",
         "legendgroup": "Flat",
         "marker": {
          "color": "#636efa",
          "pattern": {
           "shape": ""
          }
         },
         "name": "Flat",
         "offsetgroup": "Flat",
         "orientation": "v",
         "showlegend": true,
         "text": [
          22946.162162162163,
          7522.486486486487,
          6130.513513513513
         ],
         "textposition": "outside",
         "texttemplate": "%{text:.2s}",
         "type": "bar",
         "x": [
          6,
          7,
          8
         ],
         "xaxis": "x",
         "y": [
          22946.162162162163,
          7522.486486486487,
          6130.513513513513
         ],
         "yaxis": "y"
        },
        {
         "alignmentgroup": "True",
         "hovertemplate": "Terrain=Hilly<br>Agent=%{x}<br>Actions=%{text}<extra></extra>",
         "legendgroup": "Hilly",
         "marker": {
          "color": "#EF553B",
          "pattern": {
           "shape": ""
          }
         },
         "name": "Hilly",
         "offsetgroup": "Hilly",
         "orientation": "v",
         "showlegend": true,
         "text": [
          35952.78125,
          16549.6875,
          12834.71875
         ],
         "textposition": "outside",
         "texttemplate": "%{text:.2s}",
         "type": "bar",
         "x": [
          6,
          7,
          8
         ],
         "xaxis": "x",
         "y": [
          35952.78125,
          16549.6875,
          12834.71875
         ],
         "yaxis": "y"
        },
        {
         "alignmentgroup": "True",
         "hovertemplate": "Terrain=Forest<br>Agent=%{x}<br>Actions=%{text}<extra></extra>",
         "legendgroup": "Forest",
         "marker": {
          "color": "#00cc96",
          "pattern": {
           "shape": ""
          }
         },
         "name": "Forest",
         "offsetgroup": "Forest",
         "orientation": "v",
         "showlegend": true,
         "text": [
          49702.967741935485,
          43655.74193548387,
          20639.451612903227
         ],
         "textposition": "outside",
         "texttemplate": "%{text:.2s}",
         "type": "bar",
         "x": [
          6,
          7,
          8
         ],
         "xaxis": "x",
         "y": [
          49702.967741935485,
          43655.74193548387,
          20639.451612903227
         ],
         "yaxis": "y"
        }
       ],
       "layout": {
        "barmode": "group",
        "legend": {
         "title": {
          "text": "Terrain"
         },
         "tracegroupgap": 0
        },
        "template": {
         "data": {
          "bar": [
           {
            "error_x": {
             "color": "#2a3f5f"
            },
            "error_y": {
             "color": "#2a3f5f"
            },
            "marker": {
             "line": {
              "color": "#E5ECF6",
              "width": 0.5
             },
             "pattern": {
              "fillmode": "overlay",
              "size": 10,
              "solidity": 0.2
             }
            },
            "type": "bar"
           }
          ],
          "barpolar": [
           {
            "marker": {
             "line": {
              "color": "#E5ECF6",
              "width": 0.5
             },
             "pattern": {
              "fillmode": "overlay",
              "size": 10,
              "solidity": 0.2
             }
            },
            "type": "barpolar"
           }
          ],
          "carpet": [
           {
            "aaxis": {
             "endlinecolor": "#2a3f5f",
             "gridcolor": "white",
             "linecolor": "white",
             "minorgridcolor": "white",
             "startlinecolor": "#2a3f5f"
            },
            "baxis": {
             "endlinecolor": "#2a3f5f",
             "gridcolor": "white",
             "linecolor": "white",
             "minorgridcolor": "white",
             "startlinecolor": "#2a3f5f"
            },
            "type": "carpet"
           }
          ],
          "choropleth": [
           {
            "colorbar": {
             "outlinewidth": 0,
             "ticks": ""
            },
            "type": "choropleth"
           }
          ],
          "contour": [
           {
            "colorbar": {
             "outlinewidth": 0,
             "ticks": ""
            },
            "colorscale": [
             [
              0,
              "#0d0887"
             ],
             [
              0.1111111111111111,
              "#46039f"
             ],
             [
              0.2222222222222222,
              "#7201a8"
             ],
             [
              0.3333333333333333,
              "#9c179e"
             ],
             [
              0.4444444444444444,
              "#bd3786"
             ],
             [
              0.5555555555555556,
              "#d8576b"
             ],
             [
              0.6666666666666666,
              "#ed7953"
             ],
             [
              0.7777777777777778,
              "#fb9f3a"
             ],
             [
              0.8888888888888888,
              "#fdca26"
             ],
             [
              1,
              "#f0f921"
             ]
            ],
            "type": "contour"
           }
          ],
          "contourcarpet": [
           {
            "colorbar": {
             "outlinewidth": 0,
             "ticks": ""
            },
            "type": "contourcarpet"
           }
          ],
          "heatmap": [
           {
            "colorbar": {
             "outlinewidth": 0,
             "ticks": ""
            },
            "colorscale": [
             [
              0,
              "#0d0887"
             ],
             [
              0.1111111111111111,
              "#46039f"
             ],
             [
              0.2222222222222222,
              "#7201a8"
             ],
             [
              0.3333333333333333,
              "#9c179e"
             ],
             [
              0.4444444444444444,
              "#bd3786"
             ],
             [
              0.5555555555555556,
              "#d8576b"
             ],
             [
              0.6666666666666666,
              "#ed7953"
             ],
             [
              0.7777777777777778,
              "#fb9f3a"
             ],
             [
              0.8888888888888888,
              "#fdca26"
             ],
             [
              1,
              "#f0f921"
             ]
            ],
            "type": "heatmap"
           }
          ],
          "heatmapgl": [
           {
            "colorbar": {
             "outlinewidth": 0,
             "ticks": ""
            },
            "colorscale": [
             [
              0,
              "#0d0887"
             ],
             [
              0.1111111111111111,
              "#46039f"
             ],
             [
              0.2222222222222222,
              "#7201a8"
             ],
             [
              0.3333333333333333,
              "#9c179e"
             ],
             [
              0.4444444444444444,
              "#bd3786"
             ],
             [
              0.5555555555555556,
              "#d8576b"
             ],
             [
              0.6666666666666666,
              "#ed7953"
             ],
             [
              0.7777777777777778,
              "#fb9f3a"
             ],
             [
              0.8888888888888888,
              "#fdca26"
             ],
             [
              1,
              "#f0f921"
             ]
            ],
            "type": "heatmapgl"
           }
          ],
          "histogram": [
           {
            "marker": {
             "pattern": {
              "fillmode": "overlay",
              "size": 10,
              "solidity": 0.2
             }
            },
            "type": "histogram"
           }
          ],
          "histogram2d": [
           {
            "colorbar": {
             "outlinewidth": 0,
             "ticks": ""
            },
            "colorscale": [
             [
              0,
              "#0d0887"
             ],
             [
              0.1111111111111111,
              "#46039f"
             ],
             [
              0.2222222222222222,
              "#7201a8"
             ],
             [
              0.3333333333333333,
              "#9c179e"
             ],
             [
              0.4444444444444444,
              "#bd3786"
             ],
             [
              0.5555555555555556,
              "#d8576b"
             ],
             [
              0.6666666666666666,
              "#ed7953"
             ],
             [
              0.7777777777777778,
              "#fb9f3a"
             ],
             [
              0.8888888888888888,
              "#fdca26"
             ],
             [
              1,
              "#f0f921"
             ]
            ],
            "type": "histogram2d"
           }
          ],
          "histogram2dcontour": [
           {
            "colorbar": {
             "outlinewidth": 0,
             "ticks": ""
            },
            "colorscale": [
             [
              0,
              "#0d0887"
             ],
             [
              0.1111111111111111,
              "#46039f"
             ],
             [
              0.2222222222222222,
              "#7201a8"
             ],
             [
              0.3333333333333333,
              "#9c179e"
             ],
             [
              0.4444444444444444,
              "#bd3786"
             ],
             [
              0.5555555555555556,
              "#d8576b"
             ],
             [
              0.6666666666666666,
              "#ed7953"
             ],
             [
              0.7777777777777778,
              "#fb9f3a"
             ],
             [
              0.8888888888888888,
              "#fdca26"
             ],
             [
              1,
              "#f0f921"
             ]
            ],
            "type": "histogram2dcontour"
           }
          ],
          "mesh3d": [
           {
            "colorbar": {
             "outlinewidth": 0,
             "ticks": ""
            },
            "type": "mesh3d"
           }
          ],
          "parcoords": [
           {
            "line": {
             "colorbar": {
              "outlinewidth": 0,
              "ticks": ""
             }
            },
            "type": "parcoords"
           }
          ],
          "pie": [
           {
            "automargin": true,
            "type": "pie"
           }
          ],
          "scatter": [
           {
            "marker": {
             "colorbar": {
              "outlinewidth": 0,
              "ticks": ""
             }
            },
            "type": "scatter"
           }
          ],
          "scatter3d": [
           {
            "line": {
             "colorbar": {
              "outlinewidth": 0,
              "ticks": ""
             }
            },
            "marker": {
             "colorbar": {
              "outlinewidth": 0,
              "ticks": ""
             }
            },
            "type": "scatter3d"
           }
          ],
          "scattercarpet": [
           {
            "marker": {
             "colorbar": {
              "outlinewidth": 0,
              "ticks": ""
             }
            },
            "type": "scattercarpet"
           }
          ],
          "scattergeo": [
           {
            "marker": {
             "colorbar": {
              "outlinewidth": 0,
              "ticks": ""
             }
            },
            "type": "scattergeo"
           }
          ],
          "scattergl": [
           {
            "marker": {
             "colorbar": {
              "outlinewidth": 0,
              "ticks": ""
             }
            },
            "type": "scattergl"
           }
          ],
          "scattermapbox": [
           {
            "marker": {
             "colorbar": {
              "outlinewidth": 0,
              "ticks": ""
             }
            },
            "type": "scattermapbox"
           }
          ],
          "scatterpolar": [
           {
            "marker": {
             "colorbar": {
              "outlinewidth": 0,
              "ticks": ""
             }
            },
            "type": "scatterpolar"
           }
          ],
          "scatterpolargl": [
           {
            "marker": {
             "colorbar": {
              "outlinewidth": 0,
              "ticks": ""
             }
            },
            "type": "scatterpolargl"
           }
          ],
          "scatterternary": [
           {
            "marker": {
             "colorbar": {
              "outlinewidth": 0,
              "ticks": ""
             }
            },
            "type": "scatterternary"
           }
          ],
          "surface": [
           {
            "colorbar": {
             "outlinewidth": 0,
             "ticks": ""
            },
            "colorscale": [
             [
              0,
              "#0d0887"
             ],
             [
              0.1111111111111111,
              "#46039f"
             ],
             [
              0.2222222222222222,
              "#7201a8"
             ],
             [
              0.3333333333333333,
              "#9c179e"
             ],
             [
              0.4444444444444444,
              "#bd3786"
             ],
             [
              0.5555555555555556,
              "#d8576b"
             ],
             [
              0.6666666666666666,
              "#ed7953"
             ],
             [
              0.7777777777777778,
              "#fb9f3a"
             ],
             [
              0.8888888888888888,
              "#fdca26"
             ],
             [
              1,
              "#f0f921"
             ]
            ],
            "type": "surface"
           }
          ],
          "table": [
           {
            "cells": {
             "fill": {
              "color": "#EBF0F8"
             },
             "line": {
              "color": "white"
             }
            },
            "header": {
             "fill": {
              "color": "#C8D4E3"
             },
             "line": {
              "color": "white"
             }
            },
            "type": "table"
           }
          ]
         },
         "layout": {
          "annotationdefaults": {
           "arrowcolor": "#2a3f5f",
           "arrowhead": 0,
           "arrowwidth": 1
          },
          "autotypenumbers": "strict",
          "coloraxis": {
           "colorbar": {
            "outlinewidth": 0,
            "ticks": ""
           }
          },
          "colorscale": {
           "diverging": [
            [
             0,
             "#8e0152"
            ],
            [
             0.1,
             "#c51b7d"
            ],
            [
             0.2,
             "#de77ae"
            ],
            [
             0.3,
             "#f1b6da"
            ],
            [
             0.4,
             "#fde0ef"
            ],
            [
             0.5,
             "#f7f7f7"
            ],
            [
             0.6,
             "#e6f5d0"
            ],
            [
             0.7,
             "#b8e186"
            ],
            [
             0.8,
             "#7fbc41"
            ],
            [
             0.9,
             "#4d9221"
            ],
            [
             1,
             "#276419"
            ]
           ],
           "sequential": [
            [
             0,
             "#0d0887"
            ],
            [
             0.1111111111111111,
             "#46039f"
            ],
            [
             0.2222222222222222,
             "#7201a8"
            ],
            [
             0.3333333333333333,
             "#9c179e"
            ],
            [
             0.4444444444444444,
             "#bd3786"
            ],
            [
             0.5555555555555556,
             "#d8576b"
            ],
            [
             0.6666666666666666,
             "#ed7953"
            ],
            [
             0.7777777777777778,
             "#fb9f3a"
            ],
            [
             0.8888888888888888,
             "#fdca26"
            ],
            [
             1,
             "#f0f921"
            ]
           ],
           "sequentialminus": [
            [
             0,
             "#0d0887"
            ],
            [
             0.1111111111111111,
             "#46039f"
            ],
            [
             0.2222222222222222,
             "#7201a8"
            ],
            [
             0.3333333333333333,
             "#9c179e"
            ],
            [
             0.4444444444444444,
             "#bd3786"
            ],
            [
             0.5555555555555556,
             "#d8576b"
            ],
            [
             0.6666666666666666,
             "#ed7953"
            ],
            [
             0.7777777777777778,
             "#fb9f3a"
            ],
            [
             0.8888888888888888,
             "#fdca26"
            ],
            [
             1,
             "#f0f921"
            ]
           ]
          },
          "colorway": [
           "#636efa",
           "#EF553B",
           "#00cc96",
           "#ab63fa",
           "#FFA15A",
           "#19d3f3",
           "#FF6692",
           "#B6E880",
           "#FF97FF",
           "#FECB52"
          ],
          "font": {
           "color": "#2a3f5f"
          },
          "geo": {
           "bgcolor": "white",
           "lakecolor": "white",
           "landcolor": "#E5ECF6",
           "showlakes": true,
           "showland": true,
           "subunitcolor": "white"
          },
          "hoverlabel": {
           "align": "left"
          },
          "hovermode": "closest",
          "mapbox": {
           "style": "light"
          },
          "paper_bgcolor": "white",
          "plot_bgcolor": "#E5ECF6",
          "polar": {
           "angularaxis": {
            "gridcolor": "white",
            "linecolor": "white",
            "ticks": ""
           },
           "bgcolor": "#E5ECF6",
           "radialaxis": {
            "gridcolor": "white",
            "linecolor": "white",
            "ticks": ""
           }
          },
          "scene": {
           "xaxis": {
            "backgroundcolor": "#E5ECF6",
            "gridcolor": "white",
            "gridwidth": 2,
            "linecolor": "white",
            "showbackground": true,
            "ticks": "",
            "zerolinecolor": "white"
           },
           "yaxis": {
            "backgroundcolor": "#E5ECF6",
            "gridcolor": "white",
            "gridwidth": 2,
            "linecolor": "white",
            "showbackground": true,
            "ticks": "",
            "zerolinecolor": "white"
           },
           "zaxis": {
            "backgroundcolor": "#E5ECF6",
            "gridcolor": "white",
            "gridwidth": 2,
            "linecolor": "white",
            "showbackground": true,
            "ticks": "",
            "zerolinecolor": "white"
           }
          },
          "shapedefaults": {
           "line": {
            "color": "#2a3f5f"
           }
          },
          "ternary": {
           "aaxis": {
            "gridcolor": "white",
            "linecolor": "white",
            "ticks": ""
           },
           "baxis": {
            "gridcolor": "white",
            "linecolor": "white",
            "ticks": ""
           },
           "bgcolor": "#E5ECF6",
           "caxis": {
            "gridcolor": "white",
            "linecolor": "white",
            "ticks": ""
           }
          },
          "title": {
           "x": 0.05
          },
          "xaxis": {
           "automargin": true,
           "gridcolor": "white",
           "linecolor": "white",
           "ticks": "",
           "title": {
            "standoff": 15
           },
           "zerolinecolor": "white",
           "zerolinewidth": 2
          },
          "yaxis": {
           "automargin": true,
           "gridcolor": "white",
           "linecolor": "white",
           "ticks": "",
           "title": {
            "standoff": 15
           },
           "zerolinecolor": "white",
           "zerolinewidth": 2
          }
         }
        },
        "title": {
         "text": "Average Actions vs Agent"
        },
        "uniformtext": {
         "minsize": 8,
         "mode": "hide"
        },
        "xaxis": {
         "anchor": "y",
         "domain": [
          0,
          1
         ],
         "title": {
          "text": "Agent"
         }
        },
        "yaxis": {
         "anchor": "x",
         "domain": [
          0,
          1
         ],
         "title": {
          "text": "Actions"
         }
        }
       }
      }
     },
     "metadata": {},
     "output_type": "display_data"
    }
   ],
   "source": [
    "avg_results_df = avg_results_df.convert_dtypes()\n",
    "bar_chart = px.bar(avg_results_df, x=\"Agent\", y=\"Actions\", color=\"Terrain\", barmode=\"group\", title=\"Average Actions vs Agent\", text='Actions')\n",
    "bar_chart.update_traces(texttemplate='%{text:.2s}', textposition='outside')\n",
    "bar_chart.update_layout(uniformtext_minsize=8, uniformtext_mode='hide')\n",
    "bar_chart.show()\n",
    "plotly.io.write_image(bar_chart, file=\"./images/bar_chart_actions_terrain.png\", scale=5)"
   ]
  },
  {
   "cell_type": "code",
   "execution_count": 8,
   "metadata": {},
   "outputs": [],
   "source": [
    "agent_6_res = [float(r) for r in agent_6_df['Ratio']]\n",
    "agent_7_res = [float(r) for r in agent_7_df['Ratio']]\n",
    "agent_8_res = [float(r) for r in agent_8_df['Ratio']]\n",
    "\n",
    "# hist_data = [agent_6_res, agent_7_res, agent_8_res]\n",
    "# group_labels = ['Agent 6', 'Agent 7', 'Agent 8']\n",
    "# fig_dist = ff.create_distplot(hist_data, group_labels, bin_size=.2)\n",
    "# fig_dist.update_layout(title_text='Movement/Examinations Ratio Hist and Curve Plot')\n",
    "# fig_dist.show()"
   ]
  },
  {
   "cell_type": "code",
   "execution_count": 9,
   "metadata": {},
   "outputs": [
    {
     "data": {
      "application/vnd.plotly.v1+json": {
       "config": {
        "plotlyServerURL": "https://plot.ly"
       },
       "data": [
        {
         "alignmentgroup": "True",
         "boxpoints": "all",
         "hovertemplate": "Agent=6<br>Ratio=%{y}<extra></extra>",
         "legendgroup": "6",
         "marker": {
          "color": "#636efa"
         },
         "name": "6",
         "notched": false,
         "offsetgroup": "6",
         "orientation": "v",
         "showlegend": true,
         "type": "box",
         "x0": " ",
         "xaxis": "x",
         "y": [
          3.2355212355212357,
          7.572488584474886,
          2.9359430604982206,
          7.407367514002585,
          6.356234096692112,
          7.815060540719854,
          7.972250770811922,
          6.594788273615635,
          8.101680553594125,
          3.168,
          3.2282282282282284,
          3.289156626506024,
          9.511733083027561,
          2.8808373590982286,
          3.197645079899075,
          3.1263507896924354,
          8.505642420122365,
          4.457650912494151,
          9.923333333333334,
          6.568028304921197,
          3.1661756040070714,
          3.004026845637584,
          9.067742332799606,
          10.04358837643295,
          8.902430494841756,
          10.892028587135789,
          3.0513513513513515,
          3.333743842364532,
          7.787623289850461,
          2.9334415584415585,
          8.584947538337369,
          3.136764705882353,
          9.148235722080758,
          2.80327868852459,
          6.98072457036693,
          8.937299035369774,
          3.2741514360313317,
          2.930860033726813,
          3.0863095238095237,
          2.6923076923076925,
          3.0589473684210526,
          3.1747700394218135,
          6.411354581673307,
          6.592778070637849,
          2.93278463648834,
          3.282765737874097,
          8.670900861439627,
          8.81314290572133,
          4.584203359055833,
          7.9375892310830105,
          2.7837022132796783,
          2.6910377358490565,
          7.044432689764612,
          3.2185534591194966,
          8.099431009957327,
          7.075308996838172,
          3.319702602230483,
          9.49807170404228,
          7.334908047916315,
          8.13009243409791,
          3.024523160762943,
          3.1048284625158833,
          9.004968944099378,
          2.9134107708553327,
          4.5093264248704665,
          3.8830068819481207,
          7.423253150057274,
          7.547938561034761,
          8.599826764833262,
          8.364831697054699,
          3.0213143872113677,
          3.110395584176633,
          2.86919315403423,
          8.672696290470572,
          12.893189430591738,
          4.553437029603613,
          8.609866828087167,
          3.0258690379951494,
          3.3682539682539683,
          1.8333333333333333,
          7.658159722222222,
          3.104561403508772,
          3.3746835443037977,
          8.47314503146495,
          3.206260032102729,
          8.121941436020858,
          2.8172323759791125,
          3.2516016307513103,
          10.212553038187496,
          4.29805615550756,
          10.396114975718598,
          2.9841409691629956,
          2.6228070175438596,
          4.4234413965087285,
          3.0086393088552916,
          9.511061327359283,
          4.019730010384216,
          8.29320930232558,
          6.928106425134446,
          3.0340798442064263
         ],
         "y0": " ",
         "yaxis": "y"
        },
        {
         "alignmentgroup": "True",
         "boxpoints": "all",
         "hovertemplate": "Agent=7<br>Ratio=%{y}<extra></extra>",
         "legendgroup": "7",
         "marker": {
          "color": "#EF553B"
         },
         "name": "7",
         "notched": false,
         "offsetgroup": "7",
         "orientation": "v",
         "showlegend": true,
         "type": "box",
         "x0": " ",
         "xaxis": "x",
         "y": [
          3.444364680545585,
          3.9191648822269807,
          2.886836027713626,
          8.332477754962355,
          7.114737883283877,
          7.288208357183744,
          2.985074626865672,
          5.012208258527828,
          4.665252854812398,
          3.2802287581699345,
          3.16,
          2.9558948261238336,
          3.6288910505836576,
          2.989100817438692,
          3.1562734785875284,
          2.74,
          2.9012345679012346,
          3.1600265604249667,
          3.7935409457900806,
          7.353080168776371,
          3.032838154808444,
          3.2616899097621,
          6.6656441717791415,
          3.38953488372093,
          3.158081705150977,
          3.018105849582173,
          3.463905325443787,
          8.87879461803625,
          2.8617363344051445,
          2.979500891265597,
          6.680167232819441,
          3.1896046852122986,
          5.869069624152804,
          2.892931392931393,
          5.290800341782968,
          3.1075731497418246,
          2.9473684210526314,
          5.148403483309144,
          2.9657142857142857,
          2.8871951219512195,
          3.3701165181631256,
          3.193741677762983,
          8.673620933521924,
          6.229867256637168,
          5.52873030583874,
          3.5781179648806845,
          3.1266666666666665,
          6.52764780944279,
          3.91497975708502,
          7.408410282006488,
          3.196163366336634,
          3.2085769980506824,
          3.061111111111111,
          2.990081154192967,
          2.9281767955801103,
          6.056761268781302,
          3.2975778546712804,
          3.49609375,
          3.2233962264150944,
          3.466519092418373,
          9.147509578544062,
          5.941985041439256,
          3.21671826625387,
          3.025390625,
          8.031217939322879,
          2.802607076350093,
          3.5689131754705525,
          2.7329545454545454,
          4.751683748169839,
          2.8771186440677967,
          2.772277227722772,
          3.084350721420644,
          3.09674861221253,
          3.092085235920852,
          7.3513629534234814,
          2.9158415841584158,
          3.4136740331491713,
          8.115563019833653,
          4.848915482423336,
          7.700330578512396,
          6.949138114492445,
          3.0655737704918034,
          3.0549450549450547,
          3.2016460905349793,
          2.6616915422885574,
          8.613229433109273,
          4.714342629482072,
          3.884414015304068,
          2.8711340206185567,
          9.572167726635765,
          5.807917545092527,
          6.907919847328245,
          2.9838509316770185,
          2.916971916971917,
          3.1344656758669496,
          2.918269230769231,
          8.022781668291818,
          6.028193079880393,
          2.642857142857143,
          3.0919324577861165
         ],
         "y0": " ",
         "yaxis": "y"
        },
        {
         "alignmentgroup": "True",
         "boxpoints": "all",
         "hovertemplate": "Agent=8<br>Ratio=%{y}<extra></extra>",
         "legendgroup": "8",
         "marker": {
          "color": "#00cc96"
         },
         "name": "8",
         "notched": false,
         "offsetgroup": "8",
         "orientation": "v",
         "showlegend": true,
         "type": "box",
         "x0": " ",
         "xaxis": "x",
         "y": [
          3.028526148969889,
          3.185397279885469,
          3.391037446286065,
          2.7760151737218726,
          3.008602954927997,
          2.8576089244369607,
          2.748736462093863,
          2.9903428295509418,
          2.787479406919275,
          2.4583333333333335,
          2.8933217692974846,
          2.9267729752412923,
          2.824583866837388,
          2.877992277992278,
          2.7058823529411766,
          3.0755649717514126,
          3.065959952885748,
          2.9728025936599423,
          2.735349716446125,
          2.968958611481976,
          2.7995049504950495,
          3.0601503759398496,
          3.0495363305552297,
          3.6059190031152646,
          2.670076726342711,
          3.0824175824175826,
          2.8743500866551126,
          3.0599118942731276,
          3.164007657945118,
          2.9577814569536423,
          3.3793578613752238,
          2.9881831610044314,
          3.1741500962155227,
          3.0551020408163265,
          2.954936323065201,
          2.898128898128898,
          3.121732636295743,
          2.972782258064516,
          2.9814814814814814,
          2.9603620474406993,
          3.4070010449320796,
          2.793103448275862,
          3.158858810179932,
          3.4626189397372,
          2.661036036036036,
          3.180940892641737,
          3.782227784730914,
          3.1466013211165564,
          3.3144257703081235,
          3.086410635155096,
          3.2798418972332017,
          3.0726141078838176,
          3.064973861090366,
          2.780590717299578,
          2.953341740226986,
          2.8722611146467862,
          2.834437086092715,
          3.740125673249551,
          3.3815854258985723,
          2.7864238410596025,
          3.010533245556287,
          3.290271636133923,
          3.787668057487251,
          2.9197860962566846,
          3.0162135604323614,
          3.2093690248565965,
          3.4907985817997638,
          2.7926136363636362,
          2.890825035561878,
          3.053266489111703,
          2.8529411764705883,
          2.9737051792828684,
          2.9482758620689653,
          3.2808641975308643,
          4.014843611945573,
          3.216594045025418,
          3.2666666666666666,
          2.941864241636895,
          2.930715935334873,
          3.311834690043832,
          3.2339133953864834,
          2.5693430656934306,
          2.8989280245022973,
          3.381217277486911,
          3.114662311909483,
          2.8764556040756912,
          2.8003003003003,
          2.902316844082655,
          3.2265625,
          3.4289522247283166,
          2.9061075660893345,
          2.828720854216605,
          2.750684931506849,
          3.5804540967423493,
          3.4565640825866772,
          2.8845637583892616,
          3.0054161400974904,
          3.1596443757247776,
          2.86449864498645,
          3.062454077883909
         ],
         "y0": " ",
         "yaxis": "y"
        }
       ],
       "layout": {
        "boxmode": "group",
        "legend": {
         "title": {
          "text": "Agent"
         },
         "tracegroupgap": 0
        },
        "margin": {
         "t": 60
        },
        "template": {
         "data": {
          "bar": [
           {
            "error_x": {
             "color": "#2a3f5f"
            },
            "error_y": {
             "color": "#2a3f5f"
            },
            "marker": {
             "line": {
              "color": "#E5ECF6",
              "width": 0.5
             },
             "pattern": {
              "fillmode": "overlay",
              "size": 10,
              "solidity": 0.2
             }
            },
            "type": "bar"
           }
          ],
          "barpolar": [
           {
            "marker": {
             "line": {
              "color": "#E5ECF6",
              "width": 0.5
             },
             "pattern": {
              "fillmode": "overlay",
              "size": 10,
              "solidity": 0.2
             }
            },
            "type": "barpolar"
           }
          ],
          "carpet": [
           {
            "aaxis": {
             "endlinecolor": "#2a3f5f",
             "gridcolor": "white",
             "linecolor": "white",
             "minorgridcolor": "white",
             "startlinecolor": "#2a3f5f"
            },
            "baxis": {
             "endlinecolor": "#2a3f5f",
             "gridcolor": "white",
             "linecolor": "white",
             "minorgridcolor": "white",
             "startlinecolor": "#2a3f5f"
            },
            "type": "carpet"
           }
          ],
          "choropleth": [
           {
            "colorbar": {
             "outlinewidth": 0,
             "ticks": ""
            },
            "type": "choropleth"
           }
          ],
          "contour": [
           {
            "colorbar": {
             "outlinewidth": 0,
             "ticks": ""
            },
            "colorscale": [
             [
              0,
              "#0d0887"
             ],
             [
              0.1111111111111111,
              "#46039f"
             ],
             [
              0.2222222222222222,
              "#7201a8"
             ],
             [
              0.3333333333333333,
              "#9c179e"
             ],
             [
              0.4444444444444444,
              "#bd3786"
             ],
             [
              0.5555555555555556,
              "#d8576b"
             ],
             [
              0.6666666666666666,
              "#ed7953"
             ],
             [
              0.7777777777777778,
              "#fb9f3a"
             ],
             [
              0.8888888888888888,
              "#fdca26"
             ],
             [
              1,
              "#f0f921"
             ]
            ],
            "type": "contour"
           }
          ],
          "contourcarpet": [
           {
            "colorbar": {
             "outlinewidth": 0,
             "ticks": ""
            },
            "type": "contourcarpet"
           }
          ],
          "heatmap": [
           {
            "colorbar": {
             "outlinewidth": 0,
             "ticks": ""
            },
            "colorscale": [
             [
              0,
              "#0d0887"
             ],
             [
              0.1111111111111111,
              "#46039f"
             ],
             [
              0.2222222222222222,
              "#7201a8"
             ],
             [
              0.3333333333333333,
              "#9c179e"
             ],
             [
              0.4444444444444444,
              "#bd3786"
             ],
             [
              0.5555555555555556,
              "#d8576b"
             ],
             [
              0.6666666666666666,
              "#ed7953"
             ],
             [
              0.7777777777777778,
              "#fb9f3a"
             ],
             [
              0.8888888888888888,
              "#fdca26"
             ],
             [
              1,
              "#f0f921"
             ]
            ],
            "type": "heatmap"
           }
          ],
          "heatmapgl": [
           {
            "colorbar": {
             "outlinewidth": 0,
             "ticks": ""
            },
            "colorscale": [
             [
              0,
              "#0d0887"
             ],
             [
              0.1111111111111111,
              "#46039f"
             ],
             [
              0.2222222222222222,
              "#7201a8"
             ],
             [
              0.3333333333333333,
              "#9c179e"
             ],
             [
              0.4444444444444444,
              "#bd3786"
             ],
             [
              0.5555555555555556,
              "#d8576b"
             ],
             [
              0.6666666666666666,
              "#ed7953"
             ],
             [
              0.7777777777777778,
              "#fb9f3a"
             ],
             [
              0.8888888888888888,
              "#fdca26"
             ],
             [
              1,
              "#f0f921"
             ]
            ],
            "type": "heatmapgl"
           }
          ],
          "histogram": [
           {
            "marker": {
             "pattern": {
              "fillmode": "overlay",
              "size": 10,
              "solidity": 0.2
             }
            },
            "type": "histogram"
           }
          ],
          "histogram2d": [
           {
            "colorbar": {
             "outlinewidth": 0,
             "ticks": ""
            },
            "colorscale": [
             [
              0,
              "#0d0887"
             ],
             [
              0.1111111111111111,
              "#46039f"
             ],
             [
              0.2222222222222222,
              "#7201a8"
             ],
             [
              0.3333333333333333,
              "#9c179e"
             ],
             [
              0.4444444444444444,
              "#bd3786"
             ],
             [
              0.5555555555555556,
              "#d8576b"
             ],
             [
              0.6666666666666666,
              "#ed7953"
             ],
             [
              0.7777777777777778,
              "#fb9f3a"
             ],
             [
              0.8888888888888888,
              "#fdca26"
             ],
             [
              1,
              "#f0f921"
             ]
            ],
            "type": "histogram2d"
           }
          ],
          "histogram2dcontour": [
           {
            "colorbar": {
             "outlinewidth": 0,
             "ticks": ""
            },
            "colorscale": [
             [
              0,
              "#0d0887"
             ],
             [
              0.1111111111111111,
              "#46039f"
             ],
             [
              0.2222222222222222,
              "#7201a8"
             ],
             [
              0.3333333333333333,
              "#9c179e"
             ],
             [
              0.4444444444444444,
              "#bd3786"
             ],
             [
              0.5555555555555556,
              "#d8576b"
             ],
             [
              0.6666666666666666,
              "#ed7953"
             ],
             [
              0.7777777777777778,
              "#fb9f3a"
             ],
             [
              0.8888888888888888,
              "#fdca26"
             ],
             [
              1,
              "#f0f921"
             ]
            ],
            "type": "histogram2dcontour"
           }
          ],
          "mesh3d": [
           {
            "colorbar": {
             "outlinewidth": 0,
             "ticks": ""
            },
            "type": "mesh3d"
           }
          ],
          "parcoords": [
           {
            "line": {
             "colorbar": {
              "outlinewidth": 0,
              "ticks": ""
             }
            },
            "type": "parcoords"
           }
          ],
          "pie": [
           {
            "automargin": true,
            "type": "pie"
           }
          ],
          "scatter": [
           {
            "marker": {
             "colorbar": {
              "outlinewidth": 0,
              "ticks": ""
             }
            },
            "type": "scatter"
           }
          ],
          "scatter3d": [
           {
            "line": {
             "colorbar": {
              "outlinewidth": 0,
              "ticks": ""
             }
            },
            "marker": {
             "colorbar": {
              "outlinewidth": 0,
              "ticks": ""
             }
            },
            "type": "scatter3d"
           }
          ],
          "scattercarpet": [
           {
            "marker": {
             "colorbar": {
              "outlinewidth": 0,
              "ticks": ""
             }
            },
            "type": "scattercarpet"
           }
          ],
          "scattergeo": [
           {
            "marker": {
             "colorbar": {
              "outlinewidth": 0,
              "ticks": ""
             }
            },
            "type": "scattergeo"
           }
          ],
          "scattergl": [
           {
            "marker": {
             "colorbar": {
              "outlinewidth": 0,
              "ticks": ""
             }
            },
            "type": "scattergl"
           }
          ],
          "scattermapbox": [
           {
            "marker": {
             "colorbar": {
              "outlinewidth": 0,
              "ticks": ""
             }
            },
            "type": "scattermapbox"
           }
          ],
          "scatterpolar": [
           {
            "marker": {
             "colorbar": {
              "outlinewidth": 0,
              "ticks": ""
             }
            },
            "type": "scatterpolar"
           }
          ],
          "scatterpolargl": [
           {
            "marker": {
             "colorbar": {
              "outlinewidth": 0,
              "ticks": ""
             }
            },
            "type": "scatterpolargl"
           }
          ],
          "scatterternary": [
           {
            "marker": {
             "colorbar": {
              "outlinewidth": 0,
              "ticks": ""
             }
            },
            "type": "scatterternary"
           }
          ],
          "surface": [
           {
            "colorbar": {
             "outlinewidth": 0,
             "ticks": ""
            },
            "colorscale": [
             [
              0,
              "#0d0887"
             ],
             [
              0.1111111111111111,
              "#46039f"
             ],
             [
              0.2222222222222222,
              "#7201a8"
             ],
             [
              0.3333333333333333,
              "#9c179e"
             ],
             [
              0.4444444444444444,
              "#bd3786"
             ],
             [
              0.5555555555555556,
              "#d8576b"
             ],
             [
              0.6666666666666666,
              "#ed7953"
             ],
             [
              0.7777777777777778,
              "#fb9f3a"
             ],
             [
              0.8888888888888888,
              "#fdca26"
             ],
             [
              1,
              "#f0f921"
             ]
            ],
            "type": "surface"
           }
          ],
          "table": [
           {
            "cells": {
             "fill": {
              "color": "#EBF0F8"
             },
             "line": {
              "color": "white"
             }
            },
            "header": {
             "fill": {
              "color": "#C8D4E3"
             },
             "line": {
              "color": "white"
             }
            },
            "type": "table"
           }
          ]
         },
         "layout": {
          "annotationdefaults": {
           "arrowcolor": "#2a3f5f",
           "arrowhead": 0,
           "arrowwidth": 1
          },
          "autotypenumbers": "strict",
          "coloraxis": {
           "colorbar": {
            "outlinewidth": 0,
            "ticks": ""
           }
          },
          "colorscale": {
           "diverging": [
            [
             0,
             "#8e0152"
            ],
            [
             0.1,
             "#c51b7d"
            ],
            [
             0.2,
             "#de77ae"
            ],
            [
             0.3,
             "#f1b6da"
            ],
            [
             0.4,
             "#fde0ef"
            ],
            [
             0.5,
             "#f7f7f7"
            ],
            [
             0.6,
             "#e6f5d0"
            ],
            [
             0.7,
             "#b8e186"
            ],
            [
             0.8,
             "#7fbc41"
            ],
            [
             0.9,
             "#4d9221"
            ],
            [
             1,
             "#276419"
            ]
           ],
           "sequential": [
            [
             0,
             "#0d0887"
            ],
            [
             0.1111111111111111,
             "#46039f"
            ],
            [
             0.2222222222222222,
             "#7201a8"
            ],
            [
             0.3333333333333333,
             "#9c179e"
            ],
            [
             0.4444444444444444,
             "#bd3786"
            ],
            [
             0.5555555555555556,
             "#d8576b"
            ],
            [
             0.6666666666666666,
             "#ed7953"
            ],
            [
             0.7777777777777778,
             "#fb9f3a"
            ],
            [
             0.8888888888888888,
             "#fdca26"
            ],
            [
             1,
             "#f0f921"
            ]
           ],
           "sequentialminus": [
            [
             0,
             "#0d0887"
            ],
            [
             0.1111111111111111,
             "#46039f"
            ],
            [
             0.2222222222222222,
             "#7201a8"
            ],
            [
             0.3333333333333333,
             "#9c179e"
            ],
            [
             0.4444444444444444,
             "#bd3786"
            ],
            [
             0.5555555555555556,
             "#d8576b"
            ],
            [
             0.6666666666666666,
             "#ed7953"
            ],
            [
             0.7777777777777778,
             "#fb9f3a"
            ],
            [
             0.8888888888888888,
             "#fdca26"
            ],
            [
             1,
             "#f0f921"
            ]
           ]
          },
          "colorway": [
           "#636efa",
           "#EF553B",
           "#00cc96",
           "#ab63fa",
           "#FFA15A",
           "#19d3f3",
           "#FF6692",
           "#B6E880",
           "#FF97FF",
           "#FECB52"
          ],
          "font": {
           "color": "#2a3f5f"
          },
          "geo": {
           "bgcolor": "white",
           "lakecolor": "white",
           "landcolor": "#E5ECF6",
           "showlakes": true,
           "showland": true,
           "subunitcolor": "white"
          },
          "hoverlabel": {
           "align": "left"
          },
          "hovermode": "closest",
          "mapbox": {
           "style": "light"
          },
          "paper_bgcolor": "white",
          "plot_bgcolor": "#E5ECF6",
          "polar": {
           "angularaxis": {
            "gridcolor": "white",
            "linecolor": "white",
            "ticks": ""
           },
           "bgcolor": "#E5ECF6",
           "radialaxis": {
            "gridcolor": "white",
            "linecolor": "white",
            "ticks": ""
           }
          },
          "scene": {
           "xaxis": {
            "backgroundcolor": "#E5ECF6",
            "gridcolor": "white",
            "gridwidth": 2,
            "linecolor": "white",
            "showbackground": true,
            "ticks": "",
            "zerolinecolor": "white"
           },
           "yaxis": {
            "backgroundcolor": "#E5ECF6",
            "gridcolor": "white",
            "gridwidth": 2,
            "linecolor": "white",
            "showbackground": true,
            "ticks": "",
            "zerolinecolor": "white"
           },
           "zaxis": {
            "backgroundcolor": "#E5ECF6",
            "gridcolor": "white",
            "gridwidth": 2,
            "linecolor": "white",
            "showbackground": true,
            "ticks": "",
            "zerolinecolor": "white"
           }
          },
          "shapedefaults": {
           "line": {
            "color": "#2a3f5f"
           }
          },
          "ternary": {
           "aaxis": {
            "gridcolor": "white",
            "linecolor": "white",
            "ticks": ""
           },
           "baxis": {
            "gridcolor": "white",
            "linecolor": "white",
            "ticks": ""
           },
           "bgcolor": "#E5ECF6",
           "caxis": {
            "gridcolor": "white",
            "linecolor": "white",
            "ticks": ""
           }
          },
          "title": {
           "x": 0.05
          },
          "xaxis": {
           "automargin": true,
           "gridcolor": "white",
           "linecolor": "white",
           "ticks": "",
           "title": {
            "standoff": 15
           },
           "zerolinecolor": "white",
           "zerolinewidth": 2
          },
          "yaxis": {
           "automargin": true,
           "gridcolor": "white",
           "linecolor": "white",
           "ticks": "",
           "title": {
            "standoff": 15
           },
           "zerolinecolor": "white",
           "zerolinewidth": 2
          }
         }
        },
        "title": {
         "text": "Movement/Examinations Ratio Box Plot"
        },
        "xaxis": {
         "anchor": "y",
         "domain": [
          0,
          1
         ]
        },
        "yaxis": {
         "anchor": "x",
         "domain": [
          0,
          1
         ],
         "title": {
          "text": "Ratio"
         }
        }
       }
      }
     },
     "metadata": {},
     "output_type": "display_data"
    }
   ],
   "source": [
    "box_plot = px.box(results_df, y=\"Ratio\", color=\"Agent\", points='all')\n",
    "box_plot.update_layout(title_text='Movement/Examinations Ratio Box Plot')\n",
    "box_plot.show()"
   ]
  },
  {
   "cell_type": "code",
   "execution_count": 31,
   "metadata": {},
   "outputs": [],
   "source": [
    "plotly.io.write_image(fig_dist, file=\"./images/question_4_histogram.png\", scale=5)\n",
    "plotly.io.write_image(box_plot, file=\"./images/question_4_box.png\", scale=5)"
   ]
  },
  {
   "cell_type": "code",
   "execution_count": 29,
   "metadata": {},
   "outputs": [
    {
     "data": {
      "application/vnd.plotly.v1+json": {
       "config": {
        "plotlyServerURL": "https://plot.ly"
       },
       "data": [
        {
         "autobinx": false,
         "histnorm": "probability density",
         "legendgroup": "Agent 6",
         "marker": {
          "color": "#636EFA"
         },
         "name": "Agent 6",
         "opacity": 0.7,
         "type": "histogram",
         "x": [
          3.2355212355212357,
          7.572488584474886,
          2.9359430604982206,
          7.407367514002585,
          6.356234096692112,
          7.815060540719854,
          7.972250770811922,
          6.594788273615635,
          8.101680553594125,
          3.168,
          3.2282282282282284,
          3.289156626506024,
          9.511733083027561,
          2.8808373590982286,
          3.197645079899075,
          3.1263507896924354,
          8.505642420122365,
          4.457650912494151,
          9.923333333333334,
          6.568028304921197,
          3.1661756040070714,
          3.004026845637584,
          9.067742332799606,
          10.04358837643295,
          8.902430494841756,
          10.892028587135789,
          3.0513513513513515,
          3.333743842364532,
          7.787623289850461,
          2.9334415584415585,
          8.584947538337369,
          3.136764705882353,
          9.148235722080758,
          2.80327868852459,
          6.98072457036693,
          8.937299035369774,
          3.2741514360313317,
          2.930860033726813,
          3.0863095238095237,
          2.6923076923076925,
          3.0589473684210526,
          3.1747700394218135,
          6.411354581673307,
          6.592778070637849,
          2.93278463648834,
          3.282765737874097,
          8.670900861439627,
          8.81314290572133,
          4.584203359055833,
          7.9375892310830105,
          2.7837022132796783,
          2.6910377358490565,
          7.044432689764612,
          3.2185534591194966,
          8.099431009957327,
          7.075308996838172,
          3.319702602230483,
          9.49807170404228,
          7.334908047916315,
          8.13009243409791,
          3.024523160762943,
          3.1048284625158833,
          9.004968944099378,
          2.9134107708553327,
          4.5093264248704665,
          3.8830068819481207,
          7.423253150057274,
          7.547938561034761,
          8.599826764833262,
          8.364831697054699,
          3.0213143872113677,
          3.110395584176633,
          2.86919315403423,
          8.672696290470572,
          12.893189430591738,
          4.553437029603613,
          8.609866828087167,
          3.0258690379951494,
          3.3682539682539683,
          1.8333333333333333,
          7.658159722222222,
          3.104561403508772,
          3.3746835443037977,
          8.47314503146495,
          3.206260032102729,
          8.121941436020858,
          2.8172323759791125,
          3.2516016307513103,
          10.212553038187496,
          4.29805615550756,
          10.396114975718598,
          2.9841409691629956,
          2.6228070175438596,
          4.4234413965087285,
          3.0086393088552916,
          9.511061327359283,
          4.019730010384216,
          8.29320930232558,
          6.928106425134446,
          3.0340798442064263
         ],
         "xaxis": "x",
         "xbins": {
          "end": 12.893189430591738,
          "size": 0.2,
          "start": 1.8333333333333333
         },
         "yaxis": "y"
        },
        {
         "legendgroup": "Agent 6",
         "marker": {
          "color": "#636EFA"
         },
         "mode": "lines",
         "name": "Agent 6",
         "showlegend": false,
         "type": "scatter",
         "x": [
          1.8333333333333333,
          1.8554530455278502,
          1.8775727577223669,
          1.8996924699168838,
          1.9218121821114005,
          1.9439318943059174,
          1.966051606500434,
          1.988171318694951,
          2.010291030889468,
          2.0324107430839846,
          2.0545304552785013,
          2.076650167473018,
          2.098769879667535,
          2.120889591862052,
          2.1430093040565685,
          2.1651290162510852,
          2.1872487284456024,
          2.209368440640119,
          2.2314881528346358,
          2.2536078650291524,
          2.2757275772236696,
          2.2978472894181863,
          2.319967001612703,
          2.3420867138072197,
          2.364206426001737,
          2.3863261381962535,
          2.40844585039077,
          2.4305655625852873,
          2.452685274779804,
          2.4748049869743207,
          2.4969246991688374,
          2.519044411363354,
          2.5411641235578712,
          2.563283835752388,
          2.5854035479469046,
          2.6075232601414218,
          2.6296429723359385,
          2.651762684530455,
          2.673882396724972,
          2.6960021089194885,
          2.7181218211140057,
          2.7402415333085224,
          2.762361245503039,
          2.784480957697556,
          2.806600669892073,
          2.8287203820865896,
          2.8508400942811063,
          2.872959806475623,
          2.89507951867014,
          2.917199230864657,
          2.9393189430591735,
          2.9614386552536907,
          2.9835583674482073,
          3.005678079642724,
          3.0277977918372407,
          3.0499175040317574,
          3.0720372162262746,
          3.0941569284207913,
          3.116276640615308,
          3.138396352809825,
          3.160516065004342,
          3.1826357771988585,
          3.204755489393375,
          3.2268752015878923,
          3.248994913782409,
          3.2711146259769257,
          3.2932343381714424,
          3.3153540503659595,
          3.3374737625604762,
          3.359593474754993,
          3.3817131869495096,
          3.4038328991440268,
          3.4259526113385435,
          3.44807232353306,
          3.470192035727577,
          3.492311747922094,
          3.5144314601166107,
          3.5365511723111274,
          3.558670884505644,
          3.580790596700161,
          3.602910308894678,
          3.6250300210891946,
          3.6471497332837113,
          3.6692694454782284,
          3.691389157672745,
          3.713508869867262,
          3.735628582061779,
          3.7577482942562956,
          3.7798680064508123,
          3.801987718645329,
          3.824107430839846,
          3.846227143034363,
          3.8683468552288796,
          3.8904665674233962,
          3.912586279617913,
          3.9347059918124296,
          3.956825704006947,
          3.978945416201464,
          4.001065128395981,
          4.023184840590497,
          4.045304552785014,
          4.067424264979531,
          4.089543977174047,
          4.111663689368564,
          4.133783401563082,
          4.155903113757598,
          4.178022825952115,
          4.200142538146632,
          4.222262250341148,
          4.244381962535665,
          4.266501674730182,
          4.2886213869246985,
          4.310741099119216,
          4.332860811313733,
          4.3549805235082495,
          4.377100235702766,
          4.399219947897283,
          4.4213396600918,
          4.443459372286316,
          4.465579084480833,
          4.4876987966753505,
          4.509818508869867,
          4.531938221064384,
          4.554057933258901,
          4.576177645453417,
          4.598297357647934,
          4.620417069842452,
          4.642536782036967,
          4.664656494231485,
          4.686776206426002,
          4.708895918620518,
          4.731015630815035,
          4.753135343009552,
          4.7752550552040685,
          4.797374767398586,
          4.819494479593102,
          4.841614191787619,
          4.863733903982136,
          4.885853616176653,
          4.9079733283711695,
          4.930093040565686,
          4.952212752760203,
          4.9743324649547205,
          4.996452177149236,
          5.018571889343754,
          5.040691601538271,
          5.062811313732787,
          5.084931025927304,
          5.107050738121821,
          5.129170450316337,
          5.151290162510855,
          5.173409874705371,
          5.195529586899888,
          5.217649299094405,
          5.239769011288922,
          5.261888723483438,
          5.284008435677955,
          5.306128147872472,
          5.328247860066989,
          5.350367572261505,
          5.372487284456023,
          5.394606996650539,
          5.416726708845056,
          5.438846421039573,
          5.4609661332340895,
          5.483085845428606,
          5.505205557623124,
          5.52732526981764,
          5.549444982012157,
          5.571564694206674,
          5.593684406401191,
          5.615804118595707,
          5.637923830790225,
          5.660043542984741,
          5.682163255179258,
          5.704282967373774,
          5.726402679568292,
          5.748522391762808,
          5.770642103957325,
          5.792761816151842,
          5.814881528346358,
          5.837001240540875,
          5.859120952735392,
          5.8812406649299085,
          5.903360377124426,
          5.925480089318943,
          5.9475998015134595,
          5.969719513707976,
          5.991839225902493,
          6.01395893809701,
          6.036078650291526,
          6.058198362486043,
          6.0803180746805605,
          6.102437786875077,
          6.124557499069594,
          6.146677211264111,
          6.168796923458627,
          6.190916635653144,
          6.213036347847661,
          6.235156060042178,
          6.257275772236694,
          6.279395484431211,
          6.301515196625728,
          6.323634908820245,
          6.345754621014762,
          6.367874333209279,
          6.389994045403795,
          6.412113757598312,
          6.434233469792829,
          6.456353181987346,
          6.478472894181863,
          6.5005926063763795,
          6.522712318570896,
          6.544832030765413,
          6.5669517429599304,
          6.589071455154447,
          6.611191167348964,
          6.63331087954348,
          6.655430591737997,
          6.677550303932514,
          6.699670016127031,
          6.721789728321548,
          6.743909440516064,
          6.766029152710581,
          6.788148864905098,
          6.810268577099615,
          6.832388289294132,
          6.854508001488648,
          6.876627713683165,
          6.898747425877682,
          6.920867138072199,
          6.942986850266716,
          6.965106562461232,
          6.987226274655749,
          7.009345986850266,
          7.031465699044783,
          7.0535854112392995,
          7.075705123433817,
          7.097824835628333,
          7.11994454782285,
          7.142064260017367,
          7.164183972211884,
          7.1863036844064005,
          7.208423396600917,
          7.230543108795434,
          7.252662820989951,
          7.274782533184468,
          7.296902245378985,
          7.319021957573502,
          7.341141669768018,
          7.363261381962535,
          7.385381094157052,
          7.407500806351569,
          7.429620518546086,
          7.451740230740602,
          7.4738599429351185,
          7.495979655129636,
          7.518099367324153,
          7.540219079518669,
          7.562338791713186,
          7.584458503907703,
          7.6065782161022195,
          7.628697928296737,
          7.650817640491254,
          7.67293735268577,
          7.695057064880287,
          7.717176777074804,
          7.739296489269321,
          7.761416201463838,
          7.783535913658355,
          7.805655625852871,
          7.827775338047387,
          7.849895050241905,
          7.872014762436422,
          7.894134474630938,
          7.916254186825455,
          7.938373899019972,
          7.960493611214488,
          7.982613323409006,
          8.004733035603524,
          8.02685274779804,
          8.048972459992557,
          8.071092172187074,
          8.09321188438159,
          8.115331596576107,
          8.137451308770624,
          8.15957102096514,
          8.181690733159657,
          8.203810445354174,
          8.22593015754869,
          8.248049869743209,
          8.270169581937724,
          8.29228929413224,
          8.314409006326757,
          8.336528718521276,
          8.358648430715792,
          8.380768142910307,
          8.402887855104826,
          8.425007567299343,
          8.44712727949386,
          8.469246991688376,
          8.491366703882893,
          8.51348641607741,
          8.535606128271926,
          8.557725840466443,
          8.57984555266096,
          8.601965264855478,
          8.624084977049993,
          8.64620468924451,
          8.668324401439026,
          8.690444113633545,
          8.712563825828061,
          8.734683538022578,
          8.756803250217095,
          8.778922962411611,
          8.801042674606128,
          8.823162386800645,
          8.845282098995161,
          8.867401811189678,
          8.889521523384195,
          8.911641235578712,
          8.933760947773228,
          8.955880659967747,
          8.978000372162262,
          9.000120084356778,
          9.022239796551297,
          9.044359508745814,
          9.06647922094033,
          9.088598933134845,
          9.110718645329364,
          9.13283835752388,
          9.154958069718397,
          9.177077781912914,
          9.19919749410743,
          9.221317206301947,
          9.243436918496464,
          9.26555663069098,
          9.287676342885497,
          9.309796055080016,
          9.33191576727453,
          9.354035479469047,
          9.376155191663566,
          9.398274903858082,
          9.420394616052599,
          9.442514328247116,
          9.464634040441632,
          9.48675375263615,
          9.508873464830666,
          9.530993177025183,
          9.5531128892197,
          9.575232601414216,
          9.597352313608733,
          9.61947202580325,
          9.641591737997766,
          9.663711450192285,
          9.6858311623868,
          9.707950874581316,
          9.730070586775835,
          9.752190298970351,
          9.774310011164868,
          9.796429723359385,
          9.818549435553901,
          9.840669147748418,
          9.862788859942935,
          9.884908572137451,
          9.90702828433197,
          9.929147996526485,
          9.951267708721002,
          9.97338742091552,
          9.995507133110037,
          10.017626845304553,
          10.03974655749907,
          10.061866269693587,
          10.083985981888103,
          10.10610569408262,
          10.128225406277137,
          10.150345118471654,
          10.17246483066617,
          10.194584542860689,
          10.216704255055204,
          10.23882396724972,
          10.260943679444237,
          10.283063391638754,
          10.30518310383327,
          10.327302816027789,
          10.349422528222306,
          10.371542240416822,
          10.393661952611339,
          10.415781664805856,
          10.437901377000372,
          10.460021089194889,
          10.482140801389406,
          10.504260513583922,
          10.52638022577844,
          10.548499937972956,
          10.570619650167473,
          10.59273936236199,
          10.614859074556508,
          10.636978786751024,
          10.659098498945541,
          10.681218211140056,
          10.703337923334573,
          10.72545763552909,
          10.747577347723608,
          10.769697059918125,
          10.791816772112641,
          10.813936484307158,
          10.836056196501675,
          10.858175908696191,
          10.88029562089071,
          10.902415333085226,
          10.924535045279741,
          10.946654757474258,
          10.968774469668775,
          10.990894181863291,
          11.013013894057808,
          11.035133606252327,
          11.057253318446843,
          11.07937303064136,
          11.101492742835877,
          11.123612455030393,
          11.14573216722491,
          11.167851879419427,
          11.189971591613944,
          11.21209130380846,
          11.234211016002977,
          11.256330728197494,
          11.27845044039201,
          11.300570152586529,
          11.322689864781045,
          11.344809576975562,
          11.366929289170079,
          11.389049001364596,
          11.41116871355911,
          11.433288425753627,
          11.455408137948146,
          11.477527850142662,
          11.499647562337179,
          11.521767274531696,
          11.543886986726212,
          11.566006698920729,
          11.588126411115248,
          11.610246123309764,
          11.63236583550428,
          11.654485547698796,
          11.676605259893313,
          11.69872497208783,
          11.720844684282348,
          11.742964396476864,
          11.765084108671381,
          11.787203820865898,
          11.809323533060414,
          11.831443245254931,
          11.853562957449448,
          11.875682669643965,
          11.897802381838481,
          11.919922094032998,
          11.942041806227515,
          11.964161518422031,
          11.986281230616548,
          12.008400942811067,
          12.030520655005583,
          12.0526403672001,
          12.074760079394617,
          12.096879791589132,
          12.118999503783648,
          12.141119215978167,
          12.163238928172683,
          12.1853586403672,
          12.207478352561717,
          12.229598064756233,
          12.25171777695075,
          12.273837489145267,
          12.295957201339785,
          12.318076913534302,
          12.340196625728817,
          12.362316337923334,
          12.38443605011785,
          12.406555762312367,
          12.428675474506885,
          12.450795186701402,
          12.472914898895919,
          12.495034611090436,
          12.517154323284952,
          12.539274035479469,
          12.561393747673987,
          12.583513459868502,
          12.605633172063019,
          12.627752884257536,
          12.649872596452052,
          12.67199230864657,
          12.694112020841086,
          12.716231733035604,
          12.738351445230121,
          12.760471157424638,
          12.782590869619154,
          12.804710581813671,
          12.826830294008186,
          12.848950006202704,
          12.871069718397221
         ],
         "xaxis": "x",
         "y": [
          0.09153701542105114,
          0.09353443671002229,
          0.09554053804814619,
          0.09755401810960931,
          0.09957354053901014,
          0.10159773529175327,
          0.10362520006721579,
          0.10565450183318022,
          0.10768417843974376,
          0.10971274032063118,
          0.11173867227955744,
          0.11376043535900741,
          0.11577646878852202,
          0.11778519200931309,
          0.1197850067717577,
          0.12177429930206776,
          0.12375144253417657,
          0.12571479840264116,
          0.12766272019212585,
          0.1295935549388099,
          0.13150564587884964,
          0.13339733493882763,
          0.13526696526293697,
          0.13711288377147499,
          0.1389334437450686,
          0.14072700742891103,
          0.142491948651167,
          0.14422665544959962,
          0.14592953270037856,
          0.14759900474296847,
          0.14923351799493567,
          0.15083154355048747,
          0.15239157975654274,
          0.15391215476014025,
          0.15539182902101933,
          0.15682919778325702,
          0.15822289349990887,
          0.15957158820469292,
          0.16087399582486134,
          0.16212887442952978,
          0.16333502840788278,
          0.16449131057183733,
          0.16559662417792737,
          0.16664992486337482,
          0.16765022249153022,
          0.1685965829020961,
          0.1694881295617998,
          0.17032404511144353,
          0.17110357280553617,
          0.1718260178410033,
          0.1724907485717722,
          0.17309719760634162,
          0.17364486278576546,
          0.17413330803981494,
          0.17456216411941122,
          0.17493112920377457,
          0.1752399693810747,
          0.17548851900172066,
          0.1756766809037816,
          0.17580442651038103,
          0.175871795799264,
          0.1758788971450778,
          0.17582590703526807,
          0.17571306966082037,
          0.17554069638342526,
          0.1753091650809703,
          0.17501891937358258,
          0.17467046773276468,
          0.17426438247646195,
          0.17380129865319316,
          0.17328191281865757,
          0.17270698170848997,
          0.17207732081109323,
          0.17139380284470776,
          0.17065735614310237,
          0.16986896295446863,
          0.1690296576582942,
          0.16814052490515216,
          0.16720269768450105,
          0.16621735532571671,
          0.16518572143769575,
          0.16410906179246174,
          0.16298868215828402,
          0.1618259260878728,
          0.16062217266725687,
          0.15937883423096338,
          0.15809735404912542,
          0.156779203992123,
          0.15542588217832407,
          0.1540389106104471,
          0.15261983280598593,
          0.15117021142705964,
          0.1496916259149425,
          0.14818567013441214,
          0.14665395003292175,
          0.14509808131945628,
          0.14351968716777203,
          0.1419203959485515,
          0.1403018389948162,
          0.138665648404758,
          0.13701345488593566,
          0.13534688564458597,
          0.13366756232357113,
          0.13197709899226634,
          0.13027710019146366,
          0.12856915903613003,
          0.12685485537862662,
          0.12513575403475657,
          0.12341340307476686,
          0.12168933218119275,
          0.1199650510751925,
          0.11824204801278322,
          0.11652178835215202,
          0.11480571319298803,
          0.11309523808854781,
          0.11139175183095025,
          0.10969661530997406,
          0.10801116044542326,
          0.10633668919292222,
          0.10467447262280202,
          0.1030257500715569,
          0.10139172836516444,
          0.0997735811133963,
          0.09817244807408136,
          0.09658943458613622,
          0.09502561107002956,
          0.0934820125942222,
          0.09195963850599793,
          0.0904594521249923,
          0.0889823804976257,
          0.08752931421055617,
          0.08610110726118833,
          0.08469857698320804,
          0.08332250402504825,
          0.08197363237914901,
          0.080652669459831,
          0.07936028622757363,
          0.07809711735747076,
          0.07686376144962197,
          0.0756607812792177,
          0.07448870408408174,
          0.07334802188744534,
          0.07223919185375129,
          0.07116263667531163,
          0.07011874498767656,
          0.06910787181161417,
          0.06813033901964254,
          0.06718643582511004,
          0.06627641929187122,
          0.0654005148626665,
          0.0645589169043758,
          0.06375178926838189,
          0.06297926586434562,
          0.06224145124576829,
          0.0615384212057854,
          0.060870223381709686,
          0.060236877866916,
          0.059638377828733165,
          0.05907469013108218,
          0.05854575596067559,
          0.05805149145566153,
          0.0575917883356736,
          0.05716651453231158,
          0.056775514819152835,
          0.05641861144045671,
          0.05609560473779184,
          0.055806273773877056,
          0.055550376952988395,
          0.05532765263734025,
          0.05513781975890564,
          0.05498057842619058,
          0.05485561052552787,
          0.05476258031650218,
          0.05470113502115957,
          0.05467090540669766,
          0.05467150636136756,
          0.054702537463354774,
          0.05476358354243795,
          0.05485421523425131,
          0.054973989527006446,
          0.05512245030054912,
          0.055299128857650384,
          0.05550354444744998,
          0.05573520478098559,
          0.055993606538757915,
          0.056278235870292743,
          0.05658856888567433,
          0.056924072139031834,
          0.057284203103970234,
          0.0576684106409439,
          0.058076135456576194,
          0.058506810554934376,
          0.05895986168077244,
          0.059434707754758634,
          0.05993076130070754,
          0.06044742886483956,
          0.06098411142709188,
          0.061540204804510855,
          0.06211510004675394,
          0.0627081838237365,
          0.06331883880545795,
          0.06394644403404982,
          0.06459037528808516,
          0.06525000543920148,
          0.06592470480108756,
          0.06661384147089244,
          0.06731678166312155,
          0.06803289003609052,
          0.06876153001101366,
          0.06950206408381521,
          0.07025385412975481,
          0.07101626170097315,
          0.0717886483170684,
          0.07257037574882798,
          0.07336080629524722,
          0.07415930305398048,
          0.07496523018537847,
          0.07577795317027809,
          0.07659683906172361,
          0.07742125673080584,
          0.07825057710682219,
          0.07908417341196636,
          0.0799214213907716,
          0.08076169953453965,
          0.08160438930099749,
          0.08244887532943453,
          0.0832945456515808,
          0.08414079189849437,
          0.08498700950373442,
          0.08583259790310051,
          0.08667696073122602,
          0.08751950601531529,
          0.08835964636631768,
          0.08919679916783356,
          0.09003038676304499,
          0.09085983663996501,
          0.0916845816152947,
          0.09250406001717298,
          0.09331771586709715,
          0.09412499906128732,
          0.09492536555175443,
          0.09571827752732338,
          0.0965032035948504,
          0.09727961896085774,
          0.09804700561379436,
          0.09880485250711465,
          0.09955265574334704,
          0.10028991875930456,
          0.10101615251257062,
          0.10173087566936508,
          0.10243361479387805,
          0.10312390453912804,
          0.10380128783938136,
          0.10446531610413433,
          0.10511554941364189,
          0.1057515567159395,
          0.10637291602528148,
          0.10697921462188713,
          0.10757004925285826,
          0.10814502633409939,
          0.10870376215304592,
          0.10924588307197268,
          0.10977102573162807,
          0.11027883725491003,
          0.11076897545027183,
          0.11124110901451803,
          0.11169491773462584,
          0.11213009268819983,
          0.11254633644214636,
          0.11294336324912939,
          0.1133208992413475,
          0.11367868262115698,
          0.11401646384803935,
          0.114334005821405,
          0.11463108405870383,
          0.11490748686830397,
          0.1151630155165893,
          0.11539748438872023,
          0.11561072114249309,
          0.11580256685473357,
          0.11597287615965825,
          0.11612151737863775,
          0.11624837264080136,
          0.11635333799392958,
          0.11643632350508688,
          0.11649725335046356,
          0.11653606589390457,
          0.1165527137536224,
          0.11654716385660914,
          0.11651939748028378,
          0.11646941028093431,
          0.11639721230853887,
          0.11630282800757978,
          0.11618629620349197,
          0.11604767007441931,
          0.11588701710798757,
          0.1157044190428343,
          0.11549997179467644,
          0.11527378536673116,
          0.11502598374434722,
          0.11475670477374295,
          0.11446610002478907,
          0.1141543346378162,
          0.1138215871544711,
          0.11346804933268649,
          0.11309392594587536,
          0.11269943456650351,
          0.11228480533423604,
          0.1118502807089,
          0.11139611520854602,
          0.11092257513293467,
          0.11042993827281598,
          0.10991849360540963,
          0.1093885409765344,
          0.10884039076987334,
          0.10827436356389783,
          0.10769078977701066,
          0.10709000930149852,
          0.10647237112692226,
          0.10583823295359586,
          0.10518796079684058,
          0.10452192858271951,
          0.1038405177359879,
          0.1031441167610095,
          0.10243312081641302,
          0.10170793128427658,
          0.10096895533464087,
          0.10021660548616447,
          0.09945129916374333,
          0.09867345825391946,
          0.09788350865891046,
          0.09708187985008784,
          0.09626900442173385,
          0.09544531764589796,
          0.09461125702916748,
          0.09376726187215832,
          0.09291377283251558,
          0.09205123149220125,
          0.09118007992982681,
          0.0903007602987701,
          0.08941371441178993,
          0.0885193833328337,
          0.08761820697669877,
          0.08671062371718814,
          0.08579707000436385,
          0.08487797999147403,
          0.08395378517209491,
          0.08302491402799411,
          0.08209179168818513,
          0.08115483959960733,
          0.08021447520982632,
          0.07927111166211195,
          0.07832515750321066,
          0.0773770164040902,
          0.07642708689389281,
          0.07547576210729647,
          0.07452342954543692,
          0.07357047085051095,
          0.07261726159413472,
          0.07166417107949558,
          0.07071156215729574,
          0.06975979105544776,
          0.06880920722244496,
          0.06786015318429472,
          0.06691296441486509,
          0.06596796921946367,
          0.0650254886314344,
          0.06408583632152594,
          0.06314931851975873,
          0.06221623394948521,
          0.061286873773316757,
          0.06036152155056342,
          0.05944045320581015,
          0.05852393700823399,
          0.057612233561248415,
          0.056705595802040674,
          0.05580426901055898,
          0.05490849082748872,
          0.054018491280750106,
          0.053134492820038466,
          0.05225671035892221,
          0.051385351324012445,
          0.05052061571070994,
          0.049662696145039646,
          0.04881177795108119,
          0.04796803922350947,
          0.04713165090476191,
          0.04630277686635801,
          0.045481573993904394,
          0.04466819227532762,
          0.04386277489189166,
          0.04306545831156601,
          0.0422763723843285,
          0.041495640438999636,
          0.0407233793812257,
          0.03995969979224094,
          0.039204706028062954,
          0.03845849631879213,
          0.03772116286770837,
          0.03699279194987709,
          0.036273464010001366,
          0.035563253759277665,
          0.03486223027103462,
          0.0341704570749581,
          0.033487992249728676,
          0.03281488851392016,
          0.03215119331503041,
          0.031496948916539855,
          0.030852192482912804,
          0.030216956162482083,
          0.029591267168176262,
          0.028975147856070815,
          0.028368615801765442,
          0.02777168387460962,
          0.02718436030981529,
          0.02660664877851661,
          0.026038548455851743,
          0.025480054087159615,
          0.0249311560523971,
          0.024391840428899973,
          0.023862089052620293,
          0.023341879577987754,
          0.022831185536550985,
          0.022329976394565867,
          0.021838217609705283,
          0.021355870687072807,
          0.020882893234706965,
          0.02041923901876927,
          0.01996485801861085,
          0.01951969648191634,
          0.01908369698012215,
          0.0186567984643087,
          0.018238936321762354,
          0.017830042433401725,
          0.017430045232257847,
          0.01703886976319425,
          0.016656437744045523,
          0.01628266762834743,
          0.015917474669822466,
          0.015560770988776732,
          0.015212465640553993,
          0.01487246468618236,
          0.0145406712653377,
          0.014216985671735566,
          0.013901305431052226,
          0.013593525381460567,
          0.013293537756853819,
          0.013001232272816467,
          0.012716496215386302,
          0.0124392145326378,
          0.012169269929101528,
          0.011906542963019314,
          0.011650912146420292,
          0.011402254047986745,
          0.01116044339866472,
          0.01092535319995833,
          0.010696854834832847,
          0.010474818181136266,
          0.010259111727435124,
          0.01004960269114659,
          0.009846157138835299,
          0.009648640108530095,
          0.009456915733903703,
          0.009270847370146511,
          0.009090297721354373,
          0.008915128969239204,
          0.008745202902962494,
          0.008580381049881318,
          0.008420524806989294,
          0.008265495572826806,
          0.008115154879628302,
          0.007969364525468706,
          0.007827986706166343,
          0.00769088414669516,
          0.007557920231856775,
          0.007428959135960111,
          0.007303865951255535,
          0.007182506814870086,
          0.007064749033990956,
          0.00695046120904606,
          0.0068395133546333056,
          0.006731777017953007,
          0.006627125394502863,
          0.006525433440799825,
          0.006426577983899028,
          0.006330437827487273,
          0.0062368938543357864,
          0.006145829124905643,
          0.0060571289719083205,
          0.005970681090633604,
          0.005886375624867586,
          0.005804105248234726,
          0.005723765240809185,
          0.005645253560853367,
          0.0055684709115535625,
          0.005493320802636321,
          0.005419709606761966,
          0.0053475466106058375,
          0.005276744060551503,
          0.005207217202934806
         ],
         "yaxis": "y"
        },
        {
         "legendgroup": "Agent 6",
         "marker": {
          "color": "#636EFA",
          "symbol": "line-ns-open"
         },
         "mode": "markers",
         "name": "Agent 6",
         "showlegend": false,
         "type": "scatter",
         "x": [
          3.2355212355212357,
          7.572488584474886,
          2.9359430604982206,
          7.407367514002585,
          6.356234096692112,
          7.815060540719854,
          7.972250770811922,
          6.594788273615635,
          8.101680553594125,
          3.168,
          3.2282282282282284,
          3.289156626506024,
          9.511733083027561,
          2.8808373590982286,
          3.197645079899075,
          3.1263507896924354,
          8.505642420122365,
          4.457650912494151,
          9.923333333333334,
          6.568028304921197,
          3.1661756040070714,
          3.004026845637584,
          9.067742332799606,
          10.04358837643295,
          8.902430494841756,
          10.892028587135789,
          3.0513513513513515,
          3.333743842364532,
          7.787623289850461,
          2.9334415584415585,
          8.584947538337369,
          3.136764705882353,
          9.148235722080758,
          2.80327868852459,
          6.98072457036693,
          8.937299035369774,
          3.2741514360313317,
          2.930860033726813,
          3.0863095238095237,
          2.6923076923076925,
          3.0589473684210526,
          3.1747700394218135,
          6.411354581673307,
          6.592778070637849,
          2.93278463648834,
          3.282765737874097,
          8.670900861439627,
          8.81314290572133,
          4.584203359055833,
          7.9375892310830105,
          2.7837022132796783,
          2.6910377358490565,
          7.044432689764612,
          3.2185534591194966,
          8.099431009957327,
          7.075308996838172,
          3.319702602230483,
          9.49807170404228,
          7.334908047916315,
          8.13009243409791,
          3.024523160762943,
          3.1048284625158833,
          9.004968944099378,
          2.9134107708553327,
          4.5093264248704665,
          3.8830068819481207,
          7.423253150057274,
          7.547938561034761,
          8.599826764833262,
          8.364831697054699,
          3.0213143872113677,
          3.110395584176633,
          2.86919315403423,
          8.672696290470572,
          12.893189430591738,
          4.553437029603613,
          8.609866828087167,
          3.0258690379951494,
          3.3682539682539683,
          1.8333333333333333,
          7.658159722222222,
          3.104561403508772,
          3.3746835443037977,
          8.47314503146495,
          3.206260032102729,
          8.121941436020858,
          2.8172323759791125,
          3.2516016307513103,
          10.212553038187496,
          4.29805615550756,
          10.396114975718598,
          2.9841409691629956,
          2.6228070175438596,
          4.4234413965087285,
          3.0086393088552916,
          9.511061327359283,
          4.019730010384216,
          8.29320930232558,
          6.928106425134446,
          3.0340798442064263
         ],
         "xaxis": "x",
         "y": [
          "Agent 6",
          "Agent 6",
          "Agent 6",
          "Agent 6",
          "Agent 6",
          "Agent 6",
          "Agent 6",
          "Agent 6",
          "Agent 6",
          "Agent 6",
          "Agent 6",
          "Agent 6",
          "Agent 6",
          "Agent 6",
          "Agent 6",
          "Agent 6",
          "Agent 6",
          "Agent 6",
          "Agent 6",
          "Agent 6",
          "Agent 6",
          "Agent 6",
          "Agent 6",
          "Agent 6",
          "Agent 6",
          "Agent 6",
          "Agent 6",
          "Agent 6",
          "Agent 6",
          "Agent 6",
          "Agent 6",
          "Agent 6",
          "Agent 6",
          "Agent 6",
          "Agent 6",
          "Agent 6",
          "Agent 6",
          "Agent 6",
          "Agent 6",
          "Agent 6",
          "Agent 6",
          "Agent 6",
          "Agent 6",
          "Agent 6",
          "Agent 6",
          "Agent 6",
          "Agent 6",
          "Agent 6",
          "Agent 6",
          "Agent 6",
          "Agent 6",
          "Agent 6",
          "Agent 6",
          "Agent 6",
          "Agent 6",
          "Agent 6",
          "Agent 6",
          "Agent 6",
          "Agent 6",
          "Agent 6",
          "Agent 6",
          "Agent 6",
          "Agent 6",
          "Agent 6",
          "Agent 6",
          "Agent 6",
          "Agent 6",
          "Agent 6",
          "Agent 6",
          "Agent 6",
          "Agent 6",
          "Agent 6",
          "Agent 6",
          "Agent 6",
          "Agent 6",
          "Agent 6",
          "Agent 6",
          "Agent 6",
          "Agent 6",
          "Agent 6",
          "Agent 6",
          "Agent 6",
          "Agent 6",
          "Agent 6",
          "Agent 6",
          "Agent 6",
          "Agent 6",
          "Agent 6",
          "Agent 6",
          "Agent 6",
          "Agent 6",
          "Agent 6",
          "Agent 6",
          "Agent 6",
          "Agent 6",
          "Agent 6",
          "Agent 6",
          "Agent 6",
          "Agent 6",
          "Agent 6"
         ],
         "yaxis": "y2"
        }
       ],
       "layout": {
        "barmode": "overlay",
        "hovermode": "closest",
        "legend": {
         "traceorder": "reversed"
        },
        "template": {
         "data": {
          "bar": [
           {
            "error_x": {
             "color": "#2a3f5f"
            },
            "error_y": {
             "color": "#2a3f5f"
            },
            "marker": {
             "line": {
              "color": "#E5ECF6",
              "width": 0.5
             },
             "pattern": {
              "fillmode": "overlay",
              "size": 10,
              "solidity": 0.2
             }
            },
            "type": "bar"
           }
          ],
          "barpolar": [
           {
            "marker": {
             "line": {
              "color": "#E5ECF6",
              "width": 0.5
             },
             "pattern": {
              "fillmode": "overlay",
              "size": 10,
              "solidity": 0.2
             }
            },
            "type": "barpolar"
           }
          ],
          "carpet": [
           {
            "aaxis": {
             "endlinecolor": "#2a3f5f",
             "gridcolor": "white",
             "linecolor": "white",
             "minorgridcolor": "white",
             "startlinecolor": "#2a3f5f"
            },
            "baxis": {
             "endlinecolor": "#2a3f5f",
             "gridcolor": "white",
             "linecolor": "white",
             "minorgridcolor": "white",
             "startlinecolor": "#2a3f5f"
            },
            "type": "carpet"
           }
          ],
          "choropleth": [
           {
            "colorbar": {
             "outlinewidth": 0,
             "ticks": ""
            },
            "type": "choropleth"
           }
          ],
          "contour": [
           {
            "colorbar": {
             "outlinewidth": 0,
             "ticks": ""
            },
            "colorscale": [
             [
              0,
              "#0d0887"
             ],
             [
              0.1111111111111111,
              "#46039f"
             ],
             [
              0.2222222222222222,
              "#7201a8"
             ],
             [
              0.3333333333333333,
              "#9c179e"
             ],
             [
              0.4444444444444444,
              "#bd3786"
             ],
             [
              0.5555555555555556,
              "#d8576b"
             ],
             [
              0.6666666666666666,
              "#ed7953"
             ],
             [
              0.7777777777777778,
              "#fb9f3a"
             ],
             [
              0.8888888888888888,
              "#fdca26"
             ],
             [
              1,
              "#f0f921"
             ]
            ],
            "type": "contour"
           }
          ],
          "contourcarpet": [
           {
            "colorbar": {
             "outlinewidth": 0,
             "ticks": ""
            },
            "type": "contourcarpet"
           }
          ],
          "heatmap": [
           {
            "colorbar": {
             "outlinewidth": 0,
             "ticks": ""
            },
            "colorscale": [
             [
              0,
              "#0d0887"
             ],
             [
              0.1111111111111111,
              "#46039f"
             ],
             [
              0.2222222222222222,
              "#7201a8"
             ],
             [
              0.3333333333333333,
              "#9c179e"
             ],
             [
              0.4444444444444444,
              "#bd3786"
             ],
             [
              0.5555555555555556,
              "#d8576b"
             ],
             [
              0.6666666666666666,
              "#ed7953"
             ],
             [
              0.7777777777777778,
              "#fb9f3a"
             ],
             [
              0.8888888888888888,
              "#fdca26"
             ],
             [
              1,
              "#f0f921"
             ]
            ],
            "type": "heatmap"
           }
          ],
          "heatmapgl": [
           {
            "colorbar": {
             "outlinewidth": 0,
             "ticks": ""
            },
            "colorscale": [
             [
              0,
              "#0d0887"
             ],
             [
              0.1111111111111111,
              "#46039f"
             ],
             [
              0.2222222222222222,
              "#7201a8"
             ],
             [
              0.3333333333333333,
              "#9c179e"
             ],
             [
              0.4444444444444444,
              "#bd3786"
             ],
             [
              0.5555555555555556,
              "#d8576b"
             ],
             [
              0.6666666666666666,
              "#ed7953"
             ],
             [
              0.7777777777777778,
              "#fb9f3a"
             ],
             [
              0.8888888888888888,
              "#fdca26"
             ],
             [
              1,
              "#f0f921"
             ]
            ],
            "type": "heatmapgl"
           }
          ],
          "histogram": [
           {
            "marker": {
             "pattern": {
              "fillmode": "overlay",
              "size": 10,
              "solidity": 0.2
             }
            },
            "type": "histogram"
           }
          ],
          "histogram2d": [
           {
            "colorbar": {
             "outlinewidth": 0,
             "ticks": ""
            },
            "colorscale": [
             [
              0,
              "#0d0887"
             ],
             [
              0.1111111111111111,
              "#46039f"
             ],
             [
              0.2222222222222222,
              "#7201a8"
             ],
             [
              0.3333333333333333,
              "#9c179e"
             ],
             [
              0.4444444444444444,
              "#bd3786"
             ],
             [
              0.5555555555555556,
              "#d8576b"
             ],
             [
              0.6666666666666666,
              "#ed7953"
             ],
             [
              0.7777777777777778,
              "#fb9f3a"
             ],
             [
              0.8888888888888888,
              "#fdca26"
             ],
             [
              1,
              "#f0f921"
             ]
            ],
            "type": "histogram2d"
           }
          ],
          "histogram2dcontour": [
           {
            "colorbar": {
             "outlinewidth": 0,
             "ticks": ""
            },
            "colorscale": [
             [
              0,
              "#0d0887"
             ],
             [
              0.1111111111111111,
              "#46039f"
             ],
             [
              0.2222222222222222,
              "#7201a8"
             ],
             [
              0.3333333333333333,
              "#9c179e"
             ],
             [
              0.4444444444444444,
              "#bd3786"
             ],
             [
              0.5555555555555556,
              "#d8576b"
             ],
             [
              0.6666666666666666,
              "#ed7953"
             ],
             [
              0.7777777777777778,
              "#fb9f3a"
             ],
             [
              0.8888888888888888,
              "#fdca26"
             ],
             [
              1,
              "#f0f921"
             ]
            ],
            "type": "histogram2dcontour"
           }
          ],
          "mesh3d": [
           {
            "colorbar": {
             "outlinewidth": 0,
             "ticks": ""
            },
            "type": "mesh3d"
           }
          ],
          "parcoords": [
           {
            "line": {
             "colorbar": {
              "outlinewidth": 0,
              "ticks": ""
             }
            },
            "type": "parcoords"
           }
          ],
          "pie": [
           {
            "automargin": true,
            "type": "pie"
           }
          ],
          "scatter": [
           {
            "marker": {
             "colorbar": {
              "outlinewidth": 0,
              "ticks": ""
             }
            },
            "type": "scatter"
           }
          ],
          "scatter3d": [
           {
            "line": {
             "colorbar": {
              "outlinewidth": 0,
              "ticks": ""
             }
            },
            "marker": {
             "colorbar": {
              "outlinewidth": 0,
              "ticks": ""
             }
            },
            "type": "scatter3d"
           }
          ],
          "scattercarpet": [
           {
            "marker": {
             "colorbar": {
              "outlinewidth": 0,
              "ticks": ""
             }
            },
            "type": "scattercarpet"
           }
          ],
          "scattergeo": [
           {
            "marker": {
             "colorbar": {
              "outlinewidth": 0,
              "ticks": ""
             }
            },
            "type": "scattergeo"
           }
          ],
          "scattergl": [
           {
            "marker": {
             "colorbar": {
              "outlinewidth": 0,
              "ticks": ""
             }
            },
            "type": "scattergl"
           }
          ],
          "scattermapbox": [
           {
            "marker": {
             "colorbar": {
              "outlinewidth": 0,
              "ticks": ""
             }
            },
            "type": "scattermapbox"
           }
          ],
          "scatterpolar": [
           {
            "marker": {
             "colorbar": {
              "outlinewidth": 0,
              "ticks": ""
             }
            },
            "type": "scatterpolar"
           }
          ],
          "scatterpolargl": [
           {
            "marker": {
             "colorbar": {
              "outlinewidth": 0,
              "ticks": ""
             }
            },
            "type": "scatterpolargl"
           }
          ],
          "scatterternary": [
           {
            "marker": {
             "colorbar": {
              "outlinewidth": 0,
              "ticks": ""
             }
            },
            "type": "scatterternary"
           }
          ],
          "surface": [
           {
            "colorbar": {
             "outlinewidth": 0,
             "ticks": ""
            },
            "colorscale": [
             [
              0,
              "#0d0887"
             ],
             [
              0.1111111111111111,
              "#46039f"
             ],
             [
              0.2222222222222222,
              "#7201a8"
             ],
             [
              0.3333333333333333,
              "#9c179e"
             ],
             [
              0.4444444444444444,
              "#bd3786"
             ],
             [
              0.5555555555555556,
              "#d8576b"
             ],
             [
              0.6666666666666666,
              "#ed7953"
             ],
             [
              0.7777777777777778,
              "#fb9f3a"
             ],
             [
              0.8888888888888888,
              "#fdca26"
             ],
             [
              1,
              "#f0f921"
             ]
            ],
            "type": "surface"
           }
          ],
          "table": [
           {
            "cells": {
             "fill": {
              "color": "#EBF0F8"
             },
             "line": {
              "color": "white"
             }
            },
            "header": {
             "fill": {
              "color": "#C8D4E3"
             },
             "line": {
              "color": "white"
             }
            },
            "type": "table"
           }
          ]
         },
         "layout": {
          "annotationdefaults": {
           "arrowcolor": "#2a3f5f",
           "arrowhead": 0,
           "arrowwidth": 1
          },
          "autotypenumbers": "strict",
          "coloraxis": {
           "colorbar": {
            "outlinewidth": 0,
            "ticks": ""
           }
          },
          "colorscale": {
           "diverging": [
            [
             0,
             "#8e0152"
            ],
            [
             0.1,
             "#c51b7d"
            ],
            [
             0.2,
             "#de77ae"
            ],
            [
             0.3,
             "#f1b6da"
            ],
            [
             0.4,
             "#fde0ef"
            ],
            [
             0.5,
             "#f7f7f7"
            ],
            [
             0.6,
             "#e6f5d0"
            ],
            [
             0.7,
             "#b8e186"
            ],
            [
             0.8,
             "#7fbc41"
            ],
            [
             0.9,
             "#4d9221"
            ],
            [
             1,
             "#276419"
            ]
           ],
           "sequential": [
            [
             0,
             "#0d0887"
            ],
            [
             0.1111111111111111,
             "#46039f"
            ],
            [
             0.2222222222222222,
             "#7201a8"
            ],
            [
             0.3333333333333333,
             "#9c179e"
            ],
            [
             0.4444444444444444,
             "#bd3786"
            ],
            [
             0.5555555555555556,
             "#d8576b"
            ],
            [
             0.6666666666666666,
             "#ed7953"
            ],
            [
             0.7777777777777778,
             "#fb9f3a"
            ],
            [
             0.8888888888888888,
             "#fdca26"
            ],
            [
             1,
             "#f0f921"
            ]
           ],
           "sequentialminus": [
            [
             0,
             "#0d0887"
            ],
            [
             0.1111111111111111,
             "#46039f"
            ],
            [
             0.2222222222222222,
             "#7201a8"
            ],
            [
             0.3333333333333333,
             "#9c179e"
            ],
            [
             0.4444444444444444,
             "#bd3786"
            ],
            [
             0.5555555555555556,
             "#d8576b"
            ],
            [
             0.6666666666666666,
             "#ed7953"
            ],
            [
             0.7777777777777778,
             "#fb9f3a"
            ],
            [
             0.8888888888888888,
             "#fdca26"
            ],
            [
             1,
             "#f0f921"
            ]
           ]
          },
          "colorway": [
           "#636efa",
           "#EF553B",
           "#00cc96",
           "#ab63fa",
           "#FFA15A",
           "#19d3f3",
           "#FF6692",
           "#B6E880",
           "#FF97FF",
           "#FECB52"
          ],
          "font": {
           "color": "#2a3f5f"
          },
          "geo": {
           "bgcolor": "white",
           "lakecolor": "white",
           "landcolor": "#E5ECF6",
           "showlakes": true,
           "showland": true,
           "subunitcolor": "white"
          },
          "hoverlabel": {
           "align": "left"
          },
          "hovermode": "closest",
          "mapbox": {
           "style": "light"
          },
          "paper_bgcolor": "white",
          "plot_bgcolor": "#E5ECF6",
          "polar": {
           "angularaxis": {
            "gridcolor": "white",
            "linecolor": "white",
            "ticks": ""
           },
           "bgcolor": "#E5ECF6",
           "radialaxis": {
            "gridcolor": "white",
            "linecolor": "white",
            "ticks": ""
           }
          },
          "scene": {
           "xaxis": {
            "backgroundcolor": "#E5ECF6",
            "gridcolor": "white",
            "gridwidth": 2,
            "linecolor": "white",
            "showbackground": true,
            "ticks": "",
            "zerolinecolor": "white"
           },
           "yaxis": {
            "backgroundcolor": "#E5ECF6",
            "gridcolor": "white",
            "gridwidth": 2,
            "linecolor": "white",
            "showbackground": true,
            "ticks": "",
            "zerolinecolor": "white"
           },
           "zaxis": {
            "backgroundcolor": "#E5ECF6",
            "gridcolor": "white",
            "gridwidth": 2,
            "linecolor": "white",
            "showbackground": true,
            "ticks": "",
            "zerolinecolor": "white"
           }
          },
          "shapedefaults": {
           "line": {
            "color": "#2a3f5f"
           }
          },
          "ternary": {
           "aaxis": {
            "gridcolor": "white",
            "linecolor": "white",
            "ticks": ""
           },
           "baxis": {
            "gridcolor": "white",
            "linecolor": "white",
            "ticks": ""
           },
           "bgcolor": "#E5ECF6",
           "caxis": {
            "gridcolor": "white",
            "linecolor": "white",
            "ticks": ""
           }
          },
          "title": {
           "x": 0.05
          },
          "xaxis": {
           "automargin": true,
           "gridcolor": "white",
           "linecolor": "white",
           "ticks": "",
           "title": {
            "standoff": 15
           },
           "zerolinecolor": "white",
           "zerolinewidth": 2
          },
          "yaxis": {
           "automargin": true,
           "gridcolor": "white",
           "linecolor": "white",
           "ticks": "",
           "title": {
            "standoff": 15
           },
           "zerolinecolor": "white",
           "zerolinewidth": 2
          }
         }
        },
        "title": {
         "text": "Movement/Examinations Ratio Distplot Agent 6"
        },
        "xaxis": {
         "anchor": "y2",
         "domain": [
          0,
          1
         ],
         "title": {
          "text": "Movement/Examinations"
         },
         "zeroline": false
        },
        "yaxis": {
         "anchor": "free",
         "domain": [
          0.35,
          1
         ],
         "position": 0,
         "title": {
          "text": "Probability Density"
         }
        },
        "yaxis2": {
         "anchor": "x",
         "domain": [
          0,
          0.25
         ],
         "dtick": 1,
         "showticklabels": false
        }
       }
      }
     },
     "metadata": {},
     "output_type": "display_data"
    }
   ],
   "source": [
    "hist_data = [agent_6_res]\n",
    "group_labels = ['Agent 6']\n",
    "fig_dist = ff.create_distplot(hist_data, group_labels, bin_size=0.2, colors = ['#636EFA'])\n",
    "fig_dist.update_layout(title_text='Movement/Examinations Ratio Distplot Agent 6')\n",
    "fig_dist.layout.xaxis.update({'title': 'Movement/Examinations'})\n",
    "fig_dist.layout.yaxis.update({'title': 'Probability Density'})\n",
    "fig_dist.show()\n",
    "plotly.io.write_image(fig_dist, file=\"./images/question_4_agent_6.png\", scale=5)"
   ]
  },
  {
   "cell_type": "code",
   "execution_count": 28,
   "metadata": {},
   "outputs": [
    {
     "data": {
      "application/vnd.plotly.v1+json": {
       "config": {
        "plotlyServerURL": "https://plot.ly"
       },
       "data": [
        {
         "autobinx": false,
         "histnorm": "probability density",
         "legendgroup": "Agent 7",
         "marker": {
          "color": "#EF553B"
         },
         "name": "Agent 7",
         "opacity": 0.7,
         "type": "histogram",
         "x": [
          3.444364680545585,
          3.9191648822269807,
          2.886836027713626,
          8.332477754962355,
          7.114737883283877,
          7.288208357183744,
          2.985074626865672,
          5.012208258527828,
          4.665252854812398,
          3.2802287581699345,
          3.16,
          2.9558948261238336,
          3.6288910505836576,
          2.989100817438692,
          3.1562734785875284,
          2.74,
          2.9012345679012346,
          3.1600265604249667,
          3.7935409457900806,
          7.353080168776371,
          3.032838154808444,
          3.2616899097621,
          6.6656441717791415,
          3.38953488372093,
          3.158081705150977,
          3.018105849582173,
          3.463905325443787,
          8.87879461803625,
          2.8617363344051445,
          2.979500891265597,
          6.680167232819441,
          3.1896046852122986,
          5.869069624152804,
          2.892931392931393,
          5.290800341782968,
          3.1075731497418246,
          2.9473684210526314,
          5.148403483309144,
          2.9657142857142857,
          2.8871951219512195,
          3.3701165181631256,
          3.193741677762983,
          8.673620933521924,
          6.229867256637168,
          5.52873030583874,
          3.5781179648806845,
          3.1266666666666665,
          6.52764780944279,
          3.91497975708502,
          7.408410282006488,
          3.196163366336634,
          3.2085769980506824,
          3.061111111111111,
          2.990081154192967,
          2.9281767955801103,
          6.056761268781302,
          3.2975778546712804,
          3.49609375,
          3.2233962264150944,
          3.466519092418373,
          9.147509578544062,
          5.941985041439256,
          3.21671826625387,
          3.025390625,
          8.031217939322879,
          2.802607076350093,
          3.5689131754705525,
          2.7329545454545454,
          4.751683748169839,
          2.8771186440677967,
          2.772277227722772,
          3.084350721420644,
          3.09674861221253,
          3.092085235920852,
          7.3513629534234814,
          2.9158415841584158,
          3.4136740331491713,
          8.115563019833653,
          4.848915482423336,
          7.700330578512396,
          6.949138114492445,
          3.0655737704918034,
          3.0549450549450547,
          3.2016460905349793,
          2.6616915422885574,
          8.613229433109273,
          4.714342629482072,
          3.884414015304068,
          2.8711340206185567,
          9.572167726635765,
          5.807917545092527,
          6.907919847328245,
          2.9838509316770185,
          2.916971916971917,
          3.1344656758669496,
          2.918269230769231,
          8.022781668291818,
          6.028193079880393,
          2.642857142857143,
          3.0919324577861165
         ],
         "xaxis": "x",
         "xbins": {
          "end": 9.572167726635765,
          "size": 0.2,
          "start": 2.642857142857143
         },
         "yaxis": "y"
        },
        {
         "legendgroup": "Agent 7",
         "marker": {
          "color": "#EF553B"
         },
         "mode": "lines",
         "name": "Agent 7",
         "showlegend": false,
         "type": "scatter",
         "x": [
          2.642857142857143,
          2.6567157640247,
          2.6705743851922574,
          2.6844330063598147,
          2.6982916275273716,
          2.712150248694929,
          2.7260088698624863,
          2.7398674910300436,
          2.753726112197601,
          2.767584733365158,
          2.781443354532715,
          2.7953019757002724,
          2.8091605968678297,
          2.823019218035387,
          2.8368778392029443,
          2.8507364603705017,
          2.8645950815380585,
          2.878453702705616,
          2.892312323873173,
          2.9061709450407305,
          2.920029566208288,
          2.933888187375845,
          2.947746808543402,
          2.9616054297109593,
          2.9754640508785166,
          2.989322672046074,
          3.0031812932136313,
          3.0170399143811886,
          3.0308985355487454,
          3.0447571567163028,
          3.05861577788386,
          3.0724743990514174,
          3.0863330202189747,
          3.100191641386532,
          3.1140502625540893,
          3.127908883721646,
          3.1417675048892035,
          3.155626126056761,
          3.169484747224318,
          3.1833433683918755,
          3.1972019895594324,
          3.2110606107269897,
          3.224919231894547,
          3.2387778530621043,
          3.2526364742296616,
          3.266495095397219,
          3.2803537165647763,
          3.2942123377323336,
          3.3080709588998904,
          3.3219295800674478,
          3.335788201235005,
          3.3496468224025624,
          3.3635054435701197,
          3.3773640647376766,
          3.391222685905234,
          3.405081307072791,
          3.4189399282403485,
          3.432798549407906,
          3.446657170575463,
          3.4605157917430205,
          3.4743744129105774,
          3.4882330340781347,
          3.502091655245692,
          3.5159502764132493,
          3.5298088975808066,
          3.5436675187483635,
          3.557526139915921,
          3.571384761083478,
          3.5852433822510354,
          3.5991020034185928,
          3.61296062458615,
          3.6268192457537074,
          3.6406778669212647,
          3.6545364880888216,
          3.668395109256379,
          3.6822537304239362,
          3.696112351591493,
          3.7099709727590504,
          3.7238295939266077,
          3.737688215094165,
          3.7515468362617224,
          3.7654054574292797,
          3.779264078596837,
          3.7931226997643943,
          3.8069813209319516,
          3.820839942099509,
          3.834698563267066,
          3.848557184434623,
          3.86241580560218,
          3.8762744267697378,
          3.8901330479372946,
          3.903991669104852,
          3.9178502902724093,
          3.9317089114399666,
          3.945567532607524,
          3.9594261537750812,
          3.9732847749426385,
          3.987143396110196,
          4.001002017277752,
          4.0148606384453105,
          4.028719259612867,
          4.042577880780424,
          4.0564365019479816,
          4.070295123115539,
          4.084153744283096,
          4.0980123654506535,
          4.111870986618211,
          4.125729607785768,
          4.1395882289533255,
          4.153446850120883,
          4.16730547128844,
          4.181164092455997,
          4.195022713623555,
          4.208881334791112,
          4.2227399559586685,
          4.236598577126227,
          4.250457198293783,
          4.26431581946134,
          4.278174440628898,
          4.292033061796455,
          4.305891682964012,
          4.31975030413157,
          4.333608925299127,
          4.347467546466684,
          4.361326167634241,
          4.375184788801798,
          4.389043409969355,
          4.402902031136913,
          4.41676065230447,
          4.430619273472027,
          4.444477894639585,
          4.458336515807142,
          4.472195136974699,
          4.486053758142257,
          4.499912379309814,
          4.513771000477371,
          4.5276296216449285,
          4.541488242812486,
          4.555346863980043,
          4.5692054851476,
          4.583064106315157,
          4.596922727482714,
          4.610781348650272,
          4.624639969817829,
          4.638498590985386,
          4.6523572121529435,
          4.6662158333205,
          4.680074454488058,
          4.693933075655615,
          4.707791696823172,
          4.721650317990729,
          4.7355089391582865,
          4.749367560325844,
          4.763226181493401,
          4.7770848026609585,
          4.790943423828516,
          4.804802044996073,
          4.81866066616363,
          4.832519287331188,
          4.846377908498745,
          4.860236529666302,
          4.87409515083386,
          4.887953772001417,
          4.901812393168974,
          4.915671014336531,
          4.929529635504089,
          4.943388256671646,
          4.957246877839203,
          4.97110549900676,
          4.984964120174317,
          4.998822741341875,
          5.012681362509432,
          5.026539983676988,
          5.040398604844547,
          5.054257226012103,
          5.06811584717966,
          5.081974468347218,
          5.095833089514775,
          5.109691710682332,
          5.12355033184989,
          5.137408953017447,
          5.151267574185004,
          5.165126195352562,
          5.178984816520119,
          5.192843437687676,
          5.2067020588552335,
          5.220560680022791,
          5.234419301190348,
          5.2482779223579055,
          5.262136543525463,
          5.27599516469302,
          5.2898537858605765,
          5.303712407028134,
          5.317571028195692,
          5.3314296493632485,
          5.345288270530806,
          5.359146891698362,
          5.37300551286592,
          5.386864134033478,
          5.400722755201034,
          5.4145813763685915,
          5.428439997536149,
          5.442298618703706,
          5.456157239871263,
          5.470015861038821,
          5.483874482206378,
          5.497733103373935,
          5.511591724541493,
          5.52545034570905,
          5.539308966876607,
          5.553167588044165,
          5.567026209211722,
          5.580884830379279,
          5.594743451546836,
          5.608602072714394,
          5.622460693881951,
          5.636319315049508,
          5.650177936217065,
          5.664036557384622,
          5.67789517855218,
          5.691753799719737,
          5.705612420887293,
          5.719471042054852,
          5.733329663222408,
          5.747188284389965,
          5.761046905557523,
          5.77490552672508,
          5.788764147892637,
          5.802622769060195,
          5.816481390227752,
          5.830340011395309,
          5.8441986325628665,
          5.858057253730424,
          5.871915874897981,
          5.8857744960655385,
          5.899633117233096,
          5.913491738400653,
          5.92735035956821,
          5.941208980735768,
          5.955067601903325,
          5.9689262230708815,
          5.982784844238439,
          5.996643465405997,
          6.0105020865735534,
          6.024360707741111,
          6.038219328908667,
          6.052077950076225,
          6.065936571243783,
          6.079795192411339,
          6.0936538135788965,
          6.107512434746454,
          6.121371055914011,
          6.135229677081568,
          6.149088298249126,
          6.162946919416683,
          6.17680554058424,
          6.190664161751798,
          6.204522782919355,
          6.218381404086912,
          6.23224002525447,
          6.246098646422027,
          6.259957267589584,
          6.273815888757142,
          6.287674509924699,
          6.301533131092256,
          6.315391752259813,
          6.329250373427371,
          6.343108994594928,
          6.356967615762485,
          6.370826236930042,
          6.384684858097598,
          6.3985434792651565,
          6.412402100432714,
          6.42626072160027,
          6.440119342767828,
          6.453977963935385,
          6.467836585102942,
          6.4816952062704996,
          6.495553827438057,
          6.509412448605614,
          6.5232710697731715,
          6.537129690940729,
          6.550988312108286,
          6.5648469332758435,
          6.578705554443401,
          6.592564175610958,
          6.606422796778515,
          6.620281417946073,
          6.63414003911363,
          6.647998660281187,
          6.661857281448745,
          6.675715902616302,
          6.6895745237838575,
          6.703433144951417,
          6.717291766118974,
          6.7311503872865295,
          6.745009008454087,
          6.758867629621646,
          6.772726250789201,
          6.786584871956759,
          6.800443493124316,
          6.814302114291873,
          6.828160735459431,
          6.842019356626988,
          6.855877977794545,
          6.869736598962103,
          6.88359522012966,
          6.897453841297217,
          6.911312462464775,
          6.925171083632332,
          6.939029704799889,
          6.9528883259674465,
          6.966746947135004,
          6.980605568302561,
          6.9944641894701185,
          7.008322810637676,
          7.022181431805233,
          7.0360400529727904,
          7.049898674140346,
          7.063757295307903,
          7.077615916475461,
          7.09147453764302,
          7.105333158810577,
          7.119191779978133,
          7.13305040114569,
          7.146909022313247,
          7.1607676434808045,
          7.174626264648362,
          7.188484885815919,
          7.2023435069834765,
          7.216202128151034,
          7.230060749318591,
          7.243919370486148,
          7.257777991653706,
          7.271636612821263,
          7.28549523398882,
          7.299353855156378,
          7.313212476323935,
          7.327071097491492,
          7.34092971865905,
          7.354788339826607,
          7.368646960994164,
          7.382505582161722,
          7.396364203329277,
          7.4102228244968344,
          7.424081445664392,
          7.437940066831951,
          7.451798687999508,
          7.465657309167064,
          7.479515930334621,
          7.493374551502178,
          7.507233172669736,
          7.521091793837293,
          7.53495041500485,
          7.548809036172408,
          7.562667657339965,
          7.576526278507522,
          7.59038489967508,
          7.604243520842637,
          7.618102142010194,
          7.6319607631777515,
          7.645819384345309,
          7.659678005512866,
          7.6735366266804235,
          7.687395247847981,
          7.701253869015538,
          7.715112490183095,
          7.728971111350651,
          7.742829732518208,
          7.756688353685766,
          7.770546974853325,
          7.784405596020882,
          7.7982642171884375,
          7.812122838355995,
          7.825981459523552,
          7.8398400806911095,
          7.853698701858667,
          7.867557323026224,
          7.881415944193781,
          7.895274565361339,
          7.909133186528896,
          7.922991807696453,
          7.936850428864011,
          7.950709050031568,
          7.964567671199125,
          7.978426292366683,
          7.99228491353424,
          8.006143534701797,
          8.020002155869355,
          8.033860777036912,
          8.04771939820447,
          8.061578019372027,
          8.075436640539582,
          8.08929526170714,
          8.103153882874699,
          8.117012504042256,
          8.130871125209813,
          8.144729746377369,
          8.158588367544926,
          8.172446988712483,
          8.18630560988004,
          8.200164231047598,
          8.214022852215155,
          8.227881473382713,
          8.24174009455027,
          8.255598715717827,
          8.269457336885385,
          8.283315958052942,
          8.2971745792205,
          8.311033200388056,
          8.324891821555614,
          8.338750442723171,
          8.352609063890728,
          8.366467685058286,
          8.380326306225843,
          8.3941849273934,
          8.408043548560958,
          8.421902169728513,
          8.43576079089607,
          8.44961941206363,
          8.463478033231187,
          8.477336654398743,
          8.4911952755663,
          8.505053896733857,
          8.518912517901414,
          8.532771139068972,
          8.546629760236529,
          8.560488381404086,
          8.574347002571644,
          8.588205623739201,
          8.602064244906758,
          8.615922866074316,
          8.629781487241873,
          8.64364010840943,
          8.657498729576988,
          8.671357350744545,
          8.685215971912102,
          8.69907459307966,
          8.712933214247217,
          8.726791835414774,
          8.740650456582332,
          8.754509077749887,
          8.768367698917444,
          8.782226320085003,
          8.79608494125256,
          8.809943562420118,
          8.823802183587674,
          8.837660804755231,
          8.851519425922788,
          8.865378047090346,
          8.879236668257903,
          8.89309528942546,
          8.906953910593018,
          8.920812531760575,
          8.934671152928132,
          8.94852977409569,
          8.962388395263247,
          8.976247016430804,
          8.990105637598361,
          9.003964258765919,
          9.017822879933476,
          9.031681501101033,
          9.04554012226859,
          9.059398743436148,
          9.073257364603705,
          9.087115985771263,
          9.100974606938818,
          9.114833228106376,
          9.128691849273935,
          9.142550470441492,
          9.15640909160905,
          9.170267712776605,
          9.184126333944162,
          9.19798495511172,
          9.211843576279277,
          9.225702197446834,
          9.239560818614391,
          9.253419439781949,
          9.267278060949506,
          9.281136682117063,
          9.29499530328462,
          9.308853924452178,
          9.322712545619735,
          9.336571166787293,
          9.35042978795485,
          9.364288409122407,
          9.378147030289965,
          9.392005651457522,
          9.40586427262508,
          9.419722893792636,
          9.433581514960192,
          9.44744013612775,
          9.461298757295308,
          9.475157378462866,
          9.489015999630423,
          9.502874620797979,
          9.516733241965536,
          9.530591863133093,
          9.54445048430065,
          9.558309105468208
         ],
         "xaxis": "x",
         "y": [
          0.27032419720559603,
          0.2730272190538554,
          0.2756777693706357,
          0.2782738917842933,
          0.28081366305494,
          0.28329519564576366,
          0.28571664026147026,
          0.28807618834905413,
          0.29037207455614245,
          0.2926025791422183,
          0.29476603033809295,
          0.29686080664907105,
          0.2988853390973483,
          0.3008381133992725,
          0.3027176720732218,
          0.3045226164739582,
          0.306251608749467,
          0.3079033737164162,
          0.3094767006505335,
          0.31097044498835685,
          0.31238352993697893,
          0.31371494798859706,
          0.31496376233685236,
          0.31612910819214735,
          0.3172101939933306,
          0.3182063025133374,
          0.31911679185660574,
          0.3199410963462878,
          0.32067872729952024,
          0.321329273689231,
          0.3218924026912021,
          0.322367860115344,
          0.3227554707203678,
          0.32305513841129463,
          0.3232668463194699,
          0.3233906567650062,
          0.32342671110180704,
          0.3233752294455799,
          0.32323651028547234,
          0.3230109299802207,
          0.3226989421399172,
          0.3223010768947541,
          0.3218179400523152,
          0.32125021214522437,
          0.32059864737116733,
          0.3198640724275293,
          0.3190473852430876,
          0.3181495536094147,
          0.3171716137148214,
          0.31611466858388054,
          0.31497988642573055,
          0.31376849889454206,
          0.3124817992656849,
          0.3111211405312901,
          0.30968793341904344,
          0.3081836443381795,
          0.3066097932567681,
          0.3049679515145028,
          0.3032597395752941,
          0.30148682472407307,
          0.2996509187122801,
          0.297753775356595,
          0.2957971880955102,
          0.293782987508409,
          0.291713038801838,
          0.2895892392676888,
          0.2874135157180252,
          0.28518782190128156,
          0.28291413590456477,
          0.2805944575467619,
          0.27823080576712694,
          0.2758252160139901,
          0.27337973763816603,
          0.27089643129559143,
          0.26837736636364534,
          0.26582461837552296,
          0.2632402664769528,
          0.2606263909094431,
          0.2579850705241385,
          0.25531838033025606,
          0.2526283890819437,
          0.2499171569072809,
          0.2471867329829993,
          0.24443915325836388,
          0.24167643823150275,
          0.23890059078132614,
          0.2361135940580069,
          0.23331740943484425,
          0.23051397452415368,
          0.22770520125966406,
          0.2248929740477242,
          0.2220791479894466,
          0.21926554717574054,
          0.2164539630570008,
          0.21364615288904482,
          0.21084383825670477,
          0.2080487036762992,
          0.20526239527803275,
          0.2024865195691876,
          0.1997226422787882,
          0.1969722872842568,
          0.19423693562038077,
          0.19151802457076283,
          0.1888169468417351,
          0.18613504981856577,
          0.18347363490361665,
          0.18083395693595106,
          0.1782172236917401,
          0.17562459546466258,
          0.17305718472534684,
          0.17051605585876636,
          0.16800222497836703,
          0.16551665981556332,
          0.16306027968313702,
          0.1606339555109354,
          0.15823850995216548,
          0.15587471755847682,
          0.15354330502191688,
          0.15124495148176453,
          0.14898028889415288,
          0.14674990246231598,
          0.14455433112522453,
          0.14239406810231006,
          0.14026956149191844,
          0.13818121492107974,
          0.13612938824414314,
          0.1341143982877834,
          0.13213651963985348,
          0.13019598547953487,
          0.12829298844622242,
          0.12642768154456094,
          0.12460017908305156,
          0.12281055764364496,
          0.12105885707974343,
          0.11934508154004629,
          0.11766920051569282,
          0.11603114990817819,
          0.1144308331155453,
          0.1128681221343924,
          0.11134285867527005,
          0.10985485528908588,
          0.10840389650218399,
          0.10698973995781205,
          0.105612117561749,
          0.10427073662992162,
          0.1029652810359013,
          0.10169541235623576,
          0.10046077101163867,
          0.09926097740213345,
          0.09809563303431086,
          0.09696432163894864,
          0.09586661027730228,
          0.09480205043446699,
          0.0937701790982817,
          0.09277051982233034,
          0.09180258377167524,
          0.09086587075003948,
          0.08995987020723734,
          0.08908406222573392,
          0.08823791848529733,
          0.08742090320478814,
          0.08663247406021274,
          0.08587208307824823,
          0.0851391775045239,
          0.08443320064602722,
          0.08375359268707427,
          0.08309979147836653,
          0.08247123329872427,
          0.0818673535891649,
          0.08128758765906256,
          0.08073137136419359,
          0.08019814175654266,
          0.0796873377058054,
          0.07919840049258751,
          0.07873077437336058,
          0.07828390711729137,
          0.07785725051511673,
          0.07745026086028893,
          0.07706239940266597,
          0.076693132775068,
          0.07634193339306669,
          0.07600827982841336,
          0.07569165715655525,
          0.07539155727872061,
          0.07510747921908953,
          0.07483892939759856,
          0.07458542187895396,
          0.0743464785984541,
          0.07412162956524508,
          0.07391041304365358,
          0.07371237571325862,
          0.07352707280837845,
          0.07335406823766381,
          0.07319293468449642,
          0.07304325368890223,
          0.07290461571169363,
          0.07277662018155938,
          0.07265887552582243,
          0.07255099918558688,
          0.07245261761599178,
          0.0723633662722871,
          0.07228288958244229,
          0.07221084090698919,
          0.07214688248679485,
          0.07209068537944896,
          0.07204192938493958,
          0.07200030296128056,
          0.07196550313073757,
          0.07193723537728959,
          0.07191521353594428,
          0.0718991596745126,
          0.07188880396842963,
          0.07188388456919312,
          0.07188414746697273,
          0.07188934634792638,
          0.07189924244674,
          0.07191360439489122,
          0.07193220806511619,
          0.07195483641254243,
          0.07198127931293072,
          0.0720113333984511,
          0.07204480189139831,
          0.07208149443623658,
          0.07212122693034181,
          0.07216382135379557,
          0.07220910559856376,
          0.0722569132973799,
          0.07230708365263316,
          0.07235946126554685,
          0.07241389596591709,
          0.07247024264266543,
          0.07252836107544638,
          0.07258811576753459,
          0.07264937578020404,
          0.07271201456879903,
          0.07277590982068308,
          0.07284094329524105,
          0.07290700066609807,
          0.07297397136570843,
          0.07304174843245705,
          0.07311022836040666,
          0.07317931095181475,
          0.07324889917253638,
          0.0733188990104189,
          0.07338921933678971,
          0.0734597717711286,
          0.07353047054901043,
          0.07360123239339833,
          0.0736719763893592,
          0.07374262386227064,
          0.07381309825957973,
          0.07388332503617259,
          0.07395323154340505,
          0.07402274692184305,
          0.07409180199775504,
          0.07416032918339555,
          0.07422826238111378,
          0.07429553689131801,
          0.07436208932432163,
          0.07442785751609367,
          0.07449278044793149,
          0.07455679817007027,
          0.07461985172923984,
          0.07468188310017515,
          0.07474283512108183,
          0.07480265143305656,
          0.07486127642345403,
          0.07491865517319221,
          0.0749747334079787,
          0.07502945745344065,
          0.07508277419413263,
          0.07513463103639424,
          0.07518497587502289,
          0.07523375706372327,
          0.07528092338928925,
          0.07532642404946817,
          0.07537020863445358,
          0.07541222711194556,
          0.07545242981571276,
          0.07549076743758487,
          0.07552719102279858,
          0.07556165196861354,
          0.07559410202611064,
          0.07562449330507771,
          0.07565277828188281,
          0.07567890981023039,
          0.07570284113468781,
          0.07572452590686714,
          0.07574391820413924,
          0.07576097255075438,
          0.07577564394123587,
          0.07578788786591129,
          0.07579766033843903,
          0.0758049179251849,
          0.0758096177762991,
          0.07581171765833945,
          0.07581117598828514,
          0.07580795186877956,
          0.07580200512444076,
          0.0757932963390741,
          0.07578178689361953,
          0.07576743900466625,
          0.07575021576336446,
          0.07573008117456426,
          0.07570700019601148,
          0.07568093877743125,
          0.07565186389932932,
          0.0756197436113437,
          0.0755845470699818,
          0.07554624457557789,
          0.07550480760831163,
          0.07546020886312968,
          0.07541242228341685,
          0.07536142309326797,
          0.07530718782821536,
          0.07524969436427432,
          0.07518892194517142,
          0.07512485120762925,
          0.07505746420458806,
          0.07498674442624823,
          0.07491267681883017,
          0.0748352478009514,
          0.07475444527753139,
          0.07467025865114138,
          0.07458267883072782,
          0.0744916982376428,
          0.0743973108089291,
          0.07429951199781211,
          0.07419829877136377,
          0.07409366960531248,
          0.07398562447598146,
          0.07387416484934961,
          0.07375929366723857,
          0.07364101533063806,
          0.07351933568019346,
          0.07339426197388803,
          0.07326580286196253,
          0.0731339683591243,
          0.07299876981410623,
          0.0728602198766482,
          0.0727183324619781,
          0.07257312271288237,
          0.07242460695946111,
          0.07227280267667319,
          0.07211772843978252,
          0.07195940387782557,
          0.07179784962522506,
          0.0716330872716839,
          0.07146513931049554,
          0.07129402908541715,
          0.07111978073625204,
          0.07094241914329598,
          0.07076196987080433,
          0.07057845910963896,
          0.07039191361926095,
          0.07020236066923202,
          0.07000982798039308,
          0.0698143436658884,
          0.06961593617220346,
          0.06941463422038566,
          0.0692104667476168,
          0.06900346284930325,
          0.06879365172185022,
          0.06858106260628233,
          0.06836572473287182,
          0.06814766726693082,
          0.06792691925592079,
          0.06770350957802881,
          0.06747746689235368,
          0.06724881959084228,
          0.06701759575210785,
          0.06678382309725858,
          0.06654752894785669,
          0.06630874018612165,
          0.06606748321748539,
          0.06582378393559742,
          0.06557766768987235,
          0.06532915925566335,
          0.06507828280713654,
          0.06482506189291351,
          0.06456951941454066,
          0.06431167760783477,
          0.06405155802714636,
          0.06378918153257206,
          0.06352456828014012,
          0.06325773771498332,
          0.06298870856750421,
          0.06271749885253043,
          0.062444125871446474,
          0.06216860621728352,
          0.06189095578273558,
          0.061611189771066624,
          0.06132932270986215,
          0.061045368467571276,
          0.06075934027277929,
          0.06047125073614096,
          0.060181111874899086,
          0.059888935139906035,
          0.05959473144505863,
          0.059298511199051065,
          0.059000284339345205,
          0.058700060368250366,
          0.058397848391002004,
          0.058093657155722206,
          0.05778749509514077,
          0.05747937036995288,
          0.057169290913684626,
          0.05685726447893472,
          0.056543298684859036,
          0.05622740106576114,
          0.05590957912065065,
          0.05558984036363028,
          0.05526819237497056,
          0.05494464285273118,
          0.05461919966478802,
          0.054291870901124056,
          0.05396266492624432,
          0.05363159043157497,
          0.05329865648770863,
          0.05296387259635937,
          0.05262724874189361,
          0.05228879544230378,
          0.05194852379949718,
          0.05160644554877303,
          0.05126257310736494,
          0.05091691962193033,
          0.050569499014870914,
          0.05022032602937327,
          0.0498694162730634,
          0.049516786260172065,
          0.04916245345211431,
          0.048806436296390435,
          0.04844875426372057,
          0.048089427883331294,
          0.047728478776317224,
          0.047365929687005606,
          0.047001804512258646,
          0.04663612832865295,
          0.046268927417481454,
          0.04590022928752803,
          0.04553006269557275,
          0.045158457664588474,
          0.044785445499597606,
          0.044411058801162175,
          0.04403533147648629,
          0.04365829874811513,
          0.04327999716022113,
          0.04290046458247113,
          0.042519740211477315,
          0.042137864569834364,
          0.04175487950275615,
          0.0413708281723256,
          0.040985755049378264,
          0.04059970590304441,
          0.0402127277879784,
          0.039824869029308284,
          0.03943617920534341,
          0.03904670912808096,
          0.038656510821555995,
          0.038265637498083746,
          0.03787414353244566,
          0.03748208443407357,
          0.03708951681729066,
          0.03669649836966874,
          0.0363030878185656,
          0.03590934489590723,
          0.03551533030128315,
          0.03512110566342335,
          0.03472673350012995,
          0.03433227717673458,
          0.0339378008631569,
          0.03354336948964007,
          0.03314904870123915,
          0.03275490481114083,
          0.032361004752892095,
          0.03196741603161705,
          0.031574206674301455,
          0.03118144517922433,
          0.030789200464616057,
          0.030397541816623252,
          0.030006538836659775,
          0.029616261388222407,
          0.029226779543251234,
          0.028838163528112068,
          0.02845048366927909,
          0.02806381033879434,
          0.02767821389958053,
          0.027293764650681646,
          0.026910532772506376,
          0.0265285882721465,
          0.02614800092884276,
          0.02576884023966817,
          0.025391175365498644,
          0.025015075077338533,
          0.024640607703066766,
          0.024267841074670133,
          0.023896842476025443,
          0.023527678591293472,
          0.023160415453984177,
          0.022795118396752165
         ],
         "yaxis": "y"
        },
        {
         "legendgroup": "Agent 7",
         "marker": {
          "color": "#EF553B",
          "symbol": "line-ns-open"
         },
         "mode": "markers",
         "name": "Agent 7",
         "showlegend": false,
         "type": "scatter",
         "x": [
          3.444364680545585,
          3.9191648822269807,
          2.886836027713626,
          8.332477754962355,
          7.114737883283877,
          7.288208357183744,
          2.985074626865672,
          5.012208258527828,
          4.665252854812398,
          3.2802287581699345,
          3.16,
          2.9558948261238336,
          3.6288910505836576,
          2.989100817438692,
          3.1562734785875284,
          2.74,
          2.9012345679012346,
          3.1600265604249667,
          3.7935409457900806,
          7.353080168776371,
          3.032838154808444,
          3.2616899097621,
          6.6656441717791415,
          3.38953488372093,
          3.158081705150977,
          3.018105849582173,
          3.463905325443787,
          8.87879461803625,
          2.8617363344051445,
          2.979500891265597,
          6.680167232819441,
          3.1896046852122986,
          5.869069624152804,
          2.892931392931393,
          5.290800341782968,
          3.1075731497418246,
          2.9473684210526314,
          5.148403483309144,
          2.9657142857142857,
          2.8871951219512195,
          3.3701165181631256,
          3.193741677762983,
          8.673620933521924,
          6.229867256637168,
          5.52873030583874,
          3.5781179648806845,
          3.1266666666666665,
          6.52764780944279,
          3.91497975708502,
          7.408410282006488,
          3.196163366336634,
          3.2085769980506824,
          3.061111111111111,
          2.990081154192967,
          2.9281767955801103,
          6.056761268781302,
          3.2975778546712804,
          3.49609375,
          3.2233962264150944,
          3.466519092418373,
          9.147509578544062,
          5.941985041439256,
          3.21671826625387,
          3.025390625,
          8.031217939322879,
          2.802607076350093,
          3.5689131754705525,
          2.7329545454545454,
          4.751683748169839,
          2.8771186440677967,
          2.772277227722772,
          3.084350721420644,
          3.09674861221253,
          3.092085235920852,
          7.3513629534234814,
          2.9158415841584158,
          3.4136740331491713,
          8.115563019833653,
          4.848915482423336,
          7.700330578512396,
          6.949138114492445,
          3.0655737704918034,
          3.0549450549450547,
          3.2016460905349793,
          2.6616915422885574,
          8.613229433109273,
          4.714342629482072,
          3.884414015304068,
          2.8711340206185567,
          9.572167726635765,
          5.807917545092527,
          6.907919847328245,
          2.9838509316770185,
          2.916971916971917,
          3.1344656758669496,
          2.918269230769231,
          8.022781668291818,
          6.028193079880393,
          2.642857142857143,
          3.0919324577861165
         ],
         "xaxis": "x",
         "y": [
          "Agent 7",
          "Agent 7",
          "Agent 7",
          "Agent 7",
          "Agent 7",
          "Agent 7",
          "Agent 7",
          "Agent 7",
          "Agent 7",
          "Agent 7",
          "Agent 7",
          "Agent 7",
          "Agent 7",
          "Agent 7",
          "Agent 7",
          "Agent 7",
          "Agent 7",
          "Agent 7",
          "Agent 7",
          "Agent 7",
          "Agent 7",
          "Agent 7",
          "Agent 7",
          "Agent 7",
          "Agent 7",
          "Agent 7",
          "Agent 7",
          "Agent 7",
          "Agent 7",
          "Agent 7",
          "Agent 7",
          "Agent 7",
          "Agent 7",
          "Agent 7",
          "Agent 7",
          "Agent 7",
          "Agent 7",
          "Agent 7",
          "Agent 7",
          "Agent 7",
          "Agent 7",
          "Agent 7",
          "Agent 7",
          "Agent 7",
          "Agent 7",
          "Agent 7",
          "Agent 7",
          "Agent 7",
          "Agent 7",
          "Agent 7",
          "Agent 7",
          "Agent 7",
          "Agent 7",
          "Agent 7",
          "Agent 7",
          "Agent 7",
          "Agent 7",
          "Agent 7",
          "Agent 7",
          "Agent 7",
          "Agent 7",
          "Agent 7",
          "Agent 7",
          "Agent 7",
          "Agent 7",
          "Agent 7",
          "Agent 7",
          "Agent 7",
          "Agent 7",
          "Agent 7",
          "Agent 7",
          "Agent 7",
          "Agent 7",
          "Agent 7",
          "Agent 7",
          "Agent 7",
          "Agent 7",
          "Agent 7",
          "Agent 7",
          "Agent 7",
          "Agent 7",
          "Agent 7",
          "Agent 7",
          "Agent 7",
          "Agent 7",
          "Agent 7",
          "Agent 7",
          "Agent 7",
          "Agent 7",
          "Agent 7",
          "Agent 7",
          "Agent 7",
          "Agent 7",
          "Agent 7",
          "Agent 7",
          "Agent 7",
          "Agent 7",
          "Agent 7",
          "Agent 7",
          "Agent 7"
         ],
         "yaxis": "y2"
        }
       ],
       "layout": {
        "barmode": "overlay",
        "hovermode": "closest",
        "legend": {
         "traceorder": "reversed"
        },
        "template": {
         "data": {
          "bar": [
           {
            "error_x": {
             "color": "#2a3f5f"
            },
            "error_y": {
             "color": "#2a3f5f"
            },
            "marker": {
             "line": {
              "color": "#E5ECF6",
              "width": 0.5
             },
             "pattern": {
              "fillmode": "overlay",
              "size": 10,
              "solidity": 0.2
             }
            },
            "type": "bar"
           }
          ],
          "barpolar": [
           {
            "marker": {
             "line": {
              "color": "#E5ECF6",
              "width": 0.5
             },
             "pattern": {
              "fillmode": "overlay",
              "size": 10,
              "solidity": 0.2
             }
            },
            "type": "barpolar"
           }
          ],
          "carpet": [
           {
            "aaxis": {
             "endlinecolor": "#2a3f5f",
             "gridcolor": "white",
             "linecolor": "white",
             "minorgridcolor": "white",
             "startlinecolor": "#2a3f5f"
            },
            "baxis": {
             "endlinecolor": "#2a3f5f",
             "gridcolor": "white",
             "linecolor": "white",
             "minorgridcolor": "white",
             "startlinecolor": "#2a3f5f"
            },
            "type": "carpet"
           }
          ],
          "choropleth": [
           {
            "colorbar": {
             "outlinewidth": 0,
             "ticks": ""
            },
            "type": "choropleth"
           }
          ],
          "contour": [
           {
            "colorbar": {
             "outlinewidth": 0,
             "ticks": ""
            },
            "colorscale": [
             [
              0,
              "#0d0887"
             ],
             [
              0.1111111111111111,
              "#46039f"
             ],
             [
              0.2222222222222222,
              "#7201a8"
             ],
             [
              0.3333333333333333,
              "#9c179e"
             ],
             [
              0.4444444444444444,
              "#bd3786"
             ],
             [
              0.5555555555555556,
              "#d8576b"
             ],
             [
              0.6666666666666666,
              "#ed7953"
             ],
             [
              0.7777777777777778,
              "#fb9f3a"
             ],
             [
              0.8888888888888888,
              "#fdca26"
             ],
             [
              1,
              "#f0f921"
             ]
            ],
            "type": "contour"
           }
          ],
          "contourcarpet": [
           {
            "colorbar": {
             "outlinewidth": 0,
             "ticks": ""
            },
            "type": "contourcarpet"
           }
          ],
          "heatmap": [
           {
            "colorbar": {
             "outlinewidth": 0,
             "ticks": ""
            },
            "colorscale": [
             [
              0,
              "#0d0887"
             ],
             [
              0.1111111111111111,
              "#46039f"
             ],
             [
              0.2222222222222222,
              "#7201a8"
             ],
             [
              0.3333333333333333,
              "#9c179e"
             ],
             [
              0.4444444444444444,
              "#bd3786"
             ],
             [
              0.5555555555555556,
              "#d8576b"
             ],
             [
              0.6666666666666666,
              "#ed7953"
             ],
             [
              0.7777777777777778,
              "#fb9f3a"
             ],
             [
              0.8888888888888888,
              "#fdca26"
             ],
             [
              1,
              "#f0f921"
             ]
            ],
            "type": "heatmap"
           }
          ],
          "heatmapgl": [
           {
            "colorbar": {
             "outlinewidth": 0,
             "ticks": ""
            },
            "colorscale": [
             [
              0,
              "#0d0887"
             ],
             [
              0.1111111111111111,
              "#46039f"
             ],
             [
              0.2222222222222222,
              "#7201a8"
             ],
             [
              0.3333333333333333,
              "#9c179e"
             ],
             [
              0.4444444444444444,
              "#bd3786"
             ],
             [
              0.5555555555555556,
              "#d8576b"
             ],
             [
              0.6666666666666666,
              "#ed7953"
             ],
             [
              0.7777777777777778,
              "#fb9f3a"
             ],
             [
              0.8888888888888888,
              "#fdca26"
             ],
             [
              1,
              "#f0f921"
             ]
            ],
            "type": "heatmapgl"
           }
          ],
          "histogram": [
           {
            "marker": {
             "pattern": {
              "fillmode": "overlay",
              "size": 10,
              "solidity": 0.2
             }
            },
            "type": "histogram"
           }
          ],
          "histogram2d": [
           {
            "colorbar": {
             "outlinewidth": 0,
             "ticks": ""
            },
            "colorscale": [
             [
              0,
              "#0d0887"
             ],
             [
              0.1111111111111111,
              "#46039f"
             ],
             [
              0.2222222222222222,
              "#7201a8"
             ],
             [
              0.3333333333333333,
              "#9c179e"
             ],
             [
              0.4444444444444444,
              "#bd3786"
             ],
             [
              0.5555555555555556,
              "#d8576b"
             ],
             [
              0.6666666666666666,
              "#ed7953"
             ],
             [
              0.7777777777777778,
              "#fb9f3a"
             ],
             [
              0.8888888888888888,
              "#fdca26"
             ],
             [
              1,
              "#f0f921"
             ]
            ],
            "type": "histogram2d"
           }
          ],
          "histogram2dcontour": [
           {
            "colorbar": {
             "outlinewidth": 0,
             "ticks": ""
            },
            "colorscale": [
             [
              0,
              "#0d0887"
             ],
             [
              0.1111111111111111,
              "#46039f"
             ],
             [
              0.2222222222222222,
              "#7201a8"
             ],
             [
              0.3333333333333333,
              "#9c179e"
             ],
             [
              0.4444444444444444,
              "#bd3786"
             ],
             [
              0.5555555555555556,
              "#d8576b"
             ],
             [
              0.6666666666666666,
              "#ed7953"
             ],
             [
              0.7777777777777778,
              "#fb9f3a"
             ],
             [
              0.8888888888888888,
              "#fdca26"
             ],
             [
              1,
              "#f0f921"
             ]
            ],
            "type": "histogram2dcontour"
           }
          ],
          "mesh3d": [
           {
            "colorbar": {
             "outlinewidth": 0,
             "ticks": ""
            },
            "type": "mesh3d"
           }
          ],
          "parcoords": [
           {
            "line": {
             "colorbar": {
              "outlinewidth": 0,
              "ticks": ""
             }
            },
            "type": "parcoords"
           }
          ],
          "pie": [
           {
            "automargin": true,
            "type": "pie"
           }
          ],
          "scatter": [
           {
            "marker": {
             "colorbar": {
              "outlinewidth": 0,
              "ticks": ""
             }
            },
            "type": "scatter"
           }
          ],
          "scatter3d": [
           {
            "line": {
             "colorbar": {
              "outlinewidth": 0,
              "ticks": ""
             }
            },
            "marker": {
             "colorbar": {
              "outlinewidth": 0,
              "ticks": ""
             }
            },
            "type": "scatter3d"
           }
          ],
          "scattercarpet": [
           {
            "marker": {
             "colorbar": {
              "outlinewidth": 0,
              "ticks": ""
             }
            },
            "type": "scattercarpet"
           }
          ],
          "scattergeo": [
           {
            "marker": {
             "colorbar": {
              "outlinewidth": 0,
              "ticks": ""
             }
            },
            "type": "scattergeo"
           }
          ],
          "scattergl": [
           {
            "marker": {
             "colorbar": {
              "outlinewidth": 0,
              "ticks": ""
             }
            },
            "type": "scattergl"
           }
          ],
          "scattermapbox": [
           {
            "marker": {
             "colorbar": {
              "outlinewidth": 0,
              "ticks": ""
             }
            },
            "type": "scattermapbox"
           }
          ],
          "scatterpolar": [
           {
            "marker": {
             "colorbar": {
              "outlinewidth": 0,
              "ticks": ""
             }
            },
            "type": "scatterpolar"
           }
          ],
          "scatterpolargl": [
           {
            "marker": {
             "colorbar": {
              "outlinewidth": 0,
              "ticks": ""
             }
            },
            "type": "scatterpolargl"
           }
          ],
          "scatterternary": [
           {
            "marker": {
             "colorbar": {
              "outlinewidth": 0,
              "ticks": ""
             }
            },
            "type": "scatterternary"
           }
          ],
          "surface": [
           {
            "colorbar": {
             "outlinewidth": 0,
             "ticks": ""
            },
            "colorscale": [
             [
              0,
              "#0d0887"
             ],
             [
              0.1111111111111111,
              "#46039f"
             ],
             [
              0.2222222222222222,
              "#7201a8"
             ],
             [
              0.3333333333333333,
              "#9c179e"
             ],
             [
              0.4444444444444444,
              "#bd3786"
             ],
             [
              0.5555555555555556,
              "#d8576b"
             ],
             [
              0.6666666666666666,
              "#ed7953"
             ],
             [
              0.7777777777777778,
              "#fb9f3a"
             ],
             [
              0.8888888888888888,
              "#fdca26"
             ],
             [
              1,
              "#f0f921"
             ]
            ],
            "type": "surface"
           }
          ],
          "table": [
           {
            "cells": {
             "fill": {
              "color": "#EBF0F8"
             },
             "line": {
              "color": "white"
             }
            },
            "header": {
             "fill": {
              "color": "#C8D4E3"
             },
             "line": {
              "color": "white"
             }
            },
            "type": "table"
           }
          ]
         },
         "layout": {
          "annotationdefaults": {
           "arrowcolor": "#2a3f5f",
           "arrowhead": 0,
           "arrowwidth": 1
          },
          "autotypenumbers": "strict",
          "coloraxis": {
           "colorbar": {
            "outlinewidth": 0,
            "ticks": ""
           }
          },
          "colorscale": {
           "diverging": [
            [
             0,
             "#8e0152"
            ],
            [
             0.1,
             "#c51b7d"
            ],
            [
             0.2,
             "#de77ae"
            ],
            [
             0.3,
             "#f1b6da"
            ],
            [
             0.4,
             "#fde0ef"
            ],
            [
             0.5,
             "#f7f7f7"
            ],
            [
             0.6,
             "#e6f5d0"
            ],
            [
             0.7,
             "#b8e186"
            ],
            [
             0.8,
             "#7fbc41"
            ],
            [
             0.9,
             "#4d9221"
            ],
            [
             1,
             "#276419"
            ]
           ],
           "sequential": [
            [
             0,
             "#0d0887"
            ],
            [
             0.1111111111111111,
             "#46039f"
            ],
            [
             0.2222222222222222,
             "#7201a8"
            ],
            [
             0.3333333333333333,
             "#9c179e"
            ],
            [
             0.4444444444444444,
             "#bd3786"
            ],
            [
             0.5555555555555556,
             "#d8576b"
            ],
            [
             0.6666666666666666,
             "#ed7953"
            ],
            [
             0.7777777777777778,
             "#fb9f3a"
            ],
            [
             0.8888888888888888,
             "#fdca26"
            ],
            [
             1,
             "#f0f921"
            ]
           ],
           "sequentialminus": [
            [
             0,
             "#0d0887"
            ],
            [
             0.1111111111111111,
             "#46039f"
            ],
            [
             0.2222222222222222,
             "#7201a8"
            ],
            [
             0.3333333333333333,
             "#9c179e"
            ],
            [
             0.4444444444444444,
             "#bd3786"
            ],
            [
             0.5555555555555556,
             "#d8576b"
            ],
            [
             0.6666666666666666,
             "#ed7953"
            ],
            [
             0.7777777777777778,
             "#fb9f3a"
            ],
            [
             0.8888888888888888,
             "#fdca26"
            ],
            [
             1,
             "#f0f921"
            ]
           ]
          },
          "colorway": [
           "#636efa",
           "#EF553B",
           "#00cc96",
           "#ab63fa",
           "#FFA15A",
           "#19d3f3",
           "#FF6692",
           "#B6E880",
           "#FF97FF",
           "#FECB52"
          ],
          "font": {
           "color": "#2a3f5f"
          },
          "geo": {
           "bgcolor": "white",
           "lakecolor": "white",
           "landcolor": "#E5ECF6",
           "showlakes": true,
           "showland": true,
           "subunitcolor": "white"
          },
          "hoverlabel": {
           "align": "left"
          },
          "hovermode": "closest",
          "mapbox": {
           "style": "light"
          },
          "paper_bgcolor": "white",
          "plot_bgcolor": "#E5ECF6",
          "polar": {
           "angularaxis": {
            "gridcolor": "white",
            "linecolor": "white",
            "ticks": ""
           },
           "bgcolor": "#E5ECF6",
           "radialaxis": {
            "gridcolor": "white",
            "linecolor": "white",
            "ticks": ""
           }
          },
          "scene": {
           "xaxis": {
            "backgroundcolor": "#E5ECF6",
            "gridcolor": "white",
            "gridwidth": 2,
            "linecolor": "white",
            "showbackground": true,
            "ticks": "",
            "zerolinecolor": "white"
           },
           "yaxis": {
            "backgroundcolor": "#E5ECF6",
            "gridcolor": "white",
            "gridwidth": 2,
            "linecolor": "white",
            "showbackground": true,
            "ticks": "",
            "zerolinecolor": "white"
           },
           "zaxis": {
            "backgroundcolor": "#E5ECF6",
            "gridcolor": "white",
            "gridwidth": 2,
            "linecolor": "white",
            "showbackground": true,
            "ticks": "",
            "zerolinecolor": "white"
           }
          },
          "shapedefaults": {
           "line": {
            "color": "#2a3f5f"
           }
          },
          "ternary": {
           "aaxis": {
            "gridcolor": "white",
            "linecolor": "white",
            "ticks": ""
           },
           "baxis": {
            "gridcolor": "white",
            "linecolor": "white",
            "ticks": ""
           },
           "bgcolor": "#E5ECF6",
           "caxis": {
            "gridcolor": "white",
            "linecolor": "white",
            "ticks": ""
           }
          },
          "title": {
           "x": 0.05
          },
          "xaxis": {
           "automargin": true,
           "gridcolor": "white",
           "linecolor": "white",
           "ticks": "",
           "title": {
            "standoff": 15
           },
           "zerolinecolor": "white",
           "zerolinewidth": 2
          },
          "yaxis": {
           "automargin": true,
           "gridcolor": "white",
           "linecolor": "white",
           "ticks": "",
           "title": {
            "standoff": 15
           },
           "zerolinecolor": "white",
           "zerolinewidth": 2
          }
         }
        },
        "title": {
         "text": "Movement/Examinations Ratio Distplot Agent 7"
        },
        "xaxis": {
         "anchor": "y2",
         "domain": [
          0,
          1
         ],
         "title": {
          "text": "Movement/Examinations"
         },
         "zeroline": false
        },
        "yaxis": {
         "anchor": "free",
         "domain": [
          0.35,
          1
         ],
         "position": 0,
         "title": {
          "text": "Probability Density"
         }
        },
        "yaxis2": {
         "anchor": "x",
         "domain": [
          0,
          0.25
         ],
         "dtick": 1,
         "showticklabels": false
        }
       }
      }
     },
     "metadata": {},
     "output_type": "display_data"
    }
   ],
   "source": [
    "hist_data = [agent_7_res]\n",
    "group_labels = ['Agent 7']\n",
    "fig_dist = ff.create_distplot(hist_data, group_labels, bin_size=0.2, colors = ['#EF553B'])\n",
    "fig_dist.update_layout(title_text='Movement/Examinations Ratio Distplot Agent 7')\n",
    "fig_dist.layout.xaxis.update({'title': 'Movement/Examinations'})\n",
    "fig_dist.layout.yaxis.update({'title': 'Probability Density'})\n",
    "fig_dist.show()\n",
    "plotly.io.write_image(fig_dist, file=\"./images/question_4_agent_7.png\", scale=5)"
   ]
  },
  {
   "cell_type": "code",
   "execution_count": 27,
   "metadata": {},
   "outputs": [
    {
     "data": {
      "application/vnd.plotly.v1+json": {
       "config": {
        "plotlyServerURL": "https://plot.ly"
       },
       "data": [
        {
         "autobinx": false,
         "histnorm": "probability density",
         "legendgroup": "Agent 8",
         "marker": {
          "color": "#00CC96"
         },
         "name": "Agent 8",
         "opacity": 0.7,
         "type": "histogram",
         "x": [
          3.028526148969889,
          3.185397279885469,
          3.391037446286065,
          2.7760151737218726,
          3.008602954927997,
          2.8576089244369607,
          2.748736462093863,
          2.9903428295509418,
          2.787479406919275,
          2.4583333333333335,
          2.8933217692974846,
          2.9267729752412923,
          2.824583866837388,
          2.877992277992278,
          2.7058823529411766,
          3.0755649717514126,
          3.065959952885748,
          2.9728025936599423,
          2.735349716446125,
          2.968958611481976,
          2.7995049504950495,
          3.0601503759398496,
          3.0495363305552297,
          3.6059190031152646,
          2.670076726342711,
          3.0824175824175826,
          2.8743500866551126,
          3.0599118942731276,
          3.164007657945118,
          2.9577814569536423,
          3.3793578613752238,
          2.9881831610044314,
          3.1741500962155227,
          3.0551020408163265,
          2.954936323065201,
          2.898128898128898,
          3.121732636295743,
          2.972782258064516,
          2.9814814814814814,
          2.9603620474406993,
          3.4070010449320796,
          2.793103448275862,
          3.158858810179932,
          3.4626189397372,
          2.661036036036036,
          3.180940892641737,
          3.782227784730914,
          3.1466013211165564,
          3.3144257703081235,
          3.086410635155096,
          3.2798418972332017,
          3.0726141078838176,
          3.064973861090366,
          2.780590717299578,
          2.953341740226986,
          2.8722611146467862,
          2.834437086092715,
          3.740125673249551,
          3.3815854258985723,
          2.7864238410596025,
          3.010533245556287,
          3.290271636133923,
          3.787668057487251,
          2.9197860962566846,
          3.0162135604323614,
          3.2093690248565965,
          3.4907985817997638,
          2.7926136363636362,
          2.890825035561878,
          3.053266489111703,
          2.8529411764705883,
          2.9737051792828684,
          2.9482758620689653,
          3.2808641975308643,
          4.014843611945573,
          3.216594045025418,
          3.2666666666666666,
          2.941864241636895,
          2.930715935334873,
          3.311834690043832,
          3.2339133953864834,
          2.5693430656934306,
          2.8989280245022973,
          3.381217277486911,
          3.114662311909483,
          2.8764556040756912,
          2.8003003003003,
          2.902316844082655,
          3.2265625,
          3.4289522247283166,
          2.9061075660893345,
          2.828720854216605,
          2.750684931506849,
          3.5804540967423493,
          3.4565640825866772,
          2.8845637583892616,
          3.0054161400974904,
          3.1596443757247776,
          2.86449864498645,
          3.062454077883909
         ],
         "xaxis": "x",
         "xbins": {
          "end": 4.014843611945573,
          "size": 0.2,
          "start": 2.4583333333333335
         },
         "yaxis": "y"
        },
        {
         "legendgroup": "Agent 8",
         "marker": {
          "color": "#00CC96"
         },
         "mode": "lines",
         "name": "Agent 8",
         "showlegend": false,
         "type": "scatter",
         "x": [
          2.4583333333333335,
          2.4614463538905578,
          2.4645593744477825,
          2.467672395005007,
          2.4707854155622315,
          2.473898436119456,
          2.4770114566766805,
          2.480124477233905,
          2.483237497791129,
          2.486350518348354,
          2.489463538905578,
          2.492576559462803,
          2.495689580020027,
          2.498802600577252,
          2.501915621134476,
          2.5050286416917005,
          2.508141662248925,
          2.5112546828061495,
          2.5143677033633742,
          2.5174807239205985,
          2.5205937444778233,
          2.5237067650350475,
          2.526819785592272,
          2.5299328061494966,
          2.533045826706721,
          2.5361588472639456,
          2.53927186782117,
          2.5423848883783946,
          2.545497908935619,
          2.548610929492843,
          2.551723950050068,
          2.554836970607292,
          2.557949991164517,
          2.5610630117217412,
          2.564176032278966,
          2.5672890528361902,
          2.5704020733934145,
          2.5735150939506393,
          2.5766281145078636,
          2.5797411350650883,
          2.5828541556223126,
          2.5859671761795373,
          2.5890801967367616,
          2.592193217293986,
          2.5953062378512106,
          2.598419258408435,
          2.6015322789656596,
          2.604645299522884,
          2.6077583200801087,
          2.610871340637333,
          2.6139843611945572,
          2.617097381751782,
          2.6202104023090063,
          2.623323422866231,
          2.6264364434234553,
          2.62954946398068,
          2.6326624845379043,
          2.635775505095129,
          2.6388885256523533,
          2.6420015462095776,
          2.6451145667668023,
          2.6482275873240266,
          2.6513406078812514,
          2.6544536284384757,
          2.6575666489957,
          2.6606796695529247,
          2.663792690110149,
          2.6669057106673737,
          2.670018731224598,
          2.6731317517818227,
          2.676244772339047,
          2.6793577928962717,
          2.682470813453496,
          2.6855838340107203,
          2.688696854567945,
          2.6918098751251693,
          2.694922895682394,
          2.6980359162396184,
          2.701148936796843,
          2.7042619573540674,
          2.7073749779112917,
          2.7104879984685164,
          2.7136010190257407,
          2.7167140395829654,
          2.7198270601401897,
          2.7229400806974144,
          2.7260531012546387,
          2.729166121811863,
          2.7322791423690878,
          2.735392162926312,
          2.7385051834835368,
          2.741618204040761,
          2.7447312245979854,
          2.74784424515521,
          2.7509572657124344,
          2.754070286269659,
          2.7571833068268834,
          2.760296327384108,
          2.7634093479413324,
          2.766522368498557,
          2.7696353890557814,
          2.7727484096130057,
          2.7758614301702305,
          2.7789744507274547,
          2.7820874712846795,
          2.7852004918419038,
          2.7883135123991285,
          2.791426532956353,
          2.7945395535135775,
          2.797652574070802,
          2.800765594628026,
          2.803878615185251,
          2.806991635742475,
          2.8101046562997,
          2.813217676856924,
          2.8163306974141484,
          2.819443717971373,
          2.8225567385285975,
          2.825669759085822,
          2.8287827796430465,
          2.831895800200271,
          2.8350088207574955,
          2.83812184131472,
          2.8412348618719445,
          2.844347882429169,
          2.8474609029863935,
          2.850573923543618,
          2.8536869441008426,
          2.856799964658067,
          2.859912985215291,
          2.863026005772516,
          2.86613902632974,
          2.869252046886965,
          2.872365067444189,
          2.875478088001414,
          2.878591108558638,
          2.881704129115863,
          2.8848171496730872,
          2.8879301702303115,
          2.8910431907875362,
          2.8941562113447605,
          2.8972692319019853,
          2.9003822524592096,
          2.903495273016434,
          2.9066082935736586,
          2.909721314130883,
          2.9128343346881076,
          2.915947355245332,
          2.9190603758025566,
          2.922173396359781,
          2.9252864169170056,
          2.92839943747423,
          2.931512458031454,
          2.934625478588679,
          2.9377384991459032,
          2.940851519703128,
          2.9439645402603523,
          2.9470775608175765,
          2.9501905813748013,
          2.9533036019320256,
          2.9564166224892503,
          2.9595296430464746,
          2.9626426636036993,
          2.9657556841609236,
          2.9688687047181483,
          2.9719817252753726,
          2.975094745832597,
          2.9782077663898217,
          2.981320786947046,
          2.9844338075042707,
          2.987546828061495,
          2.9906598486187193,
          2.993772869175944,
          2.9968858897331687,
          2.999998910290393,
          3.0031119308476173,
          3.006224951404842,
          3.0093379719620663,
          3.012450992519291,
          3.0155640130765153,
          3.0186770336337396,
          3.0217900541909644,
          3.0249030747481886,
          3.0280160953054134,
          3.0311291158626377,
          3.034242136419862,
          3.0373551569770867,
          3.0404681775343114,
          3.0435811980915357,
          3.04669421864876,
          3.0498072392059847,
          3.052920259763209,
          3.0560332803204338,
          3.059146300877658,
          3.0622593214348823,
          3.065372341992107,
          3.0684853625493314,
          3.071598383106556,
          3.0747114036637804,
          3.077824424221005,
          3.0809374447782294,
          3.0840504653354537,
          3.0871634858926784,
          3.0902765064499027,
          3.0933895270071274,
          3.0965025475643517,
          3.0996155681215765,
          3.1027285886788007,
          3.105841609236025,
          3.1089546297932498,
          3.112067650350474,
          3.115180670907699,
          3.118293691464923,
          3.1214067120221474,
          3.124519732579372,
          3.127632753136597,
          3.130745773693821,
          3.1338587942510454,
          3.13697181480827,
          3.1400848353654944,
          3.143197855922719,
          3.1463108764799435,
          3.1494238970371677,
          3.1525369175943925,
          3.1556499381516168,
          3.1587629587088415,
          3.161875979266066,
          3.16498899982329,
          3.168102020380515,
          3.1712150409377395,
          3.174328061494964,
          3.177441082052188,
          3.180554102609413,
          3.183667123166637,
          3.186780143723862,
          3.189893164281086,
          3.1930061848383104,
          3.196119205395535,
          3.19923222595276,
          3.202345246509984,
          3.2054582670672085,
          3.2085712876244328,
          3.2116843081816575,
          3.2147973287388822,
          3.2179103492961065,
          3.221023369853331,
          3.2241363904105556,
          3.22724941096778,
          3.2303624315250046,
          3.233475452082229,
          3.236588472639453,
          3.239701493196678,
          3.2428145137539026,
          3.245927534311127,
          3.249040554868351,
          3.252153575425576,
          3.2552665959828,
          3.258379616540025,
          3.2614926370972492,
          3.2646056576544735,
          3.2677186782116983,
          3.2708316987689225,
          3.2739447193261473,
          3.2770577398833716,
          3.280170760440596,
          3.2832837809978206,
          3.286396801555045,
          3.2895098221122696,
          3.292622842669494,
          3.2957358632267186,
          3.298848883783943,
          3.3019619043411677,
          3.305074924898392,
          3.3081879454556162,
          3.311300966012841,
          3.3144139865700653,
          3.31752700712729,
          3.3206400276845143,
          3.3237530482417386,
          3.3268660687989633,
          3.3299790893561876,
          3.3330921099134123,
          3.3362051304706366,
          3.3393181510278613,
          3.3424311715850856,
          3.3455441921423104,
          3.3486572126995346,
          3.351770233256759,
          3.3548832538139837,
          3.357996274371208,
          3.3611092949284327,
          3.364222315485657,
          3.3673353360428813,
          3.370448356600106,
          3.3735613771573307,
          3.376674397714555,
          3.3797874182717793,
          3.3829004388290036,
          3.3860134593862283,
          3.389126479943453,
          3.3922395005006774,
          3.3953525210579016,
          3.3984655416151264,
          3.4015785621723507,
          3.4046915827295754,
          3.4078046032867997,
          3.410917623844024,
          3.4140306444012487,
          3.4171436649584734,
          3.4202566855156977,
          3.423369706072922,
          3.4264827266301467,
          3.429595747187371,
          3.4327087677445958,
          3.43582178830182,
          3.4389348088590443,
          3.442047829416269,
          3.445160849973494,
          3.448273870530718,
          3.4513868910879424,
          3.454499911645167,
          3.4576129322023914,
          3.460725952759616,
          3.4638389733168404,
          3.4669519938740647,
          3.470065014431289,
          3.4731780349885137,
          3.4762910555457385,
          3.4794040761029628,
          3.482517096660187,
          3.485630117217412,
          3.488743137774636,
          3.491856158331861,
          3.494969178889085,
          3.4980821994463094,
          3.501195220003534,
          3.504308240560759,
          3.507421261117983,
          3.5105342816752074,
          3.513647302232432,
          3.516760322789657,
          3.519873343346881,
          3.5229863639041055,
          3.5260993844613298,
          3.529212405018554,
          3.532325425575779,
          3.5354384461330035,
          3.538551466690228,
          3.541664487247452,
          3.544777507804677,
          3.5478905283619016,
          3.551003548919126,
          3.55411656947635,
          3.557229590033575,
          3.5603426105907996,
          3.563455631148024,
          3.566568651705248,
          3.5696816722624725,
          3.572794692819697,
          3.575907713376922,
          3.579020733934146,
          3.5821337544913705,
          3.585246775048595,
          3.5883597956058195,
          3.5914728161630443,
          3.5945858367202685,
          3.597698857277493,
          3.6008118778347176,
          3.603924898391942,
          3.6070379189491666,
          3.610150939506391,
          3.6132639600636156,
          3.61637698062084,
          3.6194900011780646,
          3.622603021735289,
          3.625716042292513,
          3.6288290628497375,
          3.6319420834069622,
          3.635055103964187,
          3.6381681245214113,
          3.6412811450786355,
          3.6443941656358603,
          3.6475071861930846,
          3.6506202067503093,
          3.6537332273075336,
          3.656846247864758,
          3.6599592684219826,
          3.6630722889792073,
          3.6661853095364316,
          3.669298330093656,
          3.67241135065088,
          3.6755243712081054,
          3.6786373917653297,
          3.681750412322554,
          3.6848634328797782,
          3.687976453437003,
          3.6910894739942273,
          3.694202494551452,
          3.6973155151086763,
          3.7004285356659006,
          3.7035415562231253,
          3.70665457678035,
          3.7097675973375743,
          3.7128806178947986,
          3.7159936384520234,
          3.719106659009248,
          3.7222196795664724,
          3.7253327001236967,
          3.728445720680921,
          3.7315587412381452,
          3.73467176179537,
          3.7377847823525947,
          3.740897802909819,
          3.7440108234670433,
          3.747123844024268,
          3.7502368645814927,
          3.753349885138717,
          3.7564629056959413,
          3.759575926253166,
          3.762688946810391,
          3.765801967367615,
          3.7689149879248394,
          3.7720280084820637,
          3.775141029039288,
          3.778254049596513,
          3.7813670701537374,
          3.7844800907109617,
          3.787593111268186,
          3.7907061318254107,
          3.7938191523826355,
          3.7969321729398597,
          3.800045193497084,
          3.8031582140543088,
          3.806271234611533,
          3.809384255168758,
          3.812497275725982,
          3.8156102962832064,
          3.818723316840431,
          3.821836337397656,
          3.82494935795488,
          3.8280623785121044,
          3.8311753990693287,
          3.8342884196265534,
          3.8374014401837777,
          3.8405144607410024,
          3.8436274812982267,
          3.8467405018554515,
          3.8498535224126758,
          3.8529665429699005,
          3.8560795635271248,
          3.859192584084349,
          3.862305604641574,
          3.8654186251987985,
          3.868531645756023,
          3.871644666313247,
          3.8747576868704714,
          3.877870707427696,
          3.880983727984921,
          3.884096748542145,
          3.8872097690993694,
          3.890322789656594,
          3.8934358102138185,
          3.896548830771043,
          3.8996618513282675,
          3.9027748718854918,
          3.9058878924427165,
          3.9090009129999412,
          3.9121139335571655,
          3.91522695411439,
          3.918339974671614,
          3.9214529952288393,
          3.9245660157860636,
          3.927679036343288,
          3.930792056900512,
          3.9339050774577364,
          3.937018098014961,
          3.940131118572186,
          3.94324413912941,
          3.9463571596866345,
          3.949470180243859,
          3.952583200801084,
          3.9556962213583082,
          3.9588092419155325,
          3.9619222624727573,
          3.965035283029982,
          3.9681483035872063,
          3.9712613241444306,
          3.974374344701655,
          3.977487365258879,
          3.980600385816104,
          3.9837134063733286,
          3.986826426930553,
          3.989939447487777,
          3.993052468045002,
          3.9961654886022266,
          3.999278509159451,
          4.002391529716675,
          4.0055045502738995,
          4.008617570831124,
          4.011730591388349
         ],
         "xaxis": "x",
         "y": [
          0.08026410444241085,
          0.08233877259840815,
          0.08446452434277607,
          0.08664386812957922,
          0.08887943802498248,
          0.09117399366161652,
          0.09353041980959417,
          0.09595172555529208,
          0.09844104308005863,
          0.10100162603207102,
          0.1036368474856496,
          0.10635019748342871,
          0.10914528015788706,
          0.1120258104298561,
          0.11499561028274152,
          0.11805860461231615,
          0.12121881665307313,
          0.12448036298324482,
          0.12784744811174656,
          0.13132435865139894,
          0.13491545708395683,
          0.13862517512355654,
          0.14245800668637107,
          0.14641850047535132,
          0.15051125219008654,
          0.1547408963729486,
          0.15911209790378386,
          0.16362954315659006,
          0.16829793083268552,
          0.17312196248606054,
          0.17810633275765578,
          0.1832557193364785,
          0.18857477266653466,
          0.19406810541966285,
          0.19974028175543476,
          0.2055958063903313,
          0.21163911349948286,
          0.2178745554752185,
          0.22430639156770826,
          0.23093877643389454,
          0.23777574862182493,
          0.2448212190183539,
          0.2520789592889834,
          0.259552590339344,
          0.26724557082850675,
          0.2751611857648617,
          0.28330253521589355,
          0.29167252316348347,
          0.300273846536811,
          0.30910898445502694,
          0.31818018771205236,
          0.3274894685357986,
          0.33703859065393726,
          0.3468290596981531,
          0.356862113978272,
          0.36713871565726364,
          0.37765954235725013,
          0.388424979225999,
          0.39943511149221134,
          0.4106897175369598,
          0.42218826250722374,
          0.4339298924961273,
          0.4459134293129616,
          0.4581373658642694,
          0.47059986216564,
          0.48329874200175266,
          0.49623149025031454,
          0.509395250883312,
          0.5227868256568073,
          0.5364026734981934,
          0.5502389105974511,
          0.5642913112065362,
          0.5785553091485612,
          0.5930260000359499,
          0.6076981441942797,
          0.6225661702859997,
          0.637624179625829,
          0.6528659511771601,
          0.6682849472164758,
          0.683874319650495,
          0.6996269169685585,
          0.7155352918106843,
          0.7315917091297031,
          0.7477881549241224,
          0.764116345516492,
          0.7805677373506891,
          0.7971335372798989,
          0.8138047133160655,
          0.8305720058103001,
          0.847425939032979,
          0.8643568331215569,
          0.8813548163634438,
          0.8984098377811776,
          0.9155116799867038,
          0.9326499722718067,
          0.9498142039017584,
          0.966993737579683,
          0.9841778230496029,
          1.0013556108067938,
          1.0185161658848982,
          1.0356484816900713,
          1.0527414938536428,
          1.069784094075689,
          1.08676514393335,
          1.1036734886288917,
          1.1204979706539198,
          1.1372274433475764,
          1.1538507843279564,
          1.1703569087774606,
          1.1867347825642665,
          1.2029734351835248,
          1.2190619725033638,
          1.2349895893020888,
          1.2507455815844717,
          1.2663193586661063,
          1.2817004550162265,
          1.2968785418504414,
          1.311843438465874,
          1.326585123312362,
          1.3410937447939923,
          1.3553596317963776,
          1.3693733039354816,
          1.3831254815246847,
          1.396607095257091,
          1.4098092956006578,
          1.4227234619039955,
          1.4353412112109099,
          1.4476544067820594,
          1.4596551663219903,
          1.4713358699100476,
          1.4826891676334173,
          1.4937079869206256,
          1.5043855395735122,
          1.5147153284956205,
          1.5246911541146033,
          1.534307120496069,
          1.5435576411459133,
          1.5524374444979554,
          1.5609415790833159,
          1.5690654183776958,
          1.5768046653223808,
          1.5841553565144897,
          1.591113866061716,
          1.5976769090964769,
          1.6038415449442207,
          1.6096051799403168,
          1.614965569889864,
          1.6199208221644852,
          1.6244693974301272,
          1.628610110999753,
          1.632342133804784,
          1.6356649929790958,
          1.6385785720494788,
          1.6410831107264618,
          1.6431792042895654,
          1.644867802561211,
          1.64615020846369,
          1.647028076153894,
          1.6475034087307596,
          1.6475785555107896,
          1.6472562088673552,
          1.646539400629992,
          1.645431498040368,
          1.6439361992621815,
          1.6420575284428607,
          1.6397998303256207,
          1.637167764411141,
          1.6341662986689418,
          1.6308007027994136,
          1.6270765410482981,
          1.6229996645765115,
          1.618576203389134,
          1.6138125578285747,
          1.6087153896380935,
          1.6032916126030097,
          1.5975483827783592,
          1.591493088312963,
          1.5851333388814153,
          1.5784769547368211,
          1.5715319553987126,
          1.5643065479920217,
          1.5568091152546186,
          1.5490482032324489,
          1.5410325086828824,
          1.5327708662085813,
          1.5242722351455928,
          1.5155456862311172,
          1.506600388077772,
          1.4974455934827187,
          1.4880906256013842,
          1.4785448640168672,
          1.468817730737304,
          1.4589186761546014,
          1.4488571649990063,
          1.4386426623246982,
          1.428284619562468,
          1.4177924606759469,
          1.4071755684583107,
          1.3964432710064987,
          1.385604828410017,
          1.3746694196911269,
          1.363646130032791,
          1.3525439383301112,
          1.3413717051000795,
          1.3301381607833453,
          1.3188518944704521,
          1.3075213430833135,
          1.2961547810410865,
          1.2847603104375043,
          1.2733458517546208,
          1.2619191351355894,
          1.2504876922364823,
          1.2390588486746101,
          1.227639717087824,
          1.2162371908165295,
          1.2048579382169278,
          1.193508397611057,
          1.1821947728759388,
          1.1709230296710387,
          1.159698892300056,
          1.1485278411998787,
          1.13741511104654,
          1.1263656894649214,
          1.1153843163261445,
          1.1044754836137585,
          1.0936434358372922,
          1.0828921709693191,
          1.0722254418799388,
          1.0616467582406586,
          1.0511593888678998,
          1.0407663644748326,
          1.030470480799143,
          1.0202743020733371,
          1.0101801648035935,
          1.0001901818228736,
          0.9903062465839669,
          0.9805300376584231,
          0.9708630234079226,
          0.9613064667955262,
          0.9518614303053374,
          0.9425287809406379,
          0.9333091952721548,
          0.9242031645100851,
          0.9152109995756363,
          0.9063328361501457,
          0.8975686396823896,
          0.8889182103373039,
          0.880381187872128,
          0.8719570564287621,
          0.8636451492341586,
          0.8554446532033243,
          0.8473546134425892,
          0.8393739376535521,
          0.8315014004409887,
          0.8237356475306706,
          0.8160751999056728,
          0.8085184578720745,
          0.8010637050672617,
          0.7937091124260285,
          0.7864527421214091,
          0.7792925514987808,
          0.7722263970229393,
          0.7652520382588653,
          0.7583671419075335,
          0.7515692859184611,
          0.7448559637007365,
          0.7382245884539752,
          0.7316724976400122,
          0.7251969576152806,
          0.718795168442514,
          0.7124642688989731,
          0.7062013416964809,
          0.7000034189265933,
          0.6938674877417952,
          0.6877904962811411,
          0.6817693598459952,
          0.6758009673285664,
          0.6698821878929544,
          0.6640098779051489,
          0.6581808881052801,
          0.6523920710120178,
          0.6466402885457911,
          0.6409224198541549,
          0.6352353693194284,
          0.6295760747255994,
          0.6239415155584277,
          0.6183287214099008,
          0.6127347804554415,
          0.6071568479699015,
          0.6015921548461037,
          0.5960380160778058,
          0.5904918391673135,
          0.5849511324166302,
          0.579413513060061,
          0.5738767151955368,
          0.5683385974716142,
          0.5627971504872074,
          0.5572505038615271,
          0.5516969329325079,
          0.5461348650431808,
          0.5405628853769529,
          0.534979742304638,
          0.5293843522082715,
          0.5237758037492588,
          0.5181533615511789,
          0.5125164692706993,
          0.5068647520332823,
          0.5011980182139879,
          0.4955162605473029,
          0.48981965655385695,
          0.48410856827581183,
          0.4783835413168212,
          0.4726453031865397,
          0.46689476095376076,
          0.4611329982164281,
          0.4553612714006966,
          0.4495810054052515,
          0.443793788610829,
          0.43800136727855954,
          0.4322056393641762,
          0.4264086477783875,
          0.4206125731266474,
          0.41481972596427835,
          0.40903253860530997,
          0.40325355652547,
          0.39748542940156,
          0.39173090183083614,
          0.38599280377515044,
          0.38027404077528115,
          0.3745775839813197,
          0.3689064600449797,
          0.36326374091941793,
          0.3576525336114821,
          0.3520759699304099,
          0.3465371962756795,
          0.3410393635052462,
          0.3355856169235556,
          0.33017908642671784,
          0.32482287683998223,
          0.31952005848024573,
          0.3142736579737393,
          0.3090866493563529,
          0.3039619454812802,
          0.2989023897558397,
          0.2939107482264314,
          0.28898970202777186,
          0.284141840209687,
          0.2793696529520155,
          0.27467552517550575,
          0.2700617305540315,
          0.26553042593107135,
          0.2610836461411427,
          0.25672329923484805,
          0.25245116210434443,
          0.2482688765043987,
          0.24417794546279484,
          0.2401797300726837,
          0.23627544665853492,
          0.2324661643066358,
          0.22875280275061785,
          0.22513613060228052,
          0.22161676391792032,
          0.21819516509061163,
          0.21487164205924553,
          0.2116463478256878,
          0.2085192802721764,
          0.2054902822718812,
          0.20255904208656925,
          0.19972509404632882,
          0.19698781950746433,
          0.19434644808578827,
          0.19180005916373402,
          0.18934758367081989,
          0.18698780613812607,
          0.18471936702843345,
          0.18254076534463787,
          0.18045036151982097,
          0.17844638059305562,
          0.17652691567550421,
          0.1746899317116811,
          0.17293326954090207,
          0.17125465026381495,
          0.16965167991864052,
          0.16812185447118708,
          0.16666256512196823,
          0.16527110393273942,
          0.16394466977357292,
          0.16268037459013573,
          0.16147524998919519,
          0.1603262541385238,
          0.15923027897535022,
          0.1581841577152952,
          0.15718467265140218,
          0.1562285632303982,
          0.1553125343907724,
          0.1544332651446274,
          0.15358741738259296,
          0.15277164487841366,
          0.15198260246717418,
          0.15121695536851143,
          0.15047138862365542,
          0.14974261661273158,
          0.14902739261649772,
          0.1483225183846128,
          0.14762485367065606,
          0.1469313256924648,
          0.14623893847497402,
          0.14554478203162916,
          0.14484604133963236,
          0.14414000506378583,
          0.14342407398353693,
          0.14269576907800433,
          0.1419527392243017,
          0.1411927684653572,
          0.14041378280467376,
          0.13961385648707605,
          0.13879121772643332,
          0.1379442538436446,
          0.1370715157807848,
          0.13617172196024305,
          0.13524376146090406,
          0.13428669648692398,
          0.13329976410839095,
          0.13228237725712486,
          0.13123412496501996,
          0.1301547718366584,
          0.12904425675234685,
          0.1279026908022784,
          0.1267303544571001,
          0.12552769398478278,
          0.12429531712829163,
          0.12303398806309221,
          0.1217446216579994,
          0.12042827706719958,
          0.11908615068547276,
          0.11771956850261656,
          0.11632997789686111,
          0.11491893891056697,
          0.11348811505475727,
          0.11203926369195613,
          0.11057422604943835,
          0.10909491691724266,
          0.10760331408722368,
          0.10610144759093741,
          0.10459138879529303,
          0.103075239415666,
          0.10155512050649408,
          0.10003316148934453,
          0.09851148927797015,
          0.09699221755904561,
          0.09547743628602322,
          0.09396920144196017,
          0.09246952512519263,
          0.09098036600942119,
          0.08950362022714153,
          0.08804111272241477,
          0.08659458911574701,
          0.08516570812038113,
          0.08375603454559485,
          0.08236703291870365,
          0.08100006175339508,
          0.07965636848780865,
          0.0783370851114555,
          0.07704322449568766,
          0.07577567743796974,
          0.07453521042577041,
          0.07332246412144397,
          0.07213795256508826,
          0.07098206308805877,
          0.06985505692561722,
          0.06875707051312187,
          0.06768811744626806,
          0.066648091082153,
          0.06563676775444599,
          0.06465381057264095,
          0.06369877377234473,
          0.06277110758077373,
          0.06187016355914862,
          0.06099520038146148,
          0.060145390007201864,
          0.05931982420402772,
          0.058517521375090815,
          0.05773743364476686,
          0.05697845415589654,
          0.05623942453131343,
          0.05551914245241962,
          0.05481636930786069,
          0.05412983786593816,
          0.05345825992527201,
          0.052800333899374385,
          0.05215475229221426,
          0.051520209023502794,
          0.05089540656432866,
          0.050279062845863774,
          0.04966991790616397,
          0.049066740242550894,
          0.04846833283968191,
          0.047873538846170946,
          0.04728124687547519,
          0.04669039590971748
         ],
         "yaxis": "y"
        },
        {
         "legendgroup": "Agent 8",
         "marker": {
          "color": "#00CC96",
          "symbol": "line-ns-open"
         },
         "mode": "markers",
         "name": "Agent 8",
         "showlegend": false,
         "type": "scatter",
         "x": [
          3.028526148969889,
          3.185397279885469,
          3.391037446286065,
          2.7760151737218726,
          3.008602954927997,
          2.8576089244369607,
          2.748736462093863,
          2.9903428295509418,
          2.787479406919275,
          2.4583333333333335,
          2.8933217692974846,
          2.9267729752412923,
          2.824583866837388,
          2.877992277992278,
          2.7058823529411766,
          3.0755649717514126,
          3.065959952885748,
          2.9728025936599423,
          2.735349716446125,
          2.968958611481976,
          2.7995049504950495,
          3.0601503759398496,
          3.0495363305552297,
          3.6059190031152646,
          2.670076726342711,
          3.0824175824175826,
          2.8743500866551126,
          3.0599118942731276,
          3.164007657945118,
          2.9577814569536423,
          3.3793578613752238,
          2.9881831610044314,
          3.1741500962155227,
          3.0551020408163265,
          2.954936323065201,
          2.898128898128898,
          3.121732636295743,
          2.972782258064516,
          2.9814814814814814,
          2.9603620474406993,
          3.4070010449320796,
          2.793103448275862,
          3.158858810179932,
          3.4626189397372,
          2.661036036036036,
          3.180940892641737,
          3.782227784730914,
          3.1466013211165564,
          3.3144257703081235,
          3.086410635155096,
          3.2798418972332017,
          3.0726141078838176,
          3.064973861090366,
          2.780590717299578,
          2.953341740226986,
          2.8722611146467862,
          2.834437086092715,
          3.740125673249551,
          3.3815854258985723,
          2.7864238410596025,
          3.010533245556287,
          3.290271636133923,
          3.787668057487251,
          2.9197860962566846,
          3.0162135604323614,
          3.2093690248565965,
          3.4907985817997638,
          2.7926136363636362,
          2.890825035561878,
          3.053266489111703,
          2.8529411764705883,
          2.9737051792828684,
          2.9482758620689653,
          3.2808641975308643,
          4.014843611945573,
          3.216594045025418,
          3.2666666666666666,
          2.941864241636895,
          2.930715935334873,
          3.311834690043832,
          3.2339133953864834,
          2.5693430656934306,
          2.8989280245022973,
          3.381217277486911,
          3.114662311909483,
          2.8764556040756912,
          2.8003003003003,
          2.902316844082655,
          3.2265625,
          3.4289522247283166,
          2.9061075660893345,
          2.828720854216605,
          2.750684931506849,
          3.5804540967423493,
          3.4565640825866772,
          2.8845637583892616,
          3.0054161400974904,
          3.1596443757247776,
          2.86449864498645,
          3.062454077883909
         ],
         "xaxis": "x",
         "y": [
          "Agent 8",
          "Agent 8",
          "Agent 8",
          "Agent 8",
          "Agent 8",
          "Agent 8",
          "Agent 8",
          "Agent 8",
          "Agent 8",
          "Agent 8",
          "Agent 8",
          "Agent 8",
          "Agent 8",
          "Agent 8",
          "Agent 8",
          "Agent 8",
          "Agent 8",
          "Agent 8",
          "Agent 8",
          "Agent 8",
          "Agent 8",
          "Agent 8",
          "Agent 8",
          "Agent 8",
          "Agent 8",
          "Agent 8",
          "Agent 8",
          "Agent 8",
          "Agent 8",
          "Agent 8",
          "Agent 8",
          "Agent 8",
          "Agent 8",
          "Agent 8",
          "Agent 8",
          "Agent 8",
          "Agent 8",
          "Agent 8",
          "Agent 8",
          "Agent 8",
          "Agent 8",
          "Agent 8",
          "Agent 8",
          "Agent 8",
          "Agent 8",
          "Agent 8",
          "Agent 8",
          "Agent 8",
          "Agent 8",
          "Agent 8",
          "Agent 8",
          "Agent 8",
          "Agent 8",
          "Agent 8",
          "Agent 8",
          "Agent 8",
          "Agent 8",
          "Agent 8",
          "Agent 8",
          "Agent 8",
          "Agent 8",
          "Agent 8",
          "Agent 8",
          "Agent 8",
          "Agent 8",
          "Agent 8",
          "Agent 8",
          "Agent 8",
          "Agent 8",
          "Agent 8",
          "Agent 8",
          "Agent 8",
          "Agent 8",
          "Agent 8",
          "Agent 8",
          "Agent 8",
          "Agent 8",
          "Agent 8",
          "Agent 8",
          "Agent 8",
          "Agent 8",
          "Agent 8",
          "Agent 8",
          "Agent 8",
          "Agent 8",
          "Agent 8",
          "Agent 8",
          "Agent 8",
          "Agent 8",
          "Agent 8",
          "Agent 8",
          "Agent 8",
          "Agent 8",
          "Agent 8",
          "Agent 8",
          "Agent 8",
          "Agent 8",
          "Agent 8",
          "Agent 8",
          "Agent 8"
         ],
         "yaxis": "y2"
        }
       ],
       "layout": {
        "barmode": "overlay",
        "hovermode": "closest",
        "legend": {
         "traceorder": "reversed"
        },
        "template": {
         "data": {
          "bar": [
           {
            "error_x": {
             "color": "#2a3f5f"
            },
            "error_y": {
             "color": "#2a3f5f"
            },
            "marker": {
             "line": {
              "color": "#E5ECF6",
              "width": 0.5
             },
             "pattern": {
              "fillmode": "overlay",
              "size": 10,
              "solidity": 0.2
             }
            },
            "type": "bar"
           }
          ],
          "barpolar": [
           {
            "marker": {
             "line": {
              "color": "#E5ECF6",
              "width": 0.5
             },
             "pattern": {
              "fillmode": "overlay",
              "size": 10,
              "solidity": 0.2
             }
            },
            "type": "barpolar"
           }
          ],
          "carpet": [
           {
            "aaxis": {
             "endlinecolor": "#2a3f5f",
             "gridcolor": "white",
             "linecolor": "white",
             "minorgridcolor": "white",
             "startlinecolor": "#2a3f5f"
            },
            "baxis": {
             "endlinecolor": "#2a3f5f",
             "gridcolor": "white",
             "linecolor": "white",
             "minorgridcolor": "white",
             "startlinecolor": "#2a3f5f"
            },
            "type": "carpet"
           }
          ],
          "choropleth": [
           {
            "colorbar": {
             "outlinewidth": 0,
             "ticks": ""
            },
            "type": "choropleth"
           }
          ],
          "contour": [
           {
            "colorbar": {
             "outlinewidth": 0,
             "ticks": ""
            },
            "colorscale": [
             [
              0,
              "#0d0887"
             ],
             [
              0.1111111111111111,
              "#46039f"
             ],
             [
              0.2222222222222222,
              "#7201a8"
             ],
             [
              0.3333333333333333,
              "#9c179e"
             ],
             [
              0.4444444444444444,
              "#bd3786"
             ],
             [
              0.5555555555555556,
              "#d8576b"
             ],
             [
              0.6666666666666666,
              "#ed7953"
             ],
             [
              0.7777777777777778,
              "#fb9f3a"
             ],
             [
              0.8888888888888888,
              "#fdca26"
             ],
             [
              1,
              "#f0f921"
             ]
            ],
            "type": "contour"
           }
          ],
          "contourcarpet": [
           {
            "colorbar": {
             "outlinewidth": 0,
             "ticks": ""
            },
            "type": "contourcarpet"
           }
          ],
          "heatmap": [
           {
            "colorbar": {
             "outlinewidth": 0,
             "ticks": ""
            },
            "colorscale": [
             [
              0,
              "#0d0887"
             ],
             [
              0.1111111111111111,
              "#46039f"
             ],
             [
              0.2222222222222222,
              "#7201a8"
             ],
             [
              0.3333333333333333,
              "#9c179e"
             ],
             [
              0.4444444444444444,
              "#bd3786"
             ],
             [
              0.5555555555555556,
              "#d8576b"
             ],
             [
              0.6666666666666666,
              "#ed7953"
             ],
             [
              0.7777777777777778,
              "#fb9f3a"
             ],
             [
              0.8888888888888888,
              "#fdca26"
             ],
             [
              1,
              "#f0f921"
             ]
            ],
            "type": "heatmap"
           }
          ],
          "heatmapgl": [
           {
            "colorbar": {
             "outlinewidth": 0,
             "ticks": ""
            },
            "colorscale": [
             [
              0,
              "#0d0887"
             ],
             [
              0.1111111111111111,
              "#46039f"
             ],
             [
              0.2222222222222222,
              "#7201a8"
             ],
             [
              0.3333333333333333,
              "#9c179e"
             ],
             [
              0.4444444444444444,
              "#bd3786"
             ],
             [
              0.5555555555555556,
              "#d8576b"
             ],
             [
              0.6666666666666666,
              "#ed7953"
             ],
             [
              0.7777777777777778,
              "#fb9f3a"
             ],
             [
              0.8888888888888888,
              "#fdca26"
             ],
             [
              1,
              "#f0f921"
             ]
            ],
            "type": "heatmapgl"
           }
          ],
          "histogram": [
           {
            "marker": {
             "pattern": {
              "fillmode": "overlay",
              "size": 10,
              "solidity": 0.2
             }
            },
            "type": "histogram"
           }
          ],
          "histogram2d": [
           {
            "colorbar": {
             "outlinewidth": 0,
             "ticks": ""
            },
            "colorscale": [
             [
              0,
              "#0d0887"
             ],
             [
              0.1111111111111111,
              "#46039f"
             ],
             [
              0.2222222222222222,
              "#7201a8"
             ],
             [
              0.3333333333333333,
              "#9c179e"
             ],
             [
              0.4444444444444444,
              "#bd3786"
             ],
             [
              0.5555555555555556,
              "#d8576b"
             ],
             [
              0.6666666666666666,
              "#ed7953"
             ],
             [
              0.7777777777777778,
              "#fb9f3a"
             ],
             [
              0.8888888888888888,
              "#fdca26"
             ],
             [
              1,
              "#f0f921"
             ]
            ],
            "type": "histogram2d"
           }
          ],
          "histogram2dcontour": [
           {
            "colorbar": {
             "outlinewidth": 0,
             "ticks": ""
            },
            "colorscale": [
             [
              0,
              "#0d0887"
             ],
             [
              0.1111111111111111,
              "#46039f"
             ],
             [
              0.2222222222222222,
              "#7201a8"
             ],
             [
              0.3333333333333333,
              "#9c179e"
             ],
             [
              0.4444444444444444,
              "#bd3786"
             ],
             [
              0.5555555555555556,
              "#d8576b"
             ],
             [
              0.6666666666666666,
              "#ed7953"
             ],
             [
              0.7777777777777778,
              "#fb9f3a"
             ],
             [
              0.8888888888888888,
              "#fdca26"
             ],
             [
              1,
              "#f0f921"
             ]
            ],
            "type": "histogram2dcontour"
           }
          ],
          "mesh3d": [
           {
            "colorbar": {
             "outlinewidth": 0,
             "ticks": ""
            },
            "type": "mesh3d"
           }
          ],
          "parcoords": [
           {
            "line": {
             "colorbar": {
              "outlinewidth": 0,
              "ticks": ""
             }
            },
            "type": "parcoords"
           }
          ],
          "pie": [
           {
            "automargin": true,
            "type": "pie"
           }
          ],
          "scatter": [
           {
            "marker": {
             "colorbar": {
              "outlinewidth": 0,
              "ticks": ""
             }
            },
            "type": "scatter"
           }
          ],
          "scatter3d": [
           {
            "line": {
             "colorbar": {
              "outlinewidth": 0,
              "ticks": ""
             }
            },
            "marker": {
             "colorbar": {
              "outlinewidth": 0,
              "ticks": ""
             }
            },
            "type": "scatter3d"
           }
          ],
          "scattercarpet": [
           {
            "marker": {
             "colorbar": {
              "outlinewidth": 0,
              "ticks": ""
             }
            },
            "type": "scattercarpet"
           }
          ],
          "scattergeo": [
           {
            "marker": {
             "colorbar": {
              "outlinewidth": 0,
              "ticks": ""
             }
            },
            "type": "scattergeo"
           }
          ],
          "scattergl": [
           {
            "marker": {
             "colorbar": {
              "outlinewidth": 0,
              "ticks": ""
             }
            },
            "type": "scattergl"
           }
          ],
          "scattermapbox": [
           {
            "marker": {
             "colorbar": {
              "outlinewidth": 0,
              "ticks": ""
             }
            },
            "type": "scattermapbox"
           }
          ],
          "scatterpolar": [
           {
            "marker": {
             "colorbar": {
              "outlinewidth": 0,
              "ticks": ""
             }
            },
            "type": "scatterpolar"
           }
          ],
          "scatterpolargl": [
           {
            "marker": {
             "colorbar": {
              "outlinewidth": 0,
              "ticks": ""
             }
            },
            "type": "scatterpolargl"
           }
          ],
          "scatterternary": [
           {
            "marker": {
             "colorbar": {
              "outlinewidth": 0,
              "ticks": ""
             }
            },
            "type": "scatterternary"
           }
          ],
          "surface": [
           {
            "colorbar": {
             "outlinewidth": 0,
             "ticks": ""
            },
            "colorscale": [
             [
              0,
              "#0d0887"
             ],
             [
              0.1111111111111111,
              "#46039f"
             ],
             [
              0.2222222222222222,
              "#7201a8"
             ],
             [
              0.3333333333333333,
              "#9c179e"
             ],
             [
              0.4444444444444444,
              "#bd3786"
             ],
             [
              0.5555555555555556,
              "#d8576b"
             ],
             [
              0.6666666666666666,
              "#ed7953"
             ],
             [
              0.7777777777777778,
              "#fb9f3a"
             ],
             [
              0.8888888888888888,
              "#fdca26"
             ],
             [
              1,
              "#f0f921"
             ]
            ],
            "type": "surface"
           }
          ],
          "table": [
           {
            "cells": {
             "fill": {
              "color": "#EBF0F8"
             },
             "line": {
              "color": "white"
             }
            },
            "header": {
             "fill": {
              "color": "#C8D4E3"
             },
             "line": {
              "color": "white"
             }
            },
            "type": "table"
           }
          ]
         },
         "layout": {
          "annotationdefaults": {
           "arrowcolor": "#2a3f5f",
           "arrowhead": 0,
           "arrowwidth": 1
          },
          "autotypenumbers": "strict",
          "coloraxis": {
           "colorbar": {
            "outlinewidth": 0,
            "ticks": ""
           }
          },
          "colorscale": {
           "diverging": [
            [
             0,
             "#8e0152"
            ],
            [
             0.1,
             "#c51b7d"
            ],
            [
             0.2,
             "#de77ae"
            ],
            [
             0.3,
             "#f1b6da"
            ],
            [
             0.4,
             "#fde0ef"
            ],
            [
             0.5,
             "#f7f7f7"
            ],
            [
             0.6,
             "#e6f5d0"
            ],
            [
             0.7,
             "#b8e186"
            ],
            [
             0.8,
             "#7fbc41"
            ],
            [
             0.9,
             "#4d9221"
            ],
            [
             1,
             "#276419"
            ]
           ],
           "sequential": [
            [
             0,
             "#0d0887"
            ],
            [
             0.1111111111111111,
             "#46039f"
            ],
            [
             0.2222222222222222,
             "#7201a8"
            ],
            [
             0.3333333333333333,
             "#9c179e"
            ],
            [
             0.4444444444444444,
             "#bd3786"
            ],
            [
             0.5555555555555556,
             "#d8576b"
            ],
            [
             0.6666666666666666,
             "#ed7953"
            ],
            [
             0.7777777777777778,
             "#fb9f3a"
            ],
            [
             0.8888888888888888,
             "#fdca26"
            ],
            [
             1,
             "#f0f921"
            ]
           ],
           "sequentialminus": [
            [
             0,
             "#0d0887"
            ],
            [
             0.1111111111111111,
             "#46039f"
            ],
            [
             0.2222222222222222,
             "#7201a8"
            ],
            [
             0.3333333333333333,
             "#9c179e"
            ],
            [
             0.4444444444444444,
             "#bd3786"
            ],
            [
             0.5555555555555556,
             "#d8576b"
            ],
            [
             0.6666666666666666,
             "#ed7953"
            ],
            [
             0.7777777777777778,
             "#fb9f3a"
            ],
            [
             0.8888888888888888,
             "#fdca26"
            ],
            [
             1,
             "#f0f921"
            ]
           ]
          },
          "colorway": [
           "#636efa",
           "#EF553B",
           "#00cc96",
           "#ab63fa",
           "#FFA15A",
           "#19d3f3",
           "#FF6692",
           "#B6E880",
           "#FF97FF",
           "#FECB52"
          ],
          "font": {
           "color": "#2a3f5f"
          },
          "geo": {
           "bgcolor": "white",
           "lakecolor": "white",
           "landcolor": "#E5ECF6",
           "showlakes": true,
           "showland": true,
           "subunitcolor": "white"
          },
          "hoverlabel": {
           "align": "left"
          },
          "hovermode": "closest",
          "mapbox": {
           "style": "light"
          },
          "paper_bgcolor": "white",
          "plot_bgcolor": "#E5ECF6",
          "polar": {
           "angularaxis": {
            "gridcolor": "white",
            "linecolor": "white",
            "ticks": ""
           },
           "bgcolor": "#E5ECF6",
           "radialaxis": {
            "gridcolor": "white",
            "linecolor": "white",
            "ticks": ""
           }
          },
          "scene": {
           "xaxis": {
            "backgroundcolor": "#E5ECF6",
            "gridcolor": "white",
            "gridwidth": 2,
            "linecolor": "white",
            "showbackground": true,
            "ticks": "",
            "zerolinecolor": "white"
           },
           "yaxis": {
            "backgroundcolor": "#E5ECF6",
            "gridcolor": "white",
            "gridwidth": 2,
            "linecolor": "white",
            "showbackground": true,
            "ticks": "",
            "zerolinecolor": "white"
           },
           "zaxis": {
            "backgroundcolor": "#E5ECF6",
            "gridcolor": "white",
            "gridwidth": 2,
            "linecolor": "white",
            "showbackground": true,
            "ticks": "",
            "zerolinecolor": "white"
           }
          },
          "shapedefaults": {
           "line": {
            "color": "#2a3f5f"
           }
          },
          "ternary": {
           "aaxis": {
            "gridcolor": "white",
            "linecolor": "white",
            "ticks": ""
           },
           "baxis": {
            "gridcolor": "white",
            "linecolor": "white",
            "ticks": ""
           },
           "bgcolor": "#E5ECF6",
           "caxis": {
            "gridcolor": "white",
            "linecolor": "white",
            "ticks": ""
           }
          },
          "title": {
           "x": 0.05
          },
          "xaxis": {
           "automargin": true,
           "gridcolor": "white",
           "linecolor": "white",
           "ticks": "",
           "title": {
            "standoff": 15
           },
           "zerolinecolor": "white",
           "zerolinewidth": 2
          },
          "yaxis": {
           "automargin": true,
           "gridcolor": "white",
           "linecolor": "white",
           "ticks": "",
           "title": {
            "standoff": 15
           },
           "zerolinecolor": "white",
           "zerolinewidth": 2
          }
         }
        },
        "title": {
         "text": "Movement/Examinations Ratio Distplot Agent 8"
        },
        "xaxis": {
         "anchor": "y2",
         "domain": [
          0,
          1
         ],
         "title": {
          "text": "Movement/Examinations"
         },
         "zeroline": false
        },
        "yaxis": {
         "anchor": "free",
         "domain": [
          0.35,
          1
         ],
         "position": 0,
         "title": {
          "text": "Probability Density"
         }
        },
        "yaxis2": {
         "anchor": "x",
         "domain": [
          0,
          0.25
         ],
         "dtick": 1,
         "showticklabels": false
        }
       }
      }
     },
     "metadata": {},
     "output_type": "display_data"
    }
   ],
   "source": [
    "hist_data = [agent_8_res]\n",
    "group_labels = ['Agent 8']\n",
    "fig_dist = ff.create_distplot(hist_data, group_labels, bin_size=0.2, colors = ['#00CC96'])\n",
    "fig_dist.update_layout(title_text='Movement/Examinations Ratio Distplot Agent 8')\n",
    "fig_dist.layout.xaxis.update({'title': 'Movement/Examinations'})\n",
    "fig_dist.layout.yaxis.update({'title': 'Probability Density'})\n",
    "fig_dist.show()\n",
    "plotly.io.write_image(fig_dist, file=\"./images/question_4_agent_8.png\", scale=5)"
   ]
  }
 ],
 "metadata": {
  "interpreter": {
   "hash": "9e3efc48dc2574701a175b3506e78dce1572dabaec53f8ba20b3c697a21d4453"
  },
  "kernelspec": {
   "display_name": "Python 3.7.4 64-bit ('Assignment_3-eRFCVT9N': virtualenv)",
   "name": "python3"
  },
  "language_info": {
   "codemirror_mode": {
    "name": "ipython",
    "version": 3
   },
   "file_extension": ".py",
   "mimetype": "text/x-python",
   "name": "python",
   "nbconvert_exporter": "python",
   "pygments_lexer": "ipython3",
   "version": "3.7.4"
  }
 },
 "nbformat": 4,
 "nbformat_minor": 2
}
