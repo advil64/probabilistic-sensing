{
 "cells": [
  {
   "cell_type": "code",
   "execution_count": 6,
   "metadata": {},
   "outputs": [],
   "source": [
    "# imports\n",
    "from subprocess import check_output\n",
    "import pandas as pd\n",
    "import plotly.express as px\n",
    "import plotly\n",
    "import re\n",
    "import nbformat\n",
    "import time\n",
    "import json"
   ]
  },
  {
   "cell_type": "code",
   "execution_count": 9,
   "metadata": {},
   "outputs": [
    {
     "data": {
      "text/html": [
       "<div>\n",
       "<style scoped>\n",
       "    .dataframe tbody tr th:only-of-type {\n",
       "        vertical-align: middle;\n",
       "    }\n",
       "\n",
       "    .dataframe tbody tr th {\n",
       "        vertical-align: top;\n",
       "    }\n",
       "\n",
       "    .dataframe thead th {\n",
       "        text-align: right;\n",
       "    }\n",
       "</style>\n",
       "<table border=\"1\" class=\"dataframe\">\n",
       "  <thead>\n",
       "    <tr style=\"text-align: right;\">\n",
       "      <th></th>\n",
       "      <th>Processed Cells</th>\n",
       "      <th>Retries</th>\n",
       "      <th>Time</th>\n",
       "      <th>Examinations</th>\n",
       "      <th>Movements</th>\n",
       "      <th>Actions</th>\n",
       "      <th>Agent</th>\n",
       "    </tr>\n",
       "  </thead>\n",
       "  <tbody>\n",
       "    <tr>\n",
       "      <th>0</th>\n",
       "      <td>54157</td>\n",
       "      <td>2078</td>\n",
       "      <td>4.089057</td>\n",
       "      <td>1849</td>\n",
       "      <td>13439</td>\n",
       "      <td>15288</td>\n",
       "      <td>6.0</td>\n",
       "    </tr>\n",
       "    <tr>\n",
       "      <th>1</th>\n",
       "      <td>66643</td>\n",
       "      <td>2638</td>\n",
       "      <td>4.139534</td>\n",
       "      <td>2289</td>\n",
       "      <td>18201</td>\n",
       "      <td>20490</td>\n",
       "      <td>7.0</td>\n",
       "    </tr>\n",
       "    <tr>\n",
       "      <th>2</th>\n",
       "      <td>30513</td>\n",
       "      <td>1119</td>\n",
       "      <td>3.798985</td>\n",
       "      <td>1303</td>\n",
       "      <td>4014</td>\n",
       "      <td>5317</td>\n",
       "      <td>8.0</td>\n",
       "    </tr>\n",
       "  </tbody>\n",
       "</table>\n",
       "</div>"
      ],
      "text/plain": [
       "  Processed Cells Retries      Time Examinations Movements Actions  Agent\n",
       "0           54157    2078  4.089057         1849     13439   15288    6.0\n",
       "1           66643    2638  4.139534         2289     18201   20490    7.0\n",
       "2           30513    1119  3.798985         1303      4014    5317    8.0"
      ]
     },
     "execution_count": 9,
     "metadata": {},
     "output_type": "execute_result"
    }
   ],
   "source": [
    "# measure probability calculation efficiency\n",
    "results_df = pd.DataFrame(columns = ['Processed Cells', 'Retries', 'Time', 'Examinations', 'Movements', 'Actions'])\n",
    "agents = [\"Agent 6\", \"Agent 7\", \"Agent 8\"]\n",
    "\n",
    "for x in range(1):\n",
    "  command = 'python main.py -d 25 -p 0.3'\n",
    "  out = json.loads(str(check_output(command, cwd='/Users/advithchegu/Desktop/Rutgers/Fall 2021/AI/Assignment 3/src', shell=True)).lstrip(\"b'\").rstrip(\"'\").replace(\"\\\\n\", \"\"))\n",
    "\n",
    "  for i,a in enumerate(agents):\n",
    "    results_df = results_df.append([{'Agent': i+6, 'Processed Cells': out[a][\"processed\"], 'Retries': out[a][\"retries\"], 'Time': out[a][\"time\"], 'Examinations': out[a][\"examinations\"], 'Movements': out[a][\"movements\"], 'Actions': out[a][\"examinations\"] + out[a][\"movements\"]}], ignore_index=True)\n",
    "\n",
    "results_df.head()"
   ]
  }
 ],
 "metadata": {
  "interpreter": {
   "hash": "9e3efc48dc2574701a175b3506e78dce1572dabaec53f8ba20b3c697a21d4453"
  },
  "kernelspec": {
   "display_name": "Python 3.7.4 64-bit ('Assignment_3-eRFCVT9N': virtualenv)",
   "name": "python3"
  },
  "language_info": {
   "codemirror_mode": {
    "name": "ipython",
    "version": 3
   },
   "file_extension": ".py",
   "mimetype": "text/x-python",
   "name": "python",
   "nbconvert_exporter": "python",
   "pygments_lexer": "ipython3",
   "version": "3.7.4"
  },
  "orig_nbformat": 4
 },
 "nbformat": 4,
 "nbformat_minor": 2
}
